{
  "nbformat": 4,
  "nbformat_minor": 0,
  "metadata": {
    "colab": {
      "provenance": []
    },
    "kernelspec": {
      "name": "python3",
      "display_name": "Python 3"
    },
    "language_info": {
      "name": "python"
    }
  },
  "cells": [
    {
      "cell_type": "markdown",
      "source": [
        "# **STUNTING PREDICTION FROM PREGNANT DATA**"
      ],
      "metadata": {
        "id": "KthZUioM_89X"
      }
    },
    {
      "cell_type": "markdown",
      "source": [
        "## **Import Library**"
      ],
      "metadata": {
        "id": "jbRPTcXAB0Ui"
      }
    },
    {
      "cell_type": "code",
      "execution_count": null,
      "metadata": {
        "id": "0qQXpen4TSI4"
      },
      "outputs": [],
      "source": [
        "#Import Library\n",
        "import numpy as np\n",
        "import tensorflow as tf\n",
        "import pandas as pd\n",
        "import matplotlib.pyplot as plt\n",
        "from tensorflow import keras\n",
        "from sklearn.model_selection import train_test_split\n",
        "from sklearn.metrics import confusion_matrix, precision_score, recall_score, f1_score, mean_squared_error, r2_score, accuracy_score, confusion_matrix, classification_report\n",
        "from sklearn.preprocessing import MinMaxScaler\n",
        "import seaborn as sns\n",
        "import joblib\n",
        "from tensorflow.keras.models import Sequential\n",
        "from tensorflow.keras.layers import Dense, Dropout, BatchNormalization\n",
        "from tensorflow.keras.utils import to_categorical\n",
        "from sklearn.svm import SVC\n",
        "from sklearn.pipeline import Pipeline\n",
        "from sklearn.preprocessing import StandardScaler, OneHotEncoder\n",
        "from sklearn.compose import ColumnTransformer\n",
        "from sklearn.impute import SimpleImputer\n",
        "from tensorflow.keras.layers import Input"
      ]
    },
    {
      "cell_type": "markdown",
      "source": [
        "## **Import Dataset**"
      ],
      "metadata": {
        "id": "Jdt438XoB6pN"
      }
    },
    {
      "cell_type": "code",
      "source": [
        "# Read csv\n",
        "df = pd.read_csv('https://raw.githubusercontent.com/Arfi3/Stunting/main/data/Dataset_Final_Baru.csv')\n",
        "# Display the first few rows of the DataFrame\n",
        "print(df.head())"
      ],
      "metadata": {
        "colab": {
          "base_uri": "https://localhost:8080/"
        },
        "id": "n-GiBbV9UXcb",
        "outputId": "05c28ee8-63a1-46b1-f2ed-ad1ef5f878a8"
      },
      "execution_count": null,
      "outputs": [
        {
          "output_type": "stream",
          "name": "stdout",
          "text": [
            "               Nama_Ibu                  Alamat  Kecamatan           Desa  \\\n",
            "0  Stephanus Champerlen        713 Welch Street   Illinois  United States   \n",
            "1        Andrei Scupham       1275 Melrose Park  Tennessee  United States   \n",
            "2           Olag Dumini  15 Mariners Cove Point      Texas  United States   \n",
            "3         Efren Brevitt       64 Farragut Trail    Florida  United States   \n",
            "4            Dunc Balls      17 Thackeray Trail      Texas  United States   \n",
            "\n",
            "  Nomer_NIK TB_Ibu BB_Ibu IMT Usia_ibu Pendidikan_Ibu  ... JarakRumahKeYANKES  \\\n",
            "0  3.60E+15    157     50   2       32              1  ...          100 meter   \n",
            "1  3.60E+15    146     48   2       37              1  ...          800 meter   \n",
            "2  3.60E+15    154     71   3       35              2  ...          100 meter   \n",
            "3  3.60E+15    159     86   3       29              2  ...          500 meter   \n",
            "4  3.60E+15    153     71   3       33              1  ...          300 meter   \n",
            "\n",
            "  IBU_PakaiKB    JenisKB Kepemilikan_BPJS KewajibanMendidikAnak  \\\n",
            "0           1     Pil KB                1                     1   \n",
            "1           1  Suntik 3                 2                     1   \n",
            "2           1  Suntik 1                 2                     1   \n",
            "3           1     Pil KB                1                     1   \n",
            "4           1  Suntik 3                 2                     1   \n",
            "\n",
            "  YangJagaAnak_SetiapHari PAUD_SekitarRumah IbuMenyekolahkanAnak_KePAUD  \\\n",
            "0                       1                 1                           2   \n",
            "1                       1                 1                           1   \n",
            "2                       1                 1                           2   \n",
            "3                       1                 1                           1   \n",
            "4                       1                 1                           1   \n",
            "\n",
            "  Ibu_DapatInformasi_Gizi Status_Stunting  \n",
            "0                       1        Stunting  \n",
            "1                       2        Stunting  \n",
            "2                       2        Stunting  \n",
            "3                       1        Stunting  \n",
            "4                       2        Stunting  \n",
            "\n",
            "[5 rows x 68 columns]\n"
          ]
        }
      ]
    },
    {
      "cell_type": "code",
      "source": [
        "df_baru=df[['TB_Ibu', 'BB_Ibu', 'IMT', 'Usia_ibu', 'Pendidikan_Ibu', 'Bumil_DapatFolat_Fe', 'Status_Stunting']]"
      ],
      "metadata": {
        "id": "hA8ibSKAltvg"
      },
      "execution_count": null,
      "outputs": []
    },
    {
      "cell_type": "code",
      "source": [
        "# Merubah 'Status_Stunting' menjadi kategorikal\n",
        "df_baru['Status_Stunting'] = df_baru['Status_Stunting'].astype('category')\n",
        "df_baru = df_baru.copy()\n",
        "df_baru['Status_Stunting'].replace(['Tidak Stunting', 'Stunting'], [0, 1], inplace=True)"
      ],
      "metadata": {
        "colab": {
          "base_uri": "https://localhost:8080/"
        },
        "id": "95qO9nq7nvQL",
        "outputId": "462f07c6-9493-47d2-b77b-f086c7bb8be1"
      },
      "execution_count": null,
      "outputs": [
        {
          "output_type": "stream",
          "name": "stderr",
          "text": [
            "<ipython-input-4-259044b53089>:2: SettingWithCopyWarning: \n",
            "A value is trying to be set on a copy of a slice from a DataFrame.\n",
            "Try using .loc[row_indexer,col_indexer] = value instead\n",
            "\n",
            "See the caveats in the documentation: https://pandas.pydata.org/pandas-docs/stable/user_guide/indexing.html#returning-a-view-versus-a-copy\n",
            "  df_baru['Status_Stunting'] = df_baru['Status_Stunting'].astype('category')\n"
          ]
        }
      ]
    },
    {
      "cell_type": "code",
      "source": [
        "# Mengganti nilai yang mungkin merepresentasikan missing value dengan NaN\n",
        "df_baru['TB_Ibu'] = df_baru['TB_Ibu'].replace(['#NULL!', ''], pd.NA)\n",
        "# Menghapus baris yang berisi nilai NaN\n",
        "df_baru = df_baru.dropna(subset=['TB_Ibu'])\n",
        "df_baru['TB_Ibu'] = df_baru['TB_Ibu'].astype(float)"
      ],
      "metadata": {
        "id": "LRIOpchoA3QR"
      },
      "execution_count": null,
      "outputs": []
    },
    {
      "cell_type": "code",
      "source": [
        "# Mengganti nilai yang mungkin merepresentasikan missing value dengan NaN\n",
        "df_baru['BB_Ibu'] = df_baru['BB_Ibu'].replace(['#NULL!', ''], pd.NA)\n",
        "# Menghapus baris yang berisi nilai NaN\n",
        "df_baru = df_baru.dropna(subset=['BB_Ibu'])\n",
        "df_baru['BB_Ibu'] = df_baru['BB_Ibu'].astype(float)"
      ],
      "metadata": {
        "id": "N-yWCjBlByUl"
      },
      "execution_count": null,
      "outputs": []
    },
    {
      "cell_type": "code",
      "source": [
        "# Mengganti nilai yang mungkin merepresentasikan missing value dengan NaN\n",
        "df_baru['IMT'] = df_baru['IMT'].replace(['#NULL!', ''], pd.NA)\n",
        "# Menghapus baris yang berisi nilai NaN\n",
        "df_baru = df_baru.dropna(subset=['IMT'])\n",
        "df_baru['IMT'] = df_baru['IMT'].astype(float)"
      ],
      "metadata": {
        "id": "rYvxQfN8APWE"
      },
      "execution_count": null,
      "outputs": []
    },
    {
      "cell_type": "code",
      "source": [
        "# Mengganti nilai yang mungkin merepresentasikan missing value dengan NaN\n",
        "df_baru['Usia_ibu'] = df_baru['Usia_ibu'].replace(['#NULL!', ''], pd.NA)\n",
        "# Menghapus baris yang berisi nilai NaN\n",
        "df_baru = df_baru.dropna(subset=['Usia_ibu'])\n",
        "df_baru['Usia_ibu'] = df_baru['Usia_ibu'].astype(float)"
      ],
      "metadata": {
        "id": "a6PPMmEdCUZt",
        "colab": {
          "base_uri": "https://localhost:8080/"
        },
        "outputId": "ccf10e90-3d48-44e4-b9ca-b3304b10ebe7"
      },
      "execution_count": null,
      "outputs": [
        {
          "output_type": "stream",
          "name": "stderr",
          "text": [
            "<ipython-input-8-4cd97ab19e60>:5: SettingWithCopyWarning: \n",
            "A value is trying to be set on a copy of a slice from a DataFrame.\n",
            "Try using .loc[row_indexer,col_indexer] = value instead\n",
            "\n",
            "See the caveats in the documentation: https://pandas.pydata.org/pandas-docs/stable/user_guide/indexing.html#returning-a-view-versus-a-copy\n",
            "  df_baru['Usia_ibu'] = df_baru['Usia_ibu'].astype(float)\n"
          ]
        }
      ]
    },
    {
      "cell_type": "code",
      "source": [
        "# Merubah 'Pendidikan Ibu' menjadi kategorikal\n",
        "df_baru['Pendidikan_Ibu'] = df_baru['Pendidikan_Ibu'].astype('category')"
      ],
      "metadata": {
        "id": "IxVtVodFCiaw",
        "colab": {
          "base_uri": "https://localhost:8080/"
        },
        "outputId": "4788903d-bf25-4279-f52b-7ab4e3488772"
      },
      "execution_count": null,
      "outputs": [
        {
          "output_type": "stream",
          "name": "stderr",
          "text": [
            "<ipython-input-9-f7c717358c01>:2: SettingWithCopyWarning: \n",
            "A value is trying to be set on a copy of a slice from a DataFrame.\n",
            "Try using .loc[row_indexer,col_indexer] = value instead\n",
            "\n",
            "See the caveats in the documentation: https://pandas.pydata.org/pandas-docs/stable/user_guide/indexing.html#returning-a-view-versus-a-copy\n",
            "  df_baru['Pendidikan_Ibu'] = df_baru['Pendidikan_Ibu'].astype('category')\n"
          ]
        }
      ]
    },
    {
      "cell_type": "code",
      "source": [
        "# Merubah 'Bumil_DapatFolat_Fe' menjadi kategorikal\n",
        "df_baru['Bumil_DapatFolat_Fe'] = df_baru['Bumil_DapatFolat_Fe'].astype('category')"
      ],
      "metadata": {
        "id": "TBDgBru8CqJr",
        "colab": {
          "base_uri": "https://localhost:8080/"
        },
        "outputId": "d9993058-ee3f-4a3c-8017-df0f0d233b0c"
      },
      "execution_count": null,
      "outputs": [
        {
          "output_type": "stream",
          "name": "stderr",
          "text": [
            "<ipython-input-10-52c71587ce4f>:2: SettingWithCopyWarning: \n",
            "A value is trying to be set on a copy of a slice from a DataFrame.\n",
            "Try using .loc[row_indexer,col_indexer] = value instead\n",
            "\n",
            "See the caveats in the documentation: https://pandas.pydata.org/pandas-docs/stable/user_guide/indexing.html#returning-a-view-versus-a-copy\n",
            "  df_baru['Bumil_DapatFolat_Fe'] = df_baru['Bumil_DapatFolat_Fe'].astype('category')\n"
          ]
        }
      ]
    },
    {
      "cell_type": "code",
      "source": [
        "df_baru.info()"
      ],
      "metadata": {
        "colab": {
          "base_uri": "https://localhost:8080/"
        },
        "id": "oi5pqdj7n1wi",
        "outputId": "29dfe718-1343-4606-c6df-fb3b6a81fe27"
      },
      "execution_count": null,
      "outputs": [
        {
          "output_type": "stream",
          "name": "stdout",
          "text": [
            "<class 'pandas.core.frame.DataFrame'>\n",
            "Index: 766 entries, 0 to 797\n",
            "Data columns (total 7 columns):\n",
            " #   Column               Non-Null Count  Dtype   \n",
            "---  ------               --------------  -----   \n",
            " 0   TB_Ibu               766 non-null    float64 \n",
            " 1   BB_Ibu               766 non-null    float64 \n",
            " 2   IMT                  766 non-null    float64 \n",
            " 3   Usia_ibu             766 non-null    float64 \n",
            " 4   Pendidikan_Ibu       766 non-null    category\n",
            " 5   Bumil_DapatFolat_Fe  766 non-null    category\n",
            " 6   Status_Stunting      766 non-null    category\n",
            "dtypes: category(3), float64(4)\n",
            "memory usage: 32.6 KB\n"
          ]
        }
      ]
    },
    {
      "cell_type": "code",
      "source": [
        "df_baru.describe()"
      ],
      "metadata": {
        "colab": {
          "base_uri": "https://localhost:8080/",
          "height": 300
        },
        "id": "NQ0vO7nOoPMp",
        "outputId": "153718a0-69cc-4595-b6e1-c5431a08198b"
      },
      "execution_count": null,
      "outputs": [
        {
          "output_type": "execute_result",
          "data": {
            "text/plain": [
              "           TB_Ibu      BB_Ibu         IMT    Usia_ibu\n",
              "count  766.000000  766.000000  766.000000  766.000000\n",
              "mean   149.895561   53.994648    2.302872   29.275457\n",
              "std      6.498431   10.511089    0.858433    6.693561\n",
              "min    129.000000   32.000000    1.000000   18.000000\n",
              "25%    146.000000   46.000000    2.000000   24.000000\n",
              "50%    150.000000   53.000000    2.000000   29.000000\n",
              "75%    154.000000   60.000000    3.000000   34.000000\n",
              "max    170.000000   95.000000   19.000000   73.000000"
            ],
            "text/html": [
              "\n",
              "  <div id=\"df-7a79b6e5-2569-499b-a141-157f4eb594d7\" class=\"colab-df-container\">\n",
              "    <div>\n",
              "<style scoped>\n",
              "    .dataframe tbody tr th:only-of-type {\n",
              "        vertical-align: middle;\n",
              "    }\n",
              "\n",
              "    .dataframe tbody tr th {\n",
              "        vertical-align: top;\n",
              "    }\n",
              "\n",
              "    .dataframe thead th {\n",
              "        text-align: right;\n",
              "    }\n",
              "</style>\n",
              "<table border=\"1\" class=\"dataframe\">\n",
              "  <thead>\n",
              "    <tr style=\"text-align: right;\">\n",
              "      <th></th>\n",
              "      <th>TB_Ibu</th>\n",
              "      <th>BB_Ibu</th>\n",
              "      <th>IMT</th>\n",
              "      <th>Usia_ibu</th>\n",
              "    </tr>\n",
              "  </thead>\n",
              "  <tbody>\n",
              "    <tr>\n",
              "      <th>count</th>\n",
              "      <td>766.000000</td>\n",
              "      <td>766.000000</td>\n",
              "      <td>766.000000</td>\n",
              "      <td>766.000000</td>\n",
              "    </tr>\n",
              "    <tr>\n",
              "      <th>mean</th>\n",
              "      <td>149.895561</td>\n",
              "      <td>53.994648</td>\n",
              "      <td>2.302872</td>\n",
              "      <td>29.275457</td>\n",
              "    </tr>\n",
              "    <tr>\n",
              "      <th>std</th>\n",
              "      <td>6.498431</td>\n",
              "      <td>10.511089</td>\n",
              "      <td>0.858433</td>\n",
              "      <td>6.693561</td>\n",
              "    </tr>\n",
              "    <tr>\n",
              "      <th>min</th>\n",
              "      <td>129.000000</td>\n",
              "      <td>32.000000</td>\n",
              "      <td>1.000000</td>\n",
              "      <td>18.000000</td>\n",
              "    </tr>\n",
              "    <tr>\n",
              "      <th>25%</th>\n",
              "      <td>146.000000</td>\n",
              "      <td>46.000000</td>\n",
              "      <td>2.000000</td>\n",
              "      <td>24.000000</td>\n",
              "    </tr>\n",
              "    <tr>\n",
              "      <th>50%</th>\n",
              "      <td>150.000000</td>\n",
              "      <td>53.000000</td>\n",
              "      <td>2.000000</td>\n",
              "      <td>29.000000</td>\n",
              "    </tr>\n",
              "    <tr>\n",
              "      <th>75%</th>\n",
              "      <td>154.000000</td>\n",
              "      <td>60.000000</td>\n",
              "      <td>3.000000</td>\n",
              "      <td>34.000000</td>\n",
              "    </tr>\n",
              "    <tr>\n",
              "      <th>max</th>\n",
              "      <td>170.000000</td>\n",
              "      <td>95.000000</td>\n",
              "      <td>19.000000</td>\n",
              "      <td>73.000000</td>\n",
              "    </tr>\n",
              "  </tbody>\n",
              "</table>\n",
              "</div>\n",
              "    <div class=\"colab-df-buttons\">\n",
              "\n",
              "  <div class=\"colab-df-container\">\n",
              "    <button class=\"colab-df-convert\" onclick=\"convertToInteractive('df-7a79b6e5-2569-499b-a141-157f4eb594d7')\"\n",
              "            title=\"Convert this dataframe to an interactive table.\"\n",
              "            style=\"display:none;\">\n",
              "\n",
              "  <svg xmlns=\"http://www.w3.org/2000/svg\" height=\"24px\" viewBox=\"0 -960 960 960\">\n",
              "    <path d=\"M120-120v-720h720v720H120Zm60-500h600v-160H180v160Zm220 220h160v-160H400v160Zm0 220h160v-160H400v160ZM180-400h160v-160H180v160Zm440 0h160v-160H620v160ZM180-180h160v-160H180v160Zm440 0h160v-160H620v160Z\"/>\n",
              "  </svg>\n",
              "    </button>\n",
              "\n",
              "  <style>\n",
              "    .colab-df-container {\n",
              "      display:flex;\n",
              "      gap: 12px;\n",
              "    }\n",
              "\n",
              "    .colab-df-convert {\n",
              "      background-color: #E8F0FE;\n",
              "      border: none;\n",
              "      border-radius: 50%;\n",
              "      cursor: pointer;\n",
              "      display: none;\n",
              "      fill: #1967D2;\n",
              "      height: 32px;\n",
              "      padding: 0 0 0 0;\n",
              "      width: 32px;\n",
              "    }\n",
              "\n",
              "    .colab-df-convert:hover {\n",
              "      background-color: #E2EBFA;\n",
              "      box-shadow: 0px 1px 2px rgba(60, 64, 67, 0.3), 0px 1px 3px 1px rgba(60, 64, 67, 0.15);\n",
              "      fill: #174EA6;\n",
              "    }\n",
              "\n",
              "    .colab-df-buttons div {\n",
              "      margin-bottom: 4px;\n",
              "    }\n",
              "\n",
              "    [theme=dark] .colab-df-convert {\n",
              "      background-color: #3B4455;\n",
              "      fill: #D2E3FC;\n",
              "    }\n",
              "\n",
              "    [theme=dark] .colab-df-convert:hover {\n",
              "      background-color: #434B5C;\n",
              "      box-shadow: 0px 1px 3px 1px rgba(0, 0, 0, 0.15);\n",
              "      filter: drop-shadow(0px 1px 2px rgba(0, 0, 0, 0.3));\n",
              "      fill: #FFFFFF;\n",
              "    }\n",
              "  </style>\n",
              "\n",
              "    <script>\n",
              "      const buttonEl =\n",
              "        document.querySelector('#df-7a79b6e5-2569-499b-a141-157f4eb594d7 button.colab-df-convert');\n",
              "      buttonEl.style.display =\n",
              "        google.colab.kernel.accessAllowed ? 'block' : 'none';\n",
              "\n",
              "      async function convertToInteractive(key) {\n",
              "        const element = document.querySelector('#df-7a79b6e5-2569-499b-a141-157f4eb594d7');\n",
              "        const dataTable =\n",
              "          await google.colab.kernel.invokeFunction('convertToInteractive',\n",
              "                                                    [key], {});\n",
              "        if (!dataTable) return;\n",
              "\n",
              "        const docLinkHtml = 'Like what you see? Visit the ' +\n",
              "          '<a target=\"_blank\" href=https://colab.research.google.com/notebooks/data_table.ipynb>data table notebook</a>'\n",
              "          + ' to learn more about interactive tables.';\n",
              "        element.innerHTML = '';\n",
              "        dataTable['output_type'] = 'display_data';\n",
              "        await google.colab.output.renderOutput(dataTable, element);\n",
              "        const docLink = document.createElement('div');\n",
              "        docLink.innerHTML = docLinkHtml;\n",
              "        element.appendChild(docLink);\n",
              "      }\n",
              "    </script>\n",
              "  </div>\n",
              "\n",
              "\n",
              "<div id=\"df-df15cf4e-156b-4c25-9291-d05d127e60fe\">\n",
              "  <button class=\"colab-df-quickchart\" onclick=\"quickchart('df-df15cf4e-156b-4c25-9291-d05d127e60fe')\"\n",
              "            title=\"Suggest charts\"\n",
              "            style=\"display:none;\">\n",
              "\n",
              "<svg xmlns=\"http://www.w3.org/2000/svg\" height=\"24px\"viewBox=\"0 0 24 24\"\n",
              "     width=\"24px\">\n",
              "    <g>\n",
              "        <path d=\"M19 3H5c-1.1 0-2 .9-2 2v14c0 1.1.9 2 2 2h14c1.1 0 2-.9 2-2V5c0-1.1-.9-2-2-2zM9 17H7v-7h2v7zm4 0h-2V7h2v10zm4 0h-2v-4h2v4z\"/>\n",
              "    </g>\n",
              "</svg>\n",
              "  </button>\n",
              "\n",
              "<style>\n",
              "  .colab-df-quickchart {\n",
              "      --bg-color: #E8F0FE;\n",
              "      --fill-color: #1967D2;\n",
              "      --hover-bg-color: #E2EBFA;\n",
              "      --hover-fill-color: #174EA6;\n",
              "      --disabled-fill-color: #AAA;\n",
              "      --disabled-bg-color: #DDD;\n",
              "  }\n",
              "\n",
              "  [theme=dark] .colab-df-quickchart {\n",
              "      --bg-color: #3B4455;\n",
              "      --fill-color: #D2E3FC;\n",
              "      --hover-bg-color: #434B5C;\n",
              "      --hover-fill-color: #FFFFFF;\n",
              "      --disabled-bg-color: #3B4455;\n",
              "      --disabled-fill-color: #666;\n",
              "  }\n",
              "\n",
              "  .colab-df-quickchart {\n",
              "    background-color: var(--bg-color);\n",
              "    border: none;\n",
              "    border-radius: 50%;\n",
              "    cursor: pointer;\n",
              "    display: none;\n",
              "    fill: var(--fill-color);\n",
              "    height: 32px;\n",
              "    padding: 0;\n",
              "    width: 32px;\n",
              "  }\n",
              "\n",
              "  .colab-df-quickchart:hover {\n",
              "    background-color: var(--hover-bg-color);\n",
              "    box-shadow: 0 1px 2px rgba(60, 64, 67, 0.3), 0 1px 3px 1px rgba(60, 64, 67, 0.15);\n",
              "    fill: var(--button-hover-fill-color);\n",
              "  }\n",
              "\n",
              "  .colab-df-quickchart-complete:disabled,\n",
              "  .colab-df-quickchart-complete:disabled:hover {\n",
              "    background-color: var(--disabled-bg-color);\n",
              "    fill: var(--disabled-fill-color);\n",
              "    box-shadow: none;\n",
              "  }\n",
              "\n",
              "  .colab-df-spinner {\n",
              "    border: 2px solid var(--fill-color);\n",
              "    border-color: transparent;\n",
              "    border-bottom-color: var(--fill-color);\n",
              "    animation:\n",
              "      spin 1s steps(1) infinite;\n",
              "  }\n",
              "\n",
              "  @keyframes spin {\n",
              "    0% {\n",
              "      border-color: transparent;\n",
              "      border-bottom-color: var(--fill-color);\n",
              "      border-left-color: var(--fill-color);\n",
              "    }\n",
              "    20% {\n",
              "      border-color: transparent;\n",
              "      border-left-color: var(--fill-color);\n",
              "      border-top-color: var(--fill-color);\n",
              "    }\n",
              "    30% {\n",
              "      border-color: transparent;\n",
              "      border-left-color: var(--fill-color);\n",
              "      border-top-color: var(--fill-color);\n",
              "      border-right-color: var(--fill-color);\n",
              "    }\n",
              "    40% {\n",
              "      border-color: transparent;\n",
              "      border-right-color: var(--fill-color);\n",
              "      border-top-color: var(--fill-color);\n",
              "    }\n",
              "    60% {\n",
              "      border-color: transparent;\n",
              "      border-right-color: var(--fill-color);\n",
              "    }\n",
              "    80% {\n",
              "      border-color: transparent;\n",
              "      border-right-color: var(--fill-color);\n",
              "      border-bottom-color: var(--fill-color);\n",
              "    }\n",
              "    90% {\n",
              "      border-color: transparent;\n",
              "      border-bottom-color: var(--fill-color);\n",
              "    }\n",
              "  }\n",
              "</style>\n",
              "\n",
              "  <script>\n",
              "    async function quickchart(key) {\n",
              "      const quickchartButtonEl =\n",
              "        document.querySelector('#' + key + ' button');\n",
              "      quickchartButtonEl.disabled = true;  // To prevent multiple clicks.\n",
              "      quickchartButtonEl.classList.add('colab-df-spinner');\n",
              "      try {\n",
              "        const charts = await google.colab.kernel.invokeFunction(\n",
              "            'suggestCharts', [key], {});\n",
              "      } catch (error) {\n",
              "        console.error('Error during call to suggestCharts:', error);\n",
              "      }\n",
              "      quickchartButtonEl.classList.remove('colab-df-spinner');\n",
              "      quickchartButtonEl.classList.add('colab-df-quickchart-complete');\n",
              "    }\n",
              "    (() => {\n",
              "      let quickchartButtonEl =\n",
              "        document.querySelector('#df-df15cf4e-156b-4c25-9291-d05d127e60fe button');\n",
              "      quickchartButtonEl.style.display =\n",
              "        google.colab.kernel.accessAllowed ? 'block' : 'none';\n",
              "    })();\n",
              "  </script>\n",
              "</div>\n",
              "    </div>\n",
              "  </div>\n"
            ],
            "application/vnd.google.colaboratory.intrinsic+json": {
              "type": "dataframe",
              "summary": "{\n  \"name\": \"df_baru\",\n  \"rows\": 8,\n  \"fields\": [\n    {\n      \"column\": \"TB_Ibu\",\n      \"properties\": {\n        \"dtype\": \"number\",\n        \"std\": 230.88190374616093,\n        \"min\": 6.498430671149272,\n        \"max\": 766.0,\n        \"num_unique_values\": 8,\n        \"samples\": [\n          149.89556135770235,\n          150.0,\n          766.0\n        ],\n        \"semantic_type\": \"\",\n        \"description\": \"\"\n      }\n    },\n    {\n      \"column\": \"BB_Ibu\",\n      \"properties\": {\n        \"dtype\": \"number\",\n        \"std\": 254.25880305182105,\n        \"min\": 10.511088950310848,\n        \"max\": 766.0,\n        \"num_unique_values\": 8,\n        \"samples\": [\n          53.994647519582244,\n          53.0,\n          766.0\n        ],\n        \"semantic_type\": \"\",\n        \"description\": \"\"\n      }\n    },\n    {\n      \"column\": \"IMT\",\n      \"properties\": {\n        \"dtype\": \"number\",\n        \"std\": 269.36617064559584,\n        \"min\": 0.8584327423584945,\n        \"max\": 766.0,\n        \"num_unique_values\": 7,\n        \"samples\": [\n          766.0,\n          2.3028720626631856,\n          3.0\n        ],\n        \"semantic_type\": \"\",\n        \"description\": \"\"\n      }\n    },\n    {\n      \"column\": \"Usia_ibu\",\n      \"properties\": {\n        \"dtype\": \"number\",\n        \"std\": 260.7246622553831,\n        \"min\": 6.6935612989534565,\n        \"max\": 766.0,\n        \"num_unique_values\": 8,\n        \"samples\": [\n          29.27545691906005,\n          29.0,\n          766.0\n        ],\n        \"semantic_type\": \"\",\n        \"description\": \"\"\n      }\n    }\n  ]\n}"
            }
          },
          "metadata": {},
          "execution_count": 12
        }
      ]
    },
    {
      "cell_type": "markdown",
      "source": [
        "## **Clean Data**"
      ],
      "metadata": {
        "id": "Ur7VbqKsB_gH"
      }
    },
    {
      "cell_type": "code",
      "source": [
        "#Finding Missing Data\n",
        "df_baru.isnull().sum()"
      ],
      "metadata": {
        "colab": {
          "base_uri": "https://localhost:8080/"
        },
        "id": "2Djtr9DwoUya",
        "outputId": "ebc97bfb-2dee-40b3-cb29-60fbb6a42d5d"
      },
      "execution_count": null,
      "outputs": [
        {
          "output_type": "execute_result",
          "data": {
            "text/plain": [
              "TB_Ibu                 0\n",
              "BB_Ibu                 0\n",
              "IMT                    0\n",
              "Usia_ibu               0\n",
              "Pendidikan_Ibu         0\n",
              "Bumil_DapatFolat_Fe    0\n",
              "Status_Stunting        0\n",
              "dtype: int64"
            ]
          },
          "metadata": {},
          "execution_count": 13
        }
      ]
    },
    {
      "cell_type": "code",
      "source": [
        "# Menghapus baris yang mengandung missing value\n",
        "df_bersih = df_baru.dropna()\n",
        "\n",
        "\n",
        "print(\"DataFrame setelah menghapus baris yang mengandung missing value:\")\n",
        "print(df_bersih)\n"
      ],
      "metadata": {
        "colab": {
          "base_uri": "https://localhost:8080/"
        },
        "id": "eDX1z_B5wix9",
        "outputId": "7ee45815-be24-4935-bc51-0fcbf949fac1"
      },
      "execution_count": null,
      "outputs": [
        {
          "output_type": "stream",
          "name": "stdout",
          "text": [
            "DataFrame setelah menghapus baris yang mengandung missing value:\n",
            "     TB_Ibu  BB_Ibu  IMT  Usia_ibu Pendidikan_Ibu Bumil_DapatFolat_Fe  \\\n",
            "0     157.0    50.0  2.0      32.0              1                   1   \n",
            "1     146.0    48.0  2.0      37.0              1                   1   \n",
            "2     154.0    71.0  3.0      35.0              2                   1   \n",
            "3     159.0    86.0  3.0      29.0              2                   1   \n",
            "4     153.0    71.0  3.0      33.0              1                   1   \n",
            "..      ...     ...  ...       ...            ...                 ...   \n",
            "793   151.0    48.0  2.0      30.0              2                   1   \n",
            "794   147.0    51.0  2.0      33.0              1                   1   \n",
            "795   149.0    53.0  2.0      35.0              2                   1   \n",
            "796   141.0    43.0  2.0      20.0              2                   1   \n",
            "797   157.0    62.0  2.0      21.0              3                   1   \n",
            "\n",
            "    Status_Stunting  \n",
            "0                 1  \n",
            "1                 1  \n",
            "2                 1  \n",
            "3                 1  \n",
            "4                 1  \n",
            "..              ...  \n",
            "793               0  \n",
            "794               0  \n",
            "795               0  \n",
            "796               1  \n",
            "797               1  \n",
            "\n",
            "[766 rows x 7 columns]\n"
          ]
        }
      ]
    },
    {
      "cell_type": "code",
      "source": [
        "# Menampilkan dataframe setelah imputasi\n",
        "print(df_bersih.isna().sum())"
      ],
      "metadata": {
        "colab": {
          "base_uri": "https://localhost:8080/"
        },
        "id": "8oFhsKG_qGCS",
        "outputId": "ee9d6105-d860-4ed0-e9d1-a1bde64e9a54"
      },
      "execution_count": null,
      "outputs": [
        {
          "output_type": "stream",
          "name": "stdout",
          "text": [
            "TB_Ibu                 0\n",
            "BB_Ibu                 0\n",
            "IMT                    0\n",
            "Usia_ibu               0\n",
            "Pendidikan_Ibu         0\n",
            "Bumil_DapatFolat_Fe    0\n",
            "Status_Stunting        0\n",
            "dtype: int64\n"
          ]
        }
      ]
    },
    {
      "cell_type": "code",
      "source": [
        "#Checking the Dimension of dataset\n",
        "df_bersih.shape"
      ],
      "metadata": {
        "colab": {
          "base_uri": "https://localhost:8080/"
        },
        "id": "kORE6YdnrEG7",
        "outputId": "dbff9f98-7c51-433c-df43-d233ea699c79"
      },
      "execution_count": null,
      "outputs": [
        {
          "output_type": "execute_result",
          "data": {
            "text/plain": [
              "(766, 7)"
            ]
          },
          "metadata": {},
          "execution_count": 16
        }
      ]
    },
    {
      "cell_type": "code",
      "source": [
        "print(\"Jumlah duplikasi: \", df_bersih.duplicated().sum())"
      ],
      "metadata": {
        "colab": {
          "base_uri": "https://localhost:8080/"
        },
        "id": "m-pOegoKonRU",
        "outputId": "e8d6a6a3-b0cb-4d2f-f7d1-5dae58f24319"
      },
      "execution_count": null,
      "outputs": [
        {
          "output_type": "stream",
          "name": "stdout",
          "text": [
            "Jumlah duplikasi:  35\n"
          ]
        }
      ]
    },
    {
      "cell_type": "code",
      "source": [
        "# Menghapus duplikasi berdasarkan semua kolom\n",
        "df_no_duplicates = df_baru.drop_duplicates()\n",
        "\n",
        "print(df_no_duplicates)"
      ],
      "metadata": {
        "colab": {
          "base_uri": "https://localhost:8080/"
        },
        "id": "JwZ-jJP7_6Ab",
        "outputId": "6bf10fb9-4215-4dd6-b2e0-89f08c79a20b"
      },
      "execution_count": null,
      "outputs": [
        {
          "output_type": "stream",
          "name": "stdout",
          "text": [
            "     TB_Ibu  BB_Ibu  IMT  Usia_ibu Pendidikan_Ibu Bumil_DapatFolat_Fe  \\\n",
            "0     157.0    50.0  2.0      32.0              1                   1   \n",
            "1     146.0    48.0  2.0      37.0              1                   1   \n",
            "2     154.0    71.0  3.0      35.0              2                   1   \n",
            "3     159.0    86.0  3.0      29.0              2                   1   \n",
            "4     153.0    71.0  3.0      33.0              1                   1   \n",
            "..      ...     ...  ...       ...            ...                 ...   \n",
            "793   151.0    48.0  2.0      30.0              2                   1   \n",
            "794   147.0    51.0  2.0      33.0              1                   1   \n",
            "795   149.0    53.0  2.0      35.0              2                   1   \n",
            "796   141.0    43.0  2.0      20.0              2                   1   \n",
            "797   157.0    62.0  2.0      21.0              3                   1   \n",
            "\n",
            "    Status_Stunting  \n",
            "0                 1  \n",
            "1                 1  \n",
            "2                 1  \n",
            "3                 1  \n",
            "4                 1  \n",
            "..              ...  \n",
            "793               0  \n",
            "794               0  \n",
            "795               0  \n",
            "796               1  \n",
            "797               1  \n",
            "\n",
            "[731 rows x 7 columns]\n"
          ]
        }
      ]
    },
    {
      "cell_type": "markdown",
      "source": [
        "## **Visualitation**"
      ],
      "metadata": {
        "id": "AWgtygPaCDGG"
      }
    },
    {
      "cell_type": "code",
      "source": [
        "# Data Exploration\n",
        "# FOR LABEL\n",
        "sns.countplot(x=\"Status_Stunting\", data=df_no_duplicates, palette=\"bwr\")\n",
        "plt.show()"
      ],
      "metadata": {
        "colab": {
          "base_uri": "https://localhost:8080/",
          "height": 560
        },
        "id": "TiLu92V2yVxm",
        "outputId": "faa3870a-d217-4363-d33b-cca67f00b540"
      },
      "execution_count": null,
      "outputs": [
        {
          "output_type": "stream",
          "name": "stderr",
          "text": [
            "<ipython-input-19-160e8e7e31a1>:3: FutureWarning: \n",
            "\n",
            "Passing `palette` without assigning `hue` is deprecated and will be removed in v0.14.0. Assign the `x` variable to `hue` and set `legend=False` for the same effect.\n",
            "\n",
            "  sns.countplot(x=\"Status_Stunting\", data=df_no_duplicates, palette=\"bwr\")\n"
          ]
        },
        {
          "output_type": "display_data",
          "data": {
            "text/plain": [
              "<Figure size 640x480 with 1 Axes>"
            ],
            "image/png": "[encoded data removed]"
          },
          "metadata": {}
        }
      ]
    },
    {
      "cell_type": "code",
      "source": [
        "# HISTOGRAM IN EACH VARIABLE\n",
        "df_no_duplicates.hist(figsize = (12, 12))\n",
        "plt.show()"
      ],
      "metadata": {
        "colab": {
          "base_uri": "https://localhost:8080/",
          "height": 1000
        },
        "id": "cmbAk3ORyPBf",
        "outputId": "8e1ed2c0-da5e-4dd9-dc0e-735a2772475c"
      },
      "execution_count": null,
      "outputs": [
        {
          "output_type": "display_data",
          "data": {
            "text/plain": [
              "<Figure size 1200x1200 with 4 Axes>"
            ],
            "image/png": "[encoded data removed]"
          },
          "metadata": {}
        }
      ]
    },
    {
      "cell_type": "markdown",
      "source": [
        "## **Model Architecture**"
      ],
      "metadata": {
        "id": "R0Gu8VNDCG76"
      }
    },
    {
      "cell_type": "code",
      "source": [
        "# Pisahkan fitur (X) dan label (y)\n",
        "X = df_no_duplicates[['TB_Ibu', 'BB_Ibu', 'IMT', 'Usia_ibu', 'Pendidikan_Ibu', 'Bumil_DapatFolat_Fe']]\n",
        "y = df_no_duplicates['Status_Stunting']"
      ],
      "metadata": {
        "id": "8LiVm_WF-vVP"
      },
      "execution_count": null,
      "outputs": []
    },
    {
      "cell_type": "code",
      "source": [
        "numeric_features = ['TB_Ibu', 'BB_Ibu', 'IMT', 'Usia_ibu']\n",
        "numeric_transformer = Pipeline(steps=[\n",
        "    ('imputer', SimpleImputer(strategy='median')),\n",
        "    ('scaler', StandardScaler())\n",
        "])\n",
        "\n",
        "categorical_features = ['Pendidikan_Ibu', 'Bumil_DapatFolat_Fe']\n",
        "categorical_transformer = Pipeline(steps=[\n",
        "    ('imputer', SimpleImputer(strategy='most_frequent')),\n",
        "    ('onehot', OneHotEncoder(handle_unknown='ignore'))\n",
        "])\n",
        "\n",
        "preprocessor = ColumnTransformer(\n",
        "    transformers=[\n",
        "        ('num', numeric_transformer, numeric_features),\n",
        "        ('cat', categorical_transformer, categorical_features)\n",
        "    ])"
      ],
      "metadata": {
        "id": "NZZgOqjKFLeI"
      },
      "execution_count": null,
      "outputs": []
    },
    {
      "cell_type": "code",
      "source": [
        "# Bagi data menjadi data latih dan data uji\n",
        "X_train, X_test, y_train, y_test = train_test_split(X, y, test_size=0.2, random_state=64)\n"
      ],
      "metadata": {
        "id": "r0-QIqk-_cAm"
      },
      "execution_count": null,
      "outputs": []
    },
    {
      "cell_type": "code",
      "source": [
        "X_train_processed = preprocessor.fit_transform(X_train)\n",
        "X_test_processed = preprocessor.transform(X_test)"
      ],
      "metadata": {
        "id": "StrGrOayJJ1y"
      },
      "execution_count": null,
      "outputs": []
    },
    {
      "cell_type": "code",
      "source": [
        "model = Sequential([\n",
        "    Input(shape=(12,)),  # Input layer\n",
        "    Dense(64, input_shape=(X_train_processed.shape[1],), activation='relu'),   # Hidden layer dengan 64 neuron dan fungsi aktivasi ReLU\n",
        "    Dense(1, activation='sigmoid')  # Output layer dengan 1 neuron dan fungsi aktivasi Sigmoid untuk klasifikasi biner\n",
        "])"
      ],
      "metadata": {
        "id": "Ctx8lnwQFt9-"
      },
      "execution_count": null,
      "outputs": []
    },
    {
      "cell_type": "code",
      "source": [
        "model.compile(optimizer='adam',\n",
        "              loss='binary_crossentropy',\n",
        "              metrics=['accuracy'])"
      ],
      "metadata": {
        "id": "Aze0beiKGU3T"
      },
      "execution_count": null,
      "outputs": []
    },
    {
      "cell_type": "code",
      "source": [
        "history = model.fit(X_train_processed, y_train, epochs=100, batch_size=128, validation_data=(X_test_processed, y_test))"
      ],
      "metadata": {
        "colab": {
          "base_uri": "https://localhost:8080/"
        },
        "id": "QK8PJHgVGXGd",
        "outputId": "6bccca89-ef74-47a3-8f97-b51aeb38a819"
      },
      "execution_count": null,
      "outputs": [
        {
          "output_type": "stream",
          "name": "stdout",
          "text": [
            "Epoch 1/100\n",
            "5/5 [==============================] - 3s 174ms/step - loss: 0.7196 - accuracy: 0.5428 - val_loss: 0.6795 - val_accuracy: 0.6259\n",
            "Epoch 2/100\n",
            "5/5 [==============================] - 0s 31ms/step - loss: 0.6962 - accuracy: 0.5479 - val_loss: 0.6576 - val_accuracy: 0.6327\n",
            "Epoch 3/100\n",
            "5/5 [==============================] - 0s 24ms/step - loss: 0.6768 - accuracy: 0.6079 - val_loss: 0.6414 - val_accuracy: 0.6599\n",
            "Epoch 4/100\n",
            "5/5 [==============================] - 0s 19ms/step - loss: 0.6632 - accuracy: 0.6370 - val_loss: 0.6303 - val_accuracy: 0.6939\n",
            "Epoch 5/100\n",
            "5/5 [==============================] - 0s 24ms/step - loss: 0.6543 - accuracy: 0.6507 - val_loss: 0.6227 - val_accuracy: 0.6735\n",
            "Epoch 6/100\n",
            "5/5 [==============================] - 0s 24ms/step - loss: 0.6476 - accuracy: 0.6575 - val_loss: 0.6179 - val_accuracy: 0.6735\n",
            "Epoch 7/100\n",
            "5/5 [==============================] - 0s 76ms/step - loss: 0.6434 - accuracy: 0.6558 - val_loss: 0.6149 - val_accuracy: 0.6803\n",
            "Epoch 8/100\n",
            "5/5 [==============================] - 0s 21ms/step - loss: 0.6401 - accuracy: 0.6541 - val_loss: 0.6125 - val_accuracy: 0.6871\n",
            "Epoch 9/100\n",
            "5/5 [==============================] - 0s 20ms/step - loss: 0.6387 - accuracy: 0.6610 - val_loss: 0.6107 - val_accuracy: 0.6871\n",
            "Epoch 10/100\n",
            "5/5 [==============================] - 0s 25ms/step - loss: 0.6364 - accuracy: 0.6627 - val_loss: 0.6091 - val_accuracy: 0.6871\n",
            "Epoch 11/100\n",
            "5/5 [==============================] - 0s 31ms/step - loss: 0.6347 - accuracy: 0.6610 - val_loss: 0.6081 - val_accuracy: 0.6871\n",
            "Epoch 12/100\n",
            "5/5 [==============================] - 0s 42ms/step - loss: 0.6336 - accuracy: 0.6610 - val_loss: 0.6075 - val_accuracy: 0.6803\n",
            "Epoch 13/100\n",
            "5/5 [==============================] - 0s 24ms/step - loss: 0.6318 - accuracy: 0.6627 - val_loss: 0.6073 - val_accuracy: 0.6803\n",
            "Epoch 14/100\n",
            "5/5 [==============================] - 0s 42ms/step - loss: 0.6307 - accuracy: 0.6610 - val_loss: 0.6069 - val_accuracy: 0.6735\n",
            "Epoch 15/100\n",
            "5/5 [==============================] - 0s 37ms/step - loss: 0.6298 - accuracy: 0.6592 - val_loss: 0.6069 - val_accuracy: 0.6803\n",
            "Epoch 16/100\n",
            "5/5 [==============================] - 0s 41ms/step - loss: 0.6287 - accuracy: 0.6610 - val_loss: 0.6071 - val_accuracy: 0.6803\n",
            "Epoch 17/100\n",
            "5/5 [==============================] - 0s 26ms/step - loss: 0.6276 - accuracy: 0.6610 - val_loss: 0.6070 - val_accuracy: 0.6803\n",
            "Epoch 18/100\n",
            "5/5 [==============================] - 0s 37ms/step - loss: 0.6264 - accuracy: 0.6610 - val_loss: 0.6072 - val_accuracy: 0.6871\n",
            "Epoch 19/100\n",
            "5/5 [==============================] - 0s 48ms/step - loss: 0.6260 - accuracy: 0.6610 - val_loss: 0.6073 - val_accuracy: 0.6871\n",
            "Epoch 20/100\n",
            "5/5 [==============================] - 0s 25ms/step - loss: 0.6248 - accuracy: 0.6592 - val_loss: 0.6075 - val_accuracy: 0.6871\n",
            "Epoch 21/100\n",
            "5/5 [==============================] - 0s 34ms/step - loss: 0.6240 - accuracy: 0.6610 - val_loss: 0.6080 - val_accuracy: 0.6871\n",
            "Epoch 22/100\n",
            "5/5 [==============================] - 0s 47ms/step - loss: 0.6232 - accuracy: 0.6592 - val_loss: 0.6082 - val_accuracy: 0.6871\n",
            "Epoch 23/100\n",
            "5/5 [==============================] - 0s 53ms/step - loss: 0.6225 - accuracy: 0.6610 - val_loss: 0.6081 - val_accuracy: 0.6871\n",
            "Epoch 24/100\n",
            "5/5 [==============================] - 0s 47ms/step - loss: 0.6218 - accuracy: 0.6627 - val_loss: 0.6080 - val_accuracy: 0.6871\n",
            "Epoch 25/100\n",
            "5/5 [==============================] - 0s 21ms/step - loss: 0.6212 - accuracy: 0.6627 - val_loss: 0.6078 - val_accuracy: 0.6871\n",
            "Epoch 26/100\n",
            "5/5 [==============================] - 0s 38ms/step - loss: 0.6208 - accuracy: 0.6627 - val_loss: 0.6077 - val_accuracy: 0.6871\n",
            "Epoch 27/100\n",
            "5/5 [==============================] - 0s 18ms/step - loss: 0.6203 - accuracy: 0.6644 - val_loss: 0.6078 - val_accuracy: 0.6871\n",
            "Epoch 28/100\n",
            "5/5 [==============================] - 0s 33ms/step - loss: 0.6199 - accuracy: 0.6644 - val_loss: 0.6074 - val_accuracy: 0.6871\n",
            "Epoch 29/100\n",
            "5/5 [==============================] - 0s 19ms/step - loss: 0.6194 - accuracy: 0.6644 - val_loss: 0.6075 - val_accuracy: 0.6939\n",
            "Epoch 30/100\n",
            "5/5 [==============================] - 0s 17ms/step - loss: 0.6189 - accuracy: 0.6661 - val_loss: 0.6076 - val_accuracy: 0.6871\n",
            "Epoch 31/100\n",
            "5/5 [==============================] - 0s 43ms/step - loss: 0.6184 - accuracy: 0.6644 - val_loss: 0.6078 - val_accuracy: 0.6871\n",
            "Epoch 32/100\n",
            "5/5 [==============================] - 0s 20ms/step - loss: 0.6180 - accuracy: 0.6627 - val_loss: 0.6082 - val_accuracy: 0.6871\n",
            "Epoch 33/100\n",
            "5/5 [==============================] - 0s 20ms/step - loss: 0.6175 - accuracy: 0.6644 - val_loss: 0.6083 - val_accuracy: 0.6939\n",
            "Epoch 34/100\n",
            "5/5 [==============================] - 0s 25ms/step - loss: 0.6172 - accuracy: 0.6644 - val_loss: 0.6083 - val_accuracy: 0.6939\n",
            "Epoch 35/100\n",
            "5/5 [==============================] - 0s 19ms/step - loss: 0.6169 - accuracy: 0.6644 - val_loss: 0.6087 - val_accuracy: 0.6939\n",
            "Epoch 36/100\n",
            "5/5 [==============================] - 0s 40ms/step - loss: 0.6164 - accuracy: 0.6627 - val_loss: 0.6089 - val_accuracy: 0.6939\n",
            "Epoch 37/100\n",
            "5/5 [==============================] - 0s 22ms/step - loss: 0.6160 - accuracy: 0.6644 - val_loss: 0.6088 - val_accuracy: 0.6939\n",
            "Epoch 38/100\n",
            "5/5 [==============================] - 0s 31ms/step - loss: 0.6158 - accuracy: 0.6678 - val_loss: 0.6092 - val_accuracy: 0.6871\n",
            "Epoch 39/100\n",
            "5/5 [==============================] - 0s 32ms/step - loss: 0.6154 - accuracy: 0.6695 - val_loss: 0.6095 - val_accuracy: 0.6939\n",
            "Epoch 40/100\n",
            "5/5 [==============================] - 0s 31ms/step - loss: 0.6151 - accuracy: 0.6695 - val_loss: 0.6098 - val_accuracy: 0.6871\n",
            "Epoch 41/100\n",
            "5/5 [==============================] - 0s 24ms/step - loss: 0.6147 - accuracy: 0.6695 - val_loss: 0.6103 - val_accuracy: 0.6871\n",
            "Epoch 42/100\n",
            "5/5 [==============================] - 0s 17ms/step - loss: 0.6142 - accuracy: 0.6712 - val_loss: 0.6106 - val_accuracy: 0.6871\n",
            "Epoch 43/100\n",
            "5/5 [==============================] - 0s 30ms/step - loss: 0.6140 - accuracy: 0.6729 - val_loss: 0.6104 - val_accuracy: 0.6871\n",
            "Epoch 44/100\n",
            "5/5 [==============================] - 0s 27ms/step - loss: 0.6137 - accuracy: 0.6729 - val_loss: 0.6105 - val_accuracy: 0.6939\n",
            "Epoch 45/100\n",
            "5/5 [==============================] - 0s 25ms/step - loss: 0.6132 - accuracy: 0.6729 - val_loss: 0.6109 - val_accuracy: 0.6871\n",
            "Epoch 46/100\n",
            "5/5 [==============================] - 0s 19ms/step - loss: 0.6129 - accuracy: 0.6747 - val_loss: 0.6112 - val_accuracy: 0.6871\n",
            "Epoch 47/100\n",
            "5/5 [==============================] - 0s 19ms/step - loss: 0.6126 - accuracy: 0.6747 - val_loss: 0.6114 - val_accuracy: 0.6871\n",
            "Epoch 48/100\n",
            "5/5 [==============================] - 0s 19ms/step - loss: 0.6124 - accuracy: 0.6747 - val_loss: 0.6114 - val_accuracy: 0.6871\n",
            "Epoch 49/100\n",
            "5/5 [==============================] - 0s 19ms/step - loss: 0.6119 - accuracy: 0.6747 - val_loss: 0.6114 - val_accuracy: 0.6871\n",
            "Epoch 50/100\n",
            "5/5 [==============================] - 0s 20ms/step - loss: 0.6116 - accuracy: 0.6747 - val_loss: 0.6117 - val_accuracy: 0.6803\n",
            "Epoch 51/100\n",
            "5/5 [==============================] - 0s 21ms/step - loss: 0.6113 - accuracy: 0.6781 - val_loss: 0.6116 - val_accuracy: 0.6803\n",
            "Epoch 52/100\n",
            "5/5 [==============================] - 0s 56ms/step - loss: 0.6109 - accuracy: 0.6781 - val_loss: 0.6118 - val_accuracy: 0.6803\n",
            "Epoch 53/100\n",
            "5/5 [==============================] - 0s 52ms/step - loss: 0.6107 - accuracy: 0.6781 - val_loss: 0.6121 - val_accuracy: 0.6803\n",
            "Epoch 54/100\n",
            "5/5 [==============================] - 0s 53ms/step - loss: 0.6103 - accuracy: 0.6781 - val_loss: 0.6121 - val_accuracy: 0.6803\n",
            "Epoch 55/100\n",
            "5/5 [==============================] - 0s 43ms/step - loss: 0.6102 - accuracy: 0.6781 - val_loss: 0.6121 - val_accuracy: 0.6803\n",
            "Epoch 56/100\n",
            "5/5 [==============================] - 0s 51ms/step - loss: 0.6096 - accuracy: 0.6798 - val_loss: 0.6121 - val_accuracy: 0.6803\n",
            "Epoch 57/100\n",
            "5/5 [==============================] - 0s 53ms/step - loss: 0.6092 - accuracy: 0.6798 - val_loss: 0.6122 - val_accuracy: 0.6803\n",
            "Epoch 58/100\n",
            "5/5 [==============================] - 0s 20ms/step - loss: 0.6090 - accuracy: 0.6798 - val_loss: 0.6121 - val_accuracy: 0.6803\n",
            "Epoch 59/100\n",
            "5/5 [==============================] - 0s 56ms/step - loss: 0.6086 - accuracy: 0.6798 - val_loss: 0.6124 - val_accuracy: 0.6803\n",
            "Epoch 60/100\n",
            "5/5 [==============================] - 0s 36ms/step - loss: 0.6083 - accuracy: 0.6798 - val_loss: 0.6125 - val_accuracy: 0.6803\n",
            "Epoch 61/100\n",
            "5/5 [==============================] - 0s 46ms/step - loss: 0.6080 - accuracy: 0.6798 - val_loss: 0.6131 - val_accuracy: 0.6803\n",
            "Epoch 62/100\n",
            "5/5 [==============================] - 0s 38ms/step - loss: 0.6077 - accuracy: 0.6798 - val_loss: 0.6138 - val_accuracy: 0.6803\n",
            "Epoch 63/100\n",
            "5/5 [==============================] - 0s 37ms/step - loss: 0.6072 - accuracy: 0.6798 - val_loss: 0.6144 - val_accuracy: 0.6803\n",
            "Epoch 64/100\n",
            "5/5 [==============================] - 0s 56ms/step - loss: 0.6070 - accuracy: 0.6798 - val_loss: 0.6155 - val_accuracy: 0.6803\n",
            "Epoch 65/100\n",
            "5/5 [==============================] - 0s 29ms/step - loss: 0.6065 - accuracy: 0.6832 - val_loss: 0.6158 - val_accuracy: 0.6803\n",
            "Epoch 66/100\n",
            "5/5 [==============================] - 0s 31ms/step - loss: 0.6064 - accuracy: 0.6849 - val_loss: 0.6158 - val_accuracy: 0.6803\n",
            "Epoch 67/100\n",
            "5/5 [==============================] - 0s 40ms/step - loss: 0.6061 - accuracy: 0.6849 - val_loss: 0.6161 - val_accuracy: 0.6803\n",
            "Epoch 68/100\n",
            "5/5 [==============================] - 0s 35ms/step - loss: 0.6057 - accuracy: 0.6849 - val_loss: 0.6162 - val_accuracy: 0.6803\n",
            "Epoch 69/100\n",
            "5/5 [==============================] - 0s 33ms/step - loss: 0.6054 - accuracy: 0.6884 - val_loss: 0.6162 - val_accuracy: 0.6803\n",
            "Epoch 70/100\n",
            "5/5 [==============================] - 0s 36ms/step - loss: 0.6050 - accuracy: 0.6901 - val_loss: 0.6162 - val_accuracy: 0.6803\n",
            "Epoch 71/100\n",
            "5/5 [==============================] - 0s 46ms/step - loss: 0.6046 - accuracy: 0.6901 - val_loss: 0.6164 - val_accuracy: 0.6803\n",
            "Epoch 72/100\n",
            "5/5 [==============================] - 0s 45ms/step - loss: 0.6043 - accuracy: 0.6901 - val_loss: 0.6165 - val_accuracy: 0.6803\n",
            "Epoch 73/100\n",
            "5/5 [==============================] - 0s 53ms/step - loss: 0.6041 - accuracy: 0.6901 - val_loss: 0.6167 - val_accuracy: 0.6735\n",
            "Epoch 74/100\n",
            "5/5 [==============================] - 0s 56ms/step - loss: 0.6039 - accuracy: 0.6884 - val_loss: 0.6172 - val_accuracy: 0.6803\n",
            "Epoch 75/100\n",
            "5/5 [==============================] - 0s 30ms/step - loss: 0.6035 - accuracy: 0.6901 - val_loss: 0.6170 - val_accuracy: 0.6803\n",
            "Epoch 76/100\n",
            "5/5 [==============================] - 0s 33ms/step - loss: 0.6032 - accuracy: 0.6918 - val_loss: 0.6172 - val_accuracy: 0.6735\n",
            "Epoch 77/100\n",
            "5/5 [==============================] - 0s 50ms/step - loss: 0.6027 - accuracy: 0.6935 - val_loss: 0.6175 - val_accuracy: 0.6803\n",
            "Epoch 78/100\n",
            "5/5 [==============================] - 0s 45ms/step - loss: 0.6025 - accuracy: 0.6935 - val_loss: 0.6179 - val_accuracy: 0.6803\n",
            "Epoch 79/100\n",
            "5/5 [==============================] - 0s 32ms/step - loss: 0.6021 - accuracy: 0.6935 - val_loss: 0.6179 - val_accuracy: 0.6803\n",
            "Epoch 80/100\n",
            "5/5 [==============================] - 0s 36ms/step - loss: 0.6019 - accuracy: 0.6918 - val_loss: 0.6184 - val_accuracy: 0.6803\n",
            "Epoch 81/100\n",
            "5/5 [==============================] - 0s 49ms/step - loss: 0.6016 - accuracy: 0.6935 - val_loss: 0.6186 - val_accuracy: 0.6803\n",
            "Epoch 82/100\n",
            "5/5 [==============================] - 0s 19ms/step - loss: 0.6015 - accuracy: 0.6918 - val_loss: 0.6189 - val_accuracy: 0.6803\n",
            "Epoch 83/100\n",
            "5/5 [==============================] - 0s 46ms/step - loss: 0.6011 - accuracy: 0.6935 - val_loss: 0.6192 - val_accuracy: 0.6803\n",
            "Epoch 84/100\n",
            "5/5 [==============================] - 0s 48ms/step - loss: 0.6007 - accuracy: 0.6935 - val_loss: 0.6190 - val_accuracy: 0.6803\n",
            "Epoch 85/100\n",
            "5/5 [==============================] - 0s 22ms/step - loss: 0.6004 - accuracy: 0.6901 - val_loss: 0.6196 - val_accuracy: 0.6803\n",
            "Epoch 86/100\n",
            "5/5 [==============================] - 0s 48ms/step - loss: 0.6002 - accuracy: 0.6918 - val_loss: 0.6199 - val_accuracy: 0.6871\n",
            "Epoch 87/100\n",
            "5/5 [==============================] - 0s 35ms/step - loss: 0.5999 - accuracy: 0.6935 - val_loss: 0.6203 - val_accuracy: 0.6939\n",
            "Epoch 88/100\n",
            "5/5 [==============================] - 0s 40ms/step - loss: 0.5995 - accuracy: 0.6935 - val_loss: 0.6203 - val_accuracy: 0.6939\n",
            "Epoch 89/100\n",
            "5/5 [==============================] - 0s 19ms/step - loss: 0.5993 - accuracy: 0.6935 - val_loss: 0.6207 - val_accuracy: 0.6939\n",
            "Epoch 90/100\n",
            "5/5 [==============================] - 0s 20ms/step - loss: 0.5990 - accuracy: 0.6935 - val_loss: 0.6207 - val_accuracy: 0.6871\n",
            "Epoch 91/100\n",
            "5/5 [==============================] - 0s 39ms/step - loss: 0.5987 - accuracy: 0.6952 - val_loss: 0.6210 - val_accuracy: 0.6871\n",
            "Epoch 92/100\n",
            "5/5 [==============================] - 0s 29ms/step - loss: 0.5983 - accuracy: 0.6952 - val_loss: 0.6211 - val_accuracy: 0.6939\n",
            "Epoch 93/100\n",
            "5/5 [==============================] - 0s 25ms/step - loss: 0.5980 - accuracy: 0.6952 - val_loss: 0.6210 - val_accuracy: 0.6939\n",
            "Epoch 94/100\n",
            "5/5 [==============================] - 0s 34ms/step - loss: 0.5979 - accuracy: 0.6952 - val_loss: 0.6212 - val_accuracy: 0.6939\n",
            "Epoch 95/100\n",
            "5/5 [==============================] - 0s 39ms/step - loss: 0.5977 - accuracy: 0.6952 - val_loss: 0.6213 - val_accuracy: 0.6939\n",
            "Epoch 96/100\n",
            "5/5 [==============================] - 0s 19ms/step - loss: 0.5976 - accuracy: 0.6969 - val_loss: 0.6214 - val_accuracy: 0.6939\n",
            "Epoch 97/100\n",
            "5/5 [==============================] - 0s 23ms/step - loss: 0.5972 - accuracy: 0.6969 - val_loss: 0.6218 - val_accuracy: 0.6871\n",
            "Epoch 98/100\n",
            "5/5 [==============================] - 0s 19ms/step - loss: 0.5969 - accuracy: 0.6969 - val_loss: 0.6226 - val_accuracy: 0.6871\n",
            "Epoch 99/100\n",
            "5/5 [==============================] - 0s 43ms/step - loss: 0.5965 - accuracy: 0.6952 - val_loss: 0.6232 - val_accuracy: 0.6871\n",
            "Epoch 100/100\n",
            "5/5 [==============================] - 0s 29ms/step - loss: 0.5962 - accuracy: 0.6952 - val_loss: 0.6237 - val_accuracy: 0.6939\n"
          ]
        }
      ]
    },
    {
      "cell_type": "code",
      "source": [
        "test_loss, test_accuracy = model.evaluate(X_test_processed, y_test)\n",
        "print('Test accuracy:', test_accuracy)"
      ],
      "metadata": {
        "colab": {
          "base_uri": "https://localhost:8080/"
        },
        "id": "3KY-oA58G-Ox",
        "outputId": "cffcb401-1471-45ed-b92e-bfe56e9f9364"
      },
      "execution_count": null,
      "outputs": [
        {
          "output_type": "stream",
          "name": "stdout",
          "text": [
            "5/5 [==============================] - 0s 5ms/step - loss: 0.6237 - accuracy: 0.6939\n",
            "Test accuracy: 0.6938775777816772\n"
          ]
        }
      ]
    },
    {
      "cell_type": "code",
      "source": [
        "# Prediksi label dari data test\n",
        "y_pred = model.predict(X_test_processed)\n",
        "\n",
        "# Konversi prediksi probabilitas menjadi label biner (0 atau 1)\n",
        "y_pred_binary = (y_pred > 0.5).astype(int)\n",
        "\n",
        "# Evaluasi model\n",
        "print(\"Laporan Klasifikasi:\\n\", classification_report(y_test, y_pred_binary))\n",
        "print(\"Matriks Kebingungan:\\n\", confusion_matrix(y_test, y_pred_binary))"
      ],
      "metadata": {
        "colab": {
          "base_uri": "https://localhost:8080/"
        },
        "id": "Vkr731aoMs5A",
        "outputId": "dc91dc3b-63d2-47c3-8f48-725fa6ff3f7c"
      },
      "execution_count": null,
      "outputs": [
        {
          "output_type": "stream",
          "name": "stdout",
          "text": [
            "5/5 [==============================] - 0s 4ms/step\n",
            "Laporan Klasifikasi:\n",
            "               precision    recall  f1-score   support\n",
            "\n",
            "           0       0.69      0.98      0.81        99\n",
            "           1       0.71      0.10      0.18        48\n",
            "\n",
            "    accuracy                           0.69       147\n",
            "   macro avg       0.70      0.54      0.50       147\n",
            "weighted avg       0.70      0.69      0.61       147\n",
            "\n",
            "Matriks Kebingungan:\n",
            " [[97  2]\n",
            " [43  5]]\n"
          ]
        }
      ]
    },
    {
      "cell_type": "code",
      "source": [
        "# Plotting akurasi dan loss selama pelatihan\n",
        "# Retrieve a list of list results on training and test data sets for each training epoch\n",
        "acc = history.history['accuracy']\n",
        "val_acc = history.history['val_accuracy']\n",
        "loss = history.history['loss']\n",
        "val_loss = history.history['val_loss']\n",
        "\n",
        "epochs = range(len(acc))  # Get number of epochs\n",
        "\n",
        "# Plot training and validation accuracy per epoch\n",
        "plt.plot(epochs, acc, 'r', label=\"Training Accuracy\")\n",
        "plt.plot(epochs, val_acc, 'b', label=\"Validation Accuracy\")\n",
        "plt.title('Training and validation accuracy')\n",
        "plt.legend()  # Add legend to the plot\n",
        "plt.show()\n",
        "print(\"\")\n",
        "\n",
        "# Plot training and validation loss per epoch\n",
        "plt.plot(epochs, loss, 'r', label=\"Training Loss\")\n",
        "plt.plot(epochs, val_loss, 'b', label=\"Validation Loss\")\n",
        "plt.title('Training and validation loss')\n",
        "plt.legend()  # Add legend to the plot\n",
        "plt.show()"
      ],
      "metadata": {
        "colab": {
          "base_uri": "https://localhost:8080/",
          "height": 905
        },
        "id": "gTuolckPArPm",
        "outputId": "78785a53-8138-4a5d-be0c-efb568ed3643"
      },
      "execution_count": null,
      "outputs": [
        {
          "output_type": "display_data",
          "data": {
            "text/plain": [
              "<Figure size 640x480 with 1 Axes>"
            ],
            "image/png": "[encoded data removed]"
          },
          "metadata": {}
        },
        {
          "output_type": "stream",
          "name": "stdout",
          "text": [
            "\n"
          ]
        },
        {
          "output_type": "display_data",
          "data": {
            "text/plain": [
              "<Figure size 640x480 with 1 Axes>"
            ],
            "image/png": "[encoded data removed]"
          },
          "metadata": {}
        }
      ]
    },
    {
      "cell_type": "code",
      "source": [
        "df_no_duplicates.info()"
      ],
      "metadata": {
        "colab": {
          "base_uri": "https://localhost:8080/"
        },
        "id": "Lk9FrUayhVT0",
        "outputId": "adcc4d30-81dd-43d8-a0e6-20549141cc07"
      },
      "execution_count": null,
      "outputs": [
        {
          "output_type": "stream",
          "name": "stdout",
          "text": [
            "<class 'pandas.core.frame.DataFrame'>\n",
            "Index: 731 entries, 0 to 797\n",
            "Data columns (total 7 columns):\n",
            " #   Column               Non-Null Count  Dtype   \n",
            "---  ------               --------------  -----   \n",
            " 0   TB_Ibu               731 non-null    float64 \n",
            " 1   BB_Ibu               731 non-null    float64 \n",
            " 2   IMT                  731 non-null    float64 \n",
            " 3   Usia_ibu             731 non-null    float64 \n",
            " 4   Pendidikan_Ibu       731 non-null    category\n",
            " 5   Bumil_DapatFolat_Fe  731 non-null    category\n",
            " 6   Status_Stunting      731 non-null    category\n",
            "dtypes: category(3), float64(4)\n",
            "memory usage: 31.2 KB\n"
          ]
        }
      ]
    },
    {
      "cell_type": "code",
      "source": [
        "df_no_duplicates['Pendidikan_Ibu'].value_counts()"
      ],
      "metadata": {
        "colab": {
          "base_uri": "https://localhost:8080/"
        },
        "id": "YSezY3RdiemU",
        "outputId": "d1aa321d-4a68-4bdf-f8de-4088889486d7"
      },
      "execution_count": null,
      "outputs": [
        {
          "output_type": "execute_result",
          "data": {
            "text/plain": [
              "Pendidikan_Ibu\n",
              "1    299\n",
              "2    236\n",
              "3    153\n",
              "4     28\n",
              "0     15\n",
              "Name: count, dtype: int64"
            ]
          },
          "metadata": {},
          "execution_count": 32
        }
      ]
    },
    {
      "cell_type": "code",
      "source": [
        "def detection():\n",
        "    Name = input(\"Masukan Nama Anda: \")\n",
        "    TB_Ibu = float(input(\"Berapa Tinggi Badan Anda: \"))\n",
        "    BB_Ibu = float(input(\"Berapa Berat Badan Anda: \"))\n",
        "    Usia_ibu = float(input(\"Berapa Usia Anda saat ini: \"))\n",
        "    Usia_kehamilan = int(input(\"berapa usia kehamilan Anda saat ini berapa minggu:\"))\n",
        "    Pendidikan_Ibu = int(input(\"Pendidikan terakhir Anda (0: Tidak Sekolah, 1: SD, 2: SMP, 3: SMA, 4: Sarjana): \"))\n",
        "    Bumil_DapatFolat_Fe = int(input(\"Apakah mendapatkan Folat saat hamil (0: No, 1: Yes): \"))\n",
        "\n",
        "    print(\"Pilih tingkat aktivitas Anda:\")\n",
        "    print(\"1: Tidak aktif (sedikit atau tidak ada olahraga)\")\n",
        "    print(\"2: Sedikit aktif (olahraga ringan/olahraga 1-3 hari/minggu)\")\n",
        "    print(\"3: Cukup aktif (olahraga sedang/olahraga 3-5 hari/minggu)\")\n",
        "    print(\"4: Sangat aktif (olahraga keras 6-7 hari/minggu)\")\n",
        "    print(\"5: Sangat aktif ekstra (olahraga sangat keras & pekerjaan fisik)\")\n",
        "    activity_level_input = int(input(\"Masukkan pilihan tingkat aktivitas Anda (1-5): \"))\n",
        "\n",
        "    activity_multipliers = {\n",
        "        1: 1.2,\n",
        "        2: 1.375,\n",
        "        3: 1.55,\n",
        "        4: 1.725,\n",
        "        5: 1.9\n",
        "    }\n",
        "\n",
        "    activity_level = activity_multipliers.get(activity_level_input, 1.2)  # Default to 'sedentary' if invalid input\n",
        "\n",
        "    tinggi_meter = TB_Ibu / 100\n",
        "    IMT = BB_Ibu / (tinggi_meter ** 2)\n",
        "    # Klasifikasi IMT\n",
        "    if IMT < 18.5:\n",
        "        imt_status = \"Kekurangan berat badan (Underweight)\"\n",
        "        recommendation = \"Anda perlu meningkatkan asupan kalori dan protein Anda. Konsumsi makanan padat gizi seperti daging tanpa lemak, ikan, produk susu, kacang-kacangan, biji-bijian, buah, dan sayuran. Konsultasikan dengan ahli gizi untuk rencana diet yang lebih spesifik.\"\n",
        "    elif 18.5 <= IMT < 24.9:\n",
        "        imt_status = \"Berat badan normal (Normal weight)\"\n",
        "        recommendation = \"Anda memiliki berat badan yang sehat. Pertahankan pola makan seimbang dengan berbagai makanan dari semua kelompok makanan. Pastikan untuk mengonsumsi cukup protein, karbohidrat, lemak sehat, serta vitamin dan mineral.\"\n",
        "    elif 25 <= IMT < 29.9:\n",
        "        imt_status = \"Kelebihan berat badan (Overweight)\"\n",
        "        recommendation = \"Anda berada dalam kategori kelebihan berat badan. Pertimbangkan untuk mengurangi asupan kalori, terutama dari makanan berlemak tinggi dan manis. Tingkatkan aktivitas fisik dan fokus pada makanan kaya serat seperti buah, sayuran, dan biji-bijian utuh.\"\n",
        "    elif 30 <= IMT < 34.9:\n",
        "        imt_status = \"Obesitas Kelas I (Obesity Class I)\"\n",
        "        recommendation = \"Anda berada dalam kategori obesitas. Penting untuk mengurangi asupan kalori dan meningkatkan aktivitas fisik. Konsultasikan dengan penyedia layanan kesehatan untuk rencana penurunan berat badan yang aman dan efektif.\"\n",
        "    elif 35 <= IMT < 39.9:\n",
        "        imt_status = \"Obesitas Kelas II (Obesity Class II)\"\n",
        "        recommendation = \"Anda berada dalam kategori obesitas tingkat dua. Mengurangi berat badan akan bermanfaat bagi kesehatan Anda. Pertimbangkan program diet dan latihan yang diawasi oleh profesional kesehatan.\"\n",
        "    else:\n",
        "        imt_status = \"Obesitas Kelas III (Obesity Class III)\"\n",
        "        recommendation = \"Anda berada dalam kategori obesitas tingkat tiga. Ini adalah kondisi yang serius dan Anda disarankan untuk mencari bantuan medis untuk rencana penurunan berat badan yang komprehensif.\"\n",
        "\n",
        "    # Buat array numpy dengan data yang dimasukkan, tambahkan 6 fitur lagi\n",
        "    data = np.array([[TB_Ibu, BB_Ibu, IMT, Usia_ibu, Pendidikan_Ibu, Bumil_DapatFolat_Fe,\n",
        "                      TB_Ibu, BB_Ibu, IMT, Usia_ibu, Pendidikan_Ibu, Bumil_DapatFolat_Fe]])\n",
        "    numeric_features = ['TB_Ibu', 'BB_Ibu', 'IMT', 'Usia_ibu']\n",
        "    numeric_transformer = Pipeline(steps=[\n",
        "        ('imputer', SimpleImputer(strategy='median')),\n",
        "        ('scaler', StandardScaler())])\n",
        "\n",
        "    categorical_features = ['Pendidikan_Ibu', 'Bumil_DapatFolat_Fe']\n",
        "    categorical_transformer = Pipeline(steps=[\n",
        "        ('imputer', SimpleImputer(strategy='most_frequent')),\n",
        "        ('onehot', OneHotEncoder(handle_unknown='ignore'))])\n",
        "\n",
        "    preprocessor = ColumnTransformer(\n",
        "        transformers=[\n",
        "            ('num', numeric_transformer, numeric_features),\n",
        "            ('cat', categorical_transformer, categorical_features)])\n",
        "    deteksi = model.predict(data)\n",
        "    print(deteksi)\n",
        "    print(\"\\n\")\n",
        "    detection_result = deteksi[0]\n",
        "\n",
        "        # Determine stunting status\n",
        "    stunting_status = 'stunting' if detection_result > 0.5 else 'sehat'\n",
        "    if stunting_status == 'stunting':\n",
        "        print(\"Anak anda bisa saja terindikasi STUNTING, jagalah kesehatan tubuh dengan memenuhi asupan gizi selama kehamilan\")\n",
        "    else:\n",
        "        print(\"Anak anda terindikasi Normal\")\n",
        "\n",
        "    # Nutrition\n",
        "    tinggi_meter = TB_Ibu / 100  # Convert height to meters\n",
        "    IMT = BB_Ibu / (tinggi_meter ** 2)\n",
        "    BBI = (TB_Ibu - 100) - (TB_Ibu - 100) * 0.1\n",
        "    BBIH = BBI + (Usia_kehamilan * 0.35)\n",
        "    BEE= 655 + (9.6 * BB_Ibu) + (1.85 * TB_Ibu) - (4.68 * Usia_ibu)\n",
        "\n",
        "    # Menentukan kondisi kehamilan dan faktor koreksi\n",
        "    if Usia_kehamilan <= 13:\n",
        "        correction_factor = 5\n",
        "    elif Usia_kehamilan <= 23:\n",
        "        correction_factor = 10\n",
        "    else:\n",
        "        correction_factor = 15\n",
        "\n",
        "    # Total Daily Energy Expenditure (TDEE)\n",
        "    TDEE = BEE * activity_level * (1 + (correction_factor / 100.0))\n",
        "\n",
        "    # Print nutrition summary\n",
        "    print(f\"\\nRangkuman Gizi yang dibutuhkan {Name} :\")\n",
        "    print(f\"Indeks Massa Tubuh: {IMT:.2f} ({imt_status}).\")\n",
        "    print(recommendation)\n",
        "    print(f\"Berat Badan Ideal pada usia kehamilan : {BBIH:.2f} kg\")\n",
        "    print(f\"Jumlah energi yang dibutuhkan oleh tubuh: {BEE:.2f} kalori\")\n",
        "    print(f\"Jumlah total energi yang dibutuhkan oleh tubuh: {TDEE:.2f} kalori\")\n",
        "\n",
        "detection()"
      ],
      "metadata": {
        "colab": {
          "base_uri": "https://localhost:8080/"
        },
        "id": "eDejg6yMgpbl",
        "outputId": "18252324-0d2f-4485-e61a-362c4bc122a2"
      },
      "execution_count": null,
      "outputs": [
        {
          "output_type": "stream",
          "name": "stdout",
          "text": [
            "Masukan Nama Anda: arfi\n",
            "Berapa Tinggi Badan Anda: 120\n",
            "Berapa Berat Badan Anda: 30\n",
            "Berapa Usia Anda saat ini: 15\n",
            "berapa usia kehamilan Anda saat ini berapa minggu:7\n",
            "Pendidikan terakhir Anda (0: Tidak Sekolah, 1: SD, 2: SMP, 3: SMA, 4: Sarjana): 2\n",
            "Apakah mendapatkan Folat saat hamil (0: No, 1: Yes): 1\n",
            "Pilih tingkat aktivitas Anda:\n",
            "1: Tidak aktif (sedikit atau tidak ada olahraga)\n",
            "2: Sedikit aktif (olahraga ringan/olahraga 1-3 hari/minggu)\n",
            "3: Cukup aktif (olahraga sedang/olahraga 3-5 hari/minggu)\n",
            "4: Sangat aktif (olahraga keras 6-7 hari/minggu)\n",
            "5: Sangat aktif ekstra (olahraga sangat keras & pekerjaan fisik)\n",
            "Masukkan pilihan tingkat aktivitas Anda (1-5): 3\n",
            "1/1 [==============================] - 0s 31ms/step\n",
            "[[6.54833e-14]]\n",
            "\n",
            "\n",
            "Anak anda terindikasi Normal\n",
            "\n",
            "Rangkuman Gizi yang dibutuhkan arfi :\n",
            "Indeks Massa Tubuh: 20.83 (Berat badan normal (Normal weight)).\n",
            "Anda memiliki berat badan yang sehat. Pertahankan pola makan seimbang dengan berbagai makanan dari semua kelompok makanan. Pastikan untuk mengonsumsi cukup protein, karbohidrat, lemak sehat, serta vitamin dan mineral.\n",
            "Berat Badan Ideal pada usia kehamilan : 20.45 kg\n",
            "Jumlah energi yang dibutuhkan oleh tubuh: 1094.80 kalori\n",
            "Jumlah total energi yang dibutuhkan oleh tubuh: 1781.79 kalori\n"
          ]
        }
      ]
    },
    {
      "cell_type": "code",
      "source": [
        "# Saving model\n",
        "# Calling `save('my_model.h5')` creates a h5 file `my_model.h5`.\n",
        "model.save(\"model_ibuhamil_stunting.h5\")\n",
        "\n",
        "# It can be used to reconstruct the model identically.\n",
        "reconstructed_model = keras.models.load_model(\"model_ibuhamil_stunting.h5\")"
      ],
      "metadata": {
        "id": "1KPsIxG34u_Z"
      },
      "execution_count": null,
      "outputs": []
    },
    {
      "cell_type": "markdown",
      "source": [
        "#tflite"
      ],
      "metadata": {
        "id": "VnYrujkR4oOX"
      }
    },
    {
      "cell_type": "code",
      "source": [
        "print('\\u2022 Using TensorFlow Version:', tf.__version__)"
      ],
      "metadata": {
        "colab": {
          "base_uri": "https://localhost:8080/"
        },
        "id": "RhfdeN1B4jwm",
        "outputId": "68f68031-3364-43a4-8979-a2563b43a3a6"
      },
      "execution_count": null,
      "outputs": [
        {
          "output_type": "stream",
          "name": "stdout",
          "text": [
            "• Using TensorFlow Version: 2.15.0\n"
          ]
        }
      ]
    },
    {
      "cell_type": "code",
      "source": [
        "export_dir = 'saved_model/1'\n",
        "tf.saved_model.save(model, export_dir)"
      ],
      "metadata": {
        "id": "BhBquskw4r8R"
      },
      "execution_count": null,
      "outputs": []
    },
    {
      "cell_type": "code",
      "source": [
        "# Convert the model.\n",
        "converter = tf.lite.TFLiteConverter.from_saved_model(export_dir)\n",
        "tflite_model = converter.convert()"
      ],
      "metadata": {
        "id": "llsNvunL4zDM"
      },
      "execution_count": null,
      "outputs": []
    },
    {
      "cell_type": "code",
      "source": [
        "import pathlib\n",
        "tflite_model_file = pathlib.Path('model.tflite')\n",
        "tflite_model_file.write_bytes(tflite_model)"
      ],
      "metadata": {
        "colab": {
          "base_uri": "https://localhost:8080/"
        },
        "id": "O5U25EUO41GQ",
        "outputId": "c2d75874-2f67-4654-e013-04488b579bb1"
      },
      "execution_count": null,
      "outputs": [
        {
          "output_type": "execute_result",
          "data": {
            "text/plain": [
              "5236"
            ]
          },
          "metadata": {},
          "execution_count": 41
        }
      ]
    },
    {
      "cell_type": "code",
      "source": [
        "# Load TFLite model and allocate tensors.\n",
        "interpreter = tf.lite.Interpreter(model_content=tflite_model)\n",
        "interpreter.allocate_tensors()\n",
        "\n",
        "# Get input and output tensors.\n",
        "input_details = interpreter.get_input_details()\n",
        "output_details = interpreter.get_output_details()"
      ],
      "metadata": {
        "id": "OrK9bPL843QA"
      },
      "execution_count": null,
      "outputs": []
    },
    {
      "cell_type": "code",
      "source": [
        "# Test the TensorFlow Lite model on random input data.\n",
        "input_shape = input_details[0]['shape']\n",
        "inputs, outputs = [], []\n",
        "for _ in range(100):\n",
        "    input_data = np.array(np.random.random_sample(input_shape), dtype=np.float32)\n",
        "    interpreter.set_tensor(input_details[0]['index'], input_data)\n",
        "\n",
        "    interpreter.invoke()\n",
        "    tflite_results = interpreter.get_tensor(output_details[0]['index'])\n",
        "\n",
        "    # Test the TensorFlow model on random input data.\n",
        "    tf_results = model(tf.constant(input_data))\n",
        "    output_data = np.array(tf_results)\n",
        "\n",
        "    inputs.append(input_data[0][0])\n",
        "    outputs.append(output_data[0][0])"
      ],
      "metadata": {
        "id": "E5c-8dpr45jI"
      },
      "execution_count": null,
      "outputs": []
    },
    {
      "cell_type": "code",
      "source": [
        "try:\n",
        "    from google.colab import files\n",
        "    files.download(tflite_model_file)\n",
        "except:\n",
        "    pass"
      ],
      "metadata": {
        "colab": {
          "base_uri": "https://localhost:8080/",
          "height": 17
        },
        "id": "00H-rWXW474L",
        "outputId": "22f61bdb-0b78-4bc7-a6fe-9a3ea5f0a16e"
      },
      "execution_count": null,
      "outputs": [
        {
          "output_type": "display_data",
          "data": {
            "text/plain": [
              "<IPython.core.display.Javascript object>"
            ],
            "application/javascript": [
              "\n",
              "    async function download(id, filename, size) {\n",
              "      if (!google.colab.kernel.accessAllowed) {\n",
              "        return;\n",
              "      }\n",
              "      const div = document.createElement('div');\n",
              "      const label = document.createElement('label');\n",
              "      label.textContent = `Downloading \"${filename}\": `;\n",
              "      div.appendChild(label);\n",
              "      const progress = document.createElement('progress');\n",
              "      progress.max = size;\n",
              "      div.appendChild(progress);\n",
              "      document.body.appendChild(div);\n",
              "\n",
              "      const buffers = [];\n",
              "      let downloaded = 0;\n",
              "\n",
              "      const channel = await google.colab.kernel.comms.open(id);\n",
              "      // Send a message to notify the kernel that we're ready.\n",
              "      channel.send({})\n",
              "\n",
              "      for await (const message of channel.messages) {\n",
              "        // Send a message to notify the kernel that we're ready.\n",
              "        channel.send({})\n",
              "        if (message.buffers) {\n",
              "          for (const buffer of message.buffers) {\n",
              "            buffers.push(buffer);\n",
              "            downloaded += buffer.byteLength;\n",
              "            progress.value = downloaded;\n",
              "          }\n",
              "        }\n",
              "      }\n",
              "      const blob = new Blob(buffers, {type: 'application/binary'});\n",
              "      const a = document.createElement('a');\n",
              "      a.href = window.URL.createObjectURL(blob);\n",
              "      a.download = filename;\n",
              "      div.appendChild(a);\n",
              "      a.click();\n",
              "      div.remove();\n",
              "    }\n",
              "  "
            ]
          },
          "metadata": {}
        },
        {
          "output_type": "display_data",
          "data": {
            "text/plain": [
              "<IPython.core.display.Javascript object>"
            ],
            "application/javascript": [
              "download(\"download_2ff15adc-190e-4dea-9303-5697d74a77d4\", \"model.tflite\", 5236)"
            ]
          },
          "metadata": {}
        }
      ]
    }
  ]
}