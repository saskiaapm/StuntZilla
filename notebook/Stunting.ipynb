{
  "nbformat": 4,
  "nbformat_minor": 0,
  "metadata": {
    "colab": {
      "provenance": [],
      "collapsed_sections": [
        "QW-shNBGlGZh"
      ]
    },
    "kernelspec": {
      "name": "python3",
      "display_name": "Python 3"
    },
    "language_info": {
      "name": "python"
    }
  },
  "cells": [
    {
      "cell_type": "markdown",
      "source": [
        "# **STUNTING PREDICTION**"
      ],
      "metadata": {
        "id": "zcO3r4x8L6gS"
      }
    },
    {
      "cell_type": "markdown",
      "source": [
        "### **PROBLEM STATEMENT**"
      ],
      "metadata": {
        "id": "Sp7JmvQ7M4Jg"
      }
    },
    {
      "cell_type": "markdown",
      "source": [
        "Stunting, the condition of a child's height being significantly below the expected height for their age, remains a serious public health concern in Indonesia. The latest data shows a stunting prevalence of 21.6% in 2022. This has long-term consequences for children's health and well-being, including impaired physical and cognitive development and reduced productivity in the future."
      ],
      "metadata": {
        "id": "7kkWDaVcL-OL"
      }
    },
    {
      "cell_type": "markdown",
      "source": [
        "## **Import Library**"
      ],
      "metadata": {
        "id": "QW-shNBGlGZh"
      }
    },
    {
      "cell_type": "code",
      "execution_count": null,
      "metadata": {
        "id": "hfV57EN0jS53"
      },
      "outputs": [],
      "source": [
        "# Import Library\n",
        "import numpy as np\n",
        "import tensorflow as tf\n",
        "import pandas as pd\n",
        "import matplotlib.pyplot as plt\n",
        "from tensorflow import keras\n",
        "from sklearn.model_selection import train_test_split\n",
        "from sklearn.metrics import confusion_matrix\n",
        "from sklearn.metrics import precision_score, recall_score, f1_score\n",
        "from sklearn.metrics import classification_report\n",
        "from sklearn.preprocessing import MinMaxScaler\n",
        "import seaborn as sns\n",
        "import joblib"
      ]
    },
    {
      "cell_type": "markdown",
      "source": [
        "# **Data Preprocessing**"
      ],
      "metadata": {
        "id": "zbvAQkT_lVl6"
      }
    },
    {
      "cell_type": "code",
      "source": [
        "# Read csv\n",
        "df = pd.read_csv('https://raw.githubusercontent.com/saskiaapm/StuntZilla/main/Dataset/Stunting_Dataset.csv')\n",
        "\n",
        "# Display the first few rows of the DataFrame\n",
        "print(df.head())"
      ],
      "metadata": {
        "colab": {
          "base_uri": "https://localhost:8080/"
        },
        "id": "7ym0P1g3jZ5z",
        "outputId": "baff2f8b-1999-40fe-c6f2-16681a578f97"
      },
      "execution_count": null,
      "outputs": [
        {
          "output_type": "stream",
          "name": "stdout",
          "text": [
            "   Gender  Age  Birth Weight  Birth Length  Body Weight  Body Length  \\\n",
            "0    Male   17           3.0            49         10.0         72.2   \n",
            "1  Female   11           2.9            49          2.9         65.0   \n",
            "2    Male   16           2.9            49          8.5         72.2   \n",
            "3    Male   31           2.8            49          6.4         63.0   \n",
            "4    Male   15           3.1            49         10.5         49.0   \n",
            "\n",
            "  Breastfeeding Stunting  \n",
            "0            No       No  \n",
            "1            No      Yes  \n",
            "2            No      Yes  \n",
            "3            No      Yes  \n",
            "4            No      Yes  \n"
          ]
        }
      ]
    },
    {
      "cell_type": "code",
      "source": [
        "# Select the required columns\n",
        "df_baru=df[['Gender', 'Age', 'Birth Weight', 'Birth Length', 'Body Weight', 'Body Length', 'Breastfeeding', 'Stunting']]"
      ],
      "metadata": {
        "id": "loa7hsDl9etU"
      },
      "execution_count": null,
      "outputs": []
    },
    {
      "cell_type": "code",
      "source": [
        "# Displays Sample Data\n",
        "df_baru.head()"
      ],
      "metadata": {
        "colab": {
          "base_uri": "https://localhost:8080/",
          "height": 206
        },
        "id": "wa6V4WvX8yn8",
        "outputId": "e78adf7c-b014-4c6b-ab9f-3bd717cdd320"
      },
      "execution_count": null,
      "outputs": [
        {
          "output_type": "execute_result",
          "data": {
            "text/plain": [
              "   Gender  Age  Birth Weight  Birth Length  Body Weight  Body Length  \\\n",
              "0    Male   17           3.0            49         10.0         72.2   \n",
              "1  Female   11           2.9            49          2.9         65.0   \n",
              "2    Male   16           2.9            49          8.5         72.2   \n",
              "3    Male   31           2.8            49          6.4         63.0   \n",
              "4    Male   15           3.1            49         10.5         49.0   \n",
              "\n",
              "  Breastfeeding Stunting  \n",
              "0            No       No  \n",
              "1            No      Yes  \n",
              "2            No      Yes  \n",
              "3            No      Yes  \n",
              "4            No      Yes  "
            ],
            "text/html": [
              "\n",
              "  <div id=\"df-48ed10dc-f2ce-45f6-a9ac-abb288b0a804\" class=\"colab-df-container\">\n",
              "    <div>\n",
              "<style scoped>\n",
              "    .dataframe tbody tr th:only-of-type {\n",
              "        vertical-align: middle;\n",
              "    }\n",
              "\n",
              "    .dataframe tbody tr th {\n",
              "        vertical-align: top;\n",
              "    }\n",
              "\n",
              "    .dataframe thead th {\n",
              "        text-align: right;\n",
              "    }\n",
              "</style>\n",
              "<table border=\"1\" class=\"dataframe\">\n",
              "  <thead>\n",
              "    <tr style=\"text-align: right;\">\n",
              "      <th></th>\n",
              "      <th>Gender</th>\n",
              "      <th>Age</th>\n",
              "      <th>Birth Weight</th>\n",
              "      <th>Birth Length</th>\n",
              "      <th>Body Weight</th>\n",
              "      <th>Body Length</th>\n",
              "      <th>Breastfeeding</th>\n",
              "      <th>Stunting</th>\n",
              "    </tr>\n",
              "  </thead>\n",
              "  <tbody>\n",
              "    <tr>\n",
              "      <th>0</th>\n",
              "      <td>Male</td>\n",
              "      <td>17</td>\n",
              "      <td>3.0</td>\n",
              "      <td>49</td>\n",
              "      <td>10.0</td>\n",
              "      <td>72.2</td>\n",
              "      <td>No</td>\n",
              "      <td>No</td>\n",
              "    </tr>\n",
              "    <tr>\n",
              "      <th>1</th>\n",
              "      <td>Female</td>\n",
              "      <td>11</td>\n",
              "      <td>2.9</td>\n",
              "      <td>49</td>\n",
              "      <td>2.9</td>\n",
              "      <td>65.0</td>\n",
              "      <td>No</td>\n",
              "      <td>Yes</td>\n",
              "    </tr>\n",
              "    <tr>\n",
              "      <th>2</th>\n",
              "      <td>Male</td>\n",
              "      <td>16</td>\n",
              "      <td>2.9</td>\n",
              "      <td>49</td>\n",
              "      <td>8.5</td>\n",
              "      <td>72.2</td>\n",
              "      <td>No</td>\n",
              "      <td>Yes</td>\n",
              "    </tr>\n",
              "    <tr>\n",
              "      <th>3</th>\n",
              "      <td>Male</td>\n",
              "      <td>31</td>\n",
              "      <td>2.8</td>\n",
              "      <td>49</td>\n",
              "      <td>6.4</td>\n",
              "      <td>63.0</td>\n",
              "      <td>No</td>\n",
              "      <td>Yes</td>\n",
              "    </tr>\n",
              "    <tr>\n",
              "      <th>4</th>\n",
              "      <td>Male</td>\n",
              "      <td>15</td>\n",
              "      <td>3.1</td>\n",
              "      <td>49</td>\n",
              "      <td>10.5</td>\n",
              "      <td>49.0</td>\n",
              "      <td>No</td>\n",
              "      <td>Yes</td>\n",
              "    </tr>\n",
              "  </tbody>\n",
              "</table>\n",
              "</div>\n",
              "    <div class=\"colab-df-buttons\">\n",
              "\n",
              "  <div class=\"colab-df-container\">\n",
              "    <button class=\"colab-df-convert\" onclick=\"convertToInteractive('df-48ed10dc-f2ce-45f6-a9ac-abb288b0a804')\"\n",
              "            title=\"Convert this dataframe to an interactive table.\"\n",
              "            style=\"display:none;\">\n",
              "\n",
              "  <svg xmlns=\"http://www.w3.org/2000/svg\" height=\"24px\" viewBox=\"0 -960 960 960\">\n",
              "    <path d=\"M120-120v-720h720v720H120Zm60-500h600v-160H180v160Zm220 220h160v-160H400v160Zm0 220h160v-160H400v160ZM180-400h160v-160H180v160Zm440 0h160v-160H620v160ZM180-180h160v-160H180v160Zm440 0h160v-160H620v160Z\"/>\n",
              "  </svg>\n",
              "    </button>\n",
              "\n",
              "  <style>\n",
              "    .colab-df-container {\n",
              "      display:flex;\n",
              "      gap: 12px;\n",
              "    }\n",
              "\n",
              "    .colab-df-convert {\n",
              "      background-color: #E8F0FE;\n",
              "      border: none;\n",
              "      border-radius: 50%;\n",
              "      cursor: pointer;\n",
              "      display: none;\n",
              "      fill: #1967D2;\n",
              "      height: 32px;\n",
              "      padding: 0 0 0 0;\n",
              "      width: 32px;\n",
              "    }\n",
              "\n",
              "    .colab-df-convert:hover {\n",
              "      background-color: #E2EBFA;\n",
              "      box-shadow: 0px 1px 2px rgba(60, 64, 67, 0.3), 0px 1px 3px 1px rgba(60, 64, 67, 0.15);\n",
              "      fill: #174EA6;\n",
              "    }\n",
              "\n",
              "    .colab-df-buttons div {\n",
              "      margin-bottom: 4px;\n",
              "    }\n",
              "\n",
              "    [theme=dark] .colab-df-convert {\n",
              "      background-color: #3B4455;\n",
              "      fill: #D2E3FC;\n",
              "    }\n",
              "\n",
              "    [theme=dark] .colab-df-convert:hover {\n",
              "      background-color: #434B5C;\n",
              "      box-shadow: 0px 1px 3px 1px rgba(0, 0, 0, 0.15);\n",
              "      filter: drop-shadow(0px 1px 2px rgba(0, 0, 0, 0.3));\n",
              "      fill: #FFFFFF;\n",
              "    }\n",
              "  </style>\n",
              "\n",
              "    <script>\n",
              "      const buttonEl =\n",
              "        document.querySelector('#df-48ed10dc-f2ce-45f6-a9ac-abb288b0a804 button.colab-df-convert');\n",
              "      buttonEl.style.display =\n",
              "        google.colab.kernel.accessAllowed ? 'block' : 'none';\n",
              "\n",
              "      async function convertToInteractive(key) {\n",
              "        const element = document.querySelector('#df-48ed10dc-f2ce-45f6-a9ac-abb288b0a804');\n",
              "        const dataTable =\n",
              "          await google.colab.kernel.invokeFunction('convertToInteractive',\n",
              "                                                    [key], {});\n",
              "        if (!dataTable) return;\n",
              "\n",
              "        const docLinkHtml = 'Like what you see? Visit the ' +\n",
              "          '<a target=\"_blank\" href=https://colab.research.google.com/notebooks/data_table.ipynb>data table notebook</a>'\n",
              "          + ' to learn more about interactive tables.';\n",
              "        element.innerHTML = '';\n",
              "        dataTable['output_type'] = 'display_data';\n",
              "        await google.colab.output.renderOutput(dataTable, element);\n",
              "        const docLink = document.createElement('div');\n",
              "        docLink.innerHTML = docLinkHtml;\n",
              "        element.appendChild(docLink);\n",
              "      }\n",
              "    </script>\n",
              "  </div>\n",
              "\n",
              "\n",
              "<div id=\"df-bb091711-1e7a-4f78-b7be-bc70cd42bb2a\">\n",
              "  <button class=\"colab-df-quickchart\" onclick=\"quickchart('df-bb091711-1e7a-4f78-b7be-bc70cd42bb2a')\"\n",
              "            title=\"Suggest charts\"\n",
              "            style=\"display:none;\">\n",
              "\n",
              "<svg xmlns=\"http://www.w3.org/2000/svg\" height=\"24px\"viewBox=\"0 0 24 24\"\n",
              "     width=\"24px\">\n",
              "    <g>\n",
              "        <path d=\"M19 3H5c-1.1 0-2 .9-2 2v14c0 1.1.9 2 2 2h14c1.1 0 2-.9 2-2V5c0-1.1-.9-2-2-2zM9 17H7v-7h2v7zm4 0h-2V7h2v10zm4 0h-2v-4h2v4z\"/>\n",
              "    </g>\n",
              "</svg>\n",
              "  </button>\n",
              "\n",
              "<style>\n",
              "  .colab-df-quickchart {\n",
              "      --bg-color: #E8F0FE;\n",
              "      --fill-color: #1967D2;\n",
              "      --hover-bg-color: #E2EBFA;\n",
              "      --hover-fill-color: #174EA6;\n",
              "      --disabled-fill-color: #AAA;\n",
              "      --disabled-bg-color: #DDD;\n",
              "  }\n",
              "\n",
              "  [theme=dark] .colab-df-quickchart {\n",
              "      --bg-color: #3B4455;\n",
              "      --fill-color: #D2E3FC;\n",
              "      --hover-bg-color: #434B5C;\n",
              "      --hover-fill-color: #FFFFFF;\n",
              "      --disabled-bg-color: #3B4455;\n",
              "      --disabled-fill-color: #666;\n",
              "  }\n",
              "\n",
              "  .colab-df-quickchart {\n",
              "    background-color: var(--bg-color);\n",
              "    border: none;\n",
              "    border-radius: 50%;\n",
              "    cursor: pointer;\n",
              "    display: none;\n",
              "    fill: var(--fill-color);\n",
              "    height: 32px;\n",
              "    padding: 0;\n",
              "    width: 32px;\n",
              "  }\n",
              "\n",
              "  .colab-df-quickchart:hover {\n",
              "    background-color: var(--hover-bg-color);\n",
              "    box-shadow: 0 1px 2px rgba(60, 64, 67, 0.3), 0 1px 3px 1px rgba(60, 64, 67, 0.15);\n",
              "    fill: var(--button-hover-fill-color);\n",
              "  }\n",
              "\n",
              "  .colab-df-quickchart-complete:disabled,\n",
              "  .colab-df-quickchart-complete:disabled:hover {\n",
              "    background-color: var(--disabled-bg-color);\n",
              "    fill: var(--disabled-fill-color);\n",
              "    box-shadow: none;\n",
              "  }\n",
              "\n",
              "  .colab-df-spinner {\n",
              "    border: 2px solid var(--fill-color);\n",
              "    border-color: transparent;\n",
              "    border-bottom-color: var(--fill-color);\n",
              "    animation:\n",
              "      spin 1s steps(1) infinite;\n",
              "  }\n",
              "\n",
              "  @keyframes spin {\n",
              "    0% {\n",
              "      border-color: transparent;\n",
              "      border-bottom-color: var(--fill-color);\n",
              "      border-left-color: var(--fill-color);\n",
              "    }\n",
              "    20% {\n",
              "      border-color: transparent;\n",
              "      border-left-color: var(--fill-color);\n",
              "      border-top-color: var(--fill-color);\n",
              "    }\n",
              "    30% {\n",
              "      border-color: transparent;\n",
              "      border-left-color: var(--fill-color);\n",
              "      border-top-color: var(--fill-color);\n",
              "      border-right-color: var(--fill-color);\n",
              "    }\n",
              "    40% {\n",
              "      border-color: transparent;\n",
              "      border-right-color: var(--fill-color);\n",
              "      border-top-color: var(--fill-color);\n",
              "    }\n",
              "    60% {\n",
              "      border-color: transparent;\n",
              "      border-right-color: var(--fill-color);\n",
              "    }\n",
              "    80% {\n",
              "      border-color: transparent;\n",
              "      border-right-color: var(--fill-color);\n",
              "      border-bottom-color: var(--fill-color);\n",
              "    }\n",
              "    90% {\n",
              "      border-color: transparent;\n",
              "      border-bottom-color: var(--fill-color);\n",
              "    }\n",
              "  }\n",
              "</style>\n",
              "\n",
              "  <script>\n",
              "    async function quickchart(key) {\n",
              "      const quickchartButtonEl =\n",
              "        document.querySelector('#' + key + ' button');\n",
              "      quickchartButtonEl.disabled = true;  // To prevent multiple clicks.\n",
              "      quickchartButtonEl.classList.add('colab-df-spinner');\n",
              "      try {\n",
              "        const charts = await google.colab.kernel.invokeFunction(\n",
              "            'suggestCharts', [key], {});\n",
              "      } catch (error) {\n",
              "        console.error('Error during call to suggestCharts:', error);\n",
              "      }\n",
              "      quickchartButtonEl.classList.remove('colab-df-spinner');\n",
              "      quickchartButtonEl.classList.add('colab-df-quickchart-complete');\n",
              "    }\n",
              "    (() => {\n",
              "      let quickchartButtonEl =\n",
              "        document.querySelector('#df-bb091711-1e7a-4f78-b7be-bc70cd42bb2a button');\n",
              "      quickchartButtonEl.style.display =\n",
              "        google.colab.kernel.accessAllowed ? 'block' : 'none';\n",
              "    })();\n",
              "  </script>\n",
              "</div>\n",
              "    </div>\n",
              "  </div>\n"
            ],
            "application/vnd.google.colaboratory.intrinsic+json": {
              "type": "dataframe",
              "variable_name": "df_baru",
              "summary": "{\n  \"name\": \"df_baru\",\n  \"rows\": 10000,\n  \"fields\": [\n    {\n      \"column\": \"Gender\",\n      \"properties\": {\n        \"dtype\": \"category\",\n        \"num_unique_values\": 2,\n        \"samples\": [\n          \"Female\",\n          \"Male\"\n        ],\n        \"semantic_type\": \"\",\n        \"description\": \"\"\n      }\n    },\n    {\n      \"column\": \"Age\",\n      \"properties\": {\n        \"dtype\": \"number\",\n        \"std\": 7,\n        \"min\": 6,\n        \"max\": 48,\n        \"num_unique_values\": 43,\n        \"samples\": [\n          43,\n          37\n        ],\n        \"semantic_type\": \"\",\n        \"description\": \"\"\n      }\n    },\n    {\n      \"column\": \"Birth Weight\",\n      \"properties\": {\n        \"dtype\": \"number\",\n        \"std\": 0.29109227655736103,\n        \"min\": 2.0,\n        \"max\": 3.1,\n        \"num_unique_values\": 7,\n        \"samples\": [\n          3.0,\n          2.9\n        ],\n        \"semantic_type\": \"\",\n        \"description\": \"\"\n      }\n    },\n    {\n      \"column\": \"Birth Length\",\n      \"properties\": {\n        \"dtype\": \"number\",\n        \"std\": 0,\n        \"min\": 48,\n        \"max\": 50,\n        \"num_unique_values\": 3,\n        \"samples\": [\n          49,\n          50\n        ],\n        \"semantic_type\": \"\",\n        \"description\": \"\"\n      }\n    },\n    {\n      \"column\": \"Body Weight\",\n      \"properties\": {\n        \"dtype\": \"number\",\n        \"std\": 1.7204608796667962,\n        \"min\": 2.9,\n        \"max\": 10.5,\n        \"num_unique_values\": 13,\n        \"samples\": [\n          9.0,\n          7.7\n        ],\n        \"semantic_type\": \"\",\n        \"description\": \"\"\n      }\n    },\n    {\n      \"column\": \"Body Length\",\n      \"properties\": {\n        \"dtype\": \"number\",\n        \"std\": 8.906639580473753,\n        \"min\": 49.0,\n        \"max\": 92.7,\n        \"num_unique_values\": 11,\n        \"samples\": [\n          68.3,\n          72.2\n        ],\n        \"semantic_type\": \"\",\n        \"description\": \"\"\n      }\n    },\n    {\n      \"column\": \"Breastfeeding\",\n      \"properties\": {\n        \"dtype\": \"category\",\n        \"num_unique_values\": 1,\n        \"samples\": [\n          \"No\"\n        ],\n        \"semantic_type\": \"\",\n        \"description\": \"\"\n      }\n    },\n    {\n      \"column\": \"Stunting\",\n      \"properties\": {\n        \"dtype\": \"category\",\n        \"num_unique_values\": 2,\n        \"samples\": [\n          \"Yes\"\n        ],\n        \"semantic_type\": \"\",\n        \"description\": \"\"\n      }\n    }\n  ]\n}"
            }
          },
          "metadata": {},
          "execution_count": 4
        }
      ]
    },
    {
      "cell_type": "code",
      "source": [
        "# Displays DataFrame descriptive statistics\n",
        "df_baru.describe()"
      ],
      "metadata": {
        "colab": {
          "base_uri": "https://localhost:8080/",
          "height": 300
        },
        "id": "IRHUi7D68uRB",
        "outputId": "e0d15517-1b2e-46c2-a500-6880a8a3f8a9"
      },
      "execution_count": null,
      "outputs": [
        {
          "output_type": "execute_result",
          "data": {
            "text/plain": [
              "                Age  Birth Weight  Birth Length   Body Weight  Body Length\n",
              "count  10000.000000  10000.000000  10000.000000  10000.000000  10000.00000\n",
              "mean      14.255000      2.757600     49.117400      7.631990     68.85492\n",
              "std        7.923285      0.291092      0.439814      1.720461      8.90664\n",
              "min        6.000000      2.000000     48.000000      2.900000     49.00000\n",
              "25%       10.000000      2.800000     49.000000      6.400000     65.00000\n",
              "50%       13.000000      2.800000     49.000000      7.700000     68.30000\n",
              "75%       15.000000      2.900000     49.000000      9.000000     72.20000\n",
              "max       48.000000      3.100000     50.000000     10.500000     92.70000"
            ],
            "text/html": [
              "\n",
              "  <div id=\"df-14ad4688-dcc3-4288-8b20-5dbe3829d67a\" class=\"colab-df-container\">\n",
              "    <div>\n",
              "<style scoped>\n",
              "    .dataframe tbody tr th:only-of-type {\n",
              "        vertical-align: middle;\n",
              "    }\n",
              "\n",
              "    .dataframe tbody tr th {\n",
              "        vertical-align: top;\n",
              "    }\n",
              "\n",
              "    .dataframe thead th {\n",
              "        text-align: right;\n",
              "    }\n",
              "</style>\n",
              "<table border=\"1\" class=\"dataframe\">\n",
              "  <thead>\n",
              "    <tr style=\"text-align: right;\">\n",
              "      <th></th>\n",
              "      <th>Age</th>\n",
              "      <th>Birth Weight</th>\n",
              "      <th>Birth Length</th>\n",
              "      <th>Body Weight</th>\n",
              "      <th>Body Length</th>\n",
              "    </tr>\n",
              "  </thead>\n",
              "  <tbody>\n",
              "    <tr>\n",
              "      <th>count</th>\n",
              "      <td>10000.000000</td>\n",
              "      <td>10000.000000</td>\n",
              "      <td>10000.000000</td>\n",
              "      <td>10000.000000</td>\n",
              "      <td>10000.00000</td>\n",
              "    </tr>\n",
              "    <tr>\n",
              "      <th>mean</th>\n",
              "      <td>14.255000</td>\n",
              "      <td>2.757600</td>\n",
              "      <td>49.117400</td>\n",
              "      <td>7.631990</td>\n",
              "      <td>68.85492</td>\n",
              "    </tr>\n",
              "    <tr>\n",
              "      <th>std</th>\n",
              "      <td>7.923285</td>\n",
              "      <td>0.291092</td>\n",
              "      <td>0.439814</td>\n",
              "      <td>1.720461</td>\n",
              "      <td>8.90664</td>\n",
              "    </tr>\n",
              "    <tr>\n",
              "      <th>min</th>\n",
              "      <td>6.000000</td>\n",
              "      <td>2.000000</td>\n",
              "      <td>48.000000</td>\n",
              "      <td>2.900000</td>\n",
              "      <td>49.00000</td>\n",
              "    </tr>\n",
              "    <tr>\n",
              "      <th>25%</th>\n",
              "      <td>10.000000</td>\n",
              "      <td>2.800000</td>\n",
              "      <td>49.000000</td>\n",
              "      <td>6.400000</td>\n",
              "      <td>65.00000</td>\n",
              "    </tr>\n",
              "    <tr>\n",
              "      <th>50%</th>\n",
              "      <td>13.000000</td>\n",
              "      <td>2.800000</td>\n",
              "      <td>49.000000</td>\n",
              "      <td>7.700000</td>\n",
              "      <td>68.30000</td>\n",
              "    </tr>\n",
              "    <tr>\n",
              "      <th>75%</th>\n",
              "      <td>15.000000</td>\n",
              "      <td>2.900000</td>\n",
              "      <td>49.000000</td>\n",
              "      <td>9.000000</td>\n",
              "      <td>72.20000</td>\n",
              "    </tr>\n",
              "    <tr>\n",
              "      <th>max</th>\n",
              "      <td>48.000000</td>\n",
              "      <td>3.100000</td>\n",
              "      <td>50.000000</td>\n",
              "      <td>10.500000</td>\n",
              "      <td>92.70000</td>\n",
              "    </tr>\n",
              "  </tbody>\n",
              "</table>\n",
              "</div>\n",
              "    <div class=\"colab-df-buttons\">\n",
              "\n",
              "  <div class=\"colab-df-container\">\n",
              "    <button class=\"colab-df-convert\" onclick=\"convertToInteractive('df-14ad4688-dcc3-4288-8b20-5dbe3829d67a')\"\n",
              "            title=\"Convert this dataframe to an interactive table.\"\n",
              "            style=\"display:none;\">\n",
              "\n",
              "  <svg xmlns=\"http://www.w3.org/2000/svg\" height=\"24px\" viewBox=\"0 -960 960 960\">\n",
              "    <path d=\"M120-120v-720h720v720H120Zm60-500h600v-160H180v160Zm220 220h160v-160H400v160Zm0 220h160v-160H400v160ZM180-400h160v-160H180v160Zm440 0h160v-160H620v160ZM180-180h160v-160H180v160Zm440 0h160v-160H620v160Z\"/>\n",
              "  </svg>\n",
              "    </button>\n",
              "\n",
              "  <style>\n",
              "    .colab-df-container {\n",
              "      display:flex;\n",
              "      gap: 12px;\n",
              "    }\n",
              "\n",
              "    .colab-df-convert {\n",
              "      background-color: #E8F0FE;\n",
              "      border: none;\n",
              "      border-radius: 50%;\n",
              "      cursor: pointer;\n",
              "      display: none;\n",
              "      fill: #1967D2;\n",
              "      height: 32px;\n",
              "      padding: 0 0 0 0;\n",
              "      width: 32px;\n",
              "    }\n",
              "\n",
              "    .colab-df-convert:hover {\n",
              "      background-color: #E2EBFA;\n",
              "      box-shadow: 0px 1px 2px rgba(60, 64, 67, 0.3), 0px 1px 3px 1px rgba(60, 64, 67, 0.15);\n",
              "      fill: #174EA6;\n",
              "    }\n",
              "\n",
              "    .colab-df-buttons div {\n",
              "      margin-bottom: 4px;\n",
              "    }\n",
              "\n",
              "    [theme=dark] .colab-df-convert {\n",
              "      background-color: #3B4455;\n",
              "      fill: #D2E3FC;\n",
              "    }\n",
              "\n",
              "    [theme=dark] .colab-df-convert:hover {\n",
              "      background-color: #434B5C;\n",
              "      box-shadow: 0px 1px 3px 1px rgba(0, 0, 0, 0.15);\n",
              "      filter: drop-shadow(0px 1px 2px rgba(0, 0, 0, 0.3));\n",
              "      fill: #FFFFFF;\n",
              "    }\n",
              "  </style>\n",
              "\n",
              "    <script>\n",
              "      const buttonEl =\n",
              "        document.querySelector('#df-14ad4688-dcc3-4288-8b20-5dbe3829d67a button.colab-df-convert');\n",
              "      buttonEl.style.display =\n",
              "        google.colab.kernel.accessAllowed ? 'block' : 'none';\n",
              "\n",
              "      async function convertToInteractive(key) {\n",
              "        const element = document.querySelector('#df-14ad4688-dcc3-4288-8b20-5dbe3829d67a');\n",
              "        const dataTable =\n",
              "          await google.colab.kernel.invokeFunction('convertToInteractive',\n",
              "                                                    [key], {});\n",
              "        if (!dataTable) return;\n",
              "\n",
              "        const docLinkHtml = 'Like what you see? Visit the ' +\n",
              "          '<a target=\"_blank\" href=https://colab.research.google.com/notebooks/data_table.ipynb>data table notebook</a>'\n",
              "          + ' to learn more about interactive tables.';\n",
              "        element.innerHTML = '';\n",
              "        dataTable['output_type'] = 'display_data';\n",
              "        await google.colab.output.renderOutput(dataTable, element);\n",
              "        const docLink = document.createElement('div');\n",
              "        docLink.innerHTML = docLinkHtml;\n",
              "        element.appendChild(docLink);\n",
              "      }\n",
              "    </script>\n",
              "  </div>\n",
              "\n",
              "\n",
              "<div id=\"df-7721f50d-86ea-4f81-a9d4-ea83149e972b\">\n",
              "  <button class=\"colab-df-quickchart\" onclick=\"quickchart('df-7721f50d-86ea-4f81-a9d4-ea83149e972b')\"\n",
              "            title=\"Suggest charts\"\n",
              "            style=\"display:none;\">\n",
              "\n",
              "<svg xmlns=\"http://www.w3.org/2000/svg\" height=\"24px\"viewBox=\"0 0 24 24\"\n",
              "     width=\"24px\">\n",
              "    <g>\n",
              "        <path d=\"M19 3H5c-1.1 0-2 .9-2 2v14c0 1.1.9 2 2 2h14c1.1 0 2-.9 2-2V5c0-1.1-.9-2-2-2zM9 17H7v-7h2v7zm4 0h-2V7h2v10zm4 0h-2v-4h2v4z\"/>\n",
              "    </g>\n",
              "</svg>\n",
              "  </button>\n",
              "\n",
              "<style>\n",
              "  .colab-df-quickchart {\n",
              "      --bg-color: #E8F0FE;\n",
              "      --fill-color: #1967D2;\n",
              "      --hover-bg-color: #E2EBFA;\n",
              "      --hover-fill-color: #174EA6;\n",
              "      --disabled-fill-color: #AAA;\n",
              "      --disabled-bg-color: #DDD;\n",
              "  }\n",
              "\n",
              "  [theme=dark] .colab-df-quickchart {\n",
              "      --bg-color: #3B4455;\n",
              "      --fill-color: #D2E3FC;\n",
              "      --hover-bg-color: #434B5C;\n",
              "      --hover-fill-color: #FFFFFF;\n",
              "      --disabled-bg-color: #3B4455;\n",
              "      --disabled-fill-color: #666;\n",
              "  }\n",
              "\n",
              "  .colab-df-quickchart {\n",
              "    background-color: var(--bg-color);\n",
              "    border: none;\n",
              "    border-radius: 50%;\n",
              "    cursor: pointer;\n",
              "    display: none;\n",
              "    fill: var(--fill-color);\n",
              "    height: 32px;\n",
              "    padding: 0;\n",
              "    width: 32px;\n",
              "  }\n",
              "\n",
              "  .colab-df-quickchart:hover {\n",
              "    background-color: var(--hover-bg-color);\n",
              "    box-shadow: 0 1px 2px rgba(60, 64, 67, 0.3), 0 1px 3px 1px rgba(60, 64, 67, 0.15);\n",
              "    fill: var(--button-hover-fill-color);\n",
              "  }\n",
              "\n",
              "  .colab-df-quickchart-complete:disabled,\n",
              "  .colab-df-quickchart-complete:disabled:hover {\n",
              "    background-color: var(--disabled-bg-color);\n",
              "    fill: var(--disabled-fill-color);\n",
              "    box-shadow: none;\n",
              "  }\n",
              "\n",
              "  .colab-df-spinner {\n",
              "    border: 2px solid var(--fill-color);\n",
              "    border-color: transparent;\n",
              "    border-bottom-color: var(--fill-color);\n",
              "    animation:\n",
              "      spin 1s steps(1) infinite;\n",
              "  }\n",
              "\n",
              "  @keyframes spin {\n",
              "    0% {\n",
              "      border-color: transparent;\n",
              "      border-bottom-color: var(--fill-color);\n",
              "      border-left-color: var(--fill-color);\n",
              "    }\n",
              "    20% {\n",
              "      border-color: transparent;\n",
              "      border-left-color: var(--fill-color);\n",
              "      border-top-color: var(--fill-color);\n",
              "    }\n",
              "    30% {\n",
              "      border-color: transparent;\n",
              "      border-left-color: var(--fill-color);\n",
              "      border-top-color: var(--fill-color);\n",
              "      border-right-color: var(--fill-color);\n",
              "    }\n",
              "    40% {\n",
              "      border-color: transparent;\n",
              "      border-right-color: var(--fill-color);\n",
              "      border-top-color: var(--fill-color);\n",
              "    }\n",
              "    60% {\n",
              "      border-color: transparent;\n",
              "      border-right-color: var(--fill-color);\n",
              "    }\n",
              "    80% {\n",
              "      border-color: transparent;\n",
              "      border-right-color: var(--fill-color);\n",
              "      border-bottom-color: var(--fill-color);\n",
              "    }\n",
              "    90% {\n",
              "      border-color: transparent;\n",
              "      border-bottom-color: var(--fill-color);\n",
              "    }\n",
              "  }\n",
              "</style>\n",
              "\n",
              "  <script>\n",
              "    async function quickchart(key) {\n",
              "      const quickchartButtonEl =\n",
              "        document.querySelector('#' + key + ' button');\n",
              "      quickchartButtonEl.disabled = true;  // To prevent multiple clicks.\n",
              "      quickchartButtonEl.classList.add('colab-df-spinner');\n",
              "      try {\n",
              "        const charts = await google.colab.kernel.invokeFunction(\n",
              "            'suggestCharts', [key], {});\n",
              "      } catch (error) {\n",
              "        console.error('Error during call to suggestCharts:', error);\n",
              "      }\n",
              "      quickchartButtonEl.classList.remove('colab-df-spinner');\n",
              "      quickchartButtonEl.classList.add('colab-df-quickchart-complete');\n",
              "    }\n",
              "    (() => {\n",
              "      let quickchartButtonEl =\n",
              "        document.querySelector('#df-7721f50d-86ea-4f81-a9d4-ea83149e972b button');\n",
              "      quickchartButtonEl.style.display =\n",
              "        google.colab.kernel.accessAllowed ? 'block' : 'none';\n",
              "    })();\n",
              "  </script>\n",
              "</div>\n",
              "    </div>\n",
              "  </div>\n"
            ],
            "application/vnd.google.colaboratory.intrinsic+json": {
              "type": "dataframe",
              "summary": "{\n  \"name\": \"df_baru\",\n  \"rows\": 8,\n  \"fields\": [\n    {\n      \"column\": \"Age\",\n      \"properties\": {\n        \"dtype\": \"number\",\n        \"std\": 3529.7920757190063,\n        \"min\": 6.0,\n        \"max\": 10000.0,\n        \"num_unique_values\": 8,\n        \"samples\": [\n          14.255,\n          13.0,\n          10000.0\n        ],\n        \"semantic_type\": \"\",\n        \"description\": \"\"\n      }\n    },\n    {\n      \"column\": \"Birth Weight\",\n      \"properties\": {\n        \"dtype\": \"number\",\n        \"std\": 3534.693137035312,\n        \"min\": 0.29109227655736103,\n        \"max\": 10000.0,\n        \"num_unique_values\": 7,\n        \"samples\": [\n          10000.0,\n          2.7575999999999996,\n          2.9\n        ],\n        \"semantic_type\": \"\",\n        \"description\": \"\"\n      }\n    },\n    {\n      \"column\": \"Birth Length\",\n      \"properties\": {\n        \"dtype\": \"number\",\n        \"std\": 3520.697600977665,\n        \"min\": 0.43981426040814753,\n        \"max\": 10000.0,\n        \"num_unique_values\": 6,\n        \"samples\": [\n          10000.0,\n          49.1174,\n          50.0\n        ],\n        \"semantic_type\": \"\",\n        \"description\": \"\"\n      }\n    },\n    {\n      \"column\": \"Body Weight\",\n      \"properties\": {\n        \"dtype\": \"number\",\n        \"std\": 3533.2192359326473,\n        \"min\": 1.7204608796667962,\n        \"max\": 10000.0,\n        \"num_unique_values\": 8,\n        \"samples\": [\n          7.631990000000001,\n          7.7,\n          10000.0\n        ],\n        \"semantic_type\": \"\",\n        \"description\": \"\"\n      }\n    },\n    {\n      \"column\": \"Body Length\",\n      \"properties\": {\n        \"dtype\": \"number\",\n        \"std\": 3514.1538182530107,\n        \"min\": 8.906639580473753,\n        \"max\": 10000.0,\n        \"num_unique_values\": 8,\n        \"samples\": [\n          68.85491999999999,\n          68.3,\n          10000.0\n        ],\n        \"semantic_type\": \"\",\n        \"description\": \"\"\n      }\n    }\n  ]\n}"
            }
          },
          "metadata": {},
          "execution_count": 5
        }
      ]
    },
    {
      "cell_type": "code",
      "source": [
        "# Checking Unique Values\n",
        "df_baru.nunique()"
      ],
      "metadata": {
        "colab": {
          "base_uri": "https://localhost:8080/"
        },
        "id": "hfQZ1QsX-nOa",
        "outputId": "1fc168a7-7bb1-4b8f-c61d-ce1e57467be5"
      },
      "execution_count": null,
      "outputs": [
        {
          "output_type": "execute_result",
          "data": {
            "text/plain": [
              "Gender            2\n",
              "Age              43\n",
              "Birth Weight      7\n",
              "Birth Length      3\n",
              "Body Weight      13\n",
              "Body Length      11\n",
              "Breastfeeding     1\n",
              "Stunting          2\n",
              "dtype: int64"
            ]
          },
          "metadata": {},
          "execution_count": 6
        }
      ]
    },
    {
      "cell_type": "code",
      "source": [
        "# Change the data type\n",
        "category_columns = ['Gender', 'Breastfeeding', 'Stunting']\n",
        "\n",
        "for col in category_columns:\n",
        "  df_baru[col] = df_baru[col].astype('category')"
      ],
      "metadata": {
        "id": "d6s48AXpBgqe"
      },
      "execution_count": null,
      "outputs": []
    },
    {
      "cell_type": "code",
      "source": [
        "# Changed 'Gender' to categorical\n",
        "df_baru = df_baru.copy()\n",
        "df_baru['Gender'].replace(['Male', 'Female'], [0, 1], inplace=True)"
      ],
      "metadata": {
        "id": "wBhNc_bNX91g"
      },
      "execution_count": null,
      "outputs": []
    },
    {
      "cell_type": "code",
      "source": [
        "# Changed 'Breastfeeding' to categorical\n",
        "df_baru = df_baru.copy()\n",
        "df_baru['Breastfeeding'].replace( ['No', 'Yes'], [0, 1], inplace=True)"
      ],
      "metadata": {
        "id": "6C8t0sLXn9aS"
      },
      "execution_count": null,
      "outputs": []
    },
    {
      "cell_type": "code",
      "source": [
        "# Changed 'Stunting' to categorical\n",
        "df_baru = df_baru.copy()\n",
        "df_baru['Stunting'].replace(['No', 'Yes'], [0, 1], inplace=True)"
      ],
      "metadata": {
        "id": "0eOqEfDa8e7N"
      },
      "execution_count": null,
      "outputs": []
    },
    {
      "cell_type": "code",
      "source": [
        "# Summary information about DataFrame\n",
        "df_baru.info()"
      ],
      "metadata": {
        "colab": {
          "base_uri": "https://localhost:8080/"
        },
        "id": "jJU_C4MHBsaV",
        "outputId": "a14aadd9-61b4-4dec-9d64-0e1d02a76e2b"
      },
      "execution_count": null,
      "outputs": [
        {
          "output_type": "stream",
          "name": "stdout",
          "text": [
            "<class 'pandas.core.frame.DataFrame'>\n",
            "RangeIndex: 10000 entries, 0 to 9999\n",
            "Data columns (total 8 columns):\n",
            " #   Column         Non-Null Count  Dtype   \n",
            "---  ------         --------------  -----   \n",
            " 0   Gender         10000 non-null  category\n",
            " 1   Age            10000 non-null  int64   \n",
            " 2   Birth Weight   10000 non-null  float64 \n",
            " 3   Birth Length   10000 non-null  int64   \n",
            " 4   Body Weight    10000 non-null  float64 \n",
            " 5   Body Length    10000 non-null  float64 \n",
            " 6   Breastfeeding  10000 non-null  category\n",
            " 7   Stunting       10000 non-null  category\n",
            "dtypes: category(3), float64(3), int64(2)\n",
            "memory usage: 420.4 KB\n"
          ]
        }
      ]
    },
    {
      "cell_type": "code",
      "source": [
        "# Displays Sample Data\n",
        "df_baru.head()"
      ],
      "metadata": {
        "colab": {
          "base_uri": "https://localhost:8080/",
          "height": 206
        },
        "id": "peTxjHsI_gxi",
        "outputId": "c30cac64-b05d-4678-cedc-2870025b5c1d"
      },
      "execution_count": null,
      "outputs": [
        {
          "output_type": "execute_result",
          "data": {
            "text/plain": [
              "  Gender  Age  Birth Weight  Birth Length  Body Weight  Body Length  \\\n",
              "0      0   17           3.0            49         10.0         72.2   \n",
              "1      1   11           2.9            49          2.9         65.0   \n",
              "2      0   16           2.9            49          8.5         72.2   \n",
              "3      0   31           2.8            49          6.4         63.0   \n",
              "4      0   15           3.1            49         10.5         49.0   \n",
              "\n",
              "  Breastfeeding Stunting  \n",
              "0             0        0  \n",
              "1             0        1  \n",
              "2             0        1  \n",
              "3             0        1  \n",
              "4             0        1  "
            ],
            "text/html": [
              "\n",
              "  <div id=\"df-9111679d-172b-49f5-bf7d-b3914fe1b643\" class=\"colab-df-container\">\n",
              "    <div>\n",
              "<style scoped>\n",
              "    .dataframe tbody tr th:only-of-type {\n",
              "        vertical-align: middle;\n",
              "    }\n",
              "\n",
              "    .dataframe tbody tr th {\n",
              "        vertical-align: top;\n",
              "    }\n",
              "\n",
              "    .dataframe thead th {\n",
              "        text-align: right;\n",
              "    }\n",
              "</style>\n",
              "<table border=\"1\" class=\"dataframe\">\n",
              "  <thead>\n",
              "    <tr style=\"text-align: right;\">\n",
              "      <th></th>\n",
              "      <th>Gender</th>\n",
              "      <th>Age</th>\n",
              "      <th>Birth Weight</th>\n",
              "      <th>Birth Length</th>\n",
              "      <th>Body Weight</th>\n",
              "      <th>Body Length</th>\n",
              "      <th>Breastfeeding</th>\n",
              "      <th>Stunting</th>\n",
              "    </tr>\n",
              "  </thead>\n",
              "  <tbody>\n",
              "    <tr>\n",
              "      <th>0</th>\n",
              "      <td>0</td>\n",
              "      <td>17</td>\n",
              "      <td>3.0</td>\n",
              "      <td>49</td>\n",
              "      <td>10.0</td>\n",
              "      <td>72.2</td>\n",
              "      <td>0</td>\n",
              "      <td>0</td>\n",
              "    </tr>\n",
              "    <tr>\n",
              "      <th>1</th>\n",
              "      <td>1</td>\n",
              "      <td>11</td>\n",
              "      <td>2.9</td>\n",
              "      <td>49</td>\n",
              "      <td>2.9</td>\n",
              "      <td>65.0</td>\n",
              "      <td>0</td>\n",
              "      <td>1</td>\n",
              "    </tr>\n",
              "    <tr>\n",
              "      <th>2</th>\n",
              "      <td>0</td>\n",
              "      <td>16</td>\n",
              "      <td>2.9</td>\n",
              "      <td>49</td>\n",
              "      <td>8.5</td>\n",
              "      <td>72.2</td>\n",
              "      <td>0</td>\n",
              "      <td>1</td>\n",
              "    </tr>\n",
              "    <tr>\n",
              "      <th>3</th>\n",
              "      <td>0</td>\n",
              "      <td>31</td>\n",
              "      <td>2.8</td>\n",
              "      <td>49</td>\n",
              "      <td>6.4</td>\n",
              "      <td>63.0</td>\n",
              "      <td>0</td>\n",
              "      <td>1</td>\n",
              "    </tr>\n",
              "    <tr>\n",
              "      <th>4</th>\n",
              "      <td>0</td>\n",
              "      <td>15</td>\n",
              "      <td>3.1</td>\n",
              "      <td>49</td>\n",
              "      <td>10.5</td>\n",
              "      <td>49.0</td>\n",
              "      <td>0</td>\n",
              "      <td>1</td>\n",
              "    </tr>\n",
              "  </tbody>\n",
              "</table>\n",
              "</div>\n",
              "    <div class=\"colab-df-buttons\">\n",
              "\n",
              "  <div class=\"colab-df-container\">\n",
              "    <button class=\"colab-df-convert\" onclick=\"convertToInteractive('df-9111679d-172b-49f5-bf7d-b3914fe1b643')\"\n",
              "            title=\"Convert this dataframe to an interactive table.\"\n",
              "            style=\"display:none;\">\n",
              "\n",
              "  <svg xmlns=\"http://www.w3.org/2000/svg\" height=\"24px\" viewBox=\"0 -960 960 960\">\n",
              "    <path d=\"M120-120v-720h720v720H120Zm60-500h600v-160H180v160Zm220 220h160v-160H400v160Zm0 220h160v-160H400v160ZM180-400h160v-160H180v160Zm440 0h160v-160H620v160ZM180-180h160v-160H180v160Zm440 0h160v-160H620v160Z\"/>\n",
              "  </svg>\n",
              "    </button>\n",
              "\n",
              "  <style>\n",
              "    .colab-df-container {\n",
              "      display:flex;\n",
              "      gap: 12px;\n",
              "    }\n",
              "\n",
              "    .colab-df-convert {\n",
              "      background-color: #E8F0FE;\n",
              "      border: none;\n",
              "      border-radius: 50%;\n",
              "      cursor: pointer;\n",
              "      display: none;\n",
              "      fill: #1967D2;\n",
              "      height: 32px;\n",
              "      padding: 0 0 0 0;\n",
              "      width: 32px;\n",
              "    }\n",
              "\n",
              "    .colab-df-convert:hover {\n",
              "      background-color: #E2EBFA;\n",
              "      box-shadow: 0px 1px 2px rgba(60, 64, 67, 0.3), 0px 1px 3px 1px rgba(60, 64, 67, 0.15);\n",
              "      fill: #174EA6;\n",
              "    }\n",
              "\n",
              "    .colab-df-buttons div {\n",
              "      margin-bottom: 4px;\n",
              "    }\n",
              "\n",
              "    [theme=dark] .colab-df-convert {\n",
              "      background-color: #3B4455;\n",
              "      fill: #D2E3FC;\n",
              "    }\n",
              "\n",
              "    [theme=dark] .colab-df-convert:hover {\n",
              "      background-color: #434B5C;\n",
              "      box-shadow: 0px 1px 3px 1px rgba(0, 0, 0, 0.15);\n",
              "      filter: drop-shadow(0px 1px 2px rgba(0, 0, 0, 0.3));\n",
              "      fill: #FFFFFF;\n",
              "    }\n",
              "  </style>\n",
              "\n",
              "    <script>\n",
              "      const buttonEl =\n",
              "        document.querySelector('#df-9111679d-172b-49f5-bf7d-b3914fe1b643 button.colab-df-convert');\n",
              "      buttonEl.style.display =\n",
              "        google.colab.kernel.accessAllowed ? 'block' : 'none';\n",
              "\n",
              "      async function convertToInteractive(key) {\n",
              "        const element = document.querySelector('#df-9111679d-172b-49f5-bf7d-b3914fe1b643');\n",
              "        const dataTable =\n",
              "          await google.colab.kernel.invokeFunction('convertToInteractive',\n",
              "                                                    [key], {});\n",
              "        if (!dataTable) return;\n",
              "\n",
              "        const docLinkHtml = 'Like what you see? Visit the ' +\n",
              "          '<a target=\"_blank\" href=https://colab.research.google.com/notebooks/data_table.ipynb>data table notebook</a>'\n",
              "          + ' to learn more about interactive tables.';\n",
              "        element.innerHTML = '';\n",
              "        dataTable['output_type'] = 'display_data';\n",
              "        await google.colab.output.renderOutput(dataTable, element);\n",
              "        const docLink = document.createElement('div');\n",
              "        docLink.innerHTML = docLinkHtml;\n",
              "        element.appendChild(docLink);\n",
              "      }\n",
              "    </script>\n",
              "  </div>\n",
              "\n",
              "\n",
              "<div id=\"df-ad3995b5-ec1d-4592-934a-e5efb49a355c\">\n",
              "  <button class=\"colab-df-quickchart\" onclick=\"quickchart('df-ad3995b5-ec1d-4592-934a-e5efb49a355c')\"\n",
              "            title=\"Suggest charts\"\n",
              "            style=\"display:none;\">\n",
              "\n",
              "<svg xmlns=\"http://www.w3.org/2000/svg\" height=\"24px\"viewBox=\"0 0 24 24\"\n",
              "     width=\"24px\">\n",
              "    <g>\n",
              "        <path d=\"M19 3H5c-1.1 0-2 .9-2 2v14c0 1.1.9 2 2 2h14c1.1 0 2-.9 2-2V5c0-1.1-.9-2-2-2zM9 17H7v-7h2v7zm4 0h-2V7h2v10zm4 0h-2v-4h2v4z\"/>\n",
              "    </g>\n",
              "</svg>\n",
              "  </button>\n",
              "\n",
              "<style>\n",
              "  .colab-df-quickchart {\n",
              "      --bg-color: #E8F0FE;\n",
              "      --fill-color: #1967D2;\n",
              "      --hover-bg-color: #E2EBFA;\n",
              "      --hover-fill-color: #174EA6;\n",
              "      --disabled-fill-color: #AAA;\n",
              "      --disabled-bg-color: #DDD;\n",
              "  }\n",
              "\n",
              "  [theme=dark] .colab-df-quickchart {\n",
              "      --bg-color: #3B4455;\n",
              "      --fill-color: #D2E3FC;\n",
              "      --hover-bg-color: #434B5C;\n",
              "      --hover-fill-color: #FFFFFF;\n",
              "      --disabled-bg-color: #3B4455;\n",
              "      --disabled-fill-color: #666;\n",
              "  }\n",
              "\n",
              "  .colab-df-quickchart {\n",
              "    background-color: var(--bg-color);\n",
              "    border: none;\n",
              "    border-radius: 50%;\n",
              "    cursor: pointer;\n",
              "    display: none;\n",
              "    fill: var(--fill-color);\n",
              "    height: 32px;\n",
              "    padding: 0;\n",
              "    width: 32px;\n",
              "  }\n",
              "\n",
              "  .colab-df-quickchart:hover {\n",
              "    background-color: var(--hover-bg-color);\n",
              "    box-shadow: 0 1px 2px rgba(60, 64, 67, 0.3), 0 1px 3px 1px rgba(60, 64, 67, 0.15);\n",
              "    fill: var(--button-hover-fill-color);\n",
              "  }\n",
              "\n",
              "  .colab-df-quickchart-complete:disabled,\n",
              "  .colab-df-quickchart-complete:disabled:hover {\n",
              "    background-color: var(--disabled-bg-color);\n",
              "    fill: var(--disabled-fill-color);\n",
              "    box-shadow: none;\n",
              "  }\n",
              "\n",
              "  .colab-df-spinner {\n",
              "    border: 2px solid var(--fill-color);\n",
              "    border-color: transparent;\n",
              "    border-bottom-color: var(--fill-color);\n",
              "    animation:\n",
              "      spin 1s steps(1) infinite;\n",
              "  }\n",
              "\n",
              "  @keyframes spin {\n",
              "    0% {\n",
              "      border-color: transparent;\n",
              "      border-bottom-color: var(--fill-color);\n",
              "      border-left-color: var(--fill-color);\n",
              "    }\n",
              "    20% {\n",
              "      border-color: transparent;\n",
              "      border-left-color: var(--fill-color);\n",
              "      border-top-color: var(--fill-color);\n",
              "    }\n",
              "    30% {\n",
              "      border-color: transparent;\n",
              "      border-left-color: var(--fill-color);\n",
              "      border-top-color: var(--fill-color);\n",
              "      border-right-color: var(--fill-color);\n",
              "    }\n",
              "    40% {\n",
              "      border-color: transparent;\n",
              "      border-right-color: var(--fill-color);\n",
              "      border-top-color: var(--fill-color);\n",
              "    }\n",
              "    60% {\n",
              "      border-color: transparent;\n",
              "      border-right-color: var(--fill-color);\n",
              "    }\n",
              "    80% {\n",
              "      border-color: transparent;\n",
              "      border-right-color: var(--fill-color);\n",
              "      border-bottom-color: var(--fill-color);\n",
              "    }\n",
              "    90% {\n",
              "      border-color: transparent;\n",
              "      border-bottom-color: var(--fill-color);\n",
              "    }\n",
              "  }\n",
              "</style>\n",
              "\n",
              "  <script>\n",
              "    async function quickchart(key) {\n",
              "      const quickchartButtonEl =\n",
              "        document.querySelector('#' + key + ' button');\n",
              "      quickchartButtonEl.disabled = true;  // To prevent multiple clicks.\n",
              "      quickchartButtonEl.classList.add('colab-df-spinner');\n",
              "      try {\n",
              "        const charts = await google.colab.kernel.invokeFunction(\n",
              "            'suggestCharts', [key], {});\n",
              "      } catch (error) {\n",
              "        console.error('Error during call to suggestCharts:', error);\n",
              "      }\n",
              "      quickchartButtonEl.classList.remove('colab-df-spinner');\n",
              "      quickchartButtonEl.classList.add('colab-df-quickchart-complete');\n",
              "    }\n",
              "    (() => {\n",
              "      let quickchartButtonEl =\n",
              "        document.querySelector('#df-ad3995b5-ec1d-4592-934a-e5efb49a355c button');\n",
              "      quickchartButtonEl.style.display =\n",
              "        google.colab.kernel.accessAllowed ? 'block' : 'none';\n",
              "    })();\n",
              "  </script>\n",
              "</div>\n",
              "    </div>\n",
              "  </div>\n"
            ],
            "application/vnd.google.colaboratory.intrinsic+json": {
              "type": "dataframe",
              "variable_name": "df_baru",
              "summary": "{\n  \"name\": \"df_baru\",\n  \"rows\": 10000,\n  \"fields\": [\n    {\n      \"column\": \"Gender\",\n      \"properties\": {\n        \"dtype\": \"category\",\n        \"num_unique_values\": 2,\n        \"samples\": [\n          1,\n          0\n        ],\n        \"semantic_type\": \"\",\n        \"description\": \"\"\n      }\n    },\n    {\n      \"column\": \"Age\",\n      \"properties\": {\n        \"dtype\": \"number\",\n        \"std\": 7,\n        \"min\": 6,\n        \"max\": 48,\n        \"num_unique_values\": 43,\n        \"samples\": [\n          43,\n          37\n        ],\n        \"semantic_type\": \"\",\n        \"description\": \"\"\n      }\n    },\n    {\n      \"column\": \"Birth Weight\",\n      \"properties\": {\n        \"dtype\": \"number\",\n        \"std\": 0.29109227655736103,\n        \"min\": 2.0,\n        \"max\": 3.1,\n        \"num_unique_values\": 7,\n        \"samples\": [\n          3.0,\n          2.9\n        ],\n        \"semantic_type\": \"\",\n        \"description\": \"\"\n      }\n    },\n    {\n      \"column\": \"Birth Length\",\n      \"properties\": {\n        \"dtype\": \"number\",\n        \"std\": 0,\n        \"min\": 48,\n        \"max\": 50,\n        \"num_unique_values\": 3,\n        \"samples\": [\n          49,\n          50\n        ],\n        \"semantic_type\": \"\",\n        \"description\": \"\"\n      }\n    },\n    {\n      \"column\": \"Body Weight\",\n      \"properties\": {\n        \"dtype\": \"number\",\n        \"std\": 1.7204608796667962,\n        \"min\": 2.9,\n        \"max\": 10.5,\n        \"num_unique_values\": 13,\n        \"samples\": [\n          9.0,\n          7.7\n        ],\n        \"semantic_type\": \"\",\n        \"description\": \"\"\n      }\n    },\n    {\n      \"column\": \"Body Length\",\n      \"properties\": {\n        \"dtype\": \"number\",\n        \"std\": 8.906639580473753,\n        \"min\": 49.0,\n        \"max\": 92.7,\n        \"num_unique_values\": 11,\n        \"samples\": [\n          68.3,\n          72.2\n        ],\n        \"semantic_type\": \"\",\n        \"description\": \"\"\n      }\n    },\n    {\n      \"column\": \"Breastfeeding\",\n      \"properties\": {\n        \"dtype\": \"category\",\n        \"num_unique_values\": 1,\n        \"samples\": [\n          0\n        ],\n        \"semantic_type\": \"\",\n        \"description\": \"\"\n      }\n    },\n    {\n      \"column\": \"Stunting\",\n      \"properties\": {\n        \"dtype\": \"category\",\n        \"num_unique_values\": 2,\n        \"samples\": [\n          1\n        ],\n        \"semantic_type\": \"\",\n        \"description\": \"\"\n      }\n    }\n  ]\n}"
            }
          },
          "metadata": {},
          "execution_count": 12
        }
      ]
    },
    {
      "cell_type": "code",
      "source": [
        "#Finding Missing Data\n",
        "df_baru.isnull().sum()"
      ],
      "metadata": {
        "colab": {
          "base_uri": "https://localhost:8080/"
        },
        "id": "sIX4fMdKlpiK",
        "outputId": "4b47f214-96d2-45b8-8770-69035dd7ffa1"
      },
      "execution_count": null,
      "outputs": [
        {
          "output_type": "execute_result",
          "data": {
            "text/plain": [
              "Gender           0\n",
              "Age              0\n",
              "Birth Weight     0\n",
              "Birth Length     0\n",
              "Body Weight      0\n",
              "Body Length      0\n",
              "Breastfeeding    0\n",
              "Stunting         0\n",
              "dtype: int64"
            ]
          },
          "metadata": {},
          "execution_count": 13
        }
      ]
    },
    {
      "cell_type": "code",
      "source": [
        "df_baru = df_baru.dropna()"
      ],
      "metadata": {
        "id": "6uDV0TT9dFZB"
      },
      "execution_count": null,
      "outputs": []
    },
    {
      "cell_type": "code",
      "source": [
        "#Finding Duplicate Data\n",
        "print(\"Jumlah duplikasi: \", df_baru.duplicated().sum())"
      ],
      "metadata": {
        "colab": {
          "base_uri": "https://localhost:8080/"
        },
        "id": "-LuvQ3W3C4OY",
        "outputId": "a19f18dd-a58d-4904-cd43-2900e5b74bf9"
      },
      "execution_count": null,
      "outputs": [
        {
          "output_type": "stream",
          "name": "stdout",
          "text": [
            "Jumlah duplikasi:  2427\n"
          ]
        }
      ]
    },
    {
      "cell_type": "code",
      "source": [
        "# Removes duplicates based on all columns\n",
        "df_baru = df_baru.drop_duplicates()"
      ],
      "metadata": {
        "id": "E__mx-YuPnRo"
      },
      "execution_count": null,
      "outputs": []
    },
    {
      "cell_type": "code",
      "source": [
        "# Displays DataFrame descriptive statistics\n",
        "df_baru.describe()"
      ],
      "metadata": {
        "colab": {
          "base_uri": "https://localhost:8080/",
          "height": 300
        },
        "id": "rgtYD4jfGYBM",
        "outputId": "1735c258-b37f-42ed-bcff-15a5de32735a"
      },
      "execution_count": null,
      "outputs": [
        {
          "output_type": "execute_result",
          "data": {
            "text/plain": [
              "               Age  Birth Weight  Birth Length  Body Weight  Body Length\n",
              "count  7573.000000   7573.000000   7573.000000  7573.000000  7573.000000\n",
              "mean     14.886967      2.762208     49.084643     7.630648    69.120269\n",
              "std       8.580291      0.297725      0.436202     1.762529     9.401527\n",
              "min       6.000000      2.000000     48.000000     2.900000    49.000000\n",
              "25%      10.000000      2.800000     49.000000     7.000000    65.000000\n",
              "50%      13.000000      2.800000     49.000000     7.700000    69.000000\n",
              "75%      16.000000      3.000000     49.000000     9.000000    72.200000\n",
              "max      48.000000      3.100000     50.000000    10.500000    92.700000"
            ],
            "text/html": [
              "\n",
              "  <div id=\"df-f84902ce-fa52-485f-b148-526e23b594ad\" class=\"colab-df-container\">\n",
              "    <div>\n",
              "<style scoped>\n",
              "    .dataframe tbody tr th:only-of-type {\n",
              "        vertical-align: middle;\n",
              "    }\n",
              "\n",
              "    .dataframe tbody tr th {\n",
              "        vertical-align: top;\n",
              "    }\n",
              "\n",
              "    .dataframe thead th {\n",
              "        text-align: right;\n",
              "    }\n",
              "</style>\n",
              "<table border=\"1\" class=\"dataframe\">\n",
              "  <thead>\n",
              "    <tr style=\"text-align: right;\">\n",
              "      <th></th>\n",
              "      <th>Age</th>\n",
              "      <th>Birth Weight</th>\n",
              "      <th>Birth Length</th>\n",
              "      <th>Body Weight</th>\n",
              "      <th>Body Length</th>\n",
              "    </tr>\n",
              "  </thead>\n",
              "  <tbody>\n",
              "    <tr>\n",
              "      <th>count</th>\n",
              "      <td>7573.000000</td>\n",
              "      <td>7573.000000</td>\n",
              "      <td>7573.000000</td>\n",
              "      <td>7573.000000</td>\n",
              "      <td>7573.000000</td>\n",
              "    </tr>\n",
              "    <tr>\n",
              "      <th>mean</th>\n",
              "      <td>14.886967</td>\n",
              "      <td>2.762208</td>\n",
              "      <td>49.084643</td>\n",
              "      <td>7.630648</td>\n",
              "      <td>69.120269</td>\n",
              "    </tr>\n",
              "    <tr>\n",
              "      <th>std</th>\n",
              "      <td>8.580291</td>\n",
              "      <td>0.297725</td>\n",
              "      <td>0.436202</td>\n",
              "      <td>1.762529</td>\n",
              "      <td>9.401527</td>\n",
              "    </tr>\n",
              "    <tr>\n",
              "      <th>min</th>\n",
              "      <td>6.000000</td>\n",
              "      <td>2.000000</td>\n",
              "      <td>48.000000</td>\n",
              "      <td>2.900000</td>\n",
              "      <td>49.000000</td>\n",
              "    </tr>\n",
              "    <tr>\n",
              "      <th>25%</th>\n",
              "      <td>10.000000</td>\n",
              "      <td>2.800000</td>\n",
              "      <td>49.000000</td>\n",
              "      <td>7.000000</td>\n",
              "      <td>65.000000</td>\n",
              "    </tr>\n",
              "    <tr>\n",
              "      <th>50%</th>\n",
              "      <td>13.000000</td>\n",
              "      <td>2.800000</td>\n",
              "      <td>49.000000</td>\n",
              "      <td>7.700000</td>\n",
              "      <td>69.000000</td>\n",
              "    </tr>\n",
              "    <tr>\n",
              "      <th>75%</th>\n",
              "      <td>16.000000</td>\n",
              "      <td>3.000000</td>\n",
              "      <td>49.000000</td>\n",
              "      <td>9.000000</td>\n",
              "      <td>72.200000</td>\n",
              "    </tr>\n",
              "    <tr>\n",
              "      <th>max</th>\n",
              "      <td>48.000000</td>\n",
              "      <td>3.100000</td>\n",
              "      <td>50.000000</td>\n",
              "      <td>10.500000</td>\n",
              "      <td>92.700000</td>\n",
              "    </tr>\n",
              "  </tbody>\n",
              "</table>\n",
              "</div>\n",
              "    <div class=\"colab-df-buttons\">\n",
              "\n",
              "  <div class=\"colab-df-container\">\n",
              "    <button class=\"colab-df-convert\" onclick=\"convertToInteractive('df-f84902ce-fa52-485f-b148-526e23b594ad')\"\n",
              "            title=\"Convert this dataframe to an interactive table.\"\n",
              "            style=\"display:none;\">\n",
              "\n",
              "  <svg xmlns=\"http://www.w3.org/2000/svg\" height=\"24px\" viewBox=\"0 -960 960 960\">\n",
              "    <path d=\"M120-120v-720h720v720H120Zm60-500h600v-160H180v160Zm220 220h160v-160H400v160Zm0 220h160v-160H400v160ZM180-400h160v-160H180v160Zm440 0h160v-160H620v160ZM180-180h160v-160H180v160Zm440 0h160v-160H620v160Z\"/>\n",
              "  </svg>\n",
              "    </button>\n",
              "\n",
              "  <style>\n",
              "    .colab-df-container {\n",
              "      display:flex;\n",
              "      gap: 12px;\n",
              "    }\n",
              "\n",
              "    .colab-df-convert {\n",
              "      background-color: #E8F0FE;\n",
              "      border: none;\n",
              "      border-radius: 50%;\n",
              "      cursor: pointer;\n",
              "      display: none;\n",
              "      fill: #1967D2;\n",
              "      height: 32px;\n",
              "      padding: 0 0 0 0;\n",
              "      width: 32px;\n",
              "    }\n",
              "\n",
              "    .colab-df-convert:hover {\n",
              "      background-color: #E2EBFA;\n",
              "      box-shadow: 0px 1px 2px rgba(60, 64, 67, 0.3), 0px 1px 3px 1px rgba(60, 64, 67, 0.15);\n",
              "      fill: #174EA6;\n",
              "    }\n",
              "\n",
              "    .colab-df-buttons div {\n",
              "      margin-bottom: 4px;\n",
              "    }\n",
              "\n",
              "    [theme=dark] .colab-df-convert {\n",
              "      background-color: #3B4455;\n",
              "      fill: #D2E3FC;\n",
              "    }\n",
              "\n",
              "    [theme=dark] .colab-df-convert:hover {\n",
              "      background-color: #434B5C;\n",
              "      box-shadow: 0px 1px 3px 1px rgba(0, 0, 0, 0.15);\n",
              "      filter: drop-shadow(0px 1px 2px rgba(0, 0, 0, 0.3));\n",
              "      fill: #FFFFFF;\n",
              "    }\n",
              "  </style>\n",
              "\n",
              "    <script>\n",
              "      const buttonEl =\n",
              "        document.querySelector('#df-f84902ce-fa52-485f-b148-526e23b594ad button.colab-df-convert');\n",
              "      buttonEl.style.display =\n",
              "        google.colab.kernel.accessAllowed ? 'block' : 'none';\n",
              "\n",
              "      async function convertToInteractive(key) {\n",
              "        const element = document.querySelector('#df-f84902ce-fa52-485f-b148-526e23b594ad');\n",
              "        const dataTable =\n",
              "          await google.colab.kernel.invokeFunction('convertToInteractive',\n",
              "                                                    [key], {});\n",
              "        if (!dataTable) return;\n",
              "\n",
              "        const docLinkHtml = 'Like what you see? Visit the ' +\n",
              "          '<a target=\"_blank\" href=https://colab.research.google.com/notebooks/data_table.ipynb>data table notebook</a>'\n",
              "          + ' to learn more about interactive tables.';\n",
              "        element.innerHTML = '';\n",
              "        dataTable['output_type'] = 'display_data';\n",
              "        await google.colab.output.renderOutput(dataTable, element);\n",
              "        const docLink = document.createElement('div');\n",
              "        docLink.innerHTML = docLinkHtml;\n",
              "        element.appendChild(docLink);\n",
              "      }\n",
              "    </script>\n",
              "  </div>\n",
              "\n",
              "\n",
              "<div id=\"df-d2f910fd-b5d9-406c-b63f-a636da15a52c\">\n",
              "  <button class=\"colab-df-quickchart\" onclick=\"quickchart('df-d2f910fd-b5d9-406c-b63f-a636da15a52c')\"\n",
              "            title=\"Suggest charts\"\n",
              "            style=\"display:none;\">\n",
              "\n",
              "<svg xmlns=\"http://www.w3.org/2000/svg\" height=\"24px\"viewBox=\"0 0 24 24\"\n",
              "     width=\"24px\">\n",
              "    <g>\n",
              "        <path d=\"M19 3H5c-1.1 0-2 .9-2 2v14c0 1.1.9 2 2 2h14c1.1 0 2-.9 2-2V5c0-1.1-.9-2-2-2zM9 17H7v-7h2v7zm4 0h-2V7h2v10zm4 0h-2v-4h2v4z\"/>\n",
              "    </g>\n",
              "</svg>\n",
              "  </button>\n",
              "\n",
              "<style>\n",
              "  .colab-df-quickchart {\n",
              "      --bg-color: #E8F0FE;\n",
              "      --fill-color: #1967D2;\n",
              "      --hover-bg-color: #E2EBFA;\n",
              "      --hover-fill-color: #174EA6;\n",
              "      --disabled-fill-color: #AAA;\n",
              "      --disabled-bg-color: #DDD;\n",
              "  }\n",
              "\n",
              "  [theme=dark] .colab-df-quickchart {\n",
              "      --bg-color: #3B4455;\n",
              "      --fill-color: #D2E3FC;\n",
              "      --hover-bg-color: #434B5C;\n",
              "      --hover-fill-color: #FFFFFF;\n",
              "      --disabled-bg-color: #3B4455;\n",
              "      --disabled-fill-color: #666;\n",
              "  }\n",
              "\n",
              "  .colab-df-quickchart {\n",
              "    background-color: var(--bg-color);\n",
              "    border: none;\n",
              "    border-radius: 50%;\n",
              "    cursor: pointer;\n",
              "    display: none;\n",
              "    fill: var(--fill-color);\n",
              "    height: 32px;\n",
              "    padding: 0;\n",
              "    width: 32px;\n",
              "  }\n",
              "\n",
              "  .colab-df-quickchart:hover {\n",
              "    background-color: var(--hover-bg-color);\n",
              "    box-shadow: 0 1px 2px rgba(60, 64, 67, 0.3), 0 1px 3px 1px rgba(60, 64, 67, 0.15);\n",
              "    fill: var(--button-hover-fill-color);\n",
              "  }\n",
              "\n",
              "  .colab-df-quickchart-complete:disabled,\n",
              "  .colab-df-quickchart-complete:disabled:hover {\n",
              "    background-color: var(--disabled-bg-color);\n",
              "    fill: var(--disabled-fill-color);\n",
              "    box-shadow: none;\n",
              "  }\n",
              "\n",
              "  .colab-df-spinner {\n",
              "    border: 2px solid var(--fill-color);\n",
              "    border-color: transparent;\n",
              "    border-bottom-color: var(--fill-color);\n",
              "    animation:\n",
              "      spin 1s steps(1) infinite;\n",
              "  }\n",
              "\n",
              "  @keyframes spin {\n",
              "    0% {\n",
              "      border-color: transparent;\n",
              "      border-bottom-color: var(--fill-color);\n",
              "      border-left-color: var(--fill-color);\n",
              "    }\n",
              "    20% {\n",
              "      border-color: transparent;\n",
              "      border-left-color: var(--fill-color);\n",
              "      border-top-color: var(--fill-color);\n",
              "    }\n",
              "    30% {\n",
              "      border-color: transparent;\n",
              "      border-left-color: var(--fill-color);\n",
              "      border-top-color: var(--fill-color);\n",
              "      border-right-color: var(--fill-color);\n",
              "    }\n",
              "    40% {\n",
              "      border-color: transparent;\n",
              "      border-right-color: var(--fill-color);\n",
              "      border-top-color: var(--fill-color);\n",
              "    }\n",
              "    60% {\n",
              "      border-color: transparent;\n",
              "      border-right-color: var(--fill-color);\n",
              "    }\n",
              "    80% {\n",
              "      border-color: transparent;\n",
              "      border-right-color: var(--fill-color);\n",
              "      border-bottom-color: var(--fill-color);\n",
              "    }\n",
              "    90% {\n",
              "      border-color: transparent;\n",
              "      border-bottom-color: var(--fill-color);\n",
              "    }\n",
              "  }\n",
              "</style>\n",
              "\n",
              "  <script>\n",
              "    async function quickchart(key) {\n",
              "      const quickchartButtonEl =\n",
              "        document.querySelector('#' + key + ' button');\n",
              "      quickchartButtonEl.disabled = true;  // To prevent multiple clicks.\n",
              "      quickchartButtonEl.classList.add('colab-df-spinner');\n",
              "      try {\n",
              "        const charts = await google.colab.kernel.invokeFunction(\n",
              "            'suggestCharts', [key], {});\n",
              "      } catch (error) {\n",
              "        console.error('Error during call to suggestCharts:', error);\n",
              "      }\n",
              "      quickchartButtonEl.classList.remove('colab-df-spinner');\n",
              "      quickchartButtonEl.classList.add('colab-df-quickchart-complete');\n",
              "    }\n",
              "    (() => {\n",
              "      let quickchartButtonEl =\n",
              "        document.querySelector('#df-d2f910fd-b5d9-406c-b63f-a636da15a52c button');\n",
              "      quickchartButtonEl.style.display =\n",
              "        google.colab.kernel.accessAllowed ? 'block' : 'none';\n",
              "    })();\n",
              "  </script>\n",
              "</div>\n",
              "    </div>\n",
              "  </div>\n"
            ],
            "application/vnd.google.colaboratory.intrinsic+json": {
              "type": "dataframe",
              "summary": "{\n  \"name\": \"df_baru\",\n  \"rows\": 8,\n  \"fields\": [\n    {\n      \"column\": \"Age\",\n      \"properties\": {\n        \"dtype\": \"number\",\n        \"std\": 2671.6100256406103,\n        \"min\": 6.0,\n        \"max\": 7573.0,\n        \"num_unique_values\": 8,\n        \"samples\": [\n          14.88696685593556,\n          13.0,\n          7573.0\n        ],\n        \"semantic_type\": \"\",\n        \"description\": \"\"\n      }\n    },\n    {\n      \"column\": \"Birth Weight\",\n      \"properties\": {\n        \"dtype\": \"number\",\n        \"std\": 2676.613479445826,\n        \"min\": 0.29772510535553687,\n        \"max\": 7573.0,\n        \"num_unique_values\": 7,\n        \"samples\": [\n          7573.0,\n          2.76220784365509,\n          3.0\n        ],\n        \"semantic_type\": \"\",\n        \"description\": \"\"\n      }\n    },\n    {\n      \"column\": \"Birth Length\",\n      \"properties\": {\n        \"dtype\": \"number\",\n        \"std\": 2662.6385936056113,\n        \"min\": 0.4362024504290429,\n        \"max\": 7573.0,\n        \"num_unique_values\": 6,\n        \"samples\": [\n          7573.0,\n          49.08464280998283,\n          50.0\n        ],\n        \"semantic_type\": \"\",\n        \"description\": \"\"\n      }\n    },\n    {\n      \"column\": \"Body Weight\",\n      \"properties\": {\n        \"dtype\": \"number\",\n        \"std\": 2675.1131818174495,\n        \"min\": 1.7625287878558484,\n        \"max\": 7573.0,\n        \"num_unique_values\": 8,\n        \"samples\": [\n          7.630648356001585,\n          7.7,\n          7573.0\n        ],\n        \"semantic_type\": \"\",\n        \"description\": \"\"\n      }\n    },\n    {\n      \"column\": \"Body Length\",\n      \"properties\": {\n        \"dtype\": \"number\",\n        \"std\": 2656.0320699211707,\n        \"min\": 9.401527330443168,\n        \"max\": 7573.0,\n        \"num_unique_values\": 8,\n        \"samples\": [\n          69.12026937805362,\n          69.0,\n          7573.0\n        ],\n        \"semantic_type\": \"\",\n        \"description\": \"\"\n      }\n    }\n  ]\n}"
            }
          },
          "metadata": {},
          "execution_count": 17
        }
      ]
    },
    {
      "cell_type": "code",
      "source": [
        "# Counting Stunting Case for each case\n",
        "df_baru['Stunting'].value_counts()"
      ],
      "metadata": {
        "colab": {
          "base_uri": "https://localhost:8080/"
        },
        "id": "eKoXHeFvqv_5",
        "outputId": "04908401-7647-4219-a6fc-41cca14407e4"
      },
      "execution_count": null,
      "outputs": [
        {
          "output_type": "execute_result",
          "data": {
            "text/plain": [
              "Stunting\n",
              "1    6120\n",
              "0    1453\n",
              "Name: count, dtype: int64"
            ]
          },
          "metadata": {},
          "execution_count": 18
        }
      ]
    },
    {
      "cell_type": "code",
      "source": [
        "# Counting Stunting Case for each case\n",
        "df_baru['Age'].value_counts()"
      ],
      "metadata": {
        "colab": {
          "base_uri": "https://localhost:8080/"
        },
        "id": "xkWkfCC8KpPU",
        "outputId": "273ce03b-3c72-40b9-b4e6-9eca562ba4dc"
      },
      "execution_count": null,
      "outputs": [
        {
          "output_type": "execute_result",
          "data": {
            "text/plain": [
              "Age\n",
              "13    741\n",
              "11    734\n",
              "12    711\n",
              "14    695\n",
              "10    629\n",
              "15    619\n",
              "9     506\n",
              "16    463\n",
              "8     385\n",
              "17    344\n",
              "6     298\n",
              "7     249\n",
              "18    218\n",
              "19    135\n",
              "48    118\n",
              "20     73\n",
              "41     42\n",
              "34     38\n",
              "21     38\n",
              "37     35\n",
              "40     35\n",
              "32     35\n",
              "35     32\n",
              "43     29\n",
              "38     29\n",
              "42     28\n",
              "45     27\n",
              "36     27\n",
              "46     26\n",
              "39     26\n",
              "44     24\n",
              "30     22\n",
              "33     21\n",
              "29     20\n",
              "31     17\n",
              "47     17\n",
              "27     16\n",
              "26     16\n",
              "22     16\n",
              "25     12\n",
              "23     11\n",
              "28     10\n",
              "24      6\n",
              "Name: count, dtype: int64"
            ]
          },
          "metadata": {},
          "execution_count": 19
        }
      ]
    },
    {
      "cell_type": "code",
      "source": [
        "# Checking the Dimension of dataset\n",
        "df_baru.shape"
      ],
      "metadata": {
        "colab": {
          "base_uri": "https://localhost:8080/"
        },
        "id": "2L6rT50vsX7B",
        "outputId": "010785ee-bc93-4b77-a28b-086ffbbdc861"
      },
      "execution_count": null,
      "outputs": [
        {
          "output_type": "execute_result",
          "data": {
            "text/plain": [
              "(7573, 8)"
            ]
          },
          "metadata": {},
          "execution_count": 20
        }
      ]
    },
    {
      "cell_type": "markdown",
      "source": [
        "**Conclusion:**\n",
        "\n",
        "Missing Value : 0\n",
        "\\\n",
        "Duplicat : 2427\n",
        "\n",
        "\\\n",
        "Tipe Data :\n",
        "\n",
        "Gender   -> Object\n",
        "\\\n",
        "Age  -> Int\n",
        "\\\n",
        "Birth Weight -> Float\n",
        "\\\n",
        "Birth Length -> Int\n",
        "\\\n",
        "Body Weight -> Float\n",
        "\\\n",
        "Body Length -> Int\n",
        "\\\n",
        "Breastfeeding -> Object\n",
        "\\\n",
        "Stunting -> Object\n",
        "\n",
        "\\\n",
        "Data Unique :\n",
        "\n",
        "Gender   -> 2\n",
        "\\\n",
        "Age  -> 43\n",
        "\\\n",
        "Birth Weight -> 7\n",
        "\\\n",
        "Birth Length -> 3\n",
        "\\\n",
        "Body Weight -> 13\n",
        "\\\n",
        "Body Length -> 11\n",
        "\\\n",
        "Breastfeeding -> 1\n",
        "\\\n",
        "Stunting -> 2"
      ],
      "metadata": {
        "id": "a57Tl-yRDUL3"
      }
    },
    {
      "cell_type": "code",
      "source": [
        "# Data Visualization\n",
        "sns.countplot(x=\"Stunting\", data=df_baru, palette=\"bwr\")\n",
        "\n",
        "plt.show()"
      ],
      "metadata": {
        "colab": {
          "base_uri": "https://localhost:8080/",
          "height": 559
        },
        "id": "onmXT6CCI9OX",
        "outputId": "685ac624-15db-47de-f063-6bca917f5593"
      },
      "execution_count": null,
      "outputs": [
        {
          "output_type": "stream",
          "name": "stderr",
          "text": [
            "<ipython-input-21-8201d66e1919>:2: FutureWarning: \n",
            "\n",
            "Passing `palette` without assigning `hue` is deprecated and will be removed in v0.14.0. Assign the `x` variable to `hue` and set `legend=False` for the same effect.\n",
            "\n",
            "  sns.countplot(x=\"Stunting\", data=df_baru, palette=\"bwr\")\n"
          ]
        },
        {
          "output_type": "display_data",
          "data": {
            "text/plain": [
              "<Figure size 640x480 with 1 Axes>"
            ],
            "image/png": "[encoded data removed]"
          },
          "metadata": {}
        }
      ]
    },
    {
      "cell_type": "code",
      "source": [
        "# HISTOGRAM IN EACH VARIABLE\n",
        "df_baru.hist(figsize = (12, 12))\n",
        "\n",
        "plt.show()"
      ],
      "metadata": {
        "colab": {
          "base_uri": "https://localhost:8080/",
          "height": 993
        },
        "id": "R3tmuJvDJKmo",
        "outputId": "8221ad0a-d109-4ae8-9adf-a45b3943bf23"
      },
      "execution_count": null,
      "outputs": [
        {
          "output_type": "display_data",
          "data": {
            "text/plain": [
              "<Figure size 1200x1200 with 6 Axes>"
            ],
            "image/png": "[encoded data removed]"
          },
          "metadata": {}
        }
      ]
    },
    {
      "cell_type": "code",
      "source": [
        "from sklearn.preprocessing import RobustScaler\n",
        "\n",
        "# Menghapus kolom \"Stunting\"\n",
        "new = df_baru.drop(columns=[\"Stunting\"])\n",
        "\n",
        "# Normalisasi data menggunakan RobustScaler\n",
        "scaler = RobustScaler()\n",
        "robust_data = scaler.fit_transform(new)\n",
        "\n",
        "# Mengonversi data yang telah dinormalisasi kembali ke DataFrame\n",
        "robust_df = pd.DataFrame(robust_data, columns=new.columns)\n",
        "\n",
        "# Menyimpan model normalisasi menggunakan joblib\n",
        "joblib.dump(scaler, 'normalization_model.joblib')\n",
        "\n",
        "# Mencetak DataFrame yang telah dinormalisasi\n",
        "print(robust_df)"
      ],
      "metadata": {
        "colab": {
          "base_uri": "https://localhost:8080/"
        },
        "id": "QC-W4a_9FbB7",
        "outputId": "bb50e8b4-074b-47dd-97e5-6ececf846b75"
      },
      "execution_count": null,
      "outputs": [
        {
          "output_type": "stream",
          "name": "stdout",
          "text": [
            "      Gender       Age  Birth Weight  Birth Length  Body Weight  Body Length  \\\n",
            "0        0.0  0.666667           1.0           0.0         1.15     0.444444   \n",
            "1        1.0 -0.333333           0.5           0.0        -2.40    -0.555556   \n",
            "2        0.0  0.500000           0.5           0.0         0.40     0.444444   \n",
            "3        0.0  3.000000           0.0           0.0        -0.65    -0.833333   \n",
            "4        0.0  0.333333           1.5           0.0         1.40    -2.777778   \n",
            "...      ...       ...           ...           ...          ...          ...   \n",
            "7568     0.0 -0.333333           0.0          -1.0         1.40     0.625000   \n",
            "7569     0.0  0.333333           0.0           0.0        -2.40     0.277778   \n",
            "7570     1.0 -0.166667           0.0          -1.0         0.00    -0.833333   \n",
            "7571     0.0  0.500000           0.0           0.0         0.00    -2.777778   \n",
            "7572     1.0 -0.500000           1.0           0.0         0.00     1.527778   \n",
            "\n",
            "      Breastfeeding  \n",
            "0               0.0  \n",
            "1               0.0  \n",
            "2               0.0  \n",
            "3               0.0  \n",
            "4               0.0  \n",
            "...             ...  \n",
            "7568            0.0  \n",
            "7569            0.0  \n",
            "7570            0.0  \n",
            "7571            0.0  \n",
            "7572            0.0  \n",
            "\n",
            "[7573 rows x 7 columns]\n"
          ]
        }
      ]
    },
    {
      "cell_type": "code",
      "source": [
        "robust_df.Breastfeeding.value_counts()"
      ],
      "metadata": {
        "colab": {
          "base_uri": "https://localhost:8080/"
        },
        "id": "gRJUYx2__WFN",
        "outputId": "e893f424-e7af-440e-9d87-c08ddf9809ba"
      },
      "execution_count": null,
      "outputs": [
        {
          "output_type": "execute_result",
          "data": {
            "text/plain": [
              "Breastfeeding\n",
              "0.0    7573\n",
              "Name: count, dtype: int64"
            ]
          },
          "metadata": {},
          "execution_count": 24
        }
      ]
    },
    {
      "cell_type": "code",
      "source": [
        "#Data Splitting\n",
        "# Separating the Feature and Labels\n",
        "X = robust_df.drop(columns = 'Breastfeeding')\n",
        "y = df_baru[\"Stunting\"]"
      ],
      "metadata": {
        "id": "GB1aLyonuFKY"
      },
      "execution_count": null,
      "outputs": []
    },
    {
      "cell_type": "code",
      "source": [
        "# Split the dataset into training and test sets\n",
        "X_train, X_test, y_train, y_test = train_test_split(X, y, test_size=0.2, random_state=64)"
      ],
      "metadata": {
        "id": "0rVkGdPyuKSq"
      },
      "execution_count": null,
      "outputs": []
    },
    {
      "cell_type": "code",
      "source": [
        "# Periksa apakah ada NaN atau inf\n",
        "print(np.any(np.isnan(X_train)), np.any(np.isnan(X_test)))\n",
        "print(np.any(np.isinf(X_train)), np.any(np.isinf(X_test)))"
      ],
      "metadata": {
        "colab": {
          "base_uri": "https://localhost:8080/"
        },
        "id": "OMxAfoRYvztm",
        "outputId": "ab827d79-9a9f-4aa2-fd38-dfba737f72a2"
      },
      "execution_count": null,
      "outputs": [
        {
          "output_type": "stream",
          "name": "stdout",
          "text": [
            "False False\n",
            "False False\n"
          ]
        }
      ]
    },
    {
      "cell_type": "markdown",
      "source": [
        "# **Model Architecture**"
      ],
      "metadata": {
        "id": "uLqh1zs2uM6u"
      }
    },
    {
      "cell_type": "code",
      "source": [
        "# Definisikan model dengan regularisasi dan dropout\n",
        "model = tf.keras.Sequential([\n",
        "    tf.keras.layers.Dense(128, input_dim=6, kernel_initializer='normal', kernel_regularizer=tf.keras.regularizers.l2(0.001), activation='relu'),\n",
        "    tf.keras.layers.Dense(64, activation='relu', kernel_regularizer=tf.keras.regularizers.l2(0.001)),\n",
        "    tf.keras.layers.Dropout(0.5),\n",
        "    tf.keras.layers.Dense(32, activation='relu', kernel_regularizer=tf.keras.regularizers.l2(0.001)),\n",
        "    tf.keras.layers.Dropout(0.5),\n",
        "    tf.keras.layers.Dense(16, activation='relu', kernel_regularizer=tf.keras.regularizers.l2(0.001)),\n",
        "    tf.keras.layers.Dense(8, activation='relu'),\n",
        "    tf.keras.layers.Dense(1, activation='sigmoid')\n",
        "])\n"
      ],
      "metadata": {
        "id": "2-2FVVYSuSHv"
      },
      "execution_count": null,
      "outputs": []
    },
    {
      "cell_type": "code",
      "source": [
        "# Kompilasi model dengan optimizer dan metrics tambahan\n",
        "optimizer = tf.keras.optimizers.Adam(learning_rate=0.0001, clipnorm=1.0)\n",
        "model.compile(optimizer=optimizer, loss='binary_crossentropy', metrics=['accuracy'])"
      ],
      "metadata": {
        "id": "ml2lwYKUucDn"
      },
      "execution_count": null,
      "outputs": []
    },
    {
      "cell_type": "code",
      "source": [
        "history = model.fit(X_train, y_train, epochs=100, batch_size=128, validation_data=(X_test, y_test))"
      ],
      "metadata": {
        "colab": {
          "base_uri": "https://localhost:8080/"
        },
        "id": "WYEiDMjQufev",
        "outputId": "53308b48-0bda-442f-e5c6-8f4d64eaa0e2"
      },
      "execution_count": null,
      "outputs": [
        {
          "output_type": "stream",
          "name": "stdout",
          "text": [
            "Epoch 1/100\n",
            "48/48 [==============================] - 5s 17ms/step - loss: 0.8433 - accuracy: 0.5847 - val_loss: 0.8323 - val_accuracy: 0.7881\n",
            "Epoch 2/100\n",
            "48/48 [==============================] - 0s 8ms/step - loss: 0.8241 - accuracy: 0.7463 - val_loss: 0.8150 - val_accuracy: 0.8257\n",
            "Epoch 3/100\n",
            "48/48 [==============================] - 0s 9ms/step - loss: 0.8043 - accuracy: 0.7866 - val_loss: 0.7895 - val_accuracy: 0.8257\n",
            "Epoch 4/100\n",
            "48/48 [==============================] - 0s 7ms/step - loss: 0.7757 - accuracy: 0.7976 - val_loss: 0.7489 - val_accuracy: 0.8257\n",
            "Epoch 5/100\n",
            "48/48 [==============================] - 0s 7ms/step - loss: 0.7293 - accuracy: 0.8019 - val_loss: 0.6893 - val_accuracy: 0.8257\n",
            "Epoch 6/100\n",
            "48/48 [==============================] - 0s 6ms/step - loss: 0.6730 - accuracy: 0.8034 - val_loss: 0.6239 - val_accuracy: 0.8257\n",
            "Epoch 7/100\n",
            "48/48 [==============================] - 0s 8ms/step - loss: 0.6258 - accuracy: 0.8036 - val_loss: 0.5757 - val_accuracy: 0.8257\n",
            "Epoch 8/100\n",
            "48/48 [==============================] - 0s 8ms/step - loss: 0.6014 - accuracy: 0.8036 - val_loss: 0.5537 - val_accuracy: 0.8257\n",
            "Epoch 9/100\n",
            "48/48 [==============================] - 0s 8ms/step - loss: 0.5890 - accuracy: 0.8037 - val_loss: 0.5415 - val_accuracy: 0.8257\n",
            "Epoch 10/100\n",
            "48/48 [==============================] - 1s 11ms/step - loss: 0.5777 - accuracy: 0.8037 - val_loss: 0.5345 - val_accuracy: 0.8257\n",
            "Epoch 11/100\n",
            "48/48 [==============================] - 1s 18ms/step - loss: 0.5754 - accuracy: 0.8037 - val_loss: 0.5314 - val_accuracy: 0.8257\n",
            "Epoch 12/100\n",
            "48/48 [==============================] - 1s 15ms/step - loss: 0.5636 - accuracy: 0.8037 - val_loss: 0.5265 - val_accuracy: 0.8257\n",
            "Epoch 13/100\n",
            "48/48 [==============================] - 1s 15ms/step - loss: 0.5597 - accuracy: 0.8037 - val_loss: 0.5225 - val_accuracy: 0.8257\n",
            "Epoch 14/100\n",
            "48/48 [==============================] - 1s 20ms/step - loss: 0.5528 - accuracy: 0.8037 - val_loss: 0.5176 - val_accuracy: 0.8257\n",
            "Epoch 15/100\n",
            "48/48 [==============================] - 1s 15ms/step - loss: 0.5572 - accuracy: 0.8037 - val_loss: 0.5161 - val_accuracy: 0.8257\n",
            "Epoch 16/100\n",
            "48/48 [==============================] - 1s 17ms/step - loss: 0.5520 - accuracy: 0.8037 - val_loss: 0.5120 - val_accuracy: 0.8257\n",
            "Epoch 17/100\n",
            "48/48 [==============================] - 0s 7ms/step - loss: 0.5437 - accuracy: 0.8037 - val_loss: 0.5080 - val_accuracy: 0.8257\n",
            "Epoch 18/100\n",
            "48/48 [==============================] - 1s 11ms/step - loss: 0.5401 - accuracy: 0.8037 - val_loss: 0.5057 - val_accuracy: 0.8257\n",
            "Epoch 19/100\n",
            "48/48 [==============================] - 1s 11ms/step - loss: 0.5406 - accuracy: 0.8037 - val_loss: 0.5027 - val_accuracy: 0.8257\n",
            "Epoch 20/100\n",
            "48/48 [==============================] - 0s 9ms/step - loss: 0.5369 - accuracy: 0.8037 - val_loss: 0.4999 - val_accuracy: 0.8257\n",
            "Epoch 21/100\n",
            "48/48 [==============================] - 0s 8ms/step - loss: 0.5318 - accuracy: 0.8037 - val_loss: 0.4964 - val_accuracy: 0.8257\n",
            "Epoch 22/100\n",
            "48/48 [==============================] - 0s 7ms/step - loss: 0.5290 - accuracy: 0.8037 - val_loss: 0.4939 - val_accuracy: 0.8257\n",
            "Epoch 23/100\n",
            "48/48 [==============================] - 0s 9ms/step - loss: 0.5253 - accuracy: 0.8037 - val_loss: 0.4915 - val_accuracy: 0.8257\n",
            "Epoch 24/100\n",
            "48/48 [==============================] - 0s 9ms/step - loss: 0.5270 - accuracy: 0.8037 - val_loss: 0.4893 - val_accuracy: 0.8257\n",
            "Epoch 25/100\n",
            "48/48 [==============================] - 0s 7ms/step - loss: 0.5252 - accuracy: 0.8037 - val_loss: 0.4873 - val_accuracy: 0.8257\n",
            "Epoch 26/100\n",
            "48/48 [==============================] - 0s 10ms/step - loss: 0.5194 - accuracy: 0.8037 - val_loss: 0.4852 - val_accuracy: 0.8257\n",
            "Epoch 27/100\n",
            "48/48 [==============================] - 0s 10ms/step - loss: 0.5176 - accuracy: 0.8037 - val_loss: 0.4832 - val_accuracy: 0.8257\n",
            "Epoch 28/100\n",
            "48/48 [==============================] - 1s 11ms/step - loss: 0.5141 - accuracy: 0.8037 - val_loss: 0.4800 - val_accuracy: 0.8257\n",
            "Epoch 29/100\n",
            "48/48 [==============================] - 1s 12ms/step - loss: 0.5102 - accuracy: 0.8037 - val_loss: 0.4779 - val_accuracy: 0.8257\n",
            "Epoch 30/100\n",
            "48/48 [==============================] - 0s 8ms/step - loss: 0.5104 - accuracy: 0.8037 - val_loss: 0.4772 - val_accuracy: 0.8257\n",
            "Epoch 31/100\n",
            "48/48 [==============================] - 0s 7ms/step - loss: 0.5062 - accuracy: 0.8037 - val_loss: 0.4748 - val_accuracy: 0.8257\n",
            "Epoch 32/100\n",
            "48/48 [==============================] - 0s 10ms/step - loss: 0.5085 - accuracy: 0.8037 - val_loss: 0.4742 - val_accuracy: 0.8257\n",
            "Epoch 33/100\n",
            "48/48 [==============================] - 0s 10ms/step - loss: 0.5030 - accuracy: 0.8037 - val_loss: 0.4716 - val_accuracy: 0.8257\n",
            "Epoch 34/100\n",
            "48/48 [==============================] - 0s 8ms/step - loss: 0.5048 - accuracy: 0.8037 - val_loss: 0.4705 - val_accuracy: 0.8257\n",
            "Epoch 35/100\n",
            "48/48 [==============================] - 0s 8ms/step - loss: 0.5023 - accuracy: 0.8037 - val_loss: 0.4691 - val_accuracy: 0.8257\n",
            "Epoch 36/100\n",
            "48/48 [==============================] - 0s 7ms/step - loss: 0.4966 - accuracy: 0.8037 - val_loss: 0.4673 - val_accuracy: 0.8257\n",
            "Epoch 37/100\n",
            "48/48 [==============================] - 0s 7ms/step - loss: 0.4950 - accuracy: 0.8037 - val_loss: 0.4653 - val_accuracy: 0.8257\n",
            "Epoch 38/100\n",
            "48/48 [==============================] - 0s 7ms/step - loss: 0.5004 - accuracy: 0.8037 - val_loss: 0.4655 - val_accuracy: 0.8257\n",
            "Epoch 39/100\n",
            "48/48 [==============================] - 0s 7ms/step - loss: 0.4972 - accuracy: 0.8037 - val_loss: 0.4636 - val_accuracy: 0.8257\n",
            "Epoch 40/100\n",
            "48/48 [==============================] - 1s 23ms/step - loss: 0.4961 - accuracy: 0.8037 - val_loss: 0.4619 - val_accuracy: 0.8257\n",
            "Epoch 41/100\n",
            "48/48 [==============================] - 1s 16ms/step - loss: 0.4941 - accuracy: 0.8037 - val_loss: 0.4612 - val_accuracy: 0.8257\n",
            "Epoch 42/100\n",
            "48/48 [==============================] - 1s 15ms/step - loss: 0.4950 - accuracy: 0.8037 - val_loss: 0.4596 - val_accuracy: 0.8257\n",
            "Epoch 43/100\n",
            "48/48 [==============================] - 1s 11ms/step - loss: 0.4927 - accuracy: 0.8037 - val_loss: 0.4588 - val_accuracy: 0.8257\n",
            "Epoch 44/100\n",
            "48/48 [==============================] - 1s 13ms/step - loss: 0.4904 - accuracy: 0.8037 - val_loss: 0.4578 - val_accuracy: 0.8257\n",
            "Epoch 45/100\n",
            "48/48 [==============================] - 1s 13ms/step - loss: 0.4914 - accuracy: 0.8037 - val_loss: 0.4565 - val_accuracy: 0.8257\n",
            "Epoch 46/100\n",
            "48/48 [==============================] - 1s 11ms/step - loss: 0.4857 - accuracy: 0.8037 - val_loss: 0.4547 - val_accuracy: 0.8257\n",
            "Epoch 47/100\n",
            "48/48 [==============================] - 0s 10ms/step - loss: 0.4878 - accuracy: 0.8037 - val_loss: 0.4540 - val_accuracy: 0.8257\n",
            "Epoch 48/100\n",
            "48/48 [==============================] - 0s 8ms/step - loss: 0.4851 - accuracy: 0.8037 - val_loss: 0.4530 - val_accuracy: 0.8257\n",
            "Epoch 49/100\n",
            "48/48 [==============================] - 0s 8ms/step - loss: 0.4822 - accuracy: 0.8037 - val_loss: 0.4516 - val_accuracy: 0.8257\n",
            "Epoch 50/100\n",
            "48/48 [==============================] - 0s 7ms/step - loss: 0.4807 - accuracy: 0.8037 - val_loss: 0.4506 - val_accuracy: 0.8257\n",
            "Epoch 51/100\n",
            "48/48 [==============================] - 0s 8ms/step - loss: 0.4827 - accuracy: 0.8037 - val_loss: 0.4501 - val_accuracy: 0.8257\n",
            "Epoch 52/100\n",
            "48/48 [==============================] - 0s 7ms/step - loss: 0.4850 - accuracy: 0.8037 - val_loss: 0.4500 - val_accuracy: 0.8257\n",
            "Epoch 53/100\n",
            "48/48 [==============================] - 0s 7ms/step - loss: 0.4754 - accuracy: 0.8037 - val_loss: 0.4480 - val_accuracy: 0.8257\n",
            "Epoch 54/100\n",
            "48/48 [==============================] - 0s 7ms/step - loss: 0.4789 - accuracy: 0.8037 - val_loss: 0.4477 - val_accuracy: 0.8257\n",
            "Epoch 55/100\n",
            "48/48 [==============================] - 0s 9ms/step - loss: 0.4758 - accuracy: 0.8037 - val_loss: 0.4460 - val_accuracy: 0.8257\n",
            "Epoch 56/100\n",
            "48/48 [==============================] - 0s 8ms/step - loss: 0.4773 - accuracy: 0.8037 - val_loss: 0.4455 - val_accuracy: 0.8257\n",
            "Epoch 57/100\n",
            "48/48 [==============================] - 0s 7ms/step - loss: 0.4772 - accuracy: 0.8037 - val_loss: 0.4450 - val_accuracy: 0.8257\n",
            "Epoch 58/100\n",
            "48/48 [==============================] - 0s 7ms/step - loss: 0.4778 - accuracy: 0.8037 - val_loss: 0.4441 - val_accuracy: 0.8257\n",
            "Epoch 59/100\n",
            "48/48 [==============================] - 0s 8ms/step - loss: 0.4723 - accuracy: 0.8037 - val_loss: 0.4426 - val_accuracy: 0.8257\n",
            "Epoch 60/100\n",
            "48/48 [==============================] - 0s 8ms/step - loss: 0.4748 - accuracy: 0.8037 - val_loss: 0.4425 - val_accuracy: 0.8257\n",
            "Epoch 61/100\n",
            "48/48 [==============================] - 0s 7ms/step - loss: 0.4748 - accuracy: 0.8037 - val_loss: 0.4419 - val_accuracy: 0.8257\n",
            "Epoch 62/100\n",
            "48/48 [==============================] - 0s 7ms/step - loss: 0.4730 - accuracy: 0.8037 - val_loss: 0.4415 - val_accuracy: 0.8257\n",
            "Epoch 63/100\n",
            "48/48 [==============================] - 0s 6ms/step - loss: 0.4733 - accuracy: 0.8037 - val_loss: 0.4406 - val_accuracy: 0.8257\n",
            "Epoch 64/100\n",
            "48/48 [==============================] - 0s 4ms/step - loss: 0.4711 - accuracy: 0.8037 - val_loss: 0.4397 - val_accuracy: 0.8257\n",
            "Epoch 65/100\n",
            "48/48 [==============================] - 0s 4ms/step - loss: 0.4708 - accuracy: 0.8037 - val_loss: 0.4391 - val_accuracy: 0.8257\n",
            "Epoch 66/100\n",
            "48/48 [==============================] - 0s 5ms/step - loss: 0.4668 - accuracy: 0.8037 - val_loss: 0.4379 - val_accuracy: 0.8257\n",
            "Epoch 67/100\n",
            "48/48 [==============================] - 0s 4ms/step - loss: 0.4677 - accuracy: 0.8037 - val_loss: 0.4376 - val_accuracy: 0.8257\n",
            "Epoch 68/100\n",
            "48/48 [==============================] - 0s 4ms/step - loss: 0.4704 - accuracy: 0.8037 - val_loss: 0.4372 - val_accuracy: 0.8257\n",
            "Epoch 69/100\n",
            "48/48 [==============================] - 0s 4ms/step - loss: 0.4687 - accuracy: 0.8037 - val_loss: 0.4370 - val_accuracy: 0.8257\n",
            "Epoch 70/100\n",
            "48/48 [==============================] - 0s 4ms/step - loss: 0.4682 - accuracy: 0.8037 - val_loss: 0.4361 - val_accuracy: 0.8257\n",
            "Epoch 71/100\n",
            "48/48 [==============================] - 0s 4ms/step - loss: 0.4656 - accuracy: 0.8037 - val_loss: 0.4355 - val_accuracy: 0.8257\n",
            "Epoch 72/100\n",
            "48/48 [==============================] - 0s 4ms/step - loss: 0.4631 - accuracy: 0.8037 - val_loss: 0.4344 - val_accuracy: 0.8257\n",
            "Epoch 73/100\n",
            "48/48 [==============================] - 0s 4ms/step - loss: 0.4648 - accuracy: 0.8037 - val_loss: 0.4340 - val_accuracy: 0.8257\n",
            "Epoch 74/100\n",
            "48/48 [==============================] - 0s 4ms/step - loss: 0.4634 - accuracy: 0.8037 - val_loss: 0.4332 - val_accuracy: 0.8257\n",
            "Epoch 75/100\n",
            "48/48 [==============================] - 0s 4ms/step - loss: 0.4622 - accuracy: 0.8037 - val_loss: 0.4331 - val_accuracy: 0.8257\n",
            "Epoch 76/100\n",
            "48/48 [==============================] - 0s 4ms/step - loss: 0.4619 - accuracy: 0.8037 - val_loss: 0.4325 - val_accuracy: 0.8257\n",
            "Epoch 77/100\n",
            "48/48 [==============================] - 0s 4ms/step - loss: 0.4639 - accuracy: 0.8037 - val_loss: 0.4321 - val_accuracy: 0.8257\n",
            "Epoch 78/100\n",
            "48/48 [==============================] - 0s 4ms/step - loss: 0.4632 - accuracy: 0.8037 - val_loss: 0.4311 - val_accuracy: 0.8257\n",
            "Epoch 79/100\n",
            "48/48 [==============================] - 0s 4ms/step - loss: 0.4596 - accuracy: 0.8037 - val_loss: 0.4310 - val_accuracy: 0.8257\n",
            "Epoch 80/100\n",
            "48/48 [==============================] - 0s 4ms/step - loss: 0.4578 - accuracy: 0.8037 - val_loss: 0.4307 - val_accuracy: 0.8257\n",
            "Epoch 81/100\n",
            "48/48 [==============================] - 0s 4ms/step - loss: 0.4594 - accuracy: 0.8037 - val_loss: 0.4304 - val_accuracy: 0.8257\n",
            "Epoch 82/100\n",
            "48/48 [==============================] - 0s 4ms/step - loss: 0.4618 - accuracy: 0.8037 - val_loss: 0.4300 - val_accuracy: 0.8257\n",
            "Epoch 83/100\n",
            "48/48 [==============================] - 0s 4ms/step - loss: 0.4583 - accuracy: 0.8037 - val_loss: 0.4289 - val_accuracy: 0.8257\n",
            "Epoch 84/100\n",
            "48/48 [==============================] - 0s 6ms/step - loss: 0.4566 - accuracy: 0.8037 - val_loss: 0.4282 - val_accuracy: 0.8257\n",
            "Epoch 85/100\n",
            "48/48 [==============================] - 0s 5ms/step - loss: 0.4599 - accuracy: 0.8037 - val_loss: 0.4281 - val_accuracy: 0.8257\n",
            "Epoch 86/100\n",
            "48/48 [==============================] - 0s 6ms/step - loss: 0.4584 - accuracy: 0.8037 - val_loss: 0.4281 - val_accuracy: 0.8257\n",
            "Epoch 87/100\n",
            "48/48 [==============================] - 0s 5ms/step - loss: 0.4574 - accuracy: 0.8041 - val_loss: 0.4273 - val_accuracy: 0.8257\n",
            "Epoch 88/100\n",
            "48/48 [==============================] - 0s 6ms/step - loss: 0.4546 - accuracy: 0.8041 - val_loss: 0.4265 - val_accuracy: 0.8257\n",
            "Epoch 89/100\n",
            "48/48 [==============================] - 0s 7ms/step - loss: 0.4520 - accuracy: 0.8057 - val_loss: 0.4259 - val_accuracy: 0.8257\n",
            "Epoch 90/100\n",
            "48/48 [==============================] - 0s 6ms/step - loss: 0.4563 - accuracy: 0.8055 - val_loss: 0.4263 - val_accuracy: 0.8257\n",
            "Epoch 91/100\n",
            "48/48 [==============================] - 0s 7ms/step - loss: 0.4542 - accuracy: 0.8067 - val_loss: 0.4256 - val_accuracy: 0.8257\n",
            "Epoch 92/100\n",
            "48/48 [==============================] - 0s 7ms/step - loss: 0.4545 - accuracy: 0.8093 - val_loss: 0.4256 - val_accuracy: 0.8257\n",
            "Epoch 93/100\n",
            "48/48 [==============================] - 0s 7ms/step - loss: 0.4543 - accuracy: 0.8090 - val_loss: 0.4249 - val_accuracy: 0.8257\n",
            "Epoch 94/100\n",
            "48/48 [==============================] - 0s 7ms/step - loss: 0.4546 - accuracy: 0.8095 - val_loss: 0.4241 - val_accuracy: 0.8271\n",
            "Epoch 95/100\n",
            "48/48 [==============================] - 0s 4ms/step - loss: 0.4536 - accuracy: 0.8112 - val_loss: 0.4243 - val_accuracy: 0.8330\n",
            "Epoch 96/100\n",
            "48/48 [==============================] - 0s 4ms/step - loss: 0.4543 - accuracy: 0.8128 - val_loss: 0.4243 - val_accuracy: 0.8297\n",
            "Epoch 97/100\n",
            "48/48 [==============================] - 0s 4ms/step - loss: 0.4517 - accuracy: 0.8105 - val_loss: 0.4235 - val_accuracy: 0.8330\n",
            "Epoch 98/100\n",
            "48/48 [==============================] - 0s 4ms/step - loss: 0.4534 - accuracy: 0.8126 - val_loss: 0.4232 - val_accuracy: 0.8290\n",
            "Epoch 99/100\n",
            "48/48 [==============================] - 0s 4ms/step - loss: 0.4523 - accuracy: 0.8121 - val_loss: 0.4226 - val_accuracy: 0.8310\n",
            "Epoch 100/100\n",
            "48/48 [==============================] - 0s 4ms/step - loss: 0.4537 - accuracy: 0.8107 - val_loss: 0.4234 - val_accuracy: 0.8310\n"
          ]
        }
      ]
    },
    {
      "cell_type": "code",
      "source": [
        "model.summary()"
      ],
      "metadata": {
        "colab": {
          "base_uri": "https://localhost:8080/"
        },
        "id": "GzMdXIu4wyE5",
        "outputId": "56f794fe-8ce0-431e-d7f0-c5db5dd59ef0"
      },
      "execution_count": null,
      "outputs": [
        {
          "output_type": "stream",
          "name": "stdout",
          "text": [
            "Model: \"sequential\"\n",
            "_________________________________________________________________\n",
            " Layer (type)                Output Shape              Param #   \n",
            "=================================================================\n",
            " dense (Dense)               (None, 128)               896       \n",
            "                                                                 \n",
            " dense_1 (Dense)             (None, 64)                8256      \n",
            "                                                                 \n",
            " dropout (Dropout)           (None, 64)                0         \n",
            "                                                                 \n",
            " dense_2 (Dense)             (None, 32)                2080      \n",
            "                                                                 \n",
            " dropout_1 (Dropout)         (None, 32)                0         \n",
            "                                                                 \n",
            " dense_3 (Dense)             (None, 16)                528       \n",
            "                                                                 \n",
            " dense_4 (Dense)             (None, 8)                 136       \n",
            "                                                                 \n",
            " dense_5 (Dense)             (None, 1)                 9         \n",
            "                                                                 \n",
            "=================================================================\n",
            "Total params: 11905 (46.50 KB)\n",
            "Trainable params: 11905 (46.50 KB)\n",
            "Non-trainable params: 0 (0.00 Byte)\n",
            "_________________________________________________________________\n"
          ]
        }
      ]
    },
    {
      "cell_type": "code",
      "source": [
        "#save model ke h5\n",
        "model.save(\"model_stunting_anak.h5\")"
      ],
      "metadata": {
        "colab": {
          "base_uri": "https://localhost:8080/"
        },
        "id": "BMMAJwEtJ_fK",
        "outputId": "27c6e6e8-ae64-490f-897a-8c28a457b26e"
      },
      "execution_count": null,
      "outputs": [
        {
          "output_type": "stream",
          "name": "stderr",
          "text": [
            "/usr/local/lib/python3.10/dist-packages/keras/src/engine/training.py:3103: UserWarning: You are saving your model as an HDF5 file via `model.save()`. This file format is considered legacy. We recommend using instead the native Keras format, e.g. `model.save('my_model.keras')`.\n",
            "  saving_api.save_model(\n"
          ]
        }
      ]
    },
    {
      "cell_type": "code",
      "source": [
        "# Fungsi untuk menghitung IMT\n",
        "def hitung_imt(row):\n",
        "    tinggi_meter = row['Body Length'] / 100  # Konversi tinggi badan ke meter\n",
        "    berat_badan = row['Body Weight']\n",
        "    imt = berat_badan / (tinggi_meter ** 2)\n",
        "    return imt\n",
        "# Fungsi untuk menghitung Kebutuhan Gizi\n",
        "def hitung_kebutuhan_gizi(row):\n",
        "    berat_badan = row['Body Weight']\n",
        "    kebutuhan_gizi = berat_badan * 0.5 + 4.5\n",
        "    return kebutuhan_gizi\n",
        "# Fungsi untuk menghitung Kebutuhan Gizi\n",
        "def hitung_kebutuhan_kalori(row):\n",
        "    berat_badan = row['Body Weight']\n",
        "    umur_tahun = row['Age'] / 12\n",
        "    if umur_tahun <= 0.3:\n",
        "        return (89 * berat_badan - 100) + 175  # Rata-rata untuk 0-3 bulan\n",
        "    elif umur_tahun <= 0.6:\n",
        "        return (89 * berat_badan - 100) + 56  # Estimasi untuk 4-6 bulan\n",
        "    elif umur_tahun <= 1:\n",
        "        return (89 * berat_badan - 100) + 22  # Estimasi untuk 7-12 bulan\n",
        "    elif umur_tahun <= 3.5:\n",
        "        return (89 * berat_badan - 100) + 20  # Estimasi untuk 1-3 tahun\n",
        "    elif umur_tahun <= 6:\n",
        "        return 1400 # Estimasi untuk 4-6 tahun\n",
        "    else:\n",
        "        raise ValueError(\"Umur di luar rentang yang didukung\")\n",
        "    return hitung_kebutuhan_kalori\n",
        "# Fungsi untuk menghitung Kebutuhan Protein\n",
        "def hitung_kebutuhan_protein(row):\n",
        "    kebutuhan_gizi = hitung_kebutuhan_gizi(row)\n",
        "    kebutuhan_protein = kebutuhan_gizi * 0.15 + 1.5\n",
        "    return kebutuhan_protein\n",
        "\n",
        "# Tambahkan kolom IMT ke DataFrame\n",
        "df_baru['IMT'] = df_baru.apply(hitung_imt, axis=1)\n",
        "df_baru['Kebutuhan Kalori (gram/hari)'] = df_baru.apply(hitung_kebutuhan_kalori, axis=1)\n",
        "df_baru['Kebutuhan Protein (gram/hari)'] = df_baru.apply(hitung_kebutuhan_protein, axis=1)\n",
        "\n",
        "# Cetak DataFrame dengan kolom IMT\n",
        "print(df_baru)"
      ],
      "metadata": {
        "colab": {
          "base_uri": "https://localhost:8080/"
        },
        "id": "_1-S6hw8AlY1",
        "outputId": "5e2c6fee-dbd3-4681-eeb5-e3f215571133"
      },
      "execution_count": null,
      "outputs": [
        {
          "output_type": "stream",
          "name": "stdout",
          "text": [
            "     Gender  Age  Birth Weight  Birth Length  Body Weight  Body Length  \\\n",
            "0         0   17           3.0            49         10.0         72.2   \n",
            "1         1   11           2.9            49          2.9         65.0   \n",
            "2         0   16           2.9            49          8.5         72.2   \n",
            "3         0   31           2.8            49          6.4         63.0   \n",
            "4         0   15           3.1            49         10.5         49.0   \n",
            "...     ...  ...           ...           ...          ...          ...   \n",
            "9992      0   11           2.8            48         10.5         73.5   \n",
            "9994      0   15           2.8            49          2.9         71.0   \n",
            "9996      1   12           2.8            48          7.7         63.0   \n",
            "9997      0   16           2.8            49          7.7         49.0   \n",
            "9999      1   10           3.0            49          7.7         80.0   \n",
            "\n",
            "     Breastfeeding Stunting        IMT  Kebutuhan Kalori (gram/hari)  \\\n",
            "0                0        0  19.183401                         810.0   \n",
            "1                0        1   6.863905                         180.1   \n",
            "2                0        1  16.305891                         676.5   \n",
            "3                0        1  16.124969                         489.6   \n",
            "4                0        1  43.731778                         854.5   \n",
            "...            ...      ...        ...                           ...   \n",
            "9992             0        0  19.436346                         856.5   \n",
            "9994             0        1   5.752827                         178.1   \n",
            "9996             0        0  19.400353                         607.3   \n",
            "9997             0        0  32.069971                         605.3   \n",
            "9999             0        1  12.031250                         607.3   \n",
            "\n",
            "      Kebutuhan Protein (gram/hari)  \n",
            "0                            2.9250  \n",
            "1                            2.3925  \n",
            "2                            2.8125  \n",
            "3                            2.6550  \n",
            "4                            2.9625  \n",
            "...                             ...  \n",
            "9992                         2.9625  \n",
            "9994                         2.3925  \n",
            "9996                         2.7525  \n",
            "9997                         2.7525  \n",
            "9999                         2.7525  \n",
            "\n",
            "[7573 rows x 11 columns]\n"
          ]
        }
      ]
    },
    {
      "cell_type": "code",
      "source": [
        "df_baru.to_csv('data_anak.csv', index=False)"
      ],
      "metadata": {
        "id": "v7U3DBB5Adbu"
      },
      "execution_count": null,
      "outputs": []
    },
    {
      "cell_type": "code",
      "source": [
        "recommendation_rules = {\n",
        "    'stunting': {\n",
        "        'anemia': \"Anak terdeteksi stunting dan menderita anemia. Sebaiknya tambahkan makanan kaya zat besi seperti daging tanpa lemak, ikan, unggas, kacang lentil, dan sereal yang diperkaya zat besi. Pastikan asupan kalori dan protein mencukupi.\",\n",
        "        'vitamin A deficiency': \"Anak terdeteksi stunting dan memiliki kekurangan vitamin A. Tambahkan makanan kaya vitamin A seperti wortel, ubi jalar, bayam, dan sayuran berdaun hijau lainnya. Pastikan nutrisi seimbang dan asupan kalori mencukupi.\",\n",
        "        'chronic illness': \"Anak memiliki penyakit kronis dan terdeteksi stunting. Konsultasikan dengan penyedia layanan kesehatan untuk rencana nutrisi khusus dan pastikan asupan nutrisi mencukupi.\",\n",
        "        'frequent infections': \"Anak sering mengalami infeksi dan terdeteksi stunting. Pastikan kebersihan yang baik dan diet kaya vitamin dan mineral untuk meningkatkan daya tahan tubuh. Konsultasikan dengan penyedia layanan kesehatan untuk bimbingan lebih lanjut.\",\n",
        "        'food allergies': \"Anak memiliki alergi makanan dan terdeteksi stunting. Hindari makanan yang menyebabkan alergi dan konsultasikan dengan ahli gizi untuk alternatif makanan yang aman dan bergizi. Pastikan nutrisi seimbang meskipun ada batasan diet.\",\n",
        "        'default': \"Anak terdeteksi stunting. Pastikan nutrisi seimbang dan asupan kalori mencukupi. Fokus pada makanan tinggi protein seperti telur, produk susu, dan kacang-kacangan. Konsultasikan dengan penyedia layanan kesehatan untuk penilaian lebih lanjut.\"\n",
        "    },\n",
        "    'normal': {\n",
        "        'anemia': \"Anak menderita anemia tetapi sehat. Tambahkan makanan kaya zat besi seperti daging tanpa lemak, ikan, unggas, kacang lentil, dan sereal yang diperkaya zat besi. Pastikan pemeriksaan rutin dengan penyedia layanan kesehatan.\",\n",
        "        'vitamin A deficiency': \"Anak memiliki kekurangan vitamin A tetapi sehat. Tambahkan makanan kaya vitamin A seperti wortel, ubi jalar, bayam, dan sayuran berdaun hijau lainnya. Pertahankan diet seimbang dengan berbagai buah dan sayuran.\",\n",
        "        'chronic illness': \"Anak memiliki penyakit kronis tetapi sehat. Konsultasikan dengan penyedia layanan kesehatan untuk rencana nutrisi khusus dan pastikan asupan nutrisi mencukupi.\",\n",
        "        'frequent infections': \"Pastikan kebersihan yang baik dan diet kaya vitamin dan mineral untuk meningkatkan daya tahan tubuh. Konsultasikan dengan penyedia layanan kesehatan untuk bimbingan lebih lanjut.\",\n",
        "        'food allergies': \"Anak memiliki alergi makanan tetapi sehat. Hindari makanan yang menyebabkan alergi dan konsultasikan dengan ahli gizi untuk alternatif makanan yang aman dan bergizi. Pertahankan diet seimbang.\",\n",
        "        'default': \"Anak sehat. Pertahankan diet seimbang dengan banyak buah, sayuran, biji-bijian utuh, dan protein rendah lemak. Dorong aktivitas fisik dan pastikan pemeriksaan medis rutin.\"\n",
        "    }}\n",
        "\n",
        "recommendation_rules_bayi = {\n",
        "    'stunting': {\n",
        "        'default': \"Anak terdeteksi stunting. Pastikan pemberian ASI eksklusif atau susu formula yang memenuhi kebutuhan gizinya. Lakukan pemeriksaan rutin ke dokter anak untuk pemantauan pertumbuhan dan perkembangan.\",\n",
        "        'hiv': \"Penghentian penyusuan oleh ibu yang terinfeksi HIV sebaiknya dilakukan secara bertahap selama sebulan, dan jika mereka atau bayi mereka sedang menjalani profilaksis ARV, profilaksis tersebut harus diteruskan selama satu minggu setelah berhenti menyusui sepenuhnya. Menghentikan penyusuan secara mendadak bisa berbahaya dan tidak dianjurkan. Penyusuan baru boleh dihentikan ketika tersedia makanan lain yang aman dan cukup nutrisi untuk menggantikan ASI.\",\n",
        "        'premature': \"Anak lahir prematur dan terdeteksi stunting. Pastikan asupan ASI atau susu formula yang mencukupi. Konsultasikan dengan dokter anak untuk memastikan pertumbuhan dan perkembangan yang optimal.\",\n",
        "        'asi_eksklusif': \"Bayi sebaiknya mendapatkan ASI dari ibu sendiri/donor ASI selama enam bulan pertama kehidupan untuk mencapai pertumbuhan, perkembangan, dan kesehatan optimal.\",\n",
        "        'masalah_kesehatan': \"Konsultasikan dengan dokter untuk mengatasi masalah kesehatan yang sering terjadi pada anak.\",\n",
        "        'riwayat_alergi': \"Pantau makanan dan lingkungan sekitar anak untuk menghindari alergen.\",\n",
        "        'dirawat_rumah_sakit': \"Pastikan anak mendapatkan pemulihan yang cukup setelah perawatan di rumah sakit.\"\n",
        "    },\n",
        "    'normal': {\n",
        "        'default': \"Anak Normal. Pastikan pemberian ASI eksklusif atau susu formula yang memenuhi kebutuhan gizinya. Lakukan pemeriksaan rutin ke dokter anak untuk pemantauan pertumbuhan dan perkembangan.\",\n",
        "        'hiv': \"Penghentian penyusuan oleh ibu yang terinfeksi HIV sebaiknya dilakukan secara bertahap selama sebulan, dan jika mereka atau bayi mereka sedang menjalani profilaksis ARV, profilaksis tersebut harus diteruskan selama satu minggu setelah berhenti menyusui sepenuhnya. Menghentikan penyusuan secara mendadak bisa berbahaya dan tidak dianjurkan. Penyusuan baru boleh dihentikan ketika tersedia makanan lain yang aman dan cukup nutrisi untuk menggantikan ASI.\",\n",
        "        'premature': \"Anak lahir prematur dan terdeteksi stunting. Pastikan asupan ASI atau susu formula yang mencukupi. Konsultasikan dengan dokter anak untuk memastikan pertumbuhan dan perkembangan yang optimal.\",\n",
        "        'asi_eksklusif': \"Bayi sebaiknya mendapatkan ASI dari ibu sendiri/donor ASI selama enam bulan pertama kehidupan untuk mencapai pertumbuhan, perkembangan, dan kesehatan optimal.\",\n",
        "        'masalah_kesehatan': \"Konsultasikan dengan dokter untuk mengatasi masalah kesehatan yang sering terjadi pada anak.\",\n",
        "        'riwayat_alergi': \"Pantau makanan dan lingkungan sekitar anak untuk menghindari alergen.\",\n",
        "        'dirawat_rumah_sakit': \"Pastikan anak mendapatkan pemulihan yang cukup setelah perawatan di rumah sakit.\"\n",
        "    }\n",
        "}"
      ],
      "metadata": {
        "id": "wOL5D_EhYBje"
      },
      "execution_count": null,
      "outputs": []
    },
    {
      "cell_type": "code",
      "source": [
        "def detection():\n",
        "    Name = input(\"Masukan Nama Anak Anda: \")\n",
        "    Gender = int(input(\"Masukan Jenis Kelamin Anak Anda (0: Laki-laki, 1: Perempuan): \"))\n",
        "    Age = int(input(\"Berapa bulan umur anak Anda (bulan): \"))\n",
        "    Birth_Weight = float(input(\"Berapa berat badan Anak Anda saat lahir (satuan kg): \"))\n",
        "    Birth_Length = float(input(\"Berapa tinggi badan Anak Anda saat lahir (satuan cm): \"))\n",
        "    Body_Weight = float(input(\"Berapa berat badan Anak Anda saat ini (satuan kg): \"))\n",
        "    Body_Length = float(input(\"Berapa tinggi badan Anak Anda saat ini (satuan cm): \"))\n",
        "\n",
        "    if Age < 6:\n",
        "        hiv = input(\"Apakah ibu terinfeksi HIV (ya/tidak): \").lower() == 'ya'\n",
        "        premature = input(\"Apakah anak Anda lahir prematur? (ya/tidak): \").lower() == 'ya'\n",
        "        asi_eksklusif = input(\"Apakah anak Anda mendapatkan ASI eksklusif? (ya/tidak): \").lower() == 'ya'\n",
        "        if not asi_eksklusif:\n",
        "            susu_formula = input(\"Jika tidak ASI, apakah anak Anda mendapatkan susu formula? (ya/tidak): \").lower() == 'ya'\n",
        "        else:\n",
        "            susu_formula = False  # Default value if ASI eksklusif\n",
        "        menyusu_per_hari = int(input(\"Seberapa sering anak Anda menyusu dalam sehari? (kali): \"))\n",
        "        masalah_kesehatan = input(\"Apakah anak Anda sering mengalami masalah kesehatan seperti demam atau infeksi? (ya/tidak): \").lower() == 'ya'\n",
        "        riwayat_alergi = input(\"Apakah anak Anda memiliki riwayat alergi? (ya/tidak): \").lower() == 'ya'\n",
        "        dirawat_rumah_sakit = input(\"Apakah anak Anda pernah dirawat di rumah sakit? (ya/tidak): \").lower() == 'ya'\n",
        "        pertumbuhan = input(\"Bagaimana pertumbuhan anak Anda selama beberapa bulan terakhir? Apakah ada penurunan atau kenaikan berat badan yang signifikan? (ada/tidak): \")\n",
        "        tonggak_perkembangan = input(\"Apakah anak Anda telah mencapai tonggak perkembangan tertentu (seperti mengangkat kepala, tersenyum, meraih benda)? (ya/tidak): \").lower() == 'ya'\n",
        "\n",
        "\n",
        "    else:\n",
        "        # Additional questions\n",
        "        eating_pattern = input(\"Apakah anak memiliki pola makan yang teratur? (yes/no): \").lower() == 'yes'\n",
        "        physical_activity = input(\"Seberapa sering anak berolahraga atau beraktivitas fisik? (contoh: setiap hari, 2-3 kali seminggu, jarang): \")\n",
        "        eating_habits = input(\"Apakah anak suka makan buah dan sayuran? (yes/no): \").lower() == 'yes'\n",
        "        health_history = input(\"Apakah anak memiliki riwayat penyakit tertentu seperti alergi makanan atau gangguan pencernaan? (yes/no): \").lower() == 'yes'\n",
        "        growth_history = input(\"Bagaimana pertumbuhan dan perkembangan anak selama beberapa bulan terakhir? (baik/cukup/tidak baik): \")\n",
        "        environmental_condition = input(\"Apakah lingkungan tempat tinggal anak mendukung pola makan yang sehat? (yes/no): \").lower() == 'yes'\n",
        "\n",
        "        # Get additional health conditions\n",
        "        anemia = input(\"Apakah anak Anda menderita anemia? (yes/no): \").lower() == 'yes'\n",
        "        vitamin_a_deficiency = input(\"Apakah anak Anda menderita kekurangan vitamin A? (yes/no): \").lower() == 'yes'\n",
        "        chronic_illness = input(\"Apakah anak Anda memiliki penyakit kronis? (yes/no): \").lower() == 'yes'\n",
        "        frequent_infections = input(\"Apakah anak Anda sering mengalami infeksi? (yes/no): \").lower() == 'yes'\n",
        "        food_allergies = input(\"Apakah anak Anda memiliki alergi makanan? (yes/no): \").lower() == 'yes'\n",
        "\n",
        "\n",
        "    data = np.array([[Gender, Age, Birth_Weight, Birth_Length, Body_Weight, Body_Length]])\n",
        "    deteksi = model.predict(data)\n",
        "    print(deteksi)\n",
        "    print(\"\\n\")\n",
        "    detection_result = deteksi[0]\n",
        "\n",
        "    # Determine stunting status\n",
        "    stunting_status = 'stunting' if detection_result > 0.5 else 'normal'\n",
        "    if stunting_status == 'stunting':\n",
        "        print(Name + \" terdeteksi Stunting\")\n",
        "    else:\n",
        "        print(Name + \" terdeteksi Normal\")\n",
        "\n",
        "    # Generate recommendations\n",
        "    if Age < 6:\n",
        "        recommendations = [recommendation_rules_bayi[stunting_status]['default']]\n",
        "        if hiv:\n",
        "            recommendations.append(recommendation_rules_bayi[stunting_status]['hiv'])\n",
        "        if premature:\n",
        "            recommendations.append(recommendation_rules_bayi[stunting_status]['premature'])\n",
        "        if not asi_eksklusif:\n",
        "            recommendations.append(recommendation_rules_bayi[stunting_status]['asi_eksklusif'])\n",
        "        if susu_formula:\n",
        "            recommendations.append(\"Jika anak tidak mendapatkan ASI, pastikan susu formula yang diberikan sesuai dengan kebutuhan anak.\")\n",
        "        if menyusu_per_hari < 8:\n",
        "            recommendations.append(\"Frekuensi menyusui bayi sebaiknya lebih dari 8 kali sehari.\")\n",
        "        if masalah_kesehatan:\n",
        "            recommendations.append(recommendation_rules_bayi[stunting_status]['masalah_kesehatan'])\n",
        "        if riwayat_alergi:\n",
        "            recommendations.append(recommendation_rules_bayi[stunting_status]['riwayat_alergi'])\n",
        "        if dirawat_rumah_sakit:\n",
        "            recommendations.append(recommendation_rules_bayi[stunting_status]['dirawat_rumah_sakit'])\n",
        "        if \"ada\" in pertumbuhan:\n",
        "            recommendations.append(\"Konsultasikan dengan dokter jika ada penurunan berat badan yang signifikan.\")\n",
        "        if not tonggak_perkembangan:\n",
        "            recommendations.append(recommendation_rules_bayi[stunting_status]['tonggak_perkembangan'])\n",
        "\n",
        "    else:\n",
        "        recommendations = [recommendation_rules[stunting_status]['default']]\n",
        "        if anemia:\n",
        "            recommendations.append(recommendation_rules[stunting_status]['anemia'])\n",
        "        if vitamin_a_deficiency:\n",
        "            recommendations.append(recommendation_rules[stunting_status]['vitamin A deficiency'])\n",
        "        if chronic_illness:\n",
        "            recommendations.append(recommendation_rules[stunting_status]['chronic illness'])\n",
        "        if frequent_infections:\n",
        "            recommendations.append(recommendation_rules[stunting_status]['frequent infections'])\n",
        "        if food_allergies:\n",
        "            recommendations.append(recommendation_rules[stunting_status]['food allergies'])\n",
        "\n",
        "        # Additional recommendations based on input\n",
        "        if not eating_pattern:\n",
        "            recommendations.append(\"Pastikan anak memiliki pola makan yang teratur dengan jadwal yang tetap.\")\n",
        "        if physical_activity.lower() not in ['setiap hari', 'hampir setiap hari']:\n",
        "            recommendations.append(\"Anjurkan anak untuk berolahraga atau beraktivitas fisik minimal 1 jam setiap hari.\")\n",
        "        if not eating_habits:\n",
        "            recommendations.append(\"Dorong anak untuk makan lebih banyak buah dan sayuran untuk memperoleh nutrisi yang seimbang.\")\n",
        "        if health_history:\n",
        "            recommendations.append(\"Konsultasikan dengan dokter untuk mengatasi masalah kesehatan yang ada dan sesuaikan pola makan jika diperlukan.\")\n",
        "        if growth_history.lower() == 'tidak baik':\n",
        "            recommendations.append(\"Konsultasikan dengan dokter untuk mengevaluasi pertumbuhan anak dan mencari solusi yang tepat.\")\n",
        "        if not environmental_condition:\n",
        "            recommendations.append(\"Pastikan lingkungan tempat tinggal anak mendukung pola makan yang sehat, hindari makanan tidak sehat di rumah.\")\n",
        "    # Correct IMT calculation\n",
        "    tinggi_meter = Body_Length / 100  # Convert height to meters\n",
        "    IMT = Body_Weight / (tinggi_meter ** 2)\n",
        "    kebutuhan_gizi = Body_Weight * 0.5 + 4.5\n",
        "\n",
        "    # Fungsi untuk menghitung kebutuhan kalori berdasarkan umur, jenis kelamin, dan berat badan\n",
        "    def kebutuhan_kalori(umur_bulan, berat_badan):\n",
        "      umur_tahun = umur_bulan / 12\n",
        "      if umur_tahun <= 0.3:\n",
        "          return (89 * berat_badan - 100) + 175  # Rata-rata untuk 0-3 bulan\n",
        "      elif umur_tahun <= 0.6:\n",
        "          return (89 * berat_badan - 100) + 56  # Estimasi untuk 4-6 bulan\n",
        "      elif umur_tahun <= 1:\n",
        "          return (89 * berat_badan - 100) + 22  # Estimasi untuk 7-12 bulan\n",
        "      elif umur_tahun <= 3.5:\n",
        "          return (89 * berat_badan - 100) + 20  # Estimasi untuk 1-3 tahun\n",
        "      elif umur_tahun <= 6:\n",
        "          return 1400 # Estimasi untuk 4-6 tahun\n",
        "      else:\n",
        "          raise ValueError(\"Umur di luar rentang yang didukung\")\n",
        "      return hitung_kebutuhan_kalori\n",
        "\n",
        "    # Fungsi untuk menghitung kebutuhan serat berdasarkan umur\n",
        "    def kebutuhan_serat(umur_bulan):\n",
        "      umur_tahun = umur_bulan / 12\n",
        "      if umur_tahun <= 0.5:\n",
        "          return 0  # Rata-rata untuk 0-5 bulan\n",
        "      elif umur_tahun <= 0.11:\n",
        "          return 11 # Estimasi untuk 6-11 bulan\n",
        "      elif umur_tahun <= 3:\n",
        "          return 19  # Estimasi untuk 1-3 tahun\n",
        "      elif umur_tahun <= 6:\n",
        "          return 20 # Estimasi untuk 4-6 tahun\n",
        "      else:\n",
        "          raise ValueError(\"Umur di luar rentang yang didukung\")\n",
        "\n",
        "    # Fungsi untuk menghitung kebutuhan air berdasarkan berat badan\n",
        "    def kebutuhan_air(berat_badan):\n",
        "      return berat_badan * 100  # Dalam ml\n",
        "\n",
        "    # Fungsi untuk menghitung kebutuhan lemak berdasarkan kalori\n",
        "    def kebutuhan_lemak(kalori):\n",
        "      return 0.3 * kalori / 9  # 30% dari kalori, dengan 1 gram lemak = 9 kalori\n",
        "\n",
        "    # Fungsi untuk menghitung kebutuhan karbohidrat berdasarkan kalori\n",
        "    def kebutuhan_karbohidrat(kalori):\n",
        "      return 0.55 * kalori / 4  # 55% dari kalori, dengan 1 gram karbohidrat = 4 kalori\n",
        "\n",
        "    # Fungsi untuk menghitung kebutuhan protein berdasarkan kalori\n",
        "    def kebutuhan_protein(kalori):\n",
        "      return 0.15 * kalori / 4  # 15% dari kalori, dengan 1 gram protein = 4 kalori\n",
        "\n",
        "\n",
        "    print(f\"\\nRangkuman Gizi yang dibutuhkan {Name} :\")\n",
        "    jenis_kelamin_str = 'Laki-laki' if Gender == 0 else 'Perempuan'\n",
        "    kebutuhan_kalori_harian = kebutuhan_kalori(Age, Body_Weight)\n",
        "    kebutuhan_serat_harian = kebutuhan_serat(Age)\n",
        "    kebutuhan_air_harian = kebutuhan_air(Body_Weight)\n",
        "    kebutuhan_lemak_harian = kebutuhan_lemak(kebutuhan_kalori_harian)\n",
        "    kebutuhan_karbohidrat_harian = kebutuhan_karbohidrat(kebutuhan_kalori_harian)\n",
        "    kebutuhan_protein_harian = kebutuhan_protein(kebutuhan_kalori_harian)\n",
        "\n",
        "    # Simple evaluation (for demonstration purposes only, not for clinical use)\n",
        "    if IMT < 14:\n",
        "        imt_status = \"Berat badan kurang\"\n",
        "    elif 14 <= IMT < 18:\n",
        "        imt_status = \"Berat badan normal\"\n",
        "    elif 18 <= IMT < 20:\n",
        "        imt_status = \"Risiko kelebihan berat badan\"\n",
        "    else:\n",
        "        imt_status = \"Kelebihan berat badan\"\n",
        "\n",
        "    print(f\"IMT {Name} sebesar {IMT:.2f} dengan status: {imt_status}\")\n",
        "    print(f\"Kebutuhan kalori harian : {kebutuhan_kalori_harian} kalori.\")\n",
        "    print(f\"Kebutuhan serat harian : {kebutuhan_serat_harian} gram.\")\n",
        "    print(f\"Kebutuhan air harian : {kebutuhan_air_harian:.2f} ml.\")\n",
        "    print(f\"Kebutuhan lemak harian : {kebutuhan_lemak_harian:.2f} gram.\")\n",
        "    print(f\"Kebutuhan karbohidrat harian : {kebutuhan_karbohidrat_harian:.2f} gram.\")\n",
        "    print(f\"Kebutuhan protein harian : {kebutuhan_protein_harian:.2f} gram.\")\n",
        "\n",
        "\n",
        "    recommendations.append(f\"Kebutuhan gizi harian untuk {Name}:{kebutuhan_kalori_harian} kalori, {kebutuhan_serat_harian} gram serat, {kebutuhan_air_harian:.2f} ml air, {kebutuhan_lemak_harian:.2f} gram lemak, {kebutuhan_karbohidrat_harian:.2f} gram karbohidrat, {kebutuhan_protein_harian:.2f} gram protein \")\n",
        "\n",
        "    # Print recommendations\n",
        "    print(\"\\n Rekomendasi untuk \" + Name + \":\")\n",
        "    for recommendation in recommendations:\n",
        "        print(\"- \" + recommendation)\n",
        "\n",
        "\n",
        "\n",
        "detection()\n"
      ],
      "metadata": {
        "colab": {
          "base_uri": "https://localhost:8080/"
        },
        "id": "55BI5tvCVfhz",
        "outputId": "b6a8b913-6bf7-49e6-ce37-0db7b9189651"
      },
      "execution_count": null,
      "outputs": [
        {
          "output_type": "stream",
          "name": "stdout",
          "text": [
            "Masukan Nama Anak Anda: Arfi\n",
            "Masukan Jenis Kelamin Anak Anda (0: Laki-laki, 1: Perempuan): 0\n",
            "Berapa bulan umur anak Anda (bulan): 24\n",
            "Berapa berat badan Anak Anda saat lahir (satuan kg): 2.9\n",
            "Berapa tinggi badan Anak Anda saat lahir (satuan cm): 40\n",
            "Berapa berat badan Anak Anda saat ini (satuan kg): 20\n",
            "Berapa tinggi badan Anak Anda saat ini (satuan cm): 50\n",
            "Apakah anak memiliki pola makan yang teratur? (yes/no): 1\n",
            "Seberapa sering anak berolahraga atau beraktivitas fisik? (contoh: setiap hari, 2-3 kali seminggu, jarang): setiap hari\n",
            "Apakah anak suka makan buah dan sayuran? (yes/no): yes\n",
            "Apakah anak memiliki riwayat penyakit tertentu seperti alergi makanan atau gangguan pencernaan? (yes/no): yes\n",
            "Bagaimana pertumbuhan dan perkembangan anak selama beberapa bulan terakhir? (baik/cukup/tidak baik): baik\n",
            "Apakah lingkungan tempat tinggal anak mendukung pola makan yang sehat? (yes/no): yes\n",
            "Apakah anak Anda menderita anemia? (yes/no): yes\n",
            "Apakah anak Anda menderita kekurangan vitamin A? (yes/no): yes\n",
            "Apakah anak Anda memiliki penyakit kronis? (yes/no): no\n",
            "Apakah anak Anda sering mengalami infeksi? (yes/no): no\n",
            "Apakah anak Anda memiliki alergi makanan? (yes/no): no\n",
            "1/1 [==============================] - 0s 163ms/step\n",
            "[[0.31410283]]\n",
            "\n",
            "\n",
            "Arfi terdeteksi Normal\n",
            "\n",
            "Rangkuman Gizi yang dibutuhkan Arfi :\n",
            "IMT Arfi sebesar 80.00 dengan status: Kelebihan berat badan\n",
            "Kebutuhan kalori harian : 1700.0 kalori.\n",
            "Kebutuhan serat harian : 19 gram.\n",
            "Kebutuhan air harian : 2000.00 ml.\n",
            "Kebutuhan lemak harian : 56.67 gram.\n",
            "Kebutuhan karbohidrat harian : 233.75 gram.\n",
            "Kebutuhan protein harian : 63.75 gram.\n",
            "\n",
            " Rekomendasi untuk Arfi:\n",
            "- Anak sehat. Pertahankan diet seimbang dengan banyak buah, sayuran, biji-bijian utuh, dan protein rendah lemak. Dorong aktivitas fisik dan pastikan pemeriksaan medis rutin.\n",
            "- Anak menderita anemia tetapi sehat. Tambahkan makanan kaya zat besi seperti daging tanpa lemak, ikan, unggas, kacang lentil, dan sereal yang diperkaya zat besi. Pastikan pemeriksaan rutin dengan penyedia layanan kesehatan.\n",
            "- Anak memiliki kekurangan vitamin A tetapi sehat. Tambahkan makanan kaya vitamin A seperti wortel, ubi jalar, bayam, dan sayuran berdaun hijau lainnya. Pertahankan diet seimbang dengan berbagai buah dan sayuran.\n",
            "- Pastikan anak memiliki pola makan yang teratur dengan jadwal yang tetap.\n",
            "- Konsultasikan dengan dokter untuk mengatasi masalah kesehatan yang ada dan sesuaikan pola makan jika diperlukan.\n",
            "- Kebutuhan gizi harian untuk Arfi:1700.0 kalori, 19 gram serat, 2000.00 ml air, 56.67 gram lemak, 233.75 gram karbohidrat, 63.75 gram protein \n"
          ]
        }
      ]
    },
    {
      "cell_type": "markdown",
      "source": [
        "#prediksi sebelumnya (ditutup)\n"
      ],
      "metadata": {
        "id": "HrZwPubde3Pi"
      }
    },
    {
      "cell_type": "code",
      "source": [
        "prediction = model.predict(np.array([[1, 11, 1.5, 3.3, 7.5, 70]]))\n",
        "# Fungsi untuk mengubah hasil prediksi menjadi kalimat \"Yes\" atau \"No\"\n",
        "def predict_result(prediction):\n",
        "    if prediction == 1:\n",
        "        return \"Yes\"\n",
        "    else:\n",
        "        return \"No\"\n",
        "\n",
        "# Menghasilkan kalimat berdasarkan hasil prediksi\n",
        "result = predict_result(prediction)\n",
        "\n",
        "print(result)"
      ],
      "metadata": {
        "id": "JplI5PNPw2ob",
        "colab": {
          "base_uri": "https://localhost:8080/"
        },
        "outputId": "bab13fec-bfbe-482b-c732-e4fbea5c9d35"
      },
      "execution_count": null,
      "outputs": [
        {
          "output_type": "stream",
          "name": "stdout",
          "text": [
            "1/1 [==============================] - 0s 37ms/step\n",
            "Yes\n"
          ]
        }
      ]
    },
    {
      "cell_type": "code",
      "source": [
        "prediction = model.predict(np.array([[1, 10, 2.5, 50, 9, 80]]))\n",
        "# Fungsi untuk mengubah hasil prediksi menjadi kalimat \"Yes\" atau \"No\"\n",
        "def predict_result(prediction):\n",
        "    if prediction == 1:\n",
        "        return \"Yes\"\n",
        "    else:\n",
        "        return \"No\"\n",
        "\n",
        "# Menghasilkan kalimat berdasarkan hasil prediksi\n",
        "result = predict_result(prediction)\n",
        "\n",
        "print(result)"
      ],
      "metadata": {
        "id": "uFObhNULF9Eq",
        "colab": {
          "base_uri": "https://localhost:8080/"
        },
        "outputId": "a6a8ce67-5a43-42c5-b774-a9cf7d9c96c2"
      },
      "execution_count": null,
      "outputs": [
        {
          "output_type": "stream",
          "name": "stdout",
          "text": [
            "1/1 [==============================] - 0s 23ms/step\n",
            "No\n"
          ]
        }
      ]
    },
    {
      "cell_type": "markdown",
      "source": [
        "# **Model Evaluation**"
      ],
      "metadata": {
        "id": "pmZXcQV0xe-P"
      }
    },
    {
      "cell_type": "code",
      "source": [
        "# Make predictions on the test set\n",
        "y_pred = model.predict(X_test)\n",
        "\n",
        "# Convert continuous variable to binary labels\n",
        "threshold = 0.5\n",
        "y_pred_binary = (y_pred >= threshold).astype(int)\n",
        "\n",
        "# Create the confusion matrix\n",
        "confusion = confusion_matrix(y_pred_binary, y_test)\n",
        "\n",
        "# Create a heatmap of the confusion matrix\n",
        "sns.heatmap(confusion, annot=True, cmap=\"Blues\", fmt=\"d\")\n",
        "\n",
        "# Set the axis labels\n",
        "plt.xlabel(\"Predicted Labels\")\n",
        "plt.ylabel(\"True Labels\")\n",
        "\n",
        "# Set the title\n",
        "plt.title(\"Confusion Matrix\")\n",
        "\n",
        "# Display the plot\n",
        "plt.show()"
      ],
      "metadata": {
        "id": "0Se7AAF0xcS0",
        "colab": {
          "base_uri": "https://localhost:8080/",
          "height": 490
        },
        "outputId": "49732989-161b-4bf6-d0c8-ae11c10fba97"
      },
      "execution_count": null,
      "outputs": [
        {
          "output_type": "stream",
          "name": "stdout",
          "text": [
            "48/48 [==============================] - 0s 3ms/step\n"
          ]
        },
        {
          "output_type": "display_data",
          "data": {
            "text/plain": [
              "<Figure size 640x480 with 2 Axes>"
            ],
            "image/png": "[encoded data removed]"
          },
          "metadata": {}
        }
      ]
    },
    {
      "cell_type": "code",
      "source": [
        "# Retrieve a list of list results on training and test data\n",
        "# sets for each training epoch\n",
        "acc = history.history['accuracy']\n",
        "val_acc = history.history['val_accuracy']\n",
        "loss = history.history['loss']\n",
        "val_loss = history.history['val_loss']\n",
        "\n",
        "epochs = range(len(acc))  # Get number of epochs\n",
        "\n",
        "# Plot training and validation accuracy per epoch\n",
        "plt.plot(epochs, acc, 'r', label=\"Training Accuracy\")\n",
        "plt.plot(epochs, val_acc, 'b', label=\"Validation Accuracy\")\n",
        "plt.title('Training and validation accuracy')\n",
        "plt.legend()  # Add legend to the plot\n",
        "plt.show()\n",
        "print(\"\")\n",
        "\n",
        "# Plot training and validation loss per epoch\n",
        "plt.plot(epochs, loss, 'r', label=\"Training Loss\")\n",
        "plt.plot(epochs, val_loss, 'b', label=\"Validation Loss\")\n",
        "plt.title('Training and validation loss')\n",
        "plt.legend()  # Add legend to the plot\n",
        "plt.show()"
      ],
      "metadata": {
        "id": "-_3QhXT0xqm8",
        "colab": {
          "base_uri": "https://localhost:8080/",
          "height": 905
        },
        "outputId": "13cf7971-a2d8-4896-f3fa-ac2c7cc7727e"
      },
      "execution_count": null,
      "outputs": [
        {
          "output_type": "display_data",
          "data": {
            "text/plain": [
              "<Figure size 640x480 with 1 Axes>"
            ],
            "image/png": "[encoded data removed]"
          },
          "metadata": {}
        },
        {
          "output_type": "stream",
          "name": "stdout",
          "text": [
            "\n"
          ]
        },
        {
          "output_type": "display_data",
          "data": {
            "text/plain": [
              "<Figure size 640x480 with 1 Axes>"
            ],
            "image/png": "[encoded data removed]"
          },
          "metadata": {}
        }
      ]
    },
    {
      "cell_type": "code",
      "source": [
        "# Calculate precision, recall, and F1 score\n",
        "precision = precision_score(y_test, y_pred_binary)\n",
        "recall = recall_score(y_test, y_pred_binary)\n",
        "f1 = f1_score(y_test, y_pred_binary)\n",
        "\n",
        "# Generate classification report\n",
        "report = classification_report(y_test, y_pred_binary)\n",
        "\n",
        "# Print the metrics report\n",
        "print(\"Precision:\", precision)\n",
        "print(\"Recall:\", recall)\n",
        "print(\"F1 Score:\", f1)\n",
        "print(\"Classification Report:\\n\", report)"
      ],
      "metadata": {
        "id": "ul0RtIdCxuBu",
        "colab": {
          "base_uri": "https://localhost:8080/"
        },
        "outputId": "df9aa53e-9c4e-464c-9846-270202fcd19a"
      },
      "execution_count": null,
      "outputs": [
        {
          "output_type": "stream",
          "name": "stdout",
          "text": [
            "Precision: 0.8522968197879859\n",
            "Recall: 0.9640287769784173\n",
            "F1 Score: 0.9047261815453864\n",
            "Classification Report:\n",
            "               precision    recall  f1-score   support\n",
            "\n",
            "           0       0.55      0.21      0.30       264\n",
            "           1       0.85      0.96      0.90      1251\n",
            "\n",
            "    accuracy                           0.83      1515\n",
            "   macro avg       0.70      0.59      0.60      1515\n",
            "weighted avg       0.80      0.83      0.80      1515\n",
            "\n"
          ]
        }
      ]
    },
    {
      "cell_type": "code",
      "source": [
        "# Saving model\n",
        "# Calling `save('my_model.h5')` creates a h5 file `my_model.h5`.\n",
        "model.save(\"my_h5_model.h5\")\n",
        "\n",
        "# It can be used to reconstruct the model identically.\n",
        "reconstructed_model = keras.models.load_model(\"my_h5_model.h5\")"
      ],
      "metadata": {
        "id": "pX2ZVJz1OT_S",
        "colab": {
          "base_uri": "https://localhost:8080/"
        },
        "outputId": "d48d3c6c-d746-4134-c2ac-3a10d5c37202"
      },
      "execution_count": null,
      "outputs": [
        {
          "output_type": "stream",
          "name": "stderr",
          "text": [
            "/usr/local/lib/python3.10/dist-packages/keras/src/engine/training.py:3103: UserWarning: You are saving your model as an HDF5 file via `model.save()`. This file format is considered legacy. We recommend using instead the native Keras format, e.g. `model.save('my_model.keras')`.\n",
            "  saving_api.save_model(\n"
          ]
        }
      ]
    },
    {
      "cell_type": "code",
      "source": [
        "model.save('my_model')"
      ],
      "metadata": {
        "id": "gC2HP-IBOWgx"
      },
      "execution_count": null,
      "outputs": []
    },
    {
      "cell_type": "markdown",
      "source": [
        "#tflite"
      ],
      "metadata": {
        "id": "5M-ZxTKwrMew"
      }
    },
    {
      "cell_type": "code",
      "source": [
        "print('\\u2022 Using TensorFlow Version:', tf.__version__)"
      ],
      "metadata": {
        "id": "eSVYSjogsjPg"
      },
      "execution_count": null,
      "outputs": []
    },
    {
      "cell_type": "code",
      "source": [
        "export_dir = 'saved_model/1'\n",
        "tf.saved_model.save(model, export_dir)"
      ],
      "metadata": {
        "id": "pz-FWvvMrOGk"
      },
      "execution_count": null,
      "outputs": []
    },
    {
      "cell_type": "code",
      "source": [
        "# Convert the model.\n",
        "converter = tf.lite.TFLiteConverter.from_saved_model(export_dir)\n",
        "tflite_model = converter.convert()"
      ],
      "metadata": {
        "id": "GGYLS95crTie"
      },
      "execution_count": null,
      "outputs": []
    },
    {
      "cell_type": "code",
      "source": [
        "import pathlib\n",
        "tflite_model_file = pathlib.Path('model.tflite')\n",
        "tflite_model_file.write_bytes(tflite_model)"
      ],
      "metadata": {
        "id": "AAFt9amXrVy0"
      },
      "execution_count": null,
      "outputs": []
    },
    {
      "cell_type": "code",
      "source": [
        "# Load TFLite model and allocate tensors.\n",
        "interpreter = tf.lite.Interpreter(model_content=tflite_model)\n",
        "interpreter.allocate_tensors()\n",
        "\n",
        "# Get input and output tensors.\n",
        "input_details = interpreter.get_input_details()\n",
        "output_details = interpreter.get_output_details()"
      ],
      "metadata": {
        "id": "G4ql0Tb_rkGM"
      },
      "execution_count": null,
      "outputs": []
    },
    {
      "cell_type": "code",
      "source": [
        "# Test the TensorFlow Lite model on random input data.\n",
        "input_shape = input_details[0]['shape']\n",
        "inputs, outputs = [], []\n",
        "for _ in range(100):\n",
        "    input_data = np.array(np.random.random_sample(input_shape), dtype=np.float32)\n",
        "    interpreter.set_tensor(input_details[0]['index'], input_data)\n",
        "\n",
        "    interpreter.invoke()\n",
        "    tflite_results = interpreter.get_tensor(output_details[0]['index'])\n",
        "\n",
        "    # Test the TensorFlow model on random input data.\n",
        "    tf_results = model(tf.constant(input_data))\n",
        "    output_data = np.array(tf_results)\n",
        "\n",
        "    inputs.append(input_data[0][0])\n",
        "    outputs.append(output_data[0][0])"
      ],
      "metadata": {
        "id": "clPAfo7WrmWC"
      },
      "execution_count": null,
      "outputs": []
    },
    {
      "cell_type": "code",
      "source": [
        "try:\n",
        "    from google.colab import files\n",
        "    files.download(tflite_model_file)\n",
        "except:\n",
        "    pass"
      ],
      "metadata": {
        "id": "f5MF5grtrt7v"
      },
      "execution_count": null,
      "outputs": []
    }
  ]
}