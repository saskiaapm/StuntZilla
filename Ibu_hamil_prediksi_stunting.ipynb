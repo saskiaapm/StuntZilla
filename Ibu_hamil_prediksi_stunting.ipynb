{
  "nbformat": 4,
  "nbformat_minor": 0,
  "metadata": {
    "colab": {
      "provenance": []
    },
    "kernelspec": {
      "name": "python3",
      "display_name": "Python 3"
    },
    "language_info": {
      "name": "python"
    }
  },
  "cells": [
    {
      "cell_type": "code",
      "execution_count": null,
      "metadata": {
        "id": "0qQXpen4TSI4"
      },
      "outputs": [],
      "source": [
        "#Import Library\n",
        "import numpy as np\n",
        "import tensorflow as tf\n",
        "import pandas as pd\n",
        "import matplotlib.pyplot as plt\n",
        "from tensorflow import keras\n",
        "from sklearn.model_selection import train_test_split\n",
        "from sklearn.metrics import confusion_matrix\n",
        "from sklearn.metrics import precision_score, recall_score, f1_score\n",
        "from sklearn.metrics import classification_report\n",
        "from sklearn.preprocessing import MinMaxScaler\n",
        "import seaborn as sns\n",
        "import joblib\n",
        "from sklearn.impute import SimpleImputer\n",
        "from tensorflow.keras.models import Sequential\n",
        "from tensorflow.keras.layers import Dense, Dropout, BatchNormalization\n",
        "from tensorflow.keras.utils import to_categorical\n",
        "from sklearn.metrics import mean_squared_error, r2_score\n",
        "from sklearn.preprocessing import StandardScaler, LabelEncoder\n",
        "from sklearn.utils import class_weight\n",
        "from imblearn.over_sampling import SMOTE\n",
        "from tensorflow.keras.callbacks import EarlyStopping, ReduceLROnPlateau"
      ]
    },
    {
      "cell_type": "code",
      "source": [
        "# Read csv\n",
        "df = pd.read_csv('https://raw.githubusercontent.com/saskiaapm/StuntZilla/main/Dataset/hasil_prediksi.csv')\n",
        "# Display the first few rows of the DataFrame\n",
        "print(df.head())"
      ],
      "metadata": {
        "colab": {
          "base_uri": "https://localhost:8080/"
        },
        "id": "n-GiBbV9UXcb",
        "outputId": "8950567b-7b96-406d-d4b2-cb425cd81bf4"
      },
      "execution_count": null,
      "outputs": [
        {
          "output_type": "stream",
          "name": "stdout",
          "text": [
            "   Unnamed: 0    pidlink  tinggi_badan  berat_badan  jenis_kelamin  \\\n",
            "0           0    3070003     58.299999          4.9              0   \n",
            "1           1    3070003     58.299999          4.9              0   \n",
            "2           2  278120008           NaN        999.6              3   \n",
            "3           3  180220007     68.000000          8.0              1   \n",
            "4           4   33220006     70.000000          7.2              1   \n",
            "\n",
            "   apakah_anak_minum_vitA_6bln_terakhir  apakah_anak_imunisasi_bcg  \\\n",
            "0                                   1.0                        NaN   \n",
            "1                                   1.0                        NaN   \n",
            "2                                   NaN                        NaN   \n",
            "3                                   3.0                        NaN   \n",
            "4                                   NaN                        NaN   \n",
            "\n",
            "   apakah_anak_Imunisasi_polio  apakah_anak_imunisasi_dpt  \\\n",
            "0                          NaN                        NaN   \n",
            "1                          NaN                        NaN   \n",
            "2                          NaN                        NaN   \n",
            "3                          NaN                        NaN   \n",
            "4                          NaN                        NaN   \n",
            "\n",
            "   apakah_anak_imunisasi_campak  ...  anc_berat  anc_tinggi  anc_td  \\\n",
            "0                           NaN  ...        NaN         NaN     NaN   \n",
            "1                           NaN  ...        NaN         NaN     NaN   \n",
            "2                           NaN  ...        NaN         NaN     NaN   \n",
            "3                           NaN  ...        1.0         3.0     1.0   \n",
            "4                           NaN  ...        NaN         NaN     NaN   \n",
            "\n",
            "   anc_teshb  anc_tfu  anc_djj  anc_pd  anc_panggulluar  imunisasi_tt  \\\n",
            "0        NaN      NaN      NaN     NaN              NaN           NaN   \n",
            "1        NaN      NaN      NaN     NaN              NaN           NaN   \n",
            "2        NaN      NaN      NaN     NaN              NaN           NaN   \n",
            "3        3.0      3.0      1.0     1.0              3.0           1.0   \n",
            "4        NaN      NaN      NaN     NaN              NaN           NaN   \n",
            "\n",
            "         prediksi  \n",
            "0        Stunting  \n",
            "1        Stunting  \n",
            "2  Tidak Stunting  \n",
            "3  Tidak Stunting  \n",
            "4  Tidak Stunting  \n",
            "\n",
            "[5 rows x 53 columns]\n"
          ]
        }
      ]
    },
    {
      "cell_type": "code",
      "source": [
        "df_baru=df[['apakah_bekerja_ibu', 'pendidikan_ibu', 'tinggi_badan_ibu', 'pengobatan_anemia', 'pengobatan_hipertensi', 'pengobatan_dm', 'usia_ibu_melahirkan', 'apakah_lahir_kembar', 'usia_kehamilan_saat_persalinan', 'prediksi']]"
      ],
      "metadata": {
        "id": "hA8ibSKAltvg"
      },
      "execution_count": null,
      "outputs": []
    },
    {
      "cell_type": "code",
      "source": [
        "# Merubah 'prediksi' menjadi kategorikal\n",
        "df_baru['prediksi'] = df_baru['prediksi'].astype('category')\n",
        "df_baru = df_baru.copy()\n",
        "df_baru['prediksi'].replace(['Tidak Stunting', 'Stunting'], [0, 1], inplace=True)"
      ],
      "metadata": {
        "colab": {
          "base_uri": "https://localhost:8080/"
        },
        "id": "95qO9nq7nvQL",
        "outputId": "34a595bc-dcd2-4312-a4e3-9c81b9243d75"
      },
      "execution_count": null,
      "outputs": [
        {
          "output_type": "stream",
          "name": "stderr",
          "text": [
            "<ipython-input-4-6dd64a3fa961>:2: SettingWithCopyWarning: \n",
            "A value is trying to be set on a copy of a slice from a DataFrame.\n",
            "Try using .loc[row_indexer,col_indexer] = value instead\n",
            "\n",
            "See the caveats in the documentation: https://pandas.pydata.org/pandas-docs/stable/user_guide/indexing.html#returning-a-view-versus-a-copy\n",
            "  df_baru['prediksi'] = df_baru['prediksi'].astype('category')\n"
          ]
        }
      ]
    },
    {
      "cell_type": "code",
      "source": [
        "# Merubah 'apakah_bekerja_ibu' menjadi kategorikal\n",
        "df_baru = df_baru.copy()\n",
        "df_baru['apakah_bekerja_ibu'].replace([1.0, 3.0], [1, 0], inplace=True)"
      ],
      "metadata": {
        "id": "5KU0Y5_PY81g"
      },
      "execution_count": null,
      "outputs": []
    },
    {
      "cell_type": "code",
      "source": [
        "# Merubah 'pendidikan' menjadi kategorikal\n",
        "df_baru = df_baru.copy()\n",
        "df_baru['pendidikan_ibu'].replace([11,12, 13, 14, 15, 17, 60, 61, 62, 63, 72, 73, 74, 90, 95], [7, 8, 9, 10, 11, 12, 13, 14, 15, 16, 17, 18, 19, 20, 21], inplace=True)"
      ],
      "metadata": {
        "id": "mquJKosxY_YC"
      },
      "execution_count": null,
      "outputs": []
    },
    {
      "cell_type": "code",
      "source": [
        "# Merubah 'pengobatan_anemia' menjadi kategorikal\n",
        "df_baru = df_baru.copy()\n",
        "df_baru['pengobatan_anemia'].replace([1.0, 3.0], [1, 0], inplace=True)"
      ],
      "metadata": {
        "id": "UDBjxqwoaBGW"
      },
      "execution_count": null,
      "outputs": []
    },
    {
      "cell_type": "code",
      "source": [
        "# Merubah 'pengobatan_hipertensi' menjadi kategorikal\n",
        "df_baru = df_baru.copy()\n",
        "df_baru['pengobatan_hipertensi'].replace([1.0, 3.0], [1, 0], inplace=True)"
      ],
      "metadata": {
        "id": "RnYXZQ2yZ6nN"
      },
      "execution_count": null,
      "outputs": []
    },
    {
      "cell_type": "code",
      "source": [
        "# Merubah 'pengobatan_dm' menjadi kategorikal\n",
        "df_baru = df_baru.copy()\n",
        "df_baru['pengobatan_dm'].replace([1.0, 3.0], [1, 0], inplace=True)"
      ],
      "metadata": {
        "id": "atTeHJXnaNV7"
      },
      "execution_count": null,
      "outputs": []
    },
    {
      "cell_type": "code",
      "source": [
        "# Membulatkan semua kolom ke 2 desimal\n",
        "df_baru['usia_ibu_melahirkan'] = df_baru['usia_ibu_melahirkan'].round(1)"
      ],
      "metadata": {
        "id": "MQOoROPibj1J"
      },
      "execution_count": null,
      "outputs": []
    },
    {
      "cell_type": "code",
      "source": [
        "# Membulatkan semua kolom ke 2 desimal\n",
        "df_baru['tinggi_badan_ibu'] = df_baru['tinggi_badan_ibu'].round(1)"
      ],
      "metadata": {
        "id": "YVMtoBdyb6X1"
      },
      "execution_count": null,
      "outputs": []
    },
    {
      "cell_type": "code",
      "source": [
        "df_baru.info()"
      ],
      "metadata": {
        "colab": {
          "base_uri": "https://localhost:8080/"
        },
        "id": "oi5pqdj7n1wi",
        "outputId": "d62885aa-da27-4bc0-fde7-586fc2a762c2"
      },
      "execution_count": null,
      "outputs": [
        {
          "output_type": "stream",
          "name": "stdout",
          "text": [
            "<class 'pandas.core.frame.DataFrame'>\n",
            "RangeIndex: 293 entries, 0 to 292\n",
            "Data columns (total 10 columns):\n",
            " #   Column                          Non-Null Count  Dtype   \n",
            "---  ------                          --------------  -----   \n",
            " 0   apakah_bekerja_ibu              179 non-null    float64 \n",
            " 1   pendidikan_ibu                  290 non-null    float64 \n",
            " 2   tinggi_badan_ibu                265 non-null    float64 \n",
            " 3   pengobatan_anemia               174 non-null    float64 \n",
            " 4   pengobatan_hipertensi           174 non-null    float64 \n",
            " 5   pengobatan_dm                   174 non-null    float64 \n",
            " 6   usia_ibu_melahirkan             278 non-null    float64 \n",
            " 7   apakah_lahir_kembar             174 non-null    float64 \n",
            " 8   usia_kehamilan_saat_persalinan  174 non-null    float64 \n",
            " 9   prediksi                        293 non-null    category\n",
            "dtypes: category(1), float64(9)\n",
            "memory usage: 21.1 KB\n"
          ]
        }
      ]
    },
    {
      "cell_type": "code",
      "source": [
        "df_baru.describe()"
      ],
      "metadata": {
        "colab": {
          "base_uri": "https://localhost:8080/",
          "height": 320
        },
        "id": "NQ0vO7nOoPMp",
        "outputId": "41a7d756-e7cd-4fcd-d34e-f2e1cb3238ea"
      },
      "execution_count": null,
      "outputs": [
        {
          "output_type": "execute_result",
          "data": {
            "text/plain": [
              "       apakah_bekerja_ibu  pendidikan_ibu  tinggi_badan_ibu  \\\n",
              "count          179.000000      290.000000        265.000000   \n",
              "mean             0.296089        4.944828        261.189811   \n",
              "std              0.457811        7.037988       1043.728229   \n",
              "min              0.000000        1.000000          0.000000   \n",
              "25%              0.000000        2.000000        147.200000   \n",
              "50%              0.000000        3.000000        150.800000   \n",
              "75%              1.000000        5.000000        153.800000   \n",
              "max              1.000000       98.000000       9996.000000   \n",
              "\n",
              "       pengobatan_anemia  pengobatan_hipertensi  pengobatan_dm  \\\n",
              "count         174.000000             174.000000          174.0   \n",
              "mean            0.017241               0.005747            0.0   \n",
              "std             0.130545               0.075810            0.0   \n",
              "min             0.000000               0.000000            0.0   \n",
              "25%             0.000000               0.000000            0.0   \n",
              "50%             0.000000               0.000000            0.0   \n",
              "75%             0.000000               0.000000            0.0   \n",
              "max             1.000000               1.000000            0.0   \n",
              "\n",
              "       usia_ibu_melahirkan  apakah_lahir_kembar  \\\n",
              "count           278.000000           174.000000   \n",
              "mean             28.039568             2.954023   \n",
              "std               6.442348             0.300598   \n",
              "min               2.000000             1.000000   \n",
              "25%              23.000000             3.000000   \n",
              "50%              28.000000             3.000000   \n",
              "75%              32.000000             3.000000   \n",
              "max              45.000000             3.000000   \n",
              "\n",
              "       usia_kehamilan_saat_persalinan  \n",
              "count                      174.000000  \n",
              "mean                        17.278563  \n",
              "std                         13.577268  \n",
              "min                          7.000000  \n",
              "25%                          9.000000  \n",
              "50%                          9.000000  \n",
              "75%                         35.750000  \n",
              "max                         43.000000  "
            ],
            "text/html": [
              "\n",
              "  <div id=\"df-a630ca0f-461d-4454-9d94-de1c5b336879\" class=\"colab-df-container\">\n",
              "    <div>\n",
              "<style scoped>\n",
              "    .dataframe tbody tr th:only-of-type {\n",
              "        vertical-align: middle;\n",
              "    }\n",
              "\n",
              "    .dataframe tbody tr th {\n",
              "        vertical-align: top;\n",
              "    }\n",
              "\n",
              "    .dataframe thead th {\n",
              "        text-align: right;\n",
              "    }\n",
              "</style>\n",
              "<table border=\"1\" class=\"dataframe\">\n",
              "  <thead>\n",
              "    <tr style=\"text-align: right;\">\n",
              "      <th></th>\n",
              "      <th>apakah_bekerja_ibu</th>\n",
              "      <th>pendidikan_ibu</th>\n",
              "      <th>tinggi_badan_ibu</th>\n",
              "      <th>pengobatan_anemia</th>\n",
              "      <th>pengobatan_hipertensi</th>\n",
              "      <th>pengobatan_dm</th>\n",
              "      <th>usia_ibu_melahirkan</th>\n",
              "      <th>apakah_lahir_kembar</th>\n",
              "      <th>usia_kehamilan_saat_persalinan</th>\n",
              "    </tr>\n",
              "  </thead>\n",
              "  <tbody>\n",
              "    <tr>\n",
              "      <th>count</th>\n",
              "      <td>179.000000</td>\n",
              "      <td>290.000000</td>\n",
              "      <td>265.000000</td>\n",
              "      <td>174.000000</td>\n",
              "      <td>174.000000</td>\n",
              "      <td>174.0</td>\n",
              "      <td>278.000000</td>\n",
              "      <td>174.000000</td>\n",
              "      <td>174.000000</td>\n",
              "    </tr>\n",
              "    <tr>\n",
              "      <th>mean</th>\n",
              "      <td>0.296089</td>\n",
              "      <td>4.944828</td>\n",
              "      <td>261.189811</td>\n",
              "      <td>0.017241</td>\n",
              "      <td>0.005747</td>\n",
              "      <td>0.0</td>\n",
              "      <td>28.039568</td>\n",
              "      <td>2.954023</td>\n",
              "      <td>17.278563</td>\n",
              "    </tr>\n",
              "    <tr>\n",
              "      <th>std</th>\n",
              "      <td>0.457811</td>\n",
              "      <td>7.037988</td>\n",
              "      <td>1043.728229</td>\n",
              "      <td>0.130545</td>\n",
              "      <td>0.075810</td>\n",
              "      <td>0.0</td>\n",
              "      <td>6.442348</td>\n",
              "      <td>0.300598</td>\n",
              "      <td>13.577268</td>\n",
              "    </tr>\n",
              "    <tr>\n",
              "      <th>min</th>\n",
              "      <td>0.000000</td>\n",
              "      <td>1.000000</td>\n",
              "      <td>0.000000</td>\n",
              "      <td>0.000000</td>\n",
              "      <td>0.000000</td>\n",
              "      <td>0.0</td>\n",
              "      <td>2.000000</td>\n",
              "      <td>1.000000</td>\n",
              "      <td>7.000000</td>\n",
              "    </tr>\n",
              "    <tr>\n",
              "      <th>25%</th>\n",
              "      <td>0.000000</td>\n",
              "      <td>2.000000</td>\n",
              "      <td>147.200000</td>\n",
              "      <td>0.000000</td>\n",
              "      <td>0.000000</td>\n",
              "      <td>0.0</td>\n",
              "      <td>23.000000</td>\n",
              "      <td>3.000000</td>\n",
              "      <td>9.000000</td>\n",
              "    </tr>\n",
              "    <tr>\n",
              "      <th>50%</th>\n",
              "      <td>0.000000</td>\n",
              "      <td>3.000000</td>\n",
              "      <td>150.800000</td>\n",
              "      <td>0.000000</td>\n",
              "      <td>0.000000</td>\n",
              "      <td>0.0</td>\n",
              "      <td>28.000000</td>\n",
              "      <td>3.000000</td>\n",
              "      <td>9.000000</td>\n",
              "    </tr>\n",
              "    <tr>\n",
              "      <th>75%</th>\n",
              "      <td>1.000000</td>\n",
              "      <td>5.000000</td>\n",
              "      <td>153.800000</td>\n",
              "      <td>0.000000</td>\n",
              "      <td>0.000000</td>\n",
              "      <td>0.0</td>\n",
              "      <td>32.000000</td>\n",
              "      <td>3.000000</td>\n",
              "      <td>35.750000</td>\n",
              "    </tr>\n",
              "    <tr>\n",
              "      <th>max</th>\n",
              "      <td>1.000000</td>\n",
              "      <td>98.000000</td>\n",
              "      <td>9996.000000</td>\n",
              "      <td>1.000000</td>\n",
              "      <td>1.000000</td>\n",
              "      <td>0.0</td>\n",
              "      <td>45.000000</td>\n",
              "      <td>3.000000</td>\n",
              "      <td>43.000000</td>\n",
              "    </tr>\n",
              "  </tbody>\n",
              "</table>\n",
              "</div>\n",
              "    <div class=\"colab-df-buttons\">\n",
              "\n",
              "  <div class=\"colab-df-container\">\n",
              "    <button class=\"colab-df-convert\" onclick=\"convertToInteractive('df-a630ca0f-461d-4454-9d94-de1c5b336879')\"\n",
              "            title=\"Convert this dataframe to an interactive table.\"\n",
              "            style=\"display:none;\">\n",
              "\n",
              "  <svg xmlns=\"http://www.w3.org/2000/svg\" height=\"24px\" viewBox=\"0 -960 960 960\">\n",
              "    <path d=\"M120-120v-720h720v720H120Zm60-500h600v-160H180v160Zm220 220h160v-160H400v160Zm0 220h160v-160H400v160ZM180-400h160v-160H180v160Zm440 0h160v-160H620v160ZM180-180h160v-160H180v160Zm440 0h160v-160H620v160Z\"/>\n",
              "  </svg>\n",
              "    </button>\n",
              "\n",
              "  <style>\n",
              "    .colab-df-container {\n",
              "      display:flex;\n",
              "      gap: 12px;\n",
              "    }\n",
              "\n",
              "    .colab-df-convert {\n",
              "      background-color: #E8F0FE;\n",
              "      border: none;\n",
              "      border-radius: 50%;\n",
              "      cursor: pointer;\n",
              "      display: none;\n",
              "      fill: #1967D2;\n",
              "      height: 32px;\n",
              "      padding: 0 0 0 0;\n",
              "      width: 32px;\n",
              "    }\n",
              "\n",
              "    .colab-df-convert:hover {\n",
              "      background-color: #E2EBFA;\n",
              "      box-shadow: 0px 1px 2px rgba(60, 64, 67, 0.3), 0px 1px 3px 1px rgba(60, 64, 67, 0.15);\n",
              "      fill: #174EA6;\n",
              "    }\n",
              "\n",
              "    .colab-df-buttons div {\n",
              "      margin-bottom: 4px;\n",
              "    }\n",
              "\n",
              "    [theme=dark] .colab-df-convert {\n",
              "      background-color: #3B4455;\n",
              "      fill: #D2E3FC;\n",
              "    }\n",
              "\n",
              "    [theme=dark] .colab-df-convert:hover {\n",
              "      background-color: #434B5C;\n",
              "      box-shadow: 0px 1px 3px 1px rgba(0, 0, 0, 0.15);\n",
              "      filter: drop-shadow(0px 1px 2px rgba(0, 0, 0, 0.3));\n",
              "      fill: #FFFFFF;\n",
              "    }\n",
              "  </style>\n",
              "\n",
              "    <script>\n",
              "      const buttonEl =\n",
              "        document.querySelector('#df-a630ca0f-461d-4454-9d94-de1c5b336879 button.colab-df-convert');\n",
              "      buttonEl.style.display =\n",
              "        google.colab.kernel.accessAllowed ? 'block' : 'none';\n",
              "\n",
              "      async function convertToInteractive(key) {\n",
              "        const element = document.querySelector('#df-a630ca0f-461d-4454-9d94-de1c5b336879');\n",
              "        const dataTable =\n",
              "          await google.colab.kernel.invokeFunction('convertToInteractive',\n",
              "                                                    [key], {});\n",
              "        if (!dataTable) return;\n",
              "\n",
              "        const docLinkHtml = 'Like what you see? Visit the ' +\n",
              "          '<a target=\"_blank\" href=https://colab.research.google.com/notebooks/data_table.ipynb>data table notebook</a>'\n",
              "          + ' to learn more about interactive tables.';\n",
              "        element.innerHTML = '';\n",
              "        dataTable['output_type'] = 'display_data';\n",
              "        await google.colab.output.renderOutput(dataTable, element);\n",
              "        const docLink = document.createElement('div');\n",
              "        docLink.innerHTML = docLinkHtml;\n",
              "        element.appendChild(docLink);\n",
              "      }\n",
              "    </script>\n",
              "  </div>\n",
              "\n",
              "\n",
              "<div id=\"df-ac1e7217-f006-4358-94d1-39476d8d5243\">\n",
              "  <button class=\"colab-df-quickchart\" onclick=\"quickchart('df-ac1e7217-f006-4358-94d1-39476d8d5243')\"\n",
              "            title=\"Suggest charts\"\n",
              "            style=\"display:none;\">\n",
              "\n",
              "<svg xmlns=\"http://www.w3.org/2000/svg\" height=\"24px\"viewBox=\"0 0 24 24\"\n",
              "     width=\"24px\">\n",
              "    <g>\n",
              "        <path d=\"M19 3H5c-1.1 0-2 .9-2 2v14c0 1.1.9 2 2 2h14c1.1 0 2-.9 2-2V5c0-1.1-.9-2-2-2zM9 17H7v-7h2v7zm4 0h-2V7h2v10zm4 0h-2v-4h2v4z\"/>\n",
              "    </g>\n",
              "</svg>\n",
              "  </button>\n",
              "\n",
              "<style>\n",
              "  .colab-df-quickchart {\n",
              "      --bg-color: #E8F0FE;\n",
              "      --fill-color: #1967D2;\n",
              "      --hover-bg-color: #E2EBFA;\n",
              "      --hover-fill-color: #174EA6;\n",
              "      --disabled-fill-color: #AAA;\n",
              "      --disabled-bg-color: #DDD;\n",
              "  }\n",
              "\n",
              "  [theme=dark] .colab-df-quickchart {\n",
              "      --bg-color: #3B4455;\n",
              "      --fill-color: #D2E3FC;\n",
              "      --hover-bg-color: #434B5C;\n",
              "      --hover-fill-color: #FFFFFF;\n",
              "      --disabled-bg-color: #3B4455;\n",
              "      --disabled-fill-color: #666;\n",
              "  }\n",
              "\n",
              "  .colab-df-quickchart {\n",
              "    background-color: var(--bg-color);\n",
              "    border: none;\n",
              "    border-radius: 50%;\n",
              "    cursor: pointer;\n",
              "    display: none;\n",
              "    fill: var(--fill-color);\n",
              "    height: 32px;\n",
              "    padding: 0;\n",
              "    width: 32px;\n",
              "  }\n",
              "\n",
              "  .colab-df-quickchart:hover {\n",
              "    background-color: var(--hover-bg-color);\n",
              "    box-shadow: 0 1px 2px rgba(60, 64, 67, 0.3), 0 1px 3px 1px rgba(60, 64, 67, 0.15);\n",
              "    fill: var(--button-hover-fill-color);\n",
              "  }\n",
              "\n",
              "  .colab-df-quickchart-complete:disabled,\n",
              "  .colab-df-quickchart-complete:disabled:hover {\n",
              "    background-color: var(--disabled-bg-color);\n",
              "    fill: var(--disabled-fill-color);\n",
              "    box-shadow: none;\n",
              "  }\n",
              "\n",
              "  .colab-df-spinner {\n",
              "    border: 2px solid var(--fill-color);\n",
              "    border-color: transparent;\n",
              "    border-bottom-color: var(--fill-color);\n",
              "    animation:\n",
              "      spin 1s steps(1) infinite;\n",
              "  }\n",
              "\n",
              "  @keyframes spin {\n",
              "    0% {\n",
              "      border-color: transparent;\n",
              "      border-bottom-color: var(--fill-color);\n",
              "      border-left-color: var(--fill-color);\n",
              "    }\n",
              "    20% {\n",
              "      border-color: transparent;\n",
              "      border-left-color: var(--fill-color);\n",
              "      border-top-color: var(--fill-color);\n",
              "    }\n",
              "    30% {\n",
              "      border-color: transparent;\n",
              "      border-left-color: var(--fill-color);\n",
              "      border-top-color: var(--fill-color);\n",
              "      border-right-color: var(--fill-color);\n",
              "    }\n",
              "    40% {\n",
              "      border-color: transparent;\n",
              "      border-right-color: var(--fill-color);\n",
              "      border-top-color: var(--fill-color);\n",
              "    }\n",
              "    60% {\n",
              "      border-color: transparent;\n",
              "      border-right-color: var(--fill-color);\n",
              "    }\n",
              "    80% {\n",
              "      border-color: transparent;\n",
              "      border-right-color: var(--fill-color);\n",
              "      border-bottom-color: var(--fill-color);\n",
              "    }\n",
              "    90% {\n",
              "      border-color: transparent;\n",
              "      border-bottom-color: var(--fill-color);\n",
              "    }\n",
              "  }\n",
              "</style>\n",
              "\n",
              "  <script>\n",
              "    async function quickchart(key) {\n",
              "      const quickchartButtonEl =\n",
              "        document.querySelector('#' + key + ' button');\n",
              "      quickchartButtonEl.disabled = true;  // To prevent multiple clicks.\n",
              "      quickchartButtonEl.classList.add('colab-df-spinner');\n",
              "      try {\n",
              "        const charts = await google.colab.kernel.invokeFunction(\n",
              "            'suggestCharts', [key], {});\n",
              "      } catch (error) {\n",
              "        console.error('Error during call to suggestCharts:', error);\n",
              "      }\n",
              "      quickchartButtonEl.classList.remove('colab-df-spinner');\n",
              "      quickchartButtonEl.classList.add('colab-df-quickchart-complete');\n",
              "    }\n",
              "    (() => {\n",
              "      let quickchartButtonEl =\n",
              "        document.querySelector('#df-ac1e7217-f006-4358-94d1-39476d8d5243 button');\n",
              "      quickchartButtonEl.style.display =\n",
              "        google.colab.kernel.accessAllowed ? 'block' : 'none';\n",
              "    })();\n",
              "  </script>\n",
              "</div>\n",
              "    </div>\n",
              "  </div>\n"
            ],
            "application/vnd.google.colaboratory.intrinsic+json": {
              "type": "dataframe",
              "summary": "{\n  \"name\": \"df_baru\",\n  \"rows\": 8,\n  \"fields\": [\n    {\n      \"column\": \"apakah_bekerja_ibu\",\n      \"properties\": {\n        \"dtype\": \"number\",\n        \"std\": 63.14833693063788,\n        \"min\": 0.0,\n        \"max\": 179.0,\n        \"num_unique_values\": 5,\n        \"samples\": [\n          0.29608938547486036,\n          1.0,\n          0.4578114925947878\n        ],\n        \"semantic_type\": \"\",\n        \"description\": \"\"\n      }\n    },\n    {\n      \"column\": \"pendidikan_ibu\",\n      \"properties\": {\n        \"dtype\": \"number\",\n        \"std\": 101.91286561175686,\n        \"min\": 1.0,\n        \"max\": 290.0,\n        \"num_unique_values\": 8,\n        \"samples\": [\n          4.944827586206896,\n          3.0,\n          290.0\n        ],\n        \"semantic_type\": \"\",\n        \"description\": \"\"\n      }\n    },\n    {\n      \"column\": \"tinggi_badan_ibu\",\n      \"properties\": {\n        \"dtype\": \"number\",\n        \"std\": 3446.7935263125187,\n        \"min\": 0.0,\n        \"max\": 9996.0,\n        \"num_unique_values\": 8,\n        \"samples\": [\n          261.1898113207547,\n          150.8,\n          265.0\n        ],\n        \"semantic_type\": \"\",\n        \"description\": \"\"\n      }\n    },\n    {\n      \"column\": \"pengobatan_anemia\",\n      \"properties\": {\n        \"dtype\": \"number\",\n        \"std\": 61.461281592637384,\n        \"min\": 0.0,\n        \"max\": 174.0,\n        \"num_unique_values\": 5,\n        \"samples\": [\n          0.017241379310344827,\n          1.0,\n          0.13054522973352564\n        ],\n        \"semantic_type\": \"\",\n        \"description\": \"\"\n      }\n    },\n    {\n      \"column\": \"pengobatan_hipertensi\",\n      \"properties\": {\n        \"dtype\": \"number\",\n        \"std\": 61.46463772306341,\n        \"min\": 0.0,\n        \"max\": 174.0,\n        \"num_unique_values\": 5,\n        \"samples\": [\n          0.005747126436781609,\n          1.0,\n          0.07580980435789034\n        ],\n        \"semantic_type\": \"\",\n        \"description\": \"\"\n      }\n    },\n    {\n      \"column\": \"pengobatan_dm\",\n      \"properties\": {\n        \"dtype\": \"number\",\n        \"std\": 61.518289963229634,\n        \"min\": 0.0,\n        \"max\": 174.0,\n        \"num_unique_values\": 2,\n        \"samples\": [\n          0.0,\n          174.0\n        ],\n        \"semantic_type\": \"\",\n        \"description\": \"\"\n      }\n    },\n    {\n      \"column\": \"usia_ibu_melahirkan\",\n      \"properties\": {\n        \"dtype\": \"number\",\n        \"std\": 91.0289910520859,\n        \"min\": 2.0,\n        \"max\": 278.0,\n        \"num_unique_values\": 8,\n        \"samples\": [\n          28.03956834532374,\n          28.0\n        ],\n        \"semantic_type\": \"\",\n        \"description\": \"\"\n      }\n    },\n    {\n      \"column\": \"apakah_lahir_kembar\",\n      \"properties\": {\n        \"dtype\": \"number\",\n        \"std\": 60.70680591125093,\n        \"min\": 0.3005984773001671,\n        \"max\": 174.0,\n        \"num_unique_values\": 5,\n        \"samples\": [\n          2.954022988505747,\n          3.0\n        ],\n        \"semantic_type\": \"\",\n        \"description\": \"\"\n      }\n    },\n    {\n      \"column\": \"usia_kehamilan_saat_persalinan\",\n      \"properties\": {\n        \"dtype\": \"number\",\n        \"std\": 56.30561829668921,\n        \"min\": 7.0,\n        \"max\": 174.0,\n        \"num_unique_values\": 7,\n        \"samples\": [\n          174.0,\n          17.278563208965515\n        ],\n        \"semantic_type\": \"\",\n        \"description\": \"\"\n      }\n    }\n  ]\n}"
            }
          },
          "metadata": {},
          "execution_count": 13
        }
      ]
    },
    {
      "cell_type": "code",
      "source": [
        "#Finding Missing Data\n",
        "df_baru.isnull().sum()"
      ],
      "metadata": {
        "colab": {
          "base_uri": "https://localhost:8080/"
        },
        "id": "2Djtr9DwoUya",
        "outputId": "5e79a452-786c-4e20-84e7-a9c9214b2391"
      },
      "execution_count": null,
      "outputs": [
        {
          "output_type": "execute_result",
          "data": {
            "text/plain": [
              "apakah_bekerja_ibu                114\n",
              "pendidikan_ibu                      3\n",
              "tinggi_badan_ibu                   28\n",
              "pengobatan_anemia                 119\n",
              "pengobatan_hipertensi             119\n",
              "pengobatan_dm                     119\n",
              "usia_ibu_melahirkan                15\n",
              "apakah_lahir_kembar               119\n",
              "usia_kehamilan_saat_persalinan    119\n",
              "prediksi                            0\n",
              "dtype: int64"
            ]
          },
          "metadata": {},
          "execution_count": 14
        }
      ]
    },
    {
      "cell_type": "code",
      "source": [
        "# Menghapus baris yang mengandung missing value\n",
        "df_bersih = df_baru.dropna()\n",
        "\n",
        "\n",
        "print(\"DataFrame setelah menghapus baris yang mengandung missing value:\")\n",
        "print(df_bersih)\n"
      ],
      "metadata": {
        "colab": {
          "base_uri": "https://localhost:8080/"
        },
        "id": "eDX1z_B5wix9",
        "outputId": "181c7e76-622b-4370-fbf3-27657467e09f"
      },
      "execution_count": null,
      "outputs": [
        {
          "output_type": "stream",
          "name": "stdout",
          "text": [
            "DataFrame setelah menghapus baris yang mengandung missing value:\n",
            "     apakah_bekerja_ibu  pendidikan_ibu  tinggi_badan_ibu  pengobatan_anemia  \\\n",
            "3                   0.0             2.0             153.6                0.0   \n",
            "5                   1.0             6.0             151.9                0.0   \n",
            "9                   1.0            13.0             158.6                0.0   \n",
            "10                  0.0             6.0             155.7                0.0   \n",
            "13                  0.0            18.0             151.0                1.0   \n",
            "..                  ...             ...               ...                ...   \n",
            "288                 1.0             5.0             158.3                0.0   \n",
            "289                 1.0             2.0             152.3                0.0   \n",
            "290                 0.0             2.0             158.6                0.0   \n",
            "291                 0.0             2.0             144.8                0.0   \n",
            "292                 0.0            18.0             162.2                0.0   \n",
            "\n",
            "     pengobatan_hipertensi  pengobatan_dm  usia_ibu_melahirkan  \\\n",
            "3                      0.0            0.0                 34.0   \n",
            "5                      0.0            0.0                 19.0   \n",
            "9                      0.0            0.0                 31.0   \n",
            "10                     0.0            0.0                 31.0   \n",
            "13                     0.0            0.0                 19.0   \n",
            "..                     ...            ...                  ...   \n",
            "288                    0.0            0.0                 19.0   \n",
            "289                    0.0            0.0                 40.0   \n",
            "290                    0.0            0.0                 26.0   \n",
            "291                    0.0            0.0                 32.0   \n",
            "292                    0.0            0.0                 28.0   \n",
            "\n",
            "     apakah_lahir_kembar  usia_kehamilan_saat_persalinan prediksi  \n",
            "3                    3.0                             9.0        0  \n",
            "5                    3.0                             9.0        0  \n",
            "9                    1.0                            40.0        0  \n",
            "10                   3.0                             9.0        0  \n",
            "13                   3.0                             9.0        0  \n",
            "..                   ...                             ...      ...  \n",
            "288                  3.0                             9.0        0  \n",
            "289                  3.0                            11.0        1  \n",
            "290                  3.0                             9.0        1  \n",
            "291                  3.0                             9.0        1  \n",
            "292                  3.0                            40.0        0  \n",
            "\n",
            "[168 rows x 10 columns]\n"
          ]
        }
      ]
    },
    {
      "cell_type": "code",
      "source": [
        "# Menampilkan dataframe setelah imputasi\n",
        "print(df_bersih.isna().sum())"
      ],
      "metadata": {
        "colab": {
          "base_uri": "https://localhost:8080/"
        },
        "id": "8oFhsKG_qGCS",
        "outputId": "099ef47b-b1ac-4e20-c78d-1255c06dd22f"
      },
      "execution_count": null,
      "outputs": [
        {
          "output_type": "stream",
          "name": "stdout",
          "text": [
            "apakah_bekerja_ibu                0\n",
            "pendidikan_ibu                    0\n",
            "tinggi_badan_ibu                  0\n",
            "pengobatan_anemia                 0\n",
            "pengobatan_hipertensi             0\n",
            "pengobatan_dm                     0\n",
            "usia_ibu_melahirkan               0\n",
            "apakah_lahir_kembar               0\n",
            "usia_kehamilan_saat_persalinan    0\n",
            "prediksi                          0\n",
            "dtype: int64\n"
          ]
        }
      ]
    },
    {
      "cell_type": "code",
      "source": [
        "#Checking the Dimension of dataset\n",
        "df_bersih.shape"
      ],
      "metadata": {
        "colab": {
          "base_uri": "https://localhost:8080/"
        },
        "id": "kORE6YdnrEG7",
        "outputId": "cc43bfef-5c9c-4005-f66d-dae1c1ed0153"
      },
      "execution_count": null,
      "outputs": [
        {
          "output_type": "execute_result",
          "data": {
            "text/plain": [
              "(168, 10)"
            ]
          },
          "metadata": {},
          "execution_count": 17
        }
      ]
    },
    {
      "cell_type": "code",
      "source": [
        "print(\"Jumlah duplikasi: \", df_bersih.duplicated().sum())"
      ],
      "metadata": {
        "colab": {
          "base_uri": "https://localhost:8080/"
        },
        "id": "m-pOegoKonRU",
        "outputId": "0cfe2264-dd0c-4892-ca29-f2fda7c4eff5"
      },
      "execution_count": null,
      "outputs": [
        {
          "output_type": "stream",
          "name": "stdout",
          "text": [
            "Jumlah duplikasi:  0\n"
          ]
        }
      ]
    },
    {
      "cell_type": "code",
      "source": [
        "# Data Exploration\n",
        "# FOR LABEL\n",
        "sns.countplot(x=\"prediksi\", data=df_baru, palette=\"bwr\")\n",
        "plt.show()"
      ],
      "metadata": {
        "colab": {
          "base_uri": "https://localhost:8080/",
          "height": 537
        },
        "id": "TiLu92V2yVxm",
        "outputId": "7b0e72e4-a966-42b2-abd2-07eeb32fdec0"
      },
      "execution_count": null,
      "outputs": [
        {
          "output_type": "stream",
          "name": "stderr",
          "text": [
            "<ipython-input-19-fac6753844b4>:3: FutureWarning: \n",
            "\n",
            "Passing `palette` without assigning `hue` is deprecated and will be removed in v0.14.0. Assign the `x` variable to `hue` and set `legend=False` for the same effect.\n",
            "\n",
            "  sns.countplot(x=\"prediksi\", data=df_baru, palette=\"bwr\")\n"
          ]
        },
        {
          "output_type": "display_data",
          "data": {
            "text/plain": [
              "<Figure size 640x480 with 1 Axes>"
            ],
            "image/png": "[encoded data removed]"
          },
          "metadata": {}
        }
      ]
    },
    {
      "cell_type": "code",
      "source": [
        "# HISTOGRAM IN EACH VARIABLE\n",
        "df_bersih.hist(figsize = (12, 12))\n",
        "plt.show()"
      ],
      "metadata": {
        "colab": {
          "base_uri": "https://localhost:8080/",
          "height": 1000
        },
        "id": "cmbAk3ORyPBf",
        "outputId": "7c1742ba-86ab-428c-907b-13df1282428c"
      },
      "execution_count": null,
      "outputs": [
        {
          "output_type": "display_data",
          "data": {
            "text/plain": [
              "<Figure size 1200x1200 with 9 Axes>"
            ],
            "image/png": "[encoded data removed]"
          },
          "metadata": {}
        }
      ]
    },
    {
      "cell_type": "code",
      "source": [
        "# Pisahkan fitur (X) dan label (y)\n",
        "X = df_bersih[['apakah_bekerja_ibu', 'pendidikan_ibu', 'tinggi_badan_ibu', 'pengobatan_anemia',\n",
        "          'pengobatan_hipertensi', 'pengobatan_dm', 'usia_ibu_melahirkan', 'apakah_lahir_kembar',\n",
        "          'usia_kehamilan_saat_persalinan']]\n",
        "y = df_bersih['prediksi']"
      ],
      "metadata": {
        "id": "8LiVm_WF-vVP"
      },
      "execution_count": null,
      "outputs": []
    },
    {
      "cell_type": "code",
      "source": [
        "# Enkode variabel kategorikal\n",
        "le = LabelEncoder()\n",
        "X['apakah_bekerja_ibu'] = le.fit_transform(X['apakah_bekerja_ibu'])\n",
        "X['pendidikan_ibu'] = le.fit_transform(X['pendidikan_ibu'])\n",
        "X['pengobatan_anemia'] = le.fit_transform(X['pengobatan_anemia'])\n",
        "X['pengobatan_hipertensi'] = le.fit_transform(X['pengobatan_hipertensi'])\n",
        "X['pengobatan_dm'] = le.fit_transform(X['pengobatan_dm'])\n",
        "X['apakah_lahir_kembar'] = le.fit_transform(X['apakah_lahir_kembar'])"
      ],
      "metadata": {
        "colab": {
          "base_uri": "https://localhost:8080/"
        },
        "id": "Ecz9f6o4_ScW",
        "outputId": "157dedb8-b75f-42e5-e15b-b9e62d43b851"
      },
      "execution_count": null,
      "outputs": [
        {
          "output_type": "stream",
          "name": "stderr",
          "text": [
            "<ipython-input-22-5ab72206ff88>:3: SettingWithCopyWarning: \n",
            "A value is trying to be set on a copy of a slice from a DataFrame.\n",
            "Try using .loc[row_indexer,col_indexer] = value instead\n",
            "\n",
            "See the caveats in the documentation: https://pandas.pydata.org/pandas-docs/stable/user_guide/indexing.html#returning-a-view-versus-a-copy\n",
            "  X['apakah_bekerja_ibu'] = le.fit_transform(X['apakah_bekerja_ibu'])\n",
            "<ipython-input-22-5ab72206ff88>:4: SettingWithCopyWarning: \n",
            "A value is trying to be set on a copy of a slice from a DataFrame.\n",
            "Try using .loc[row_indexer,col_indexer] = value instead\n",
            "\n",
            "See the caveats in the documentation: https://pandas.pydata.org/pandas-docs/stable/user_guide/indexing.html#returning-a-view-versus-a-copy\n",
            "  X['pendidikan_ibu'] = le.fit_transform(X['pendidikan_ibu'])\n",
            "<ipython-input-22-5ab72206ff88>:5: SettingWithCopyWarning: \n",
            "A value is trying to be set on a copy of a slice from a DataFrame.\n",
            "Try using .loc[row_indexer,col_indexer] = value instead\n",
            "\n",
            "See the caveats in the documentation: https://pandas.pydata.org/pandas-docs/stable/user_guide/indexing.html#returning-a-view-versus-a-copy\n",
            "  X['pengobatan_anemia'] = le.fit_transform(X['pengobatan_anemia'])\n",
            "<ipython-input-22-5ab72206ff88>:6: SettingWithCopyWarning: \n",
            "A value is trying to be set on a copy of a slice from a DataFrame.\n",
            "Try using .loc[row_indexer,col_indexer] = value instead\n",
            "\n",
            "See the caveats in the documentation: https://pandas.pydata.org/pandas-docs/stable/user_guide/indexing.html#returning-a-view-versus-a-copy\n",
            "  X['pengobatan_hipertensi'] = le.fit_transform(X['pengobatan_hipertensi'])\n",
            "<ipython-input-22-5ab72206ff88>:7: SettingWithCopyWarning: \n",
            "A value is trying to be set on a copy of a slice from a DataFrame.\n",
            "Try using .loc[row_indexer,col_indexer] = value instead\n",
            "\n",
            "See the caveats in the documentation: https://pandas.pydata.org/pandas-docs/stable/user_guide/indexing.html#returning-a-view-versus-a-copy\n",
            "  X['pengobatan_dm'] = le.fit_transform(X['pengobatan_dm'])\n",
            "<ipython-input-22-5ab72206ff88>:8: SettingWithCopyWarning: \n",
            "A value is trying to be set on a copy of a slice from a DataFrame.\n",
            "Try using .loc[row_indexer,col_indexer] = value instead\n",
            "\n",
            "See the caveats in the documentation: https://pandas.pydata.org/pandas-docs/stable/user_guide/indexing.html#returning-a-view-versus-a-copy\n",
            "  X['apakah_lahir_kembar'] = le.fit_transform(X['apakah_lahir_kembar'])\n"
          ]
        }
      ]
    },
    {
      "cell_type": "code",
      "source": [
        "# Bagi data menjadi data latih dan data uji\n",
        "X_train, X_test, y_train, y_test = train_test_split(X, y, test_size=0.2, random_state=42)\n"
      ],
      "metadata": {
        "id": "r0-QIqk-_cAm"
      },
      "execution_count": null,
      "outputs": []
    },
    {
      "cell_type": "code",
      "source": [
        "# Skala fitur\n",
        "scaler = StandardScaler()\n",
        "X_train = scaler.fit_transform(X_train)\n",
        "X_test = scaler.transform(X_test)"
      ],
      "metadata": {
        "id": "C5vA6f8V_ej_"
      },
      "execution_count": null,
      "outputs": []
    },
    {
      "cell_type": "code",
      "source": [
        "# Oversample dataset menggunakan SMOTE\n",
        "smote = SMOTE(random_state=42)\n",
        "X_train_resampled, y_train_resampled = smote.fit_resample(X_train, y_train)"
      ],
      "metadata": {
        "id": "YSEk2GGMC_ow"
      },
      "execution_count": null,
      "outputs": []
    },
    {
      "cell_type": "code",
      "source": [
        "# Enkode ulang label setelah resampling\n",
        "y_train_resampled = to_categorical(y_train_resampled)\n",
        "y_test_one_hot = to_categorical(y_test)"
      ],
      "metadata": {
        "id": "nuzvqLJH_g5V"
      },
      "execution_count": null,
      "outputs": []
    },
    {
      "cell_type": "code",
      "source": [
        "input_dim = X_train_resampled.shape[1]\n",
        "num_classes = y_train_resampled.shape[1]"
      ],
      "metadata": {
        "id": "1n8TLi1rdtDN"
      },
      "execution_count": null,
      "outputs": []
    },
    {
      "cell_type": "code",
      "source": [
        "# Membuat model dengan penambahan BatchNormalization dan Dropout lebih tinggi\n",
        "model = Sequential()\n",
        "model.add(Dense(64, activation='relu', input_shape=(input_dim,)))  # Model lebih sederhana\n",
        "model.add(BatchNormalization())\n",
        "model.add(Dropout(0.5))\n",
        "model.add(Dense(32, activation='relu', kernel_regularizer=tf.keras.regularizers.l2(0.01)))\n",
        "model.add(BatchNormalization())\n",
        "model.add(Dropout(0.5))\n",
        "model.add(Dense(num_classes, activation='softmax'))"
      ],
      "metadata": {
        "id": "5iuMOMdB_snW"
      },
      "execution_count": null,
      "outputs": []
    },
    {
      "cell_type": "code",
      "source": [
        "# Menampilkan ringkasan model\n",
        "model.summary()"
      ],
      "metadata": {
        "colab": {
          "base_uri": "https://localhost:8080/"
        },
        "id": "D1FWwqxLfK9U",
        "outputId": "9a091158-8f93-40b2-bbfd-3cd635748bd5"
      },
      "execution_count": null,
      "outputs": [
        {
          "output_type": "stream",
          "name": "stdout",
          "text": [
            "Model: \"sequential_32\"\n",
            "_________________________________________________________________\n",
            " Layer (type)                Output Shape              Param #   \n",
            "=================================================================\n",
            " dense_107 (Dense)           (None, 64)                640       \n",
            "                                                                 \n",
            " batch_normalization_10 (Ba  (None, 64)                256       \n",
            " tchNormalization)                                               \n",
            "                                                                 \n",
            " dropout_58 (Dropout)        (None, 64)                0         \n",
            "                                                                 \n",
            " dense_108 (Dense)           (None, 32)                2080      \n",
            "                                                                 \n",
            " batch_normalization_11 (Ba  (None, 32)                128       \n",
            " tchNormalization)                                               \n",
            "                                                                 \n",
            " dropout_59 (Dropout)        (None, 32)                0         \n",
            "                                                                 \n",
            " dense_109 (Dense)           (None, 2)                 66        \n",
            "                                                                 \n",
            "=================================================================\n",
            "Total params: 3170 (12.38 KB)\n",
            "Trainable params: 2978 (11.63 KB)\n",
            "Non-trainable params: 192 (768.00 Byte)\n",
            "_________________________________________________________________\n"
          ]
        }
      ]
    },
    {
      "cell_type": "code",
      "source": [
        "# Menghitung bobot kelas\n",
        "class_weights = class_weight.compute_class_weight('balanced', classes=np.unique(y_train), y=y_train)\n",
        "class_weights_dict = dict(enumerate(class_weights))\n",
        "model.compile(loss='categorical_crossentropy', optimizer='adam', metrics=['accuracy'])\n"
      ],
      "metadata": {
        "id": "Z2lJ4_Tb_vEd"
      },
      "execution_count": null,
      "outputs": []
    },
    {
      "cell_type": "code",
      "source": [
        "reduce_lr = ReduceLROnPlateau(monitor='val_loss', factor=0.2, patience=5, min_lr=0.001)"
      ],
      "metadata": {
        "id": "x_jDd5APLeE3"
      },
      "execution_count": null,
      "outputs": []
    },
    {
      "cell_type": "code",
      "source": [
        "history = model.fit(X_train_resampled, y_train_resampled, epochs=100, batch_size=32, validation_data=(X_test, y_test_one_hot), class_weight=class_weights_dict, callbacks=[reduce_lr])"
      ],
      "metadata": {
        "colab": {
          "base_uri": "https://localhost:8080/"
        },
        "id": "27yK5UEY_wzn",
        "outputId": "76965f6c-4a18-4e18-8558-e060f7807afd"
      },
      "execution_count": null,
      "outputs": [
        {
          "output_type": "stream",
          "name": "stdout",
          "text": [
            "Epoch 1/100\n",
            "6/6 [==============================] - 0s 19ms/step - loss: 0.7429 - accuracy: 0.7031 - val_loss: 1.1753 - val_accuracy: 0.4118 - lr: 0.0010\n",
            "Epoch 2/100\n",
            "6/6 [==============================] - 0s 9ms/step - loss: 0.6971 - accuracy: 0.7292 - val_loss: 1.1762 - val_accuracy: 0.4118 - lr: 0.0010\n",
            "Epoch 3/100\n",
            "6/6 [==============================] - 0s 9ms/step - loss: 0.7280 - accuracy: 0.7292 - val_loss: 1.1750 - val_accuracy: 0.4412 - lr: 0.0010\n",
            "Epoch 4/100\n",
            "6/6 [==============================] - 0s 12ms/step - loss: 0.7296 - accuracy: 0.6875 - val_loss: 1.1683 - val_accuracy: 0.4412 - lr: 0.0010\n",
            "Epoch 5/100\n",
            "6/6 [==============================] - 0s 13ms/step - loss: 0.7889 - accuracy: 0.6719 - val_loss: 1.1730 - val_accuracy: 0.4412 - lr: 0.0010\n",
            "Epoch 6/100\n",
            "6/6 [==============================] - 0s 10ms/step - loss: 0.7624 - accuracy: 0.6719 - val_loss: 1.1798 - val_accuracy: 0.4118 - lr: 0.0010\n",
            "Epoch 7/100\n",
            "6/6 [==============================] - 0s 12ms/step - loss: 0.7898 - accuracy: 0.6510 - val_loss: 1.1764 - val_accuracy: 0.4118 - lr: 0.0010\n",
            "Epoch 8/100\n",
            "6/6 [==============================] - 0s 9ms/step - loss: 0.7503 - accuracy: 0.6823 - val_loss: 1.1738 - val_accuracy: 0.3824 - lr: 0.0010\n",
            "Epoch 9/100\n",
            "6/6 [==============================] - 0s 13ms/step - loss: 0.7437 - accuracy: 0.7083 - val_loss: 1.1645 - val_accuracy: 0.4118 - lr: 0.0010\n",
            "Epoch 10/100\n",
            "6/6 [==============================] - 0s 13ms/step - loss: 0.7331 - accuracy: 0.6927 - val_loss: 1.1472 - val_accuracy: 0.4412 - lr: 0.0010\n",
            "Epoch 11/100\n",
            "6/6 [==============================] - 0s 9ms/step - loss: 0.7278 - accuracy: 0.7083 - val_loss: 1.1349 - val_accuracy: 0.4412 - lr: 0.0010\n",
            "Epoch 12/100\n",
            "6/6 [==============================] - 0s 9ms/step - loss: 0.7591 - accuracy: 0.6719 - val_loss: 1.1302 - val_accuracy: 0.4412 - lr: 0.0010\n",
            "Epoch 13/100\n",
            "6/6 [==============================] - 0s 12ms/step - loss: 0.7358 - accuracy: 0.6875 - val_loss: 1.1346 - val_accuracy: 0.4412 - lr: 0.0010\n",
            "Epoch 14/100\n",
            "6/6 [==============================] - 0s 9ms/step - loss: 0.7368 - accuracy: 0.6719 - val_loss: 1.1369 - val_accuracy: 0.4412 - lr: 0.0010\n",
            "Epoch 15/100\n",
            "6/6 [==============================] - 0s 9ms/step - loss: 0.7474 - accuracy: 0.6771 - val_loss: 1.1424 - val_accuracy: 0.4412 - lr: 0.0010\n",
            "Epoch 16/100\n",
            "6/6 [==============================] - 0s 9ms/step - loss: 0.7304 - accuracy: 0.6615 - val_loss: 1.1450 - val_accuracy: 0.4412 - lr: 0.0010\n",
            "Epoch 17/100\n",
            "6/6 [==============================] - 0s 12ms/step - loss: 0.7683 - accuracy: 0.6510 - val_loss: 1.1396 - val_accuracy: 0.4412 - lr: 0.0010\n",
            "Epoch 18/100\n",
            "6/6 [==============================] - 0s 9ms/step - loss: 0.7795 - accuracy: 0.6771 - val_loss: 1.1338 - val_accuracy: 0.4412 - lr: 0.0010\n",
            "Epoch 19/100\n",
            "6/6 [==============================] - 0s 12ms/step - loss: 0.7611 - accuracy: 0.6823 - val_loss: 1.1259 - val_accuracy: 0.4412 - lr: 0.0010\n",
            "Epoch 20/100\n",
            "6/6 [==============================] - 0s 10ms/step - loss: 0.7332 - accuracy: 0.6667 - val_loss: 1.1208 - val_accuracy: 0.4412 - lr: 0.0010\n",
            "Epoch 21/100\n",
            "6/6 [==============================] - 0s 10ms/step - loss: 0.7478 - accuracy: 0.6771 - val_loss: 1.1200 - val_accuracy: 0.4412 - lr: 0.0010\n",
            "Epoch 22/100\n",
            "6/6 [==============================] - 0s 12ms/step - loss: 0.7236 - accuracy: 0.6979 - val_loss: 1.1234 - val_accuracy: 0.4412 - lr: 0.0010\n",
            "Epoch 23/100\n",
            "6/6 [==============================] - 0s 12ms/step - loss: 0.7377 - accuracy: 0.6771 - val_loss: 1.1272 - val_accuracy: 0.4412 - lr: 0.0010\n",
            "Epoch 24/100\n",
            "6/6 [==============================] - 0s 12ms/step - loss: 0.7256 - accuracy: 0.6823 - val_loss: 1.1282 - val_accuracy: 0.4412 - lr: 0.0010\n",
            "Epoch 25/100\n",
            "6/6 [==============================] - 0s 12ms/step - loss: 0.7241 - accuracy: 0.6667 - val_loss: 1.1258 - val_accuracy: 0.4412 - lr: 0.0010\n",
            "Epoch 26/100\n",
            "6/6 [==============================] - 0s 9ms/step - loss: 0.7620 - accuracy: 0.6510 - val_loss: 1.1244 - val_accuracy: 0.4412 - lr: 0.0010\n",
            "Epoch 27/100\n",
            "6/6 [==============================] - 0s 9ms/step - loss: 0.6970 - accuracy: 0.6875 - val_loss: 1.1222 - val_accuracy: 0.4412 - lr: 0.0010\n",
            "Epoch 28/100\n",
            "6/6 [==============================] - 0s 9ms/step - loss: 0.7084 - accuracy: 0.7188 - val_loss: 1.1184 - val_accuracy: 0.4412 - lr: 0.0010\n",
            "Epoch 29/100\n",
            "6/6 [==============================] - 0s 12ms/step - loss: 0.6950 - accuracy: 0.7240 - val_loss: 1.1166 - val_accuracy: 0.4412 - lr: 0.0010\n",
            "Epoch 30/100\n",
            "6/6 [==============================] - 0s 12ms/step - loss: 0.6861 - accuracy: 0.7031 - val_loss: 1.1091 - val_accuracy: 0.4412 - lr: 0.0010\n",
            "Epoch 31/100\n",
            "6/6 [==============================] - 0s 12ms/step - loss: 0.7106 - accuracy: 0.6719 - val_loss: 1.1109 - val_accuracy: 0.4412 - lr: 0.0010\n",
            "Epoch 32/100\n",
            "6/6 [==============================] - 0s 12ms/step - loss: 0.7061 - accuracy: 0.7031 - val_loss: 1.1091 - val_accuracy: 0.4118 - lr: 0.0010\n",
            "Epoch 33/100\n",
            "6/6 [==============================] - 0s 9ms/step - loss: 0.6744 - accuracy: 0.7135 - val_loss: 1.1096 - val_accuracy: 0.4118 - lr: 0.0010\n",
            "Epoch 34/100\n",
            "6/6 [==============================] - 0s 12ms/step - loss: 0.7326 - accuracy: 0.6979 - val_loss: 1.1101 - val_accuracy: 0.4118 - lr: 0.0010\n",
            "Epoch 35/100\n",
            "6/6 [==============================] - 0s 13ms/step - loss: 0.7049 - accuracy: 0.6667 - val_loss: 1.1130 - val_accuracy: 0.4118 - lr: 0.0010\n",
            "Epoch 36/100\n",
            "6/6 [==============================] - 0s 12ms/step - loss: 0.6649 - accuracy: 0.7396 - val_loss: 1.1120 - val_accuracy: 0.4118 - lr: 0.0010\n",
            "Epoch 37/100\n",
            "6/6 [==============================] - 0s 9ms/step - loss: 0.6712 - accuracy: 0.7135 - val_loss: 1.1090 - val_accuracy: 0.4118 - lr: 0.0010\n",
            "Epoch 38/100\n",
            "6/6 [==============================] - 0s 9ms/step - loss: 0.7259 - accuracy: 0.6562 - val_loss: 1.0973 - val_accuracy: 0.4118 - lr: 0.0010\n",
            "Epoch 39/100\n",
            "6/6 [==============================] - 0s 9ms/step - loss: 0.7260 - accuracy: 0.6823 - val_loss: 1.0871 - val_accuracy: 0.4118 - lr: 0.0010\n",
            "Epoch 40/100\n",
            "6/6 [==============================] - 0s 12ms/step - loss: 0.7003 - accuracy: 0.6667 - val_loss: 1.0860 - val_accuracy: 0.4412 - lr: 0.0010\n",
            "Epoch 41/100\n",
            "6/6 [==============================] - 0s 12ms/step - loss: 0.7161 - accuracy: 0.6927 - val_loss: 1.0831 - val_accuracy: 0.4412 - lr: 0.0010\n",
            "Epoch 42/100\n",
            "6/6 [==============================] - 0s 10ms/step - loss: 0.6578 - accuracy: 0.6927 - val_loss: 1.0827 - val_accuracy: 0.4412 - lr: 0.0010\n",
            "Epoch 43/100\n",
            "6/6 [==============================] - 0s 13ms/step - loss: 0.6999 - accuracy: 0.6927 - val_loss: 1.0787 - val_accuracy: 0.4412 - lr: 0.0010\n",
            "Epoch 44/100\n",
            "6/6 [==============================] - 0s 12ms/step - loss: 0.6460 - accuracy: 0.7083 - val_loss: 1.0769 - val_accuracy: 0.4118 - lr: 0.0010\n",
            "Epoch 45/100\n",
            "6/6 [==============================] - 0s 9ms/step - loss: 0.6718 - accuracy: 0.7031 - val_loss: 1.0823 - val_accuracy: 0.4412 - lr: 0.0010\n",
            "Epoch 46/100\n",
            "6/6 [==============================] - 0s 13ms/step - loss: 0.6459 - accuracy: 0.7396 - val_loss: 1.0889 - val_accuracy: 0.4412 - lr: 0.0010\n",
            "Epoch 47/100\n",
            "6/6 [==============================] - 0s 13ms/step - loss: 0.6786 - accuracy: 0.7135 - val_loss: 1.0984 - val_accuracy: 0.4412 - lr: 0.0010\n",
            "Epoch 48/100\n",
            "6/6 [==============================] - 0s 13ms/step - loss: 0.6752 - accuracy: 0.7135 - val_loss: 1.1014 - val_accuracy: 0.4412 - lr: 0.0010\n",
            "Epoch 49/100\n",
            "6/6 [==============================] - 0s 12ms/step - loss: 0.6850 - accuracy: 0.7031 - val_loss: 1.1046 - val_accuracy: 0.4412 - lr: 0.0010\n",
            "Epoch 50/100\n",
            "6/6 [==============================] - 0s 13ms/step - loss: 0.7778 - accuracy: 0.6562 - val_loss: 1.0935 - val_accuracy: 0.4118 - lr: 0.0010\n",
            "Epoch 51/100\n",
            "6/6 [==============================] - 0s 13ms/step - loss: 0.7015 - accuracy: 0.6875 - val_loss: 1.0802 - val_accuracy: 0.4412 - lr: 0.0010\n",
            "Epoch 52/100\n",
            "6/6 [==============================] - 0s 9ms/step - loss: 0.6538 - accuracy: 0.7135 - val_loss: 1.0654 - val_accuracy: 0.4118 - lr: 0.0010\n",
            "Epoch 53/100\n",
            "6/6 [==============================] - 0s 9ms/step - loss: 0.6345 - accuracy: 0.7083 - val_loss: 1.0483 - val_accuracy: 0.4412 - lr: 0.0010\n",
            "Epoch 54/100\n",
            "6/6 [==============================] - 0s 12ms/step - loss: 0.7181 - accuracy: 0.6875 - val_loss: 1.0442 - val_accuracy: 0.4412 - lr: 0.0010\n",
            "Epoch 55/100\n",
            "6/6 [==============================] - 0s 10ms/step - loss: 0.6947 - accuracy: 0.6719 - val_loss: 1.0349 - val_accuracy: 0.4412 - lr: 0.0010\n",
            "Epoch 56/100\n",
            "6/6 [==============================] - 0s 12ms/step - loss: 0.6569 - accuracy: 0.7083 - val_loss: 1.0402 - val_accuracy: 0.3824 - lr: 0.0010\n",
            "Epoch 57/100\n",
            "6/6 [==============================] - 0s 13ms/step - loss: 0.6150 - accuracy: 0.7396 - val_loss: 1.0523 - val_accuracy: 0.3824 - lr: 0.0010\n",
            "Epoch 58/100\n",
            "6/6 [==============================] - 0s 12ms/step - loss: 0.6590 - accuracy: 0.7083 - val_loss: 1.0575 - val_accuracy: 0.4118 - lr: 0.0010\n",
            "Epoch 59/100\n",
            "6/6 [==============================] - 0s 12ms/step - loss: 0.6486 - accuracy: 0.7135 - val_loss: 1.0604 - val_accuracy: 0.4118 - lr: 0.0010\n",
            "Epoch 60/100\n",
            "6/6 [==============================] - 0s 12ms/step - loss: 0.6792 - accuracy: 0.7135 - val_loss: 1.0687 - val_accuracy: 0.4118 - lr: 0.0010\n",
            "Epoch 61/100\n",
            "6/6 [==============================] - 0s 13ms/step - loss: 0.6520 - accuracy: 0.7188 - val_loss: 1.0700 - val_accuracy: 0.4118 - lr: 0.0010\n",
            "Epoch 62/100\n",
            "6/6 [==============================] - 0s 9ms/step - loss: 0.6657 - accuracy: 0.6771 - val_loss: 1.0749 - val_accuracy: 0.4118 - lr: 0.0010\n",
            "Epoch 63/100\n",
            "6/6 [==============================] - 0s 12ms/step - loss: 0.7081 - accuracy: 0.6875 - val_loss: 1.0694 - val_accuracy: 0.4118 - lr: 0.0010\n",
            "Epoch 64/100\n",
            "6/6 [==============================] - 0s 10ms/step - loss: 0.7265 - accuracy: 0.6406 - val_loss: 1.0651 - val_accuracy: 0.4118 - lr: 0.0010\n",
            "Epoch 65/100\n",
            "6/6 [==============================] - 0s 9ms/step - loss: 0.6214 - accuracy: 0.7292 - val_loss: 1.0618 - val_accuracy: 0.4118 - lr: 0.0010\n",
            "Epoch 66/100\n",
            "6/6 [==============================] - 0s 12ms/step - loss: 0.6519 - accuracy: 0.6875 - val_loss: 1.0584 - val_accuracy: 0.4118 - lr: 0.0010\n",
            "Epoch 67/100\n",
            "6/6 [==============================] - 0s 9ms/step - loss: 0.6382 - accuracy: 0.6927 - val_loss: 1.0593 - val_accuracy: 0.4118 - lr: 0.0010\n",
            "Epoch 68/100\n",
            "6/6 [==============================] - 0s 12ms/step - loss: 0.6365 - accuracy: 0.7188 - val_loss: 1.0549 - val_accuracy: 0.4118 - lr: 0.0010\n",
            "Epoch 69/100\n",
            "6/6 [==============================] - 0s 14ms/step - loss: 0.7083 - accuracy: 0.6823 - val_loss: 1.0515 - val_accuracy: 0.4118 - lr: 0.0010\n",
            "Epoch 70/100\n",
            "6/6 [==============================] - 0s 11ms/step - loss: 0.6670 - accuracy: 0.7083 - val_loss: 1.0468 - val_accuracy: 0.4118 - lr: 0.0010\n",
            "Epoch 71/100\n",
            "6/6 [==============================] - 0s 12ms/step - loss: 0.6054 - accuracy: 0.7240 - val_loss: 1.0438 - val_accuracy: 0.4412 - lr: 0.0010\n",
            "Epoch 72/100\n",
            "6/6 [==============================] - 0s 9ms/step - loss: 0.6102 - accuracy: 0.7135 - val_loss: 1.0416 - val_accuracy: 0.4412 - lr: 0.0010\n",
            "Epoch 73/100\n",
            "6/6 [==============================] - 0s 9ms/step - loss: 0.6160 - accuracy: 0.7240 - val_loss: 1.0293 - val_accuracy: 0.4412 - lr: 0.0010\n",
            "Epoch 74/100\n",
            "6/6 [==============================] - 0s 12ms/step - loss: 0.6117 - accuracy: 0.7031 - val_loss: 1.0228 - val_accuracy: 0.4412 - lr: 0.0010\n",
            "Epoch 75/100\n",
            "6/6 [==============================] - 0s 9ms/step - loss: 0.6191 - accuracy: 0.7083 - val_loss: 1.0239 - val_accuracy: 0.4118 - lr: 0.0010\n",
            "Epoch 76/100\n",
            "6/6 [==============================] - 0s 9ms/step - loss: 0.6427 - accuracy: 0.7031 - val_loss: 1.0131 - val_accuracy: 0.4118 - lr: 0.0010\n",
            "Epoch 77/100\n",
            "6/6 [==============================] - 0s 12ms/step - loss: 0.6390 - accuracy: 0.7292 - val_loss: 0.9982 - val_accuracy: 0.4118 - lr: 0.0010\n",
            "Epoch 78/100\n",
            "6/6 [==============================] - 0s 11ms/step - loss: 0.5764 - accuracy: 0.7396 - val_loss: 0.9894 - val_accuracy: 0.4118 - lr: 0.0010\n",
            "Epoch 79/100\n",
            "6/6 [==============================] - 0s 13ms/step - loss: 0.6122 - accuracy: 0.7344 - val_loss: 0.9870 - val_accuracy: 0.4118 - lr: 0.0010\n",
            "Epoch 80/100\n",
            "6/6 [==============================] - 0s 10ms/step - loss: 0.6299 - accuracy: 0.7135 - val_loss: 0.9905 - val_accuracy: 0.4118 - lr: 0.0010\n",
            "Epoch 81/100\n",
            "6/6 [==============================] - 0s 9ms/step - loss: 0.6966 - accuracy: 0.6771 - val_loss: 0.9959 - val_accuracy: 0.4118 - lr: 0.0010\n",
            "Epoch 82/100\n",
            "6/6 [==============================] - 0s 12ms/step - loss: 0.6325 - accuracy: 0.7083 - val_loss: 1.0097 - val_accuracy: 0.4118 - lr: 0.0010\n",
            "Epoch 83/100\n",
            "6/6 [==============================] - 0s 12ms/step - loss: 0.5726 - accuracy: 0.7500 - val_loss: 1.0173 - val_accuracy: 0.4118 - lr: 0.0010\n",
            "Epoch 84/100\n",
            "6/6 [==============================] - 0s 12ms/step - loss: 0.6089 - accuracy: 0.7292 - val_loss: 1.0210 - val_accuracy: 0.4118 - lr: 0.0010\n",
            "Epoch 85/100\n",
            "6/6 [==============================] - 0s 10ms/step - loss: 0.6202 - accuracy: 0.7188 - val_loss: 1.0205 - val_accuracy: 0.4118 - lr: 0.0010\n",
            "Epoch 86/100\n",
            "6/6 [==============================] - 0s 12ms/step - loss: 0.6333 - accuracy: 0.6927 - val_loss: 1.0090 - val_accuracy: 0.4118 - lr: 0.0010\n",
            "Epoch 87/100\n",
            "6/6 [==============================] - 0s 13ms/step - loss: 0.6760 - accuracy: 0.6771 - val_loss: 0.9975 - val_accuracy: 0.4118 - lr: 0.0010\n",
            "Epoch 88/100\n",
            "6/6 [==============================] - 0s 9ms/step - loss: 0.6114 - accuracy: 0.6979 - val_loss: 0.9989 - val_accuracy: 0.4118 - lr: 0.0010\n",
            "Epoch 89/100\n",
            "6/6 [==============================] - 0s 13ms/step - loss: 0.6067 - accuracy: 0.7448 - val_loss: 1.0029 - val_accuracy: 0.4118 - lr: 0.0010\n",
            "Epoch 90/100\n",
            "6/6 [==============================] - 0s 13ms/step - loss: 0.6242 - accuracy: 0.7344 - val_loss: 1.0065 - val_accuracy: 0.4118 - lr: 0.0010\n",
            "Epoch 91/100\n",
            "6/6 [==============================] - 0s 9ms/step - loss: 0.6420 - accuracy: 0.7188 - val_loss: 1.0152 - val_accuracy: 0.3824 - lr: 0.0010\n",
            "Epoch 92/100\n",
            "6/6 [==============================] - 0s 13ms/step - loss: 0.6223 - accuracy: 0.7031 - val_loss: 1.0162 - val_accuracy: 0.3824 - lr: 0.0010\n",
            "Epoch 93/100\n",
            "6/6 [==============================] - 0s 10ms/step - loss: 0.6297 - accuracy: 0.7031 - val_loss: 1.0107 - val_accuracy: 0.3824 - lr: 0.0010\n",
            "Epoch 94/100\n",
            "6/6 [==============================] - 0s 10ms/step - loss: 0.5761 - accuracy: 0.7292 - val_loss: 1.0006 - val_accuracy: 0.4412 - lr: 0.0010\n",
            "Epoch 95/100\n",
            "6/6 [==============================] - 0s 13ms/step - loss: 0.5959 - accuracy: 0.7448 - val_loss: 1.0030 - val_accuracy: 0.4412 - lr: 0.0010\n",
            "Epoch 96/100\n",
            "6/6 [==============================] - 0s 12ms/step - loss: 0.6001 - accuracy: 0.7552 - val_loss: 1.0097 - val_accuracy: 0.4412 - lr: 0.0010\n",
            "Epoch 97/100\n",
            "6/6 [==============================] - 0s 13ms/step - loss: 0.6520 - accuracy: 0.7240 - val_loss: 1.0073 - val_accuracy: 0.4412 - lr: 0.0010\n",
            "Epoch 98/100\n",
            "6/6 [==============================] - 0s 13ms/step - loss: 0.5593 - accuracy: 0.7396 - val_loss: 1.0030 - val_accuracy: 0.4412 - lr: 0.0010\n",
            "Epoch 99/100\n",
            "6/6 [==============================] - 0s 16ms/step - loss: 0.6370 - accuracy: 0.6927 - val_loss: 1.0054 - val_accuracy: 0.4412 - lr: 0.0010\n",
            "Epoch 100/100\n",
            "6/6 [==============================] - 0s 19ms/step - loss: 0.5427 - accuracy: 0.7604 - val_loss: 1.0037 - val_accuracy: 0.4412 - lr: 0.0010\n"
          ]
        }
      ]
    },
    {
      "cell_type": "code",
      "source": [
        "# Evaluasi model\n",
        "loss, accuracy = model.evaluate(X_test, y_test_one_hot)\n",
        "print(\"Akurasi:\", accuracy)"
      ],
      "metadata": {
        "colab": {
          "base_uri": "https://localhost:8080/"
        },
        "id": "xhD8VR_M_2gn",
        "outputId": "c536f112-c643-4bca-dd20-d6cca9f1b68c"
      },
      "execution_count": null,
      "outputs": [
        {
          "output_type": "stream",
          "name": "stdout",
          "text": [
            "2/2 [==============================] - 0s 8ms/step - loss: 1.0037 - accuracy: 0.4412\n",
            "Akurasi: 0.44117647409439087\n"
          ]
        }
      ]
    },
    {
      "cell_type": "code",
      "source": [
        "# Prediksi menggunakan data uji\n",
        "y_pred = model.predict(X_test)\n",
        "y_pred_classes = np.argmax(y_pred, axis=1)\n",
        "y_test_classes = np.argmax(y_test_one_hot, axis=1)"
      ],
      "metadata": {
        "colab": {
          "base_uri": "https://localhost:8080/"
        },
        "id": "__rdskvi_6O6",
        "outputId": "7036cbcb-6a24-4a99-8fbd-669f598d77c0"
      },
      "execution_count": null,
      "outputs": [
        {
          "output_type": "stream",
          "name": "stdout",
          "text": [
            "2/2 [==============================] - 0s 6ms/step\n"
          ]
        }
      ]
    },
    {
      "cell_type": "code",
      "source": [
        "# Evaluasi model\n",
        "print(\"Laporan Klasifikasi:\\n\", classification_report(y_test_classes, y_pred_classes))\n",
        "print(\"Matriks Kebingungan:\\n\", confusion_matrix(y_test_classes, y_pred_classes))"
      ],
      "metadata": {
        "colab": {
          "base_uri": "https://localhost:8080/"
        },
        "id": "TZO9V0cl_8SC",
        "outputId": "656db9cb-c43e-40dd-f7bc-e0f45f5250ec"
      },
      "execution_count": null,
      "outputs": [
        {
          "output_type": "stream",
          "name": "stdout",
          "text": [
            "Laporan Klasifikasi:\n",
            "               precision    recall  f1-score   support\n",
            "\n",
            "           0       0.73      0.42      0.54        26\n",
            "           1       0.21      0.50      0.30         8\n",
            "\n",
            "    accuracy                           0.44        34\n",
            "   macro avg       0.47      0.46      0.42        34\n",
            "weighted avg       0.61      0.44      0.48        34\n",
            "\n",
            "Matriks Kebingungan:\n",
            " [[11 15]\n",
            " [ 4  4]]\n"
          ]
        }
      ]
    },
    {
      "cell_type": "code",
      "source": [
        "# Plotting akurasi dan loss selama pelatihan\n",
        "# Retrieve a list of list results on training and test data sets for each training epoch\n",
        "acc = history.history['accuracy']\n",
        "val_acc = history.history['val_accuracy']\n",
        "loss = history.history['loss']\n",
        "val_loss = history.history['val_loss']\n",
        "\n",
        "epochs = range(len(acc))  # Get number of epochs\n",
        "\n",
        "# Plot training and validation accuracy per epoch\n",
        "plt.plot(epochs, acc, 'r', label=\"Training Accuracy\")\n",
        "plt.plot(epochs, val_acc, 'b', label=\"Validation Accuracy\")\n",
        "plt.title('Training and validation accuracy')\n",
        "plt.legend()  # Add legend to the plot\n",
        "plt.show()\n",
        "print(\"\")\n",
        "\n",
        "# Plot training and validation loss per epoch\n",
        "plt.plot(epochs, loss, 'r', label=\"Training Loss\")\n",
        "plt.plot(epochs, val_loss, 'b', label=\"Validation Loss\")\n",
        "plt.title('Training and validation loss')\n",
        "plt.legend()  # Add legend to the plot\n",
        "plt.show()"
      ],
      "metadata": {
        "colab": {
          "base_uri": "https://localhost:8080/",
          "height": 904
        },
        "id": "gTuolckPArPm",
        "outputId": "b848dcbe-f0b6-49c1-9641-25a59213323f"
      },
      "execution_count": null,
      "outputs": [
        {
          "output_type": "display_data",
          "data": {
            "text/plain": [
              "<Figure size 640x480 with 1 Axes>"
            ],
            "image/png": "[encoded data removed]"
          },
          "metadata": {}
        },
        {
          "output_type": "stream",
          "name": "stdout",
          "text": [
            "\n"
          ]
        },
        {
          "output_type": "display_data",
          "data": {
            "text/plain": [
              "<Figure size 640x480 with 1 Axes>"
            ],
            "image/png": "[encoded data removed]"
          },
          "metadata": {}
        }
      ]
    },
    {
      "cell_type": "code",
      "source": [
        "prediction = model.predict(np.array([[1, 11, 1.5, 3.3, 7.5, 70, 0]]))\n",
        "# Fungsi untuk mengubah hasil prediksi menjadi kalimat \"Yes\" atau \"No\"\n",
        "def predict_result(prediction):\n",
        "    if prediction == 1:\n",
        "        return \"Yes\"\n",
        "    else:\n",
        "        return \"No\"\n",
        "\n",
        "# Menghasilkan kalimat berdasarkan hasil prediksi\n",
        "result = predict_result(prediction)\n",
        "\n",
        "print(result)"
      ],
      "metadata": {
        "id": "OM0lKxkBYbP1"
      },
      "execution_count": null,
      "outputs": []
    }
  ]
}