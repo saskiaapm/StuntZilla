{
  "nbformat": 4,
  "nbformat_minor": 0,
  "metadata": {
    "colab": {
      "provenance": []
    },
    "kernelspec": {
      "name": "python3",
      "display_name": "Python 3"
    },
    "language_info": {
      "name": "python"
    }
  },
  "cells": [
    {
      "cell_type": "markdown",
      "source": [
        "# **STUNTING PREDICTION**"
      ],
      "metadata": {
        "id": "zcO3r4x8L6gS"
      }
    },
    {
      "cell_type": "markdown",
      "source": [
        "### **PROBLEM STATEMENT**"
      ],
      "metadata": {
        "id": "Sp7JmvQ7M4Jg"
      }
    },
    {
      "cell_type": "markdown",
      "source": [
        "Stunting, the condition of a child's height being significantly below the expected height for their age, remains a serious public health concern in Indonesia. The latest data shows a stunting prevalence of 21.6% in 2022. This has long-term consequences for children's health and well-being, including impaired physical and cognitive development and reduced productivity in the future."
      ],
      "metadata": {
        "id": "7kkWDaVcL-OL"
      }
    },
    {
      "cell_type": "markdown",
      "source": [
        "## **Import Library and Dataset**"
      ],
      "metadata": {
        "id": "QW-shNBGlGZh"
      }
    },
    {
      "cell_type": "code",
      "execution_count": null,
      "metadata": {
        "id": "hfV57EN0jS53"
      },
      "outputs": [],
      "source": [
        "#Import Library\n",
        "import numpy as np\n",
        "import tensorflow as tf\n",
        "import pandas as pd\n",
        "import matplotlib.pyplot as plt\n",
        "from tensorflow import keras\n",
        "from sklearn.model_selection import train_test_split\n",
        "from sklearn.metrics import confusion_matrix\n",
        "from sklearn.metrics import precision_score, recall_score, f1_score\n",
        "from sklearn.metrics import classification_report\n",
        "from sklearn.preprocessing import MinMaxScaler\n",
        "import seaborn as sns\n",
        "import joblib"
      ]
    },
    {
      "cell_type": "markdown",
      "source": [
        "# **Data Preprocessing**"
      ],
      "metadata": {
        "id": "zbvAQkT_lVl6"
      }
    },
    {
      "cell_type": "code",
      "source": [
        "# Read csv\n",
        "df = pd.read_csv('https://raw.githubusercontent.com/saskiaapm/StuntZilla/main/Dataset/Stunting_Dataset.csv')\n",
        "\n",
        "# Display the first few rows of the DataFrame\n",
        "print(df.head())"
      ],
      "metadata": {
        "colab": {
          "base_uri": "https://localhost:8080/"
        },
        "id": "7ym0P1g3jZ5z",
        "outputId": "b61bbcbf-b5f9-4b40-a895-3b60fd10f9e9"
      },
      "execution_count": null,
      "outputs": [
        {
          "output_type": "stream",
          "name": "stdout",
          "text": [
            "   Gender  Age  Birth Weight  Birth Length  Body Weight  Body Length  \\\n",
            "0    Male   17           3.0            49         10.0         72.2   \n",
            "1  Female   11           2.9            49          2.9         65.0   \n",
            "2    Male   16           2.9            49          8.5         72.2   \n",
            "3    Male   31           2.8            49          6.4         63.0   \n",
            "4    Male   15           3.1            49         10.5         49.0   \n",
            "\n",
            "  Breastfeeding Stunting  \n",
            "0            No       No  \n",
            "1            No      Yes  \n",
            "2            No      Yes  \n",
            "3            No      Yes  \n",
            "4            No      Yes  \n"
          ]
        }
      ]
    },
    {
      "cell_type": "code",
      "source": [
        "df_baru=df[['Gender', 'Age', 'Birth Weight', 'Birth Length', 'Body Weight', 'Body Length', 'Breastfeeding', 'Stunting']]"
      ],
      "metadata": {
        "id": "loa7hsDl9etU"
      },
      "execution_count": null,
      "outputs": []
    },
    {
      "cell_type": "code",
      "source": [
        "category_columns = ['Gender', 'Breastfeeding', 'Stunting']\n",
        "\n",
        "for col in category_columns:\n",
        "  df_baru[col] = df_baru[col].astype('category')"
      ],
      "metadata": {
        "id": "d6s48AXpBgqe"
      },
      "execution_count": null,
      "outputs": []
    },
    {
      "cell_type": "code",
      "source": [
        "# Merubah 'Gender' menjadi kategorikal\n",
        "df_baru = df_baru.copy()\n",
        "df_baru['Gender'].replace(['Male', 'Female'], [0, 1], inplace=True)"
      ],
      "metadata": {
        "id": "wBhNc_bNX91g"
      },
      "execution_count": null,
      "outputs": []
    },
    {
      "cell_type": "code",
      "source": [
        "# Merubah 'Gender' menjadi kategorikal\n",
        "df_baru = df_baru.copy()\n",
        "df_baru['Breastfeeding'].replace( ['No', 'Yes'], [0, 1], inplace=True)"
      ],
      "metadata": {
        "id": "6C8t0sLXn9aS"
      },
      "execution_count": null,
      "outputs": []
    },
    {
      "cell_type": "code",
      "source": [
        "# Merubah 'Gender' menjadi kategorikal\n",
        "df_baru = df_baru.copy()\n",
        "df_baru['Stunting'].replace(['No', 'Yes'], [0, 1], inplace=True)"
      ],
      "metadata": {
        "id": "0eOqEfDa8e7N"
      },
      "execution_count": null,
      "outputs": []
    },
    {
      "cell_type": "code",
      "source": [
        "df_baru.info()"
      ],
      "metadata": {
        "colab": {
          "base_uri": "https://localhost:8080/"
        },
        "id": "jJU_C4MHBsaV",
        "outputId": "09248116-4173-4d36-ec85-54096f1609bc"
      },
      "execution_count": null,
      "outputs": [
        {
          "output_type": "stream",
          "name": "stdout",
          "text": [
            "<class 'pandas.core.frame.DataFrame'>\n",
            "RangeIndex: 10000 entries, 0 to 9999\n",
            "Data columns (total 8 columns):\n",
            " #   Column         Non-Null Count  Dtype   \n",
            "---  ------         --------------  -----   \n",
            " 0   Gender         10000 non-null  category\n",
            " 1   Age            10000 non-null  int64   \n",
            " 2   Birth Weight   10000 non-null  float64 \n",
            " 3   Birth Length   10000 non-null  int64   \n",
            " 4   Body Weight    10000 non-null  float64 \n",
            " 5   Body Length    10000 non-null  float64 \n",
            " 6   Breastfeeding  10000 non-null  category\n",
            " 7   Stunting       10000 non-null  category\n",
            "dtypes: category(3), float64(3), int64(2)\n",
            "memory usage: 420.4 KB\n"
          ]
        }
      ]
    },
    {
      "cell_type": "code",
      "source": [
        "df_baru.describe()"
      ],
      "metadata": {
        "colab": {
          "base_uri": "https://localhost:8080/",
          "height": 300
        },
        "id": "IRHUi7D68uRB",
        "outputId": "cfbdf1cf-8aa5-43e2-ab87-059337f60508"
      },
      "execution_count": null,
      "outputs": [
        {
          "output_type": "execute_result",
          "data": {
            "text/plain": [
              "                Age  Birth Weight  Birth Length   Body Weight  Body Length\n",
              "count  10000.000000  10000.000000  10000.000000  10000.000000  10000.00000\n",
              "mean      14.255000      2.757600     49.117400      7.631990     68.85492\n",
              "std        7.923285      0.291092      0.439814      1.720461      8.90664\n",
              "min        6.000000      2.000000     48.000000      2.900000     49.00000\n",
              "25%       10.000000      2.800000     49.000000      6.400000     65.00000\n",
              "50%       13.000000      2.800000     49.000000      7.700000     68.30000\n",
              "75%       15.000000      2.900000     49.000000      9.000000     72.20000\n",
              "max       48.000000      3.100000     50.000000     10.500000     92.70000"
            ],
            "text/html": [
              "\n",
              "  <div id=\"df-26a402fa-f412-42e7-b954-48e195599887\" class=\"colab-df-container\">\n",
              "    <div>\n",
              "<style scoped>\n",
              "    .dataframe tbody tr th:only-of-type {\n",
              "        vertical-align: middle;\n",
              "    }\n",
              "\n",
              "    .dataframe tbody tr th {\n",
              "        vertical-align: top;\n",
              "    }\n",
              "\n",
              "    .dataframe thead th {\n",
              "        text-align: right;\n",
              "    }\n",
              "</style>\n",
              "<table border=\"1\" class=\"dataframe\">\n",
              "  <thead>\n",
              "    <tr style=\"text-align: right;\">\n",
              "      <th></th>\n",
              "      <th>Age</th>\n",
              "      <th>Birth Weight</th>\n",
              "      <th>Birth Length</th>\n",
              "      <th>Body Weight</th>\n",
              "      <th>Body Length</th>\n",
              "    </tr>\n",
              "  </thead>\n",
              "  <tbody>\n",
              "    <tr>\n",
              "      <th>count</th>\n",
              "      <td>10000.000000</td>\n",
              "      <td>10000.000000</td>\n",
              "      <td>10000.000000</td>\n",
              "      <td>10000.000000</td>\n",
              "      <td>10000.00000</td>\n",
              "    </tr>\n",
              "    <tr>\n",
              "      <th>mean</th>\n",
              "      <td>14.255000</td>\n",
              "      <td>2.757600</td>\n",
              "      <td>49.117400</td>\n",
              "      <td>7.631990</td>\n",
              "      <td>68.85492</td>\n",
              "    </tr>\n",
              "    <tr>\n",
              "      <th>std</th>\n",
              "      <td>7.923285</td>\n",
              "      <td>0.291092</td>\n",
              "      <td>0.439814</td>\n",
              "      <td>1.720461</td>\n",
              "      <td>8.90664</td>\n",
              "    </tr>\n",
              "    <tr>\n",
              "      <th>min</th>\n",
              "      <td>6.000000</td>\n",
              "      <td>2.000000</td>\n",
              "      <td>48.000000</td>\n",
              "      <td>2.900000</td>\n",
              "      <td>49.00000</td>\n",
              "    </tr>\n",
              "    <tr>\n",
              "      <th>25%</th>\n",
              "      <td>10.000000</td>\n",
              "      <td>2.800000</td>\n",
              "      <td>49.000000</td>\n",
              "      <td>6.400000</td>\n",
              "      <td>65.00000</td>\n",
              "    </tr>\n",
              "    <tr>\n",
              "      <th>50%</th>\n",
              "      <td>13.000000</td>\n",
              "      <td>2.800000</td>\n",
              "      <td>49.000000</td>\n",
              "      <td>7.700000</td>\n",
              "      <td>68.30000</td>\n",
              "    </tr>\n",
              "    <tr>\n",
              "      <th>75%</th>\n",
              "      <td>15.000000</td>\n",
              "      <td>2.900000</td>\n",
              "      <td>49.000000</td>\n",
              "      <td>9.000000</td>\n",
              "      <td>72.20000</td>\n",
              "    </tr>\n",
              "    <tr>\n",
              "      <th>max</th>\n",
              "      <td>48.000000</td>\n",
              "      <td>3.100000</td>\n",
              "      <td>50.000000</td>\n",
              "      <td>10.500000</td>\n",
              "      <td>92.70000</td>\n",
              "    </tr>\n",
              "  </tbody>\n",
              "</table>\n",
              "</div>\n",
              "    <div class=\"colab-df-buttons\">\n",
              "\n",
              "  <div class=\"colab-df-container\">\n",
              "    <button class=\"colab-df-convert\" onclick=\"convertToInteractive('df-26a402fa-f412-42e7-b954-48e195599887')\"\n",
              "            title=\"Convert this dataframe to an interactive table.\"\n",
              "            style=\"display:none;\">\n",
              "\n",
              "  <svg xmlns=\"http://www.w3.org/2000/svg\" height=\"24px\" viewBox=\"0 -960 960 960\">\n",
              "    <path d=\"M120-120v-720h720v720H120Zm60-500h600v-160H180v160Zm220 220h160v-160H400v160Zm0 220h160v-160H400v160ZM180-400h160v-160H180v160Zm440 0h160v-160H620v160ZM180-180h160v-160H180v160Zm440 0h160v-160H620v160Z\"/>\n",
              "  </svg>\n",
              "    </button>\n",
              "\n",
              "  <style>\n",
              "    .colab-df-container {\n",
              "      display:flex;\n",
              "      gap: 12px;\n",
              "    }\n",
              "\n",
              "    .colab-df-convert {\n",
              "      background-color: #E8F0FE;\n",
              "      border: none;\n",
              "      border-radius: 50%;\n",
              "      cursor: pointer;\n",
              "      display: none;\n",
              "      fill: #1967D2;\n",
              "      height: 32px;\n",
              "      padding: 0 0 0 0;\n",
              "      width: 32px;\n",
              "    }\n",
              "\n",
              "    .colab-df-convert:hover {\n",
              "      background-color: #E2EBFA;\n",
              "      box-shadow: 0px 1px 2px rgba(60, 64, 67, 0.3), 0px 1px 3px 1px rgba(60, 64, 67, 0.15);\n",
              "      fill: #174EA6;\n",
              "    }\n",
              "\n",
              "    .colab-df-buttons div {\n",
              "      margin-bottom: 4px;\n",
              "    }\n",
              "\n",
              "    [theme=dark] .colab-df-convert {\n",
              "      background-color: #3B4455;\n",
              "      fill: #D2E3FC;\n",
              "    }\n",
              "\n",
              "    [theme=dark] .colab-df-convert:hover {\n",
              "      background-color: #434B5C;\n",
              "      box-shadow: 0px 1px 3px 1px rgba(0, 0, 0, 0.15);\n",
              "      filter: drop-shadow(0px 1px 2px rgba(0, 0, 0, 0.3));\n",
              "      fill: #FFFFFF;\n",
              "    }\n",
              "  </style>\n",
              "\n",
              "    <script>\n",
              "      const buttonEl =\n",
              "        document.querySelector('#df-26a402fa-f412-42e7-b954-48e195599887 button.colab-df-convert');\n",
              "      buttonEl.style.display =\n",
              "        google.colab.kernel.accessAllowed ? 'block' : 'none';\n",
              "\n",
              "      async function convertToInteractive(key) {\n",
              "        const element = document.querySelector('#df-26a402fa-f412-42e7-b954-48e195599887');\n",
              "        const dataTable =\n",
              "          await google.colab.kernel.invokeFunction('convertToInteractive',\n",
              "                                                    [key], {});\n",
              "        if (!dataTable) return;\n",
              "\n",
              "        const docLinkHtml = 'Like what you see? Visit the ' +\n",
              "          '<a target=\"_blank\" href=https://colab.research.google.com/notebooks/data_table.ipynb>data table notebook</a>'\n",
              "          + ' to learn more about interactive tables.';\n",
              "        element.innerHTML = '';\n",
              "        dataTable['output_type'] = 'display_data';\n",
              "        await google.colab.output.renderOutput(dataTable, element);\n",
              "        const docLink = document.createElement('div');\n",
              "        docLink.innerHTML = docLinkHtml;\n",
              "        element.appendChild(docLink);\n",
              "      }\n",
              "    </script>\n",
              "  </div>\n",
              "\n",
              "\n",
              "<div id=\"df-de73e76a-8ff6-40d1-9ed5-138183f14811\">\n",
              "  <button class=\"colab-df-quickchart\" onclick=\"quickchart('df-de73e76a-8ff6-40d1-9ed5-138183f14811')\"\n",
              "            title=\"Suggest charts\"\n",
              "            style=\"display:none;\">\n",
              "\n",
              "<svg xmlns=\"http://www.w3.org/2000/svg\" height=\"24px\"viewBox=\"0 0 24 24\"\n",
              "     width=\"24px\">\n",
              "    <g>\n",
              "        <path d=\"M19 3H5c-1.1 0-2 .9-2 2v14c0 1.1.9 2 2 2h14c1.1 0 2-.9 2-2V5c0-1.1-.9-2-2-2zM9 17H7v-7h2v7zm4 0h-2V7h2v10zm4 0h-2v-4h2v4z\"/>\n",
              "    </g>\n",
              "</svg>\n",
              "  </button>\n",
              "\n",
              "<style>\n",
              "  .colab-df-quickchart {\n",
              "      --bg-color: #E8F0FE;\n",
              "      --fill-color: #1967D2;\n",
              "      --hover-bg-color: #E2EBFA;\n",
              "      --hover-fill-color: #174EA6;\n",
              "      --disabled-fill-color: #AAA;\n",
              "      --disabled-bg-color: #DDD;\n",
              "  }\n",
              "\n",
              "  [theme=dark] .colab-df-quickchart {\n",
              "      --bg-color: #3B4455;\n",
              "      --fill-color: #D2E3FC;\n",
              "      --hover-bg-color: #434B5C;\n",
              "      --hover-fill-color: #FFFFFF;\n",
              "      --disabled-bg-color: #3B4455;\n",
              "      --disabled-fill-color: #666;\n",
              "  }\n",
              "\n",
              "  .colab-df-quickchart {\n",
              "    background-color: var(--bg-color);\n",
              "    border: none;\n",
              "    border-radius: 50%;\n",
              "    cursor: pointer;\n",
              "    display: none;\n",
              "    fill: var(--fill-color);\n",
              "    height: 32px;\n",
              "    padding: 0;\n",
              "    width: 32px;\n",
              "  }\n",
              "\n",
              "  .colab-df-quickchart:hover {\n",
              "    background-color: var(--hover-bg-color);\n",
              "    box-shadow: 0 1px 2px rgba(60, 64, 67, 0.3), 0 1px 3px 1px rgba(60, 64, 67, 0.15);\n",
              "    fill: var(--button-hover-fill-color);\n",
              "  }\n",
              "\n",
              "  .colab-df-quickchart-complete:disabled,\n",
              "  .colab-df-quickchart-complete:disabled:hover {\n",
              "    background-color: var(--disabled-bg-color);\n",
              "    fill: var(--disabled-fill-color);\n",
              "    box-shadow: none;\n",
              "  }\n",
              "\n",
              "  .colab-df-spinner {\n",
              "    border: 2px solid var(--fill-color);\n",
              "    border-color: transparent;\n",
              "    border-bottom-color: var(--fill-color);\n",
              "    animation:\n",
              "      spin 1s steps(1) infinite;\n",
              "  }\n",
              "\n",
              "  @keyframes spin {\n",
              "    0% {\n",
              "      border-color: transparent;\n",
              "      border-bottom-color: var(--fill-color);\n",
              "      border-left-color: var(--fill-color);\n",
              "    }\n",
              "    20% {\n",
              "      border-color: transparent;\n",
              "      border-left-color: var(--fill-color);\n",
              "      border-top-color: var(--fill-color);\n",
              "    }\n",
              "    30% {\n",
              "      border-color: transparent;\n",
              "      border-left-color: var(--fill-color);\n",
              "      border-top-color: var(--fill-color);\n",
              "      border-right-color: var(--fill-color);\n",
              "    }\n",
              "    40% {\n",
              "      border-color: transparent;\n",
              "      border-right-color: var(--fill-color);\n",
              "      border-top-color: var(--fill-color);\n",
              "    }\n",
              "    60% {\n",
              "      border-color: transparent;\n",
              "      border-right-color: var(--fill-color);\n",
              "    }\n",
              "    80% {\n",
              "      border-color: transparent;\n",
              "      border-right-color: var(--fill-color);\n",
              "      border-bottom-color: var(--fill-color);\n",
              "    }\n",
              "    90% {\n",
              "      border-color: transparent;\n",
              "      border-bottom-color: var(--fill-color);\n",
              "    }\n",
              "  }\n",
              "</style>\n",
              "\n",
              "  <script>\n",
              "    async function quickchart(key) {\n",
              "      const quickchartButtonEl =\n",
              "        document.querySelector('#' + key + ' button');\n",
              "      quickchartButtonEl.disabled = true;  // To prevent multiple clicks.\n",
              "      quickchartButtonEl.classList.add('colab-df-spinner');\n",
              "      try {\n",
              "        const charts = await google.colab.kernel.invokeFunction(\n",
              "            'suggestCharts', [key], {});\n",
              "      } catch (error) {\n",
              "        console.error('Error during call to suggestCharts:', error);\n",
              "      }\n",
              "      quickchartButtonEl.classList.remove('colab-df-spinner');\n",
              "      quickchartButtonEl.classList.add('colab-df-quickchart-complete');\n",
              "    }\n",
              "    (() => {\n",
              "      let quickchartButtonEl =\n",
              "        document.querySelector('#df-de73e76a-8ff6-40d1-9ed5-138183f14811 button');\n",
              "      quickchartButtonEl.style.display =\n",
              "        google.colab.kernel.accessAllowed ? 'block' : 'none';\n",
              "    })();\n",
              "  </script>\n",
              "</div>\n",
              "    </div>\n",
              "  </div>\n"
            ],
            "application/vnd.google.colaboratory.intrinsic+json": {
              "type": "dataframe",
              "summary": "{\n  \"name\": \"df_baru\",\n  \"rows\": 8,\n  \"fields\": [\n    {\n      \"column\": \"Age\",\n      \"properties\": {\n        \"dtype\": \"number\",\n        \"std\": 3529.7920757190063,\n        \"min\": 6.0,\n        \"max\": 10000.0,\n        \"num_unique_values\": 8,\n        \"samples\": [\n          14.255,\n          13.0,\n          10000.0\n        ],\n        \"semantic_type\": \"\",\n        \"description\": \"\"\n      }\n    },\n    {\n      \"column\": \"Birth Weight\",\n      \"properties\": {\n        \"dtype\": \"number\",\n        \"std\": 3534.693137035312,\n        \"min\": 0.29109227655736103,\n        \"max\": 10000.0,\n        \"num_unique_values\": 7,\n        \"samples\": [\n          10000.0,\n          2.7575999999999996,\n          2.9\n        ],\n        \"semantic_type\": \"\",\n        \"description\": \"\"\n      }\n    },\n    {\n      \"column\": \"Birth Length\",\n      \"properties\": {\n        \"dtype\": \"number\",\n        \"std\": 3520.697600977665,\n        \"min\": 0.43981426040814753,\n        \"max\": 10000.0,\n        \"num_unique_values\": 6,\n        \"samples\": [\n          10000.0,\n          49.1174,\n          50.0\n        ],\n        \"semantic_type\": \"\",\n        \"description\": \"\"\n      }\n    },\n    {\n      \"column\": \"Body Weight\",\n      \"properties\": {\n        \"dtype\": \"number\",\n        \"std\": 3533.2192359326473,\n        \"min\": 1.7204608796667962,\n        \"max\": 10000.0,\n        \"num_unique_values\": 8,\n        \"samples\": [\n          7.631990000000001,\n          7.7,\n          10000.0\n        ],\n        \"semantic_type\": \"\",\n        \"description\": \"\"\n      }\n    },\n    {\n      \"column\": \"Body Length\",\n      \"properties\": {\n        \"dtype\": \"number\",\n        \"std\": 3514.1538182530107,\n        \"min\": 8.906639580473753,\n        \"max\": 10000.0,\n        \"num_unique_values\": 8,\n        \"samples\": [\n          68.85491999999999,\n          68.3,\n          10000.0\n        ],\n        \"semantic_type\": \"\",\n        \"description\": \"\"\n      }\n    }\n  ]\n}"
            }
          },
          "metadata": {},
          "execution_count": 9
        }
      ]
    },
    {
      "cell_type": "code",
      "source": [
        "df_baru.head()"
      ],
      "metadata": {
        "colab": {
          "base_uri": "https://localhost:8080/",
          "height": 206
        },
        "id": "wa6V4WvX8yn8",
        "outputId": "cda19090-fddf-47ab-fcd2-270ba98eea82"
      },
      "execution_count": null,
      "outputs": [
        {
          "output_type": "execute_result",
          "data": {
            "text/plain": [
              "  Gender  Age  Birth Weight  Birth Length  Body Weight  Body Length  \\\n",
              "0      0   17           3.0            49         10.0         72.2   \n",
              "1      1   11           2.9            49          2.9         65.0   \n",
              "2      0   16           2.9            49          8.5         72.2   \n",
              "3      0   31           2.8            49          6.4         63.0   \n",
              "4      0   15           3.1            49         10.5         49.0   \n",
              "\n",
              "  Breastfeeding Stunting  \n",
              "0             0        0  \n",
              "1             0        1  \n",
              "2             0        1  \n",
              "3             0        1  \n",
              "4             0        1  "
            ],
            "text/html": [
              "\n",
              "  <div id=\"df-9c5177a8-cbd6-4df0-b43d-30510d4bce8e\" class=\"colab-df-container\">\n",
              "    <div>\n",
              "<style scoped>\n",
              "    .dataframe tbody tr th:only-of-type {\n",
              "        vertical-align: middle;\n",
              "    }\n",
              "\n",
              "    .dataframe tbody tr th {\n",
              "        vertical-align: top;\n",
              "    }\n",
              "\n",
              "    .dataframe thead th {\n",
              "        text-align: right;\n",
              "    }\n",
              "</style>\n",
              "<table border=\"1\" class=\"dataframe\">\n",
              "  <thead>\n",
              "    <tr style=\"text-align: right;\">\n",
              "      <th></th>\n",
              "      <th>Gender</th>\n",
              "      <th>Age</th>\n",
              "      <th>Birth Weight</th>\n",
              "      <th>Birth Length</th>\n",
              "      <th>Body Weight</th>\n",
              "      <th>Body Length</th>\n",
              "      <th>Breastfeeding</th>\n",
              "      <th>Stunting</th>\n",
              "    </tr>\n",
              "  </thead>\n",
              "  <tbody>\n",
              "    <tr>\n",
              "      <th>0</th>\n",
              "      <td>0</td>\n",
              "      <td>17</td>\n",
              "      <td>3.0</td>\n",
              "      <td>49</td>\n",
              "      <td>10.0</td>\n",
              "      <td>72.2</td>\n",
              "      <td>0</td>\n",
              "      <td>0</td>\n",
              "    </tr>\n",
              "    <tr>\n",
              "      <th>1</th>\n",
              "      <td>1</td>\n",
              "      <td>11</td>\n",
              "      <td>2.9</td>\n",
              "      <td>49</td>\n",
              "      <td>2.9</td>\n",
              "      <td>65.0</td>\n",
              "      <td>0</td>\n",
              "      <td>1</td>\n",
              "    </tr>\n",
              "    <tr>\n",
              "      <th>2</th>\n",
              "      <td>0</td>\n",
              "      <td>16</td>\n",
              "      <td>2.9</td>\n",
              "      <td>49</td>\n",
              "      <td>8.5</td>\n",
              "      <td>72.2</td>\n",
              "      <td>0</td>\n",
              "      <td>1</td>\n",
              "    </tr>\n",
              "    <tr>\n",
              "      <th>3</th>\n",
              "      <td>0</td>\n",
              "      <td>31</td>\n",
              "      <td>2.8</td>\n",
              "      <td>49</td>\n",
              "      <td>6.4</td>\n",
              "      <td>63.0</td>\n",
              "      <td>0</td>\n",
              "      <td>1</td>\n",
              "    </tr>\n",
              "    <tr>\n",
              "      <th>4</th>\n",
              "      <td>0</td>\n",
              "      <td>15</td>\n",
              "      <td>3.1</td>\n",
              "      <td>49</td>\n",
              "      <td>10.5</td>\n",
              "      <td>49.0</td>\n",
              "      <td>0</td>\n",
              "      <td>1</td>\n",
              "    </tr>\n",
              "  </tbody>\n",
              "</table>\n",
              "</div>\n",
              "    <div class=\"colab-df-buttons\">\n",
              "\n",
              "  <div class=\"colab-df-container\">\n",
              "    <button class=\"colab-df-convert\" onclick=\"convertToInteractive('df-9c5177a8-cbd6-4df0-b43d-30510d4bce8e')\"\n",
              "            title=\"Convert this dataframe to an interactive table.\"\n",
              "            style=\"display:none;\">\n",
              "\n",
              "  <svg xmlns=\"http://www.w3.org/2000/svg\" height=\"24px\" viewBox=\"0 -960 960 960\">\n",
              "    <path d=\"M120-120v-720h720v720H120Zm60-500h600v-160H180v160Zm220 220h160v-160H400v160Zm0 220h160v-160H400v160ZM180-400h160v-160H180v160Zm440 0h160v-160H620v160ZM180-180h160v-160H180v160Zm440 0h160v-160H620v160Z\"/>\n",
              "  </svg>\n",
              "    </button>\n",
              "\n",
              "  <style>\n",
              "    .colab-df-container {\n",
              "      display:flex;\n",
              "      gap: 12px;\n",
              "    }\n",
              "\n",
              "    .colab-df-convert {\n",
              "      background-color: #E8F0FE;\n",
              "      border: none;\n",
              "      border-radius: 50%;\n",
              "      cursor: pointer;\n",
              "      display: none;\n",
              "      fill: #1967D2;\n",
              "      height: 32px;\n",
              "      padding: 0 0 0 0;\n",
              "      width: 32px;\n",
              "    }\n",
              "\n",
              "    .colab-df-convert:hover {\n",
              "      background-color: #E2EBFA;\n",
              "      box-shadow: 0px 1px 2px rgba(60, 64, 67, 0.3), 0px 1px 3px 1px rgba(60, 64, 67, 0.15);\n",
              "      fill: #174EA6;\n",
              "    }\n",
              "\n",
              "    .colab-df-buttons div {\n",
              "      margin-bottom: 4px;\n",
              "    }\n",
              "\n",
              "    [theme=dark] .colab-df-convert {\n",
              "      background-color: #3B4455;\n",
              "      fill: #D2E3FC;\n",
              "    }\n",
              "\n",
              "    [theme=dark] .colab-df-convert:hover {\n",
              "      background-color: #434B5C;\n",
              "      box-shadow: 0px 1px 3px 1px rgba(0, 0, 0, 0.15);\n",
              "      filter: drop-shadow(0px 1px 2px rgba(0, 0, 0, 0.3));\n",
              "      fill: #FFFFFF;\n",
              "    }\n",
              "  </style>\n",
              "\n",
              "    <script>\n",
              "      const buttonEl =\n",
              "        document.querySelector('#df-9c5177a8-cbd6-4df0-b43d-30510d4bce8e button.colab-df-convert');\n",
              "      buttonEl.style.display =\n",
              "        google.colab.kernel.accessAllowed ? 'block' : 'none';\n",
              "\n",
              "      async function convertToInteractive(key) {\n",
              "        const element = document.querySelector('#df-9c5177a8-cbd6-4df0-b43d-30510d4bce8e');\n",
              "        const dataTable =\n",
              "          await google.colab.kernel.invokeFunction('convertToInteractive',\n",
              "                                                    [key], {});\n",
              "        if (!dataTable) return;\n",
              "\n",
              "        const docLinkHtml = 'Like what you see? Visit the ' +\n",
              "          '<a target=\"_blank\" href=https://colab.research.google.com/notebooks/data_table.ipynb>data table notebook</a>'\n",
              "          + ' to learn more about interactive tables.';\n",
              "        element.innerHTML = '';\n",
              "        dataTable['output_type'] = 'display_data';\n",
              "        await google.colab.output.renderOutput(dataTable, element);\n",
              "        const docLink = document.createElement('div');\n",
              "        docLink.innerHTML = docLinkHtml;\n",
              "        element.appendChild(docLink);\n",
              "      }\n",
              "    </script>\n",
              "  </div>\n",
              "\n",
              "\n",
              "<div id=\"df-a6b6ae54-0bab-43ea-9a08-e5b1f930de80\">\n",
              "  <button class=\"colab-df-quickchart\" onclick=\"quickchart('df-a6b6ae54-0bab-43ea-9a08-e5b1f930de80')\"\n",
              "            title=\"Suggest charts\"\n",
              "            style=\"display:none;\">\n",
              "\n",
              "<svg xmlns=\"http://www.w3.org/2000/svg\" height=\"24px\"viewBox=\"0 0 24 24\"\n",
              "     width=\"24px\">\n",
              "    <g>\n",
              "        <path d=\"M19 3H5c-1.1 0-2 .9-2 2v14c0 1.1.9 2 2 2h14c1.1 0 2-.9 2-2V5c0-1.1-.9-2-2-2zM9 17H7v-7h2v7zm4 0h-2V7h2v10zm4 0h-2v-4h2v4z\"/>\n",
              "    </g>\n",
              "</svg>\n",
              "  </button>\n",
              "\n",
              "<style>\n",
              "  .colab-df-quickchart {\n",
              "      --bg-color: #E8F0FE;\n",
              "      --fill-color: #1967D2;\n",
              "      --hover-bg-color: #E2EBFA;\n",
              "      --hover-fill-color: #174EA6;\n",
              "      --disabled-fill-color: #AAA;\n",
              "      --disabled-bg-color: #DDD;\n",
              "  }\n",
              "\n",
              "  [theme=dark] .colab-df-quickchart {\n",
              "      --bg-color: #3B4455;\n",
              "      --fill-color: #D2E3FC;\n",
              "      --hover-bg-color: #434B5C;\n",
              "      --hover-fill-color: #FFFFFF;\n",
              "      --disabled-bg-color: #3B4455;\n",
              "      --disabled-fill-color: #666;\n",
              "  }\n",
              "\n",
              "  .colab-df-quickchart {\n",
              "    background-color: var(--bg-color);\n",
              "    border: none;\n",
              "    border-radius: 50%;\n",
              "    cursor: pointer;\n",
              "    display: none;\n",
              "    fill: var(--fill-color);\n",
              "    height: 32px;\n",
              "    padding: 0;\n",
              "    width: 32px;\n",
              "  }\n",
              "\n",
              "  .colab-df-quickchart:hover {\n",
              "    background-color: var(--hover-bg-color);\n",
              "    box-shadow: 0 1px 2px rgba(60, 64, 67, 0.3), 0 1px 3px 1px rgba(60, 64, 67, 0.15);\n",
              "    fill: var(--button-hover-fill-color);\n",
              "  }\n",
              "\n",
              "  .colab-df-quickchart-complete:disabled,\n",
              "  .colab-df-quickchart-complete:disabled:hover {\n",
              "    background-color: var(--disabled-bg-color);\n",
              "    fill: var(--disabled-fill-color);\n",
              "    box-shadow: none;\n",
              "  }\n",
              "\n",
              "  .colab-df-spinner {\n",
              "    border: 2px solid var(--fill-color);\n",
              "    border-color: transparent;\n",
              "    border-bottom-color: var(--fill-color);\n",
              "    animation:\n",
              "      spin 1s steps(1) infinite;\n",
              "  }\n",
              "\n",
              "  @keyframes spin {\n",
              "    0% {\n",
              "      border-color: transparent;\n",
              "      border-bottom-color: var(--fill-color);\n",
              "      border-left-color: var(--fill-color);\n",
              "    }\n",
              "    20% {\n",
              "      border-color: transparent;\n",
              "      border-left-color: var(--fill-color);\n",
              "      border-top-color: var(--fill-color);\n",
              "    }\n",
              "    30% {\n",
              "      border-color: transparent;\n",
              "      border-left-color: var(--fill-color);\n",
              "      border-top-color: var(--fill-color);\n",
              "      border-right-color: var(--fill-color);\n",
              "    }\n",
              "    40% {\n",
              "      border-color: transparent;\n",
              "      border-right-color: var(--fill-color);\n",
              "      border-top-color: var(--fill-color);\n",
              "    }\n",
              "    60% {\n",
              "      border-color: transparent;\n",
              "      border-right-color: var(--fill-color);\n",
              "    }\n",
              "    80% {\n",
              "      border-color: transparent;\n",
              "      border-right-color: var(--fill-color);\n",
              "      border-bottom-color: var(--fill-color);\n",
              "    }\n",
              "    90% {\n",
              "      border-color: transparent;\n",
              "      border-bottom-color: var(--fill-color);\n",
              "    }\n",
              "  }\n",
              "</style>\n",
              "\n",
              "  <script>\n",
              "    async function quickchart(key) {\n",
              "      const quickchartButtonEl =\n",
              "        document.querySelector('#' + key + ' button');\n",
              "      quickchartButtonEl.disabled = true;  // To prevent multiple clicks.\n",
              "      quickchartButtonEl.classList.add('colab-df-spinner');\n",
              "      try {\n",
              "        const charts = await google.colab.kernel.invokeFunction(\n",
              "            'suggestCharts', [key], {});\n",
              "      } catch (error) {\n",
              "        console.error('Error during call to suggestCharts:', error);\n",
              "      }\n",
              "      quickchartButtonEl.classList.remove('colab-df-spinner');\n",
              "      quickchartButtonEl.classList.add('colab-df-quickchart-complete');\n",
              "    }\n",
              "    (() => {\n",
              "      let quickchartButtonEl =\n",
              "        document.querySelector('#df-a6b6ae54-0bab-43ea-9a08-e5b1f930de80 button');\n",
              "      quickchartButtonEl.style.display =\n",
              "        google.colab.kernel.accessAllowed ? 'block' : 'none';\n",
              "    })();\n",
              "  </script>\n",
              "</div>\n",
              "    </div>\n",
              "  </div>\n"
            ],
            "application/vnd.google.colaboratory.intrinsic+json": {
              "type": "dataframe",
              "variable_name": "df_baru",
              "summary": "{\n  \"name\": \"df_baru\",\n  \"rows\": 10000,\n  \"fields\": [\n    {\n      \"column\": \"Gender\",\n      \"properties\": {\n        \"dtype\": \"category\",\n        \"num_unique_values\": 2,\n        \"samples\": [\n          1,\n          0\n        ],\n        \"semantic_type\": \"\",\n        \"description\": \"\"\n      }\n    },\n    {\n      \"column\": \"Age\",\n      \"properties\": {\n        \"dtype\": \"number\",\n        \"std\": 7,\n        \"min\": 6,\n        \"max\": 48,\n        \"num_unique_values\": 43,\n        \"samples\": [\n          43,\n          37\n        ],\n        \"semantic_type\": \"\",\n        \"description\": \"\"\n      }\n    },\n    {\n      \"column\": \"Birth Weight\",\n      \"properties\": {\n        \"dtype\": \"number\",\n        \"std\": 0.29109227655736103,\n        \"min\": 2.0,\n        \"max\": 3.1,\n        \"num_unique_values\": 7,\n        \"samples\": [\n          3.0,\n          2.9\n        ],\n        \"semantic_type\": \"\",\n        \"description\": \"\"\n      }\n    },\n    {\n      \"column\": \"Birth Length\",\n      \"properties\": {\n        \"dtype\": \"number\",\n        \"std\": 0,\n        \"min\": 48,\n        \"max\": 50,\n        \"num_unique_values\": 3,\n        \"samples\": [\n          49,\n          50\n        ],\n        \"semantic_type\": \"\",\n        \"description\": \"\"\n      }\n    },\n    {\n      \"column\": \"Body Weight\",\n      \"properties\": {\n        \"dtype\": \"number\",\n        \"std\": 1.7204608796667962,\n        \"min\": 2.9,\n        \"max\": 10.5,\n        \"num_unique_values\": 13,\n        \"samples\": [\n          9.0,\n          7.7\n        ],\n        \"semantic_type\": \"\",\n        \"description\": \"\"\n      }\n    },\n    {\n      \"column\": \"Body Length\",\n      \"properties\": {\n        \"dtype\": \"number\",\n        \"std\": 8.906639580473753,\n        \"min\": 49.0,\n        \"max\": 92.7,\n        \"num_unique_values\": 11,\n        \"samples\": [\n          68.3,\n          72.2\n        ],\n        \"semantic_type\": \"\",\n        \"description\": \"\"\n      }\n    },\n    {\n      \"column\": \"Breastfeeding\",\n      \"properties\": {\n        \"dtype\": \"category\",\n        \"num_unique_values\": 1,\n        \"samples\": [\n          0\n        ],\n        \"semantic_type\": \"\",\n        \"description\": \"\"\n      }\n    },\n    {\n      \"column\": \"Stunting\",\n      \"properties\": {\n        \"dtype\": \"category\",\n        \"num_unique_values\": 2,\n        \"samples\": [\n          1\n        ],\n        \"semantic_type\": \"\",\n        \"description\": \"\"\n      }\n    }\n  ]\n}"
            }
          },
          "metadata": {},
          "execution_count": 10
        }
      ]
    },
    {
      "cell_type": "code",
      "source": [
        "#Counting Stunting Case for each case\n",
        "df_baru['Age'].value_counts()"
      ],
      "metadata": {
        "colab": {
          "base_uri": "https://localhost:8080/"
        },
        "id": "kJ-Lr-Hhp9Wi",
        "outputId": "b2d35c99-298f-45f4-abcc-261a37c77c97"
      },
      "execution_count": null,
      "outputs": [
        {
          "output_type": "execute_result",
          "data": {
            "text/plain": [
              "Age\n",
              "12    1053\n",
              "13    1028\n",
              "11    1019\n",
              "14     972\n",
              "10     860\n",
              "15     823\n",
              "9      646\n",
              "16     595\n",
              "8      504\n",
              "6      485\n",
              "17     423\n",
              "7      313\n",
              "18     250\n",
              "19     142\n",
              "48     137\n",
              "20      79\n",
              "41      45\n",
              "34      39\n",
              "21      38\n",
              "37      37\n",
              "40      36\n",
              "32      36\n",
              "35      32\n",
              "38      30\n",
              "43      29\n",
              "36      29\n",
              "42      29\n",
              "45      28\n",
              "46      27\n",
              "39      27\n",
              "44      24\n",
              "30      23\n",
              "33      21\n",
              "29      20\n",
              "31      17\n",
              "47      17\n",
              "27      16\n",
              "26      16\n",
              "22      16\n",
              "25      12\n",
              "23      11\n",
              "28      10\n",
              "24       6\n",
              "Name: count, dtype: int64"
            ]
          },
          "metadata": {},
          "execution_count": 11
        }
      ]
    },
    {
      "cell_type": "code",
      "source": [
        "#Finding Missing Data\n",
        "df_baru.isnull().sum()"
      ],
      "metadata": {
        "colab": {
          "base_uri": "https://localhost:8080/"
        },
        "id": "sIX4fMdKlpiK",
        "outputId": "8109b535-1333-47a9-8a6b-45351b14a6b9"
      },
      "execution_count": null,
      "outputs": [
        {
          "output_type": "execute_result",
          "data": {
            "text/plain": [
              "Gender           0\n",
              "Age              0\n",
              "Birth Weight     0\n",
              "Birth Length     0\n",
              "Body Weight      0\n",
              "Body Length      0\n",
              "Breastfeeding    0\n",
              "Stunting         0\n",
              "dtype: int64"
            ]
          },
          "metadata": {},
          "execution_count": 12
        }
      ]
    },
    {
      "cell_type": "code",
      "source": [
        "print(\"Jumlah duplikasi: \", df_baru.duplicated().sum())"
      ],
      "metadata": {
        "colab": {
          "base_uri": "https://localhost:8080/"
        },
        "id": "-LuvQ3W3C4OY",
        "outputId": "309bdbd3-77d1-487d-e87f-dca8612b0e3d"
      },
      "execution_count": null,
      "outputs": [
        {
          "output_type": "stream",
          "name": "stdout",
          "text": [
            "Jumlah duplikasi:  2427\n"
          ]
        }
      ]
    },
    {
      "cell_type": "code",
      "source": [
        "# Menghapus duplikasi berdasarkan semua kolom\n",
        "df_no_duplicates = df_baru.drop_duplicates()\n",
        "\n",
        "print(df_no_duplicates)"
      ],
      "metadata": {
        "colab": {
          "base_uri": "https://localhost:8080/"
        },
        "id": "OlQDAPUqD9rj",
        "outputId": "43eca64c-518f-4e89-b29e-610b6705b27e"
      },
      "execution_count": null,
      "outputs": [
        {
          "output_type": "stream",
          "name": "stdout",
          "text": [
            "     Gender  Age  Birth Weight  Birth Length  Body Weight  Body Length  \\\n",
            "0         0   17           3.0            49         10.0         72.2   \n",
            "1         1   11           2.9            49          2.9         65.0   \n",
            "2         0   16           2.9            49          8.5         72.2   \n",
            "3         0   31           2.8            49          6.4         63.0   \n",
            "4         0   15           3.1            49         10.5         49.0   \n",
            "...     ...  ...           ...           ...          ...          ...   \n",
            "9992      0   11           2.8            48         10.5         73.5   \n",
            "9994      0   15           2.8            49          2.9         71.0   \n",
            "9996      1   12           2.8            48          7.7         63.0   \n",
            "9997      0   16           2.8            49          7.7         49.0   \n",
            "9999      1   10           3.0            49          7.7         80.0   \n",
            "\n",
            "     Breastfeeding Stunting  \n",
            "0                0        0  \n",
            "1                0        1  \n",
            "2                0        1  \n",
            "3                0        1  \n",
            "4                0        1  \n",
            "...            ...      ...  \n",
            "9992             0        0  \n",
            "9994             0        1  \n",
            "9996             0        0  \n",
            "9997             0        0  \n",
            "9999             0        1  \n",
            "\n",
            "[7573 rows x 8 columns]\n"
          ]
        }
      ]
    },
    {
      "cell_type": "code",
      "source": [
        "#Counting Stunting Case for each case\n",
        "df_baru['Stunting'].value_counts()"
      ],
      "metadata": {
        "colab": {
          "base_uri": "https://localhost:8080/"
        },
        "id": "eKoXHeFvqv_5",
        "outputId": "a186bfa4-5a6a-4239-fa5c-472bcccc130e"
      },
      "execution_count": null,
      "outputs": [
        {
          "output_type": "execute_result",
          "data": {
            "text/plain": [
              "Stunting\n",
              "1    7955\n",
              "0    2045\n",
              "Name: count, dtype: int64"
            ]
          },
          "metadata": {},
          "execution_count": 15
        }
      ]
    },
    {
      "cell_type": "code",
      "source": [
        "# Data Exploration\n",
        "# FOR LABEL\n",
        "sns.countplot(x=\"Stunting\", data=df_baru, palette=\"bwr\")\n",
        "plt.show()"
      ],
      "metadata": {
        "colab": {
          "base_uri": "https://localhost:8080/",
          "height": 559
        },
        "id": "onmXT6CCI9OX",
        "outputId": "6b9cea04-98ce-4ccc-b8a4-9916bd1fb734"
      },
      "execution_count": null,
      "outputs": [
        {
          "output_type": "stream",
          "name": "stderr",
          "text": [
            "<ipython-input-16-a21fc39cb2ba>:3: FutureWarning: \n",
            "\n",
            "Passing `palette` without assigning `hue` is deprecated and will be removed in v0.14.0. Assign the `x` variable to `hue` and set `legend=False` for the same effect.\n",
            "\n",
            "  sns.countplot(x=\"Stunting\", data=df_baru, palette=\"bwr\")\n"
          ]
        },
        {
          "output_type": "display_data",
          "data": {
            "text/plain": [
              "<Figure size 640x480 with 1 Axes>"
            ],
            "image/png": "[encoded data removed]"
          },
          "metadata": {}
        }
      ]
    },
    {
      "cell_type": "code",
      "source": [
        "#Checking the Dimension of dataset\n",
        "df_baru.shape"
      ],
      "metadata": {
        "colab": {
          "base_uri": "https://localhost:8080/"
        },
        "id": "2L6rT50vsX7B",
        "outputId": "10109689-e9fb-4908-a719-12470f70f290"
      },
      "execution_count": null,
      "outputs": [
        {
          "output_type": "execute_result",
          "data": {
            "text/plain": [
              "(10000, 8)"
            ]
          },
          "metadata": {},
          "execution_count": 17
        }
      ]
    },
    {
      "cell_type": "code",
      "source": [
        "# HISTOGRAM IN EACH VARIABLE\n",
        "df_baru.hist(figsize = (12, 12))\n",
        "plt.show()"
      ],
      "metadata": {
        "colab": {
          "base_uri": "https://localhost:8080/",
          "height": 993
        },
        "id": "R3tmuJvDJKmo",
        "outputId": "5bb0223f-b1ab-4558-af78-1f75c354f1f9"
      },
      "execution_count": null,
      "outputs": [
        {
          "output_type": "display_data",
          "data": {
            "text/plain": [
              "<Figure size 1200x1200 with 6 Axes>"
            ],
            "image/png": "[encoded data removed]"
          },
          "metadata": {}
        }
      ]
    },
    {
      "cell_type": "code",
      "source": [
        "new = df_baru.drop(columns=[\"Stunting\"])\n",
        "# Normalize the data using MinMaxScaler\n",
        "scaler = MinMaxScaler()\n",
        "normalized_data = scaler.fit_transform(new)\n",
        "\n",
        "# Convert the normalized data back to a DataFrame\n",
        "normalized_df = pd.DataFrame(normalized_data, columns=new.columns)\n",
        "\n",
        "# Save the normalization model using joblib\n",
        "joblib.dump(scaler, 'normalization_model.joblib')\n",
        "\n",
        "# Print the normalized DataFrame\n",
        "print(normalized_df)"
      ],
      "metadata": {
        "colab": {
          "base_uri": "https://localhost:8080/"
        },
        "id": "PrAtlHTssk3Q",
        "outputId": "a1fd5032-109b-4629-8376-1e96f51531d6"
      },
      "execution_count": null,
      "outputs": [
        {
          "output_type": "stream",
          "name": "stdout",
          "text": [
            "      Gender       Age  Birth Weight  Birth Length  Body Weight  Body Length  \\\n",
            "0        0.0  0.261905      0.909091           0.5     0.934211     0.530892   \n",
            "1        1.0  0.119048      0.818182           0.5     0.000000     0.366133   \n",
            "2        0.0  0.238095      0.818182           0.5     0.736842     0.530892   \n",
            "3        0.0  0.595238      0.727273           0.5     0.460526     0.320366   \n",
            "4        0.0  0.214286      1.000000           0.5     1.000000     0.000000   \n",
            "...      ...       ...           ...           ...          ...          ...   \n",
            "9995     0.0  0.214286      0.909091           0.5     0.802632     0.320366   \n",
            "9996     1.0  0.142857      0.727273           0.0     0.631579     0.320366   \n",
            "9997     0.0  0.238095      0.727273           0.5     0.631579     0.000000   \n",
            "9998     0.0  0.190476      0.727273           0.5     0.934211     0.457666   \n",
            "9999     1.0  0.095238      0.909091           0.5     0.631579     0.709382   \n",
            "\n",
            "      Breastfeeding  \n",
            "0               0.0  \n",
            "1               0.0  \n",
            "2               0.0  \n",
            "3               0.0  \n",
            "4               0.0  \n",
            "...             ...  \n",
            "9995            0.0  \n",
            "9996            0.0  \n",
            "9997            0.0  \n",
            "9998            0.0  \n",
            "9999            0.0  \n",
            "\n",
            "[10000 rows x 7 columns]\n"
          ]
        }
      ]
    },
    {
      "cell_type": "code",
      "source": [
        "normalized_df.Breastfeeding.value_counts()"
      ],
      "metadata": {
        "colab": {
          "base_uri": "https://localhost:8080/"
        },
        "id": "gRJUYx2__WFN",
        "outputId": "71422b90-c0e5-44d0-ca4a-37217dadc772"
      },
      "execution_count": null,
      "outputs": [
        {
          "output_type": "execute_result",
          "data": {
            "text/plain": [
              "Breastfeeding\n",
              "0.0    10000\n",
              "Name: count, dtype: int64"
            ]
          },
          "metadata": {},
          "execution_count": 29
        }
      ]
    },
    {
      "cell_type": "code",
      "source": [
        "#Data Splitting\n",
        "# Separating the Feature and Labels\n",
        "X = normalized_df.drop(columns = 'Breastfeeding')\n",
        "y = df_baru[\"Stunting\"]"
      ],
      "metadata": {
        "id": "GB1aLyonuFKY"
      },
      "execution_count": null,
      "outputs": []
    },
    {
      "cell_type": "code",
      "source": [
        "# Split the dataset into training and test sets\n",
        "X_train, X_test, y_train, y_test = train_test_split(X, y, test_size=0.2, random_state=64)"
      ],
      "metadata": {
        "id": "0rVkGdPyuKSq"
      },
      "execution_count": null,
      "outputs": []
    },
    {
      "cell_type": "code",
      "source": [
        "# Periksa apakah ada NaN atau inf\n",
        "print(np.any(np.isnan(X_train)), np.any(np.isnan(X_test)))\n",
        "print(np.any(np.isinf(X_train)), np.any(np.isinf(X_test)))"
      ],
      "metadata": {
        "colab": {
          "base_uri": "https://localhost:8080/"
        },
        "id": "OMxAfoRYvztm",
        "outputId": "71c54820-657d-43a0-b87a-3e9736594504"
      },
      "execution_count": null,
      "outputs": [
        {
          "output_type": "stream",
          "name": "stdout",
          "text": [
            "False False\n",
            "False False\n"
          ]
        }
      ]
    },
    {
      "cell_type": "markdown",
      "source": [
        "# **Model Architecture**"
      ],
      "metadata": {
        "id": "uLqh1zs2uM6u"
      }
    },
    {
      "cell_type": "code",
      "source": [
        "# Definisikan model dengan regularisasi dan dropout\n",
        "model = tf.keras.Sequential([\n",
        "    tf.keras.layers.Dense(128, input_dim=6, kernel_initializer='normal', kernel_regularizer=tf.keras.regularizers.l2(0.001), activation='relu'),\n",
        "    tf.keras.layers.Dense(64, activation='relu', kernel_regularizer=tf.keras.regularizers.l2(0.001)),\n",
        "    tf.keras.layers.Dropout(0.5),\n",
        "    tf.keras.layers.Dense(32, activation='relu', kernel_regularizer=tf.keras.regularizers.l2(0.001)),\n",
        "    tf.keras.layers.Dropout(0.5),\n",
        "    tf.keras.layers.Dense(16, activation='relu', kernel_regularizer=tf.keras.regularizers.l2(0.001)),\n",
        "    tf.keras.layers.Dense(8, activation='relu'),\n",
        "    tf.keras.layers.Dense(1, activation='sigmoid')\n",
        "])\n"
      ],
      "metadata": {
        "id": "2-2FVVYSuSHv"
      },
      "execution_count": null,
      "outputs": []
    },
    {
      "cell_type": "code",
      "source": [
        "# Kompilasi model dengan optimizer dan metrics tambahan\n",
        "optimizer = tf.keras.optimizers.Adam(learning_rate=0.0001, clipnorm=1.0)\n",
        "model.compile(optimizer=optimizer, loss='binary_crossentropy', metrics=['accuracy'])"
      ],
      "metadata": {
        "id": "ml2lwYKUucDn"
      },
      "execution_count": null,
      "outputs": []
    },
    {
      "cell_type": "code",
      "source": [
        "history = model.fit(X_train, y_train, epochs=100, batch_size=128, validation_data=(X_test, y_test))"
      ],
      "metadata": {
        "colab": {
          "base_uri": "https://localhost:8080/"
        },
        "id": "WYEiDMjQufev",
        "outputId": "5b24f860-ff9f-4bc7-989d-5af8ec8d0439"
      },
      "execution_count": null,
      "outputs": [
        {
          "output_type": "stream",
          "name": "stdout",
          "text": [
            "Epoch 1/100\n",
            "63/63 [==============================] - 2s 8ms/step - loss: 0.8199 - accuracy: 0.7343 - val_loss: 0.7851 - val_accuracy: 0.7925\n",
            "Epoch 2/100\n",
            "63/63 [==============================] - 0s 5ms/step - loss: 0.7526 - accuracy: 0.7941 - val_loss: 0.6955 - val_accuracy: 0.7925\n",
            "Epoch 3/100\n",
            "63/63 [==============================] - 0s 5ms/step - loss: 0.6723 - accuracy: 0.7958 - val_loss: 0.6229 - val_accuracy: 0.7925\n",
            "Epoch 4/100\n",
            "63/63 [==============================] - 0s 7ms/step - loss: 0.6316 - accuracy: 0.7960 - val_loss: 0.5955 - val_accuracy: 0.7925\n",
            "Epoch 5/100\n",
            "63/63 [==============================] - 0s 7ms/step - loss: 0.6164 - accuracy: 0.7962 - val_loss: 0.5800 - val_accuracy: 0.7925\n",
            "Epoch 6/100\n",
            "63/63 [==============================] - 0s 6ms/step - loss: 0.5949 - accuracy: 0.7962 - val_loss: 0.5644 - val_accuracy: 0.7925\n",
            "Epoch 7/100\n",
            "63/63 [==============================] - 0s 6ms/step - loss: 0.5827 - accuracy: 0.7962 - val_loss: 0.5507 - val_accuracy: 0.7925\n",
            "Epoch 8/100\n",
            "63/63 [==============================] - 0s 6ms/step - loss: 0.5676 - accuracy: 0.7962 - val_loss: 0.5369 - val_accuracy: 0.7925\n",
            "Epoch 9/100\n",
            "63/63 [==============================] - 0s 7ms/step - loss: 0.5564 - accuracy: 0.7962 - val_loss: 0.5267 - val_accuracy: 0.7925\n",
            "Epoch 10/100\n",
            "63/63 [==============================] - 0s 7ms/step - loss: 0.5467 - accuracy: 0.7962 - val_loss: 0.5177 - val_accuracy: 0.7925\n",
            "Epoch 11/100\n",
            "63/63 [==============================] - 0s 7ms/step - loss: 0.5368 - accuracy: 0.7962 - val_loss: 0.5105 - val_accuracy: 0.7925\n",
            "Epoch 12/100\n",
            "63/63 [==============================] - 0s 6ms/step - loss: 0.5332 - accuracy: 0.7962 - val_loss: 0.5032 - val_accuracy: 0.7925\n",
            "Epoch 13/100\n",
            "63/63 [==============================] - 0s 4ms/step - loss: 0.5286 - accuracy: 0.7962 - val_loss: 0.4977 - val_accuracy: 0.7925\n",
            "Epoch 14/100\n",
            "63/63 [==============================] - 0s 4ms/step - loss: 0.5231 - accuracy: 0.7962 - val_loss: 0.4935 - val_accuracy: 0.7925\n",
            "Epoch 15/100\n",
            "63/63 [==============================] - 0s 5ms/step - loss: 0.5201 - accuracy: 0.7961 - val_loss: 0.4886 - val_accuracy: 0.7925\n",
            "Epoch 16/100\n",
            "63/63 [==============================] - 0s 4ms/step - loss: 0.5144 - accuracy: 0.7962 - val_loss: 0.4846 - val_accuracy: 0.7925\n",
            "Epoch 17/100\n",
            "63/63 [==============================] - 0s 4ms/step - loss: 0.5082 - accuracy: 0.7964 - val_loss: 0.4817 - val_accuracy: 0.7925\n",
            "Epoch 18/100\n",
            "63/63 [==============================] - 0s 4ms/step - loss: 0.5010 - accuracy: 0.7966 - val_loss: 0.4774 - val_accuracy: 0.7925\n",
            "Epoch 19/100\n",
            "63/63 [==============================] - 0s 4ms/step - loss: 0.5013 - accuracy: 0.7975 - val_loss: 0.4740 - val_accuracy: 0.7925\n",
            "Epoch 20/100\n",
            "63/63 [==============================] - 0s 5ms/step - loss: 0.4997 - accuracy: 0.8040 - val_loss: 0.4711 - val_accuracy: 0.8460\n",
            "Epoch 21/100\n",
            "63/63 [==============================] - 0s 4ms/step - loss: 0.4970 - accuracy: 0.8192 - val_loss: 0.4687 - val_accuracy: 0.8470\n",
            "Epoch 22/100\n",
            "63/63 [==============================] - 0s 5ms/step - loss: 0.4905 - accuracy: 0.8275 - val_loss: 0.4645 - val_accuracy: 0.8495\n",
            "Epoch 23/100\n",
            "63/63 [==============================] - 0s 5ms/step - loss: 0.4837 - accuracy: 0.8301 - val_loss: 0.4600 - val_accuracy: 0.8495\n",
            "Epoch 24/100\n",
            "63/63 [==============================] - 0s 5ms/step - loss: 0.4837 - accuracy: 0.8370 - val_loss: 0.4568 - val_accuracy: 0.8495\n",
            "Epoch 25/100\n",
            "63/63 [==============================] - 0s 4ms/step - loss: 0.4775 - accuracy: 0.8375 - val_loss: 0.4528 - val_accuracy: 0.8515\n",
            "Epoch 26/100\n",
            "63/63 [==============================] - 0s 4ms/step - loss: 0.4793 - accuracy: 0.8393 - val_loss: 0.4499 - val_accuracy: 0.8520\n",
            "Epoch 27/100\n",
            "63/63 [==============================] - 0s 4ms/step - loss: 0.4753 - accuracy: 0.8401 - val_loss: 0.4473 - val_accuracy: 0.8505\n",
            "Epoch 28/100\n",
            "63/63 [==============================] - 0s 4ms/step - loss: 0.4736 - accuracy: 0.8401 - val_loss: 0.4445 - val_accuracy: 0.8510\n",
            "Epoch 29/100\n",
            "63/63 [==============================] - 0s 4ms/step - loss: 0.4710 - accuracy: 0.8419 - val_loss: 0.4421 - val_accuracy: 0.8535\n",
            "Epoch 30/100\n",
            "63/63 [==============================] - 0s 4ms/step - loss: 0.4663 - accuracy: 0.8425 - val_loss: 0.4399 - val_accuracy: 0.8530\n",
            "Epoch 31/100\n",
            "63/63 [==============================] - 0s 4ms/step - loss: 0.4657 - accuracy: 0.8419 - val_loss: 0.4391 - val_accuracy: 0.8560\n",
            "Epoch 32/100\n",
            "63/63 [==============================] - 0s 4ms/step - loss: 0.4629 - accuracy: 0.8434 - val_loss: 0.4359 - val_accuracy: 0.8540\n",
            "Epoch 33/100\n",
            "63/63 [==============================] - 0s 4ms/step - loss: 0.4611 - accuracy: 0.8410 - val_loss: 0.4335 - val_accuracy: 0.8535\n",
            "Epoch 34/100\n",
            "63/63 [==============================] - 0s 4ms/step - loss: 0.4599 - accuracy: 0.8455 - val_loss: 0.4316 - val_accuracy: 0.8555\n",
            "Epoch 35/100\n",
            "63/63 [==============================] - 0s 4ms/step - loss: 0.4588 - accuracy: 0.8414 - val_loss: 0.4302 - val_accuracy: 0.8550\n",
            "Epoch 36/100\n",
            "63/63 [==============================] - 0s 4ms/step - loss: 0.4568 - accuracy: 0.8422 - val_loss: 0.4286 - val_accuracy: 0.8555\n",
            "Epoch 37/100\n",
            "63/63 [==============================] - 0s 4ms/step - loss: 0.4527 - accuracy: 0.8420 - val_loss: 0.4262 - val_accuracy: 0.8570\n",
            "Epoch 38/100\n",
            "63/63 [==============================] - 0s 4ms/step - loss: 0.4508 - accuracy: 0.8424 - val_loss: 0.4246 - val_accuracy: 0.8555\n",
            "Epoch 39/100\n",
            "63/63 [==============================] - 0s 5ms/step - loss: 0.4526 - accuracy: 0.8424 - val_loss: 0.4236 - val_accuracy: 0.8560\n",
            "Epoch 40/100\n",
            "63/63 [==============================] - 0s 4ms/step - loss: 0.4479 - accuracy: 0.8439 - val_loss: 0.4222 - val_accuracy: 0.8575\n",
            "Epoch 41/100\n",
            "63/63 [==============================] - 0s 4ms/step - loss: 0.4460 - accuracy: 0.8441 - val_loss: 0.4208 - val_accuracy: 0.8565\n",
            "Epoch 42/100\n",
            "63/63 [==============================] - 0s 4ms/step - loss: 0.4453 - accuracy: 0.8440 - val_loss: 0.4197 - val_accuracy: 0.8565\n",
            "Epoch 43/100\n",
            "63/63 [==============================] - 0s 4ms/step - loss: 0.4455 - accuracy: 0.8462 - val_loss: 0.4194 - val_accuracy: 0.8570\n",
            "Epoch 44/100\n",
            "63/63 [==============================] - 0s 4ms/step - loss: 0.4423 - accuracy: 0.8449 - val_loss: 0.4169 - val_accuracy: 0.8555\n",
            "Epoch 45/100\n",
            "63/63 [==============================] - 0s 4ms/step - loss: 0.4402 - accuracy: 0.8457 - val_loss: 0.4159 - val_accuracy: 0.8550\n",
            "Epoch 46/100\n",
            "63/63 [==============================] - 0s 4ms/step - loss: 0.4393 - accuracy: 0.8457 - val_loss: 0.4144 - val_accuracy: 0.8565\n",
            "Epoch 47/100\n",
            "63/63 [==============================] - 0s 4ms/step - loss: 0.4390 - accuracy: 0.8468 - val_loss: 0.4134 - val_accuracy: 0.8595\n",
            "Epoch 48/100\n",
            "63/63 [==============================] - 0s 4ms/step - loss: 0.4370 - accuracy: 0.8464 - val_loss: 0.4127 - val_accuracy: 0.8565\n",
            "Epoch 49/100\n",
            "63/63 [==============================] - 0s 6ms/step - loss: 0.4368 - accuracy: 0.8460 - val_loss: 0.4114 - val_accuracy: 0.8580\n",
            "Epoch 50/100\n",
            "63/63 [==============================] - 0s 6ms/step - loss: 0.4344 - accuracy: 0.8475 - val_loss: 0.4101 - val_accuracy: 0.8565\n",
            "Epoch 51/100\n",
            "63/63 [==============================] - 0s 6ms/step - loss: 0.4358 - accuracy: 0.8451 - val_loss: 0.4090 - val_accuracy: 0.8565\n",
            "Epoch 52/100\n",
            "63/63 [==============================] - 0s 5ms/step - loss: 0.4341 - accuracy: 0.8461 - val_loss: 0.4082 - val_accuracy: 0.8575\n",
            "Epoch 53/100\n",
            "63/63 [==============================] - 0s 6ms/step - loss: 0.4331 - accuracy: 0.8445 - val_loss: 0.4077 - val_accuracy: 0.8580\n",
            "Epoch 54/100\n",
            "63/63 [==============================] - 0s 7ms/step - loss: 0.4263 - accuracy: 0.8518 - val_loss: 0.4060 - val_accuracy: 0.8575\n",
            "Epoch 55/100\n",
            "63/63 [==============================] - 0s 7ms/step - loss: 0.4303 - accuracy: 0.8476 - val_loss: 0.4053 - val_accuracy: 0.8585\n",
            "Epoch 56/100\n",
            "63/63 [==============================] - 0s 6ms/step - loss: 0.4280 - accuracy: 0.8450 - val_loss: 0.4044 - val_accuracy: 0.8590\n",
            "Epoch 57/100\n",
            "63/63 [==============================] - 0s 8ms/step - loss: 0.4271 - accuracy: 0.8465 - val_loss: 0.4034 - val_accuracy: 0.8600\n",
            "Epoch 58/100\n",
            "63/63 [==============================] - 0s 5ms/step - loss: 0.4268 - accuracy: 0.8460 - val_loss: 0.4028 - val_accuracy: 0.8600\n",
            "Epoch 59/100\n",
            "63/63 [==============================] - 0s 4ms/step - loss: 0.4270 - accuracy: 0.8490 - val_loss: 0.4021 - val_accuracy: 0.8605\n",
            "Epoch 60/100\n",
            "63/63 [==============================] - 0s 4ms/step - loss: 0.4230 - accuracy: 0.8495 - val_loss: 0.4014 - val_accuracy: 0.8600\n",
            "Epoch 61/100\n",
            "63/63 [==============================] - 0s 4ms/step - loss: 0.4259 - accuracy: 0.8476 - val_loss: 0.4014 - val_accuracy: 0.8600\n",
            "Epoch 62/100\n",
            "63/63 [==============================] - 0s 4ms/step - loss: 0.4260 - accuracy: 0.8484 - val_loss: 0.4011 - val_accuracy: 0.8600\n",
            "Epoch 63/100\n",
            "63/63 [==============================] - 0s 4ms/step - loss: 0.4243 - accuracy: 0.8487 - val_loss: 0.3996 - val_accuracy: 0.8590\n",
            "Epoch 64/100\n",
            "63/63 [==============================] - 0s 4ms/step - loss: 0.4238 - accuracy: 0.8475 - val_loss: 0.3992 - val_accuracy: 0.8600\n",
            "Epoch 65/100\n",
            "63/63 [==============================] - 0s 4ms/step - loss: 0.4234 - accuracy: 0.8501 - val_loss: 0.4001 - val_accuracy: 0.8590\n",
            "Epoch 66/100\n",
            "63/63 [==============================] - 0s 4ms/step - loss: 0.4217 - accuracy: 0.8468 - val_loss: 0.3983 - val_accuracy: 0.8595\n",
            "Epoch 67/100\n",
            "63/63 [==============================] - 0s 4ms/step - loss: 0.4219 - accuracy: 0.8485 - val_loss: 0.3977 - val_accuracy: 0.8590\n",
            "Epoch 68/100\n",
            "63/63 [==============================] - 0s 4ms/step - loss: 0.4235 - accuracy: 0.8475 - val_loss: 0.3974 - val_accuracy: 0.8595\n",
            "Epoch 69/100\n",
            "63/63 [==============================] - 0s 5ms/step - loss: 0.4242 - accuracy: 0.8485 - val_loss: 0.3970 - val_accuracy: 0.8595\n",
            "Epoch 70/100\n",
            "63/63 [==============================] - 0s 4ms/step - loss: 0.4160 - accuracy: 0.8504 - val_loss: 0.3970 - val_accuracy: 0.8605\n",
            "Epoch 71/100\n",
            "63/63 [==============================] - 0s 4ms/step - loss: 0.4187 - accuracy: 0.8505 - val_loss: 0.3964 - val_accuracy: 0.8600\n",
            "Epoch 72/100\n",
            "63/63 [==============================] - 0s 4ms/step - loss: 0.4173 - accuracy: 0.8516 - val_loss: 0.3954 - val_accuracy: 0.8605\n",
            "Epoch 73/100\n",
            "63/63 [==============================] - 0s 4ms/step - loss: 0.4188 - accuracy: 0.8503 - val_loss: 0.3952 - val_accuracy: 0.8605\n",
            "Epoch 74/100\n",
            "63/63 [==============================] - 0s 4ms/step - loss: 0.4196 - accuracy: 0.8495 - val_loss: 0.3954 - val_accuracy: 0.8585\n",
            "Epoch 75/100\n",
            "63/63 [==============================] - 0s 4ms/step - loss: 0.4205 - accuracy: 0.8482 - val_loss: 0.3948 - val_accuracy: 0.8600\n",
            "Epoch 76/100\n",
            "63/63 [==============================] - 0s 4ms/step - loss: 0.4171 - accuracy: 0.8505 - val_loss: 0.3943 - val_accuracy: 0.8595\n",
            "Epoch 77/100\n",
            "63/63 [==============================] - 0s 4ms/step - loss: 0.4185 - accuracy: 0.8511 - val_loss: 0.3940 - val_accuracy: 0.8605\n",
            "Epoch 78/100\n",
            "63/63 [==============================] - 0s 4ms/step - loss: 0.4153 - accuracy: 0.8511 - val_loss: 0.3933 - val_accuracy: 0.8610\n",
            "Epoch 79/100\n",
            "63/63 [==============================] - 0s 4ms/step - loss: 0.4159 - accuracy: 0.8505 - val_loss: 0.3933 - val_accuracy: 0.8590\n",
            "Epoch 80/100\n",
            "63/63 [==============================] - 0s 4ms/step - loss: 0.4150 - accuracy: 0.8506 - val_loss: 0.3935 - val_accuracy: 0.8585\n",
            "Epoch 81/100\n",
            "63/63 [==============================] - 0s 5ms/step - loss: 0.4142 - accuracy: 0.8519 - val_loss: 0.3923 - val_accuracy: 0.8600\n",
            "Epoch 82/100\n",
            "63/63 [==============================] - 0s 4ms/step - loss: 0.4167 - accuracy: 0.8522 - val_loss: 0.3924 - val_accuracy: 0.8605\n",
            "Epoch 83/100\n",
            "63/63 [==============================] - 0s 4ms/step - loss: 0.4135 - accuracy: 0.8511 - val_loss: 0.3923 - val_accuracy: 0.8595\n",
            "Epoch 84/100\n",
            "63/63 [==============================] - 0s 4ms/step - loss: 0.4149 - accuracy: 0.8495 - val_loss: 0.3916 - val_accuracy: 0.8610\n",
            "Epoch 85/100\n",
            "63/63 [==============================] - 0s 5ms/step - loss: 0.4097 - accuracy: 0.8534 - val_loss: 0.3916 - val_accuracy: 0.8605\n",
            "Epoch 86/100\n",
            "63/63 [==============================] - 0s 5ms/step - loss: 0.4128 - accuracy: 0.8516 - val_loss: 0.3915 - val_accuracy: 0.8595\n",
            "Epoch 87/100\n",
            "63/63 [==============================] - 0s 4ms/step - loss: 0.4113 - accuracy: 0.8511 - val_loss: 0.3905 - val_accuracy: 0.8600\n",
            "Epoch 88/100\n",
            "63/63 [==============================] - 0s 5ms/step - loss: 0.4109 - accuracy: 0.8526 - val_loss: 0.3905 - val_accuracy: 0.8590\n",
            "Epoch 89/100\n",
            "63/63 [==============================] - 0s 4ms/step - loss: 0.4127 - accuracy: 0.8504 - val_loss: 0.3904 - val_accuracy: 0.8590\n",
            "Epoch 90/100\n",
            "63/63 [==============================] - 0s 4ms/step - loss: 0.4096 - accuracy: 0.8518 - val_loss: 0.3912 - val_accuracy: 0.8585\n",
            "Epoch 91/100\n",
            "63/63 [==============================] - 0s 4ms/step - loss: 0.4108 - accuracy: 0.8490 - val_loss: 0.3894 - val_accuracy: 0.8600\n",
            "Epoch 92/100\n",
            "63/63 [==============================] - 0s 5ms/step - loss: 0.4090 - accuracy: 0.8525 - val_loss: 0.3907 - val_accuracy: 0.8595\n",
            "Epoch 93/100\n",
            "63/63 [==============================] - 0s 4ms/step - loss: 0.4089 - accuracy: 0.8516 - val_loss: 0.3891 - val_accuracy: 0.8595\n",
            "Epoch 94/100\n",
            "63/63 [==============================] - 0s 5ms/step - loss: 0.4081 - accuracy: 0.8530 - val_loss: 0.3889 - val_accuracy: 0.8610\n",
            "Epoch 95/100\n",
            "63/63 [==============================] - 0s 7ms/step - loss: 0.4092 - accuracy: 0.8547 - val_loss: 0.3887 - val_accuracy: 0.8615\n",
            "Epoch 96/100\n",
            "63/63 [==============================] - 0s 6ms/step - loss: 0.4119 - accuracy: 0.8518 - val_loss: 0.3887 - val_accuracy: 0.8575\n",
            "Epoch 97/100\n",
            "63/63 [==============================] - 0s 6ms/step - loss: 0.4090 - accuracy: 0.8535 - val_loss: 0.3882 - val_accuracy: 0.8595\n",
            "Epoch 98/100\n",
            "63/63 [==============================] - 0s 6ms/step - loss: 0.4089 - accuracy: 0.8509 - val_loss: 0.3878 - val_accuracy: 0.8600\n",
            "Epoch 99/100\n",
            "63/63 [==============================] - 0s 7ms/step - loss: 0.4105 - accuracy: 0.8520 - val_loss: 0.3879 - val_accuracy: 0.8610\n",
            "Epoch 100/100\n",
            "63/63 [==============================] - 0s 6ms/step - loss: 0.4086 - accuracy: 0.8508 - val_loss: 0.3876 - val_accuracy: 0.8600\n"
          ]
        }
      ]
    },
    {
      "cell_type": "code",
      "source": [
        "model.summary()"
      ],
      "metadata": {
        "colab": {
          "base_uri": "https://localhost:8080/"
        },
        "id": "GzMdXIu4wyE5",
        "outputId": "f4f0f1d7-ad32-4cd2-af45-8b481f918f0b"
      },
      "execution_count": null,
      "outputs": [
        {
          "output_type": "stream",
          "name": "stdout",
          "text": [
            "Model: \"sequential\"\n",
            "_________________________________________________________________\n",
            " Layer (type)                Output Shape              Param #   \n",
            "=================================================================\n",
            " dense (Dense)               (None, 64)                512       \n",
            "                                                                 \n",
            " dropout (Dropout)           (None, 64)                0         \n",
            "                                                                 \n",
            " dense_1 (Dense)             (None, 32)                2080      \n",
            "                                                                 \n",
            " dropout_1 (Dropout)         (None, 32)                0         \n",
            "                                                                 \n",
            " dense_2 (Dense)             (None, 16)                528       \n",
            "                                                                 \n",
            " dense_3 (Dense)             (None, 8)                 136       \n",
            "                                                                 \n",
            " dense_4 (Dense)             (None, 1)                 9         \n",
            "                                                                 \n",
            "=================================================================\n",
            "Total params: 3265 (12.75 KB)\n",
            "Trainable params: 3265 (12.75 KB)\n",
            "Non-trainable params: 0 (0.00 Byte)\n",
            "_________________________________________________________________\n"
          ]
        }
      ]
    },
    {
      "cell_type": "code",
      "source": [
        "prediction = model.predict(np.array([[1, 11, 1.5, 3.3, 7.5, 70, 0]]))\n",
        "# Fungsi untuk mengubah hasil prediksi menjadi kalimat \"Yes\" atau \"No\"\n",
        "def predict_result(prediction):\n",
        "    if prediction == 1:\n",
        "        return \"Yes\"\n",
        "    else:\n",
        "        return \"No\"\n",
        "\n",
        "# Menghasilkan kalimat berdasarkan hasil prediksi\n",
        "result = predict_result(prediction)\n",
        "\n",
        "print(result)"
      ],
      "metadata": {
        "colab": {
          "base_uri": "https://localhost:8080/"
        },
        "id": "JplI5PNPw2ob",
        "outputId": "5315ce2f-6ce4-4380-bfc4-8a559aca888e"
      },
      "execution_count": null,
      "outputs": [
        {
          "output_type": "stream",
          "name": "stdout",
          "text": [
            "1/1 [==============================] - 0s 126ms/step\n",
            "Yes\n"
          ]
        }
      ]
    },
    {
      "cell_type": "code",
      "source": [
        "prediction = model.predict(np.array([[1, 10, 2.5, 50, 9, 80, 0]]))\n",
        "# Fungsi untuk mengubah hasil prediksi menjadi kalimat \"Yes\" atau \"No\"\n",
        "def predict_result(prediction):\n",
        "    if prediction == 1:\n",
        "        return \"Yes\"\n",
        "    else:\n",
        "        return \"No\"\n",
        "\n",
        "# Menghasilkan kalimat berdasarkan hasil prediksi\n",
        "result = predict_result(prediction)\n",
        "\n",
        "print(result)"
      ],
      "metadata": {
        "colab": {
          "base_uri": "https://localhost:8080/"
        },
        "id": "uFObhNULF9Eq",
        "outputId": "9384c1b3-f43d-4aa0-d6c3-62043b8252de"
      },
      "execution_count": null,
      "outputs": [
        {
          "output_type": "stream",
          "name": "stdout",
          "text": [
            "1/1 [==============================] - 0s 22ms/step\n",
            "No\n"
          ]
        }
      ]
    },
    {
      "cell_type": "code",
      "source": [
        "# Build Function for Detection stunting\n",
        "\n",
        "def detection():\n",
        "  Name = input(\"Masukan Nama Anak Anda: \",)\n",
        "  Gender = int(input(\"Masukan Jenis Kelamin Anak Anda (0: Laki-laki, 1: Perempuan): \",))\n",
        "  Age = int(input(\"Berapa bulan umur anak Anda (bulan):\",))\n",
        "  Birth_Weight = float(input(\"Berapa berat badan Anak Anda saat lahir (satuan kg): \",))\n",
        "  Birth_Length = float(input(\"Berapa tinggi badan Anak Anda saat lahir (satuan cm): \",))\n",
        "  Body_Weight = float(input(\"Berapa berat badan Anak Anda saat ini (satuan kg): \",))\n",
        "  Body_Length = float(input(\"Berapa tinggi badan Anak Anda saat ini (satuan cm): \",))\n",
        "  Breastfeeding = int(input(\"Apakah anak anda mendapatkan ASI (0: Tidak, 1: Ya): \",))\n",
        "\n",
        "  data = ([Gender, Age, Birth_Weight, Birth_Length, Body_Weight, Body_Length, Breastfeeding]),\n",
        "  deteksi = model.predict(data)\n",
        "  print(deteksi)\n",
        "  print(\"\\n\")\n",
        "  detection_result = deteksi[0]\n",
        "   # Menggunakan threshold 0.5 sebagai pembatas klasifikasi\n",
        "  if detection_result > 0.5:\n",
        "    print(Name + \" terdeteksi Stunting\")\n",
        "  else:\n",
        "    print(Name + \" terdeteksi Normal\")\n",
        "\n",
        "detection()"
      ],
      "metadata": {
        "colab": {
          "base_uri": "https://localhost:8080/"
        },
        "id": "rWIkfc4bJe64",
        "outputId": "e340a087-c4b4-4080-fede-2ccf329e3402"
      },
      "execution_count": null,
      "outputs": [
        {
          "output_type": "stream",
          "name": "stdout",
          "text": [
            "Masukan Nama Anak Anda: Arfi\n",
            "Masukan Umur Anak Anda (0: Laki-laki, 1: Perempuan): 1\n",
            "Berapa bulan umur anak Anda (bulan):24\n",
            "Berapa berat badan Anak Anda saat lahir(satuan kg):12\n",
            "Berapa tinggi badan Anak Anda saat lahir(satuan cm):70\n",
            "Berapa berat badan Anak Anda saat ini(satuan kg):14\n",
            "Berapa tinggi badan Anak Anda saat ini(satuan cm):76\n",
            "Apakah anak anda mendapatkan ASI (0: Tidak, 1: Ya):1\n",
            "1/1 [==============================] - 0s 36ms/step\n",
            "[[1.6504039e-27]]\n",
            "\n",
            "\n",
            "Arfi terdeteksi Normal\n"
          ]
        }
      ]
    },
    {
      "cell_type": "markdown",
      "source": [
        "# **Model Evaluation**"
      ],
      "metadata": {
        "id": "pmZXcQV0xe-P"
      }
    },
    {
      "cell_type": "code",
      "source": [
        "# Make predictions on the test set\n",
        "y_pred = model.predict(X_test)\n",
        "\n",
        "# Convert continuous variable to binary labels\n",
        "threshold = 0.5\n",
        "y_pred_binary = (y_pred >= threshold).astype(int)\n",
        "\n",
        "# Create the confusion matrix\n",
        "confusion = confusion_matrix(y_pred_binary, y_test)\n",
        "\n",
        "# Create a heatmap of the confusion matrix\n",
        "sns.heatmap(confusion, annot=True, cmap=\"Blues\", fmt=\"d\")\n",
        "\n",
        "# Set the axis labels\n",
        "plt.xlabel(\"Predicted Labels\")\n",
        "plt.ylabel(\"True Labels\")\n",
        "\n",
        "# Set the title\n",
        "plt.title(\"Confusion Matrix\")\n",
        "\n",
        "# Display the plot\n",
        "plt.show()"
      ],
      "metadata": {
        "colab": {
          "base_uri": "https://localhost:8080/",
          "height": 490
        },
        "id": "0Se7AAF0xcS0",
        "outputId": "464d16f3-254c-48c4-a92b-4238cf193d2d"
      },
      "execution_count": null,
      "outputs": [
        {
          "output_type": "stream",
          "name": "stdout",
          "text": [
            "63/63 [==============================] - 2s 7ms/step\n"
          ]
        },
        {
          "output_type": "display_data",
          "data": {
            "text/plain": [
              "<Figure size 640x480 with 2 Axes>"
            ],
            "image/png": "[encoded data removed]"
          },
          "metadata": {}
        }
      ]
    },
    {
      "cell_type": "code",
      "source": [
        "# Retrieve a list of list results on training and test data\n",
        "# sets for each training epoch\n",
        "acc = history.history['accuracy']\n",
        "val_acc = history.history['val_accuracy']\n",
        "loss = history.history['loss']\n",
        "val_loss = history.history['val_loss']\n",
        "\n",
        "epochs = range(len(acc))  # Get number of epochs\n",
        "\n",
        "# Plot training and validation accuracy per epoch\n",
        "plt.plot(epochs, acc, 'r', label=\"Training Accuracy\")\n",
        "plt.plot(epochs, val_acc, 'b', label=\"Validation Accuracy\")\n",
        "plt.title('Training and validation accuracy')\n",
        "plt.legend()  # Add legend to the plot\n",
        "plt.show()\n",
        "print(\"\")\n",
        "\n",
        "# Plot training and validation loss per epoch\n",
        "plt.plot(epochs, loss, 'r', label=\"Training Loss\")\n",
        "plt.plot(epochs, val_loss, 'b', label=\"Validation Loss\")\n",
        "plt.title('Training and validation loss')\n",
        "plt.legend()  # Add legend to the plot\n",
        "plt.show()"
      ],
      "metadata": {
        "colab": {
          "base_uri": "https://localhost:8080/",
          "height": 905
        },
        "id": "-_3QhXT0xqm8",
        "outputId": "b9e37344-6075-40ec-a937-1511072fddac"
      },
      "execution_count": null,
      "outputs": [
        {
          "output_type": "display_data",
          "data": {
            "text/plain": [
              "<Figure size 640x480 with 1 Axes>"
            ],
            "image/png": "[encoded data removed]"
          },
          "metadata": {}
        },
        {
          "output_type": "stream",
          "name": "stdout",
          "text": [
            "\n"
          ]
        },
        {
          "output_type": "display_data",
          "data": {
            "text/plain": [
              "<Figure size 640x480 with 1 Axes>"
            ],
            "image/png": "[encoded data removed]"
          },
          "metadata": {}
        }
      ]
    },
    {
      "cell_type": "code",
      "source": [
        "# Calculate precision, recall, and F1 score\n",
        "precision = precision_score(y_test, y_pred_binary)\n",
        "recall = recall_score(y_test, y_pred_binary)\n",
        "f1 = f1_score(y_test, y_pred_binary)\n",
        "\n",
        "# Generate classification report\n",
        "report = classification_report(y_test, y_pred_binary)\n",
        "\n",
        "# Print the metrics report\n",
        "print(\"Precision:\", precision)\n",
        "print(\"Recall:\", recall)\n",
        "print(\"F1 Score:\", f1)\n",
        "print(\"Classification Report:\\n\", report)"
      ],
      "metadata": {
        "colab": {
          "base_uri": "https://localhost:8080/"
        },
        "id": "ul0RtIdCxuBu",
        "outputId": "8bba1200-7939-4e4f-b90f-25e050428207"
      },
      "execution_count": null,
      "outputs": [
        {
          "output_type": "stream",
          "name": "stdout",
          "text": [
            "Precision: 0.8687963491158015\n",
            "Recall: 0.9608832807570978\n",
            "F1 Score: 0.9125224685440384\n",
            "Classification Report:\n",
            "               precision    recall  f1-score   support\n",
            "\n",
            "           0       0.75      0.45      0.56       415\n",
            "           1       0.87      0.96      0.91      1585\n",
            "\n",
            "    accuracy                           0.85      2000\n",
            "   macro avg       0.81      0.70      0.74      2000\n",
            "weighted avg       0.84      0.85      0.84      2000\n",
            "\n"
          ]
        }
      ]
    },
    {
      "cell_type": "code",
      "source": [
        "# Saving model\n",
        "# Calling `save('my_model.h5')` creates a h5 file `my_model.h5`.\n",
        "model.save(\"my_h5_model.h5\")\n",
        "\n",
        "# It can be used to reconstruct the model identically.\n",
        "reconstructed_model = keras.models.load_model(\"my_h5_model.h5\")"
      ],
      "metadata": {
        "colab": {
          "base_uri": "https://localhost:8080/"
        },
        "id": "pX2ZVJz1OT_S",
        "outputId": "a5fb3f14-fff0-4ada-dddf-1ca64ea39af7"
      },
      "execution_count": null,
      "outputs": [
        {
          "output_type": "stream",
          "name": "stderr",
          "text": [
            "/usr/local/lib/python3.10/dist-packages/keras/src/engine/training.py:3103: UserWarning: You are saving your model as an HDF5 file via `model.save()`. This file format is considered legacy. We recommend using instead the native Keras format, e.g. `model.save('my_model.keras')`.\n",
            "  saving_api.save_model(\n"
          ]
        }
      ]
    },
    {
      "cell_type": "code",
      "source": [
        "model.save('my_model')"
      ],
      "metadata": {
        "id": "gC2HP-IBOWgx"
      },
      "execution_count": null,
      "outputs": []
    },
    {
      "cell_type": "code",
      "source": [],
      "metadata": {
        "id": "eSVYSjogsjPg"
      },
      "execution_count": null,
      "outputs": []
    }
  ]
}